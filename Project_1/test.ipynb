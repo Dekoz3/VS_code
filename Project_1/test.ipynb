{
 "cells": [
  {
   "cell_type": "code",
   "execution_count": 46,
   "metadata": {},
   "outputs": [],
   "source": [
    "import pandas as pd\n",
    "import numpy as np\n",
    "import matplotlib.pyplot as plt\n",
    "import seaborn as sns\n",
    "import plotly.express as px\n",
    "\n",
    "pd.set_option('display.max_columns', 40) # выводить больше столбцов\n",
    "pd.set_option('display.max_rows', 40)   # выводить больше строк\n",
    "plt.style.use('default')    # корректный вывод графиков в темной теме "
   ]
  },
  {
   "cell_type": "code",
   "execution_count": 38,
   "metadata": {},
   "outputs": [],
   "source": [
    "test_hh = pd.read_csv('data/hh_database.csv', sep= ';', nrows=1000)"
   ]
  },
  {
   "cell_type": "code",
   "execution_count": 39,
   "metadata": {},
   "outputs": [],
   "source": [
    "test_1= test_hh.copy()"
   ]
  },
  {
   "cell_type": "code",
   "execution_count": 40,
   "metadata": {},
   "outputs": [
    {
     "data": {
      "text/plain": [
       "Высшее образование     752\n",
       "Среднее специальное    123\n",
       "Неоконченное высшее    109\n",
       "Среднее образование     16\n",
       "Name: Образование и ВУЗ, dtype: int64"
      ]
     },
     "execution_count": 40,
     "metadata": {},
     "output_type": "execute_result"
    }
   ],
   "source": [
    "test_1['Образование и ВУЗ'] = test_1['Образование и ВУЗ'].apply(lambda x : x.split(sep=' ')[0] +' '+ x.split(sep=' ')[1]).astype('category')\n",
    "test_1['Образование и ВУЗ'].value_counts()\n"
   ]
  },
  {
   "cell_type": "code",
   "execution_count": null,
   "metadata": {},
   "outputs": [],
   "source": [
    "year_word_list = ['лет', 'года','год']\n",
    "month_word_list = ['месяца', 'месяцев','месяц']\n",
    "\n",
    "\n",
    "\n",
    "for line in test_1.index:\n",
    "    age_month = 0 \n",
    "    for element in range(len(list(str(test_1.loc[line, 'Пол, возраст']).split(sep=' ')))):\n",
    "        if list(str(test_1.loc[line, 'Пол, возраст']).split(sep=' '))[element] in year_word_list:\n",
    "            age_month += float(list(str(test_1.loc[line, 'Пол, возраст']).split(sep=' '))[element-1]) * 12\n",
    "        if list(str(test_1.loc[line, 'Пол, возраст']).split(sep=' '))[element] in month_word_list:\n",
    "            age_month += float(list(str(test_1.loc[line, 'Пол, возраст']).split(sep=' '))[element-1])\n",
    "    test_1.loc[ line, 'Возраст'] = age_month\n",
    "    y= test_1.loc[ line, 'Возраст']\n",
    "    print(f'Итого месяцев = {y}')\n",
    "        \n",
    "test_1.head(40)"
   ]
  },
  {
   "cell_type": "code",
   "execution_count": 57,
   "metadata": {},
   "outputs": [
    {
     "name": "stdout",
     "output_type": "stream",
     "text": [
      "калькули\n"
     ]
    }
   ],
   "source": [
    " start_pos = 0\n",
    " end_pos = np.Infinity\n",
    " end_pos = 8\n",
    " z = 'калькулирования'\n",
    " if end_pos == np.Infinity:\n",
    "     end_pos = len(z)\n",
    " print(z[start_pos:end_pos])"
   ]
  },
  {
   "cell_type": "code",
   "execution_count": 64,
   "metadata": {},
   "outputs": [
    {
     "name": "stdout",
     "output_type": "stream",
     "text": [
      "['30']\n"
     ]
    }
   ],
   "source": [
    "\n",
    "string_with_year = 'Опыт работы 16 лет 10 месяцев Август 2010 — п..asdfkl;kaj;ldfja; sj dasj afkldsa dskajf; lkjklaf js'\n",
    "string_with_year = 30 \n",
    "prepared_string = list(str(string_with_year).split(sep=' '))\n",
    "\n",
    "print(prepared_string)"
   ]
  },
  {
   "cell_type": "code",
   "execution_count": 65,
   "metadata": {},
   "outputs": [
    {
     "data": {
      "text/plain": [
       "float"
      ]
     },
     "execution_count": 65,
     "metadata": {},
     "output_type": "execute_result"
    }
   ],
   "source": [
    "type(np.nan)"
   ]
  }
 ],
 "metadata": {
  "interpreter": {
   "hash": "4cf8740b77de6ac68c701f5d05813ddbce361e765d83d58497ce85d0cb93b38e"
  },
  "kernelspec": {
   "display_name": "Python 3.9.10 64-bit",
   "language": "python",
   "name": "python3"
  },
  "language_info": {
   "codemirror_mode": {
    "name": "ipython",
    "version": 3
   },
   "file_extension": ".py",
   "mimetype": "text/x-python",
   "name": "python",
   "nbconvert_exporter": "python",
   "pygments_lexer": "ipython3",
   "version": "3.9.10"
  },
  "orig_nbformat": 4
 },
 "nbformat": 4,
 "nbformat_minor": 2
}
