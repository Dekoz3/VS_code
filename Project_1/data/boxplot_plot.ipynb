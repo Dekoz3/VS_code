{
  "cells": [
    {
      "cell_type": "code",
      "execution_count": 1,
      "metadata": {
        "collapsed": false
      },
      "outputs": [],
      "source": [
        "%matplotlib inline"
      ]
    },
    {
      "cell_type": "markdown",
      "metadata": {},
      "source": [
        "\n",
        "# boxplot(X)\n",
        "\n",
        "See `~matplotlib.axes.Axes.boxplot`.\n"
      ]
    },
    {
      "cell_type": "code",
      "execution_count": 2,
      "metadata": {
        "collapsed": false
      },
      "outputs": [
        {
          "data": {
            "image/png": "[encoded data removed]",
            "text/plain": [
              "<Figure size 144x144 with 1 Axes>"
            ]
          },
          "metadata": {
            "needs_background": "light"
          },
          "output_type": "display_data"
        }
      ],
      "source": [
        "import matplotlib.pyplot as plt\n",
        "import numpy as np\n",
        "\n",
        "plt.style.use('_mpl-gallery')\n",
        "\n",
        "# make data:\n",
        "np.random.seed(10)\n",
        "D = np.random.normal((3, 5, 4), (1.25, 1.00, 1.25), (100, 3))\n",
        "\n",
        "# plot\n",
        "fig, ax = plt.subplots()\n",
        "VP = ax.boxplot(D, positions=[2, 4, 6], widths=1.5, patch_artist=True,\n",
        "                showmeans=False, showfliers=False,\n",
        "                medianprops={\"color\": \"white\", \"linewidth\": 0.5},\n",
        "                boxprops={\"facecolor\": \"C0\", \"edgecolor\": \"white\",\n",
        "                          \"linewidth\": 0.5},\n",
        "                whiskerprops={\"color\": \"C0\", \"linewidth\": 1.5},\n",
        "                capprops={\"color\": \"C0\", \"linewidth\": 1.5})\n",
        "\n",
        "ax.set(xlim=(0, 8), xticks=np.arange(1, 8),\n",
        "       ylim=(0, 8), yticks=np.arange(1, 8))\n",
        "\n",
        "plt.show()"
      ]
    }
  ],
  "metadata": {
    "kernelspec": {
      "display_name": "Python 3",
      "language": "python",
      "name": "python3"
    },
    "language_info": {
      "codemirror_mode": {
        "name": "ipython",
        "version": 3
      },
      "file_extension": ".py",
      "mimetype": "text/x-python",
      "name": "python",
      "nbconvert_exporter": "python",
      "pygments_lexer": "ipython3",
      "version": "3.9.10"
    }
  },
  "nbformat": 4,
  "nbformat_minor": 0
}
