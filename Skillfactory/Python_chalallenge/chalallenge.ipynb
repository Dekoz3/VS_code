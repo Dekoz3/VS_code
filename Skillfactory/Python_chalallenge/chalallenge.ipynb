{
 "cells": [
  {
   "cell_type": "code",
   "execution_count": 2,
   "metadata": {},
   "outputs": [],
   "source": [
    "# http://www.pythonchallenge.com/"
   ]
  },
  {
   "cell_type": "code",
   "execution_count": 10,
   "metadata": {},
   "outputs": [
    {
     "name": "stdout",
     "output_type": "stream",
     "text": [
      "ocr\n"
     ]
    }
   ],
   "source": [
    "# question 1\n",
    "# http://www.pythonchallenge.com/pc/def/map.html \n",
    "z = \"map\"\n",
    "new_text = str()\n",
    "for letter in z:\n",
    "    if letter.isalpha():\n",
    "        if letter in ['z', 'y']:\n",
    "            new_text += chr(ord(letter) + 2 -26)\n",
    "        else:\n",
    "            new_text += chr(ord(letter) + 2 )\n",
    "    else:\n",
    "        new_text += letter\n",
    "    \n",
    "print(new_text)"
   ]
  },
  {
   "cell_type": "code",
   "execution_count": 38,
   "metadata": {},
   "outputs": [
    {
     "name": "stdout",
     "output_type": "stream",
     "text": [
      "equality\n"
     ]
    }
   ],
   "source": [
    "# 2\n",
    "# http://www.pythonchallenge.com/pc/def/ocr.html\n",
    "import requests\n",
    "html_file = requests.get(\"http://www.pythonchallenge.com/pc/def/ocr.html\")\n",
    "string_ch = html_file.text\n",
    "new_string = string_ch[string_ch.rfind('<!--'):string_ch.rfind('-->')]\n",
    "word = str()\n",
    "for  letter in new_string:\n",
    "    if letter.isalpha():\n",
    "        word +=letter\n",
    "print(word)\n",
    "# solution http://www.pythonchallenge.com/pcc/def/equality.html"
   ]
  },
  {
   "cell_type": "code",
   "execution_count": 102,
   "metadata": {},
   "outputs": [],
   "source": [
    "# 3\n",
    "# http://www.pythonchallenge.com/pc/def/equality.html\n",
    "import re, requests\n",
    "html_file = requests.get(\"http://www.pythonchallenge.com/pc/def/equality.html\")\n",
    "string_ch = html_file.text\n",
    "new_string = string_ch[string_ch.rfind('<!--'):string_ch.rfind('-->')]"
   ]
  },
  {
   "cell_type": "code",
   "execution_count": 104,
   "metadata": {},
   "outputs": [
    {
     "data": {
      "text/plain": [
       "'linkedlist'"
      ]
     },
     "execution_count": 104,
     "metadata": {},
     "output_type": "execute_result"
    }
   ],
   "source": [
    "# %%timeit\n",
    "import re, requests\n",
    "# 3\n",
    "# http://www.pythonchallenge.com/pc/def/equality.html\n",
    "import requests\n",
    "html_file = requests.get(\"http://www.pythonchallenge.com/pc/def/equality.html\")\n",
    "string_ch = html_file.text\n",
    "new_string = string_ch[string_ch.rfind('<!--'):string_ch.rfind('-->')]\n",
    "output = str()\n",
    "regex = r\"[^A-Z]{1}[A-Z]{3}[a-z]{1}[A-Z]{3}[^A-Z]{1}\"\n",
    "\n",
    "for finding in re.findall(regex, new_string,  re.MULTILINE):\n",
    "    output +=finding[4]\n",
    "\n",
    "output"
   ]
  },
  {
   "cell_type": "code",
   "execution_count": 1,
   "metadata": {},
   "outputs": [
    {
     "name": "stdout",
     "output_type": "stream",
     "text": [
      "<!-- urllib may help. DON'T TRY ALL NOTHINGS, since it will never \n",
      "end. 400 times is more than enough. \n"
     ]
    }
   ],
   "source": [
    "import requests\n",
    "import requests\n",
    "\n",
    "html_file = requests.get(\"http://www.pythonchallenge.com/pc/def/linkedlist.php\")\n",
    "string_ch = html_file.text\n",
    "new_string = string_ch[string_ch.rfind('<!--'):string_ch.rfind('-->')]\n",
    "print(new_string)\n",
    "\n",
    "url = \"http://www.pythonchallenge.com/pc/def/linkedlist.php\"\n",
    "number = 1\n",
    "i = 0 \n",
    "while str(number).isalnum():\n",
    "    try:\n",
    "        number = requests.get(url + \"?nothing=\" + str(number)).text.split(' ')[-1]\n",
    "        \n",
    "    except:\n",
    "        continue\n",
    "    i+=1\n",
    "    if i % 50 == 0:\n",
    "        print(i, number)\n",
    "        \n",
    "print(number)\n",
    "#peak.html\n"
   ]
  },
  {
   "cell_type": "code",
   "execution_count": 4,
   "metadata": {},
   "outputs": [
    {
     "name": "stdout",
     "output_type": "stream",
     "text": [
      " peak hell sounds familiar ? \n",
      "                                                                                               \n",
      "              #####                                                                      ##### \n",
      "               ####                                                                       #### \n",
      "               ####                                                                       #### \n",
      "               ####                                                                       #### \n",
      "               ####                                                                       #### \n",
      "               ####                                                                       #### \n",
      "               ####                                                                       #### \n",
      "               ####                                                                       #### \n",
      "      ###      ####   ###         ###       #####   ###    #####   ###          ###       #### \n",
      "   ###   ##    #### #######     ##  ###      #### #######   #### #######     ###  ###     #### \n",
      "  ###     ###  #####    ####   ###   ####    #####    ####  #####    ####   ###     ###   #### \n",
      " ###           ####     ####   ###    ###    ####     ####  ####     ####  ###      ####  #### \n",
      " ###           ####     ####          ###    ####     ####  ####     ####  ###       ###  #### \n",
      "####           ####     ####     ##   ###    ####     ####  ####     #### ####       ###  #### \n",
      "####           ####     ####   ##########    ####     ####  ####     #### ##############  #### \n",
      "####           ####     ####  ###    ####    ####     ####  ####     #### ####            #### \n",
      "####           ####     #### ####     ###    ####     ####  ####     #### ####            #### \n",
      " ###           ####     #### ####     ###    ####     ####  ####     ####  ###            #### \n",
      "  ###      ##  ####     ####  ###    ####    ####     ####  ####     ####   ###      ##   #### \n",
      "   ###    ##   ####     ####   ###########   ####     ####  ####     ####    ###    ##    #### \n",
      "      ###     ######    #####    ##    #### ######    ###########    #####      ###      ######\n",
      "                                                                                               \n"
     ]
    }
   ],
   "source": [
    "import requests\n",
    "# 5\n",
    "# http://www.pythonchallenge.com/pc/def/peak.html\n",
    "html_file = requests.get(\"http://www.pythonchallenge.com/pc/def/peak.html\")\n",
    "string_ch = html_file.text\n",
    "new_string = string_ch[string_ch.rfind('<!--') +4 :string_ch.rfind('-->')]\n",
    "print(new_string)\n",
    "from urllib.request import urlopen\n",
    "import pickle\n",
    " \n",
    "with urlopen('http://www.pythonchallenge.com/pc/def/banner.p') as f:\n",
    "    data = pickle.load(f)\n",
    "for i in data:\n",
    "    for j in i:\n",
    "        print(j[0] * j[1], end='')  \n",
    "    print('')\n",
    "\n",
    "#channel\n",
    "\n"
   ]
  },
  {
   "cell_type": "code",
   "execution_count": 5,
   "metadata": {},
   "outputs": [
    {
     "name": "stdout",
     "output_type": "stream",
     "text": [
      " The following has nothing to do with the riddle itself. I just\n",
      "thought it would be the right point to offer you to donate to the\n",
      "Python Challenge project. Any amount will be greatly appreciated.\n",
      "\n",
      "-thesamet\n",
      "\n"
     ]
    }
   ],
   "source": [
    "import requests\n",
    "# 6\n",
    "# http://www.pythonchallenge.com/pc/def/channel.html\n",
    "html_file = requests.get(\"http://www.pythonchallenge.com/pc/def/channel.html\")\n",
    "string_ch = html_file.text\n",
    "new_string = string_ch[string_ch.rfind('<!--') +4 :string_ch.rfind('-->')]\n",
    "print(new_string)\n",
    "\n",
    "from urllib.request import urlopen\n",
    "import pickle, zipfile\n",
    "\n",
    "with urlopen('http://www.pythonchallenge.com/pc/def/channel.html') as f:\n",
    "    \n",
    "    \n",
    "    \n",
    "    data = pickle.load(f)\n",
    "    \n",
    "for i in data:\n",
    "    for j in i:\n",
    "        print(j[0] * j[1], end='')  \n",
    "    print('')\n"
   ]
  }
 ],
 "metadata": {
  "interpreter": {
   "hash": "74668ca775b65556bba853117f41fb465b199a16b19945f2f619beec785fb939"
  },
  "kernelspec": {
   "display_name": "Python 3.9.10 64-bit",
   "language": "python",
   "name": "python3"
  },
  "language_info": {
   "codemirror_mode": {
    "name": "ipython",
    "version": 3
   },
   "file_extension": ".py",
   "mimetype": "text/x-python",
   "name": "python",
   "nbconvert_exporter": "python",
   "pygments_lexer": "ipython3",
   "version": "3.9.10"
  },
  "orig_nbformat": 4
 },
 "nbformat": 4,
 "nbformat_minor": 2
}
