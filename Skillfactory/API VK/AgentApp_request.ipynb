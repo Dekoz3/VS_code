{
 "cells": [
  {
   "cell_type": "code",
   "execution_count": null,
   "metadata": {},
   "outputs": [],
   "source": [
    "import requests \n",
    "import json\n",
    "import time\n",
    "from pprint import pprint \n",
    "import pandas as pd \n",
    "import numpy as np\n"
   ]
  },
  {
   "cell_type": "code",
   "execution_count": null,
   "metadata": {},
   "outputs": [],
   "source": [
    "# читаем токен, предварительно записанный в файл token.txt, файл положить рядом с ноутбуком\n",
    "with open('token.txt', 'r') as file_object:\n",
    "    token = file_object.read().strip()"
   ]
  },
  {
   "cell_type": "code",
   "execution_count": null,
   "metadata": {},
   "outputs": [],
   "source": [
    " #Параметры sort\n",
    "    #0 — сортировать по умолчанию (аналогично результатам поиска в полной версии сайта);\n",
    "    #1 — сортировать по скорости роста;\n",
    "    #2 — сортировать по отношению дневной посещаемости к количеству пользователей;\n",
    "    #3 — сортировать по отношению количества лайков к количеству пользователей;\n",
    "    #4 — сортировать по отношению количества комментариев к количеству пользователей;\n",
    "    #5 — сортировать по отношению количества записей в обсуждениях к количеству пользователей.\n",
    "        \n",
    "# читаем токен, предварительно записанный в файл token.txt, файл положить рядом с ноутбуком\n",
    "with open('token.txt', 'r') as file_object:\n",
    "    token = file_object.read().strip()\n",
    "\n",
    "def groups_search_query(key_word, token, sorting=0, type_group='group', count=500 ):\n",
    "    ''' используем метод VK API groups.search\n",
    "    https://dev.vk.com/method/groups.search    \n",
    "    '''\n",
    "    URL = 'https://api.vk.com/method/{}' \n",
    "    method = 'groups.search'   \n",
    "    params = {\n",
    "        'q': key_word,\n",
    "        'access_token': token,\n",
    "        'sort': sorting,\n",
    "        'count': count,\n",
    "        'type': type_group,\n",
    "        'v':'5.131'\n",
    "    }\n",
    "    res = requests.get(URL.format(method), params).json() # собираем запрос сразу обрабатываем методом .json()\n",
    "    result = res['response']['items'] \n",
    "    return result\n",
    "\n",
    "key_word = 'авто' # выборка по интересующему нас слову\n",
    "groups_search_df =pd.DataFrame(groups_search_query(key_word, token, count=10, sorting=2, type_group='group'))\n",
    "\n",
    "groups_search_df.tail()\n",
    "\n"
   ]
  },
  {
   "cell_type": "code",
   "execution_count": null,
   "metadata": {},
   "outputs": [],
   "source": [
    "groups_search_df.to_csv('groups_df', sep=',') # сохраняем промежуточные результаты"
   ]
  },
  {
   "cell_type": "markdown",
   "metadata": {},
   "source": [
    "### Вариант использования прямого метода *groups.getMembers*:"
   ]
  },
  {
   "cell_type": "code",
   "execution_count": null,
   "metadata": {},
   "outputs": [],
   "source": [
    "df = pd.read_csv('groups_df', sep=',')\n",
    "\n",
    "def vk_groups_members(group_id):\n",
    "    ''' function for applying vk.com/groups.getMembers\n",
    "    https://dev.vk.com/method/groups.getMembers\n",
    "    '''\n",
    "    time.sleep(0.32)\n",
    "    with open('token.txt', 'r') as file:\n",
    "        token = file.read().strip()\n",
    "\n",
    "    url = 'https://api.vk.com/method/{}' # Указываем адрес обращения\n",
    "    method = 'groups.getMembers'\n",
    "    params = {\n",
    "        'access_token': token,\n",
    "        'group_id': group_id,\n",
    "        'count': 1,\n",
    "        'offset': 0,\n",
    "        'v': 5.131\n",
    "        } \n",
    "    \n",
    "    max_count_req = requests.get(url.format(method), params = params).json()\n",
    "    try:\n",
    "        max_count = max_count_req['response']['count'] \n",
    "    except:\n",
    "        return np.NaN # при ограничении частоты запроса ВК возвращает ошибки для их поиска возвращаем np.NaN\n",
    "    offset = 0\n",
    "    res_df = list()\n",
    "    count = 500\n",
    "    while offset < max_count:\n",
    "         \n",
    "        params = {\n",
    "        'access_token': token,\n",
    "        'group_id': group_id,\n",
    "        'sort': 2,\n",
    "        'count': count,\n",
    "        'offset': offset,\n",
    "        'v': 5.131\n",
    "        } \n",
    "        time.sleep(0.32)\n",
    "        data = requests.get(url.format(method), params = params).json()\n",
    "        res_df.extend(data['response']['items'])\n",
    "        offset += count\n",
    "    return res_df\n",
    "\n",
    "\n",
    "df['members'] = df['id'].apply(lambda x: vk_groups_members(x)) #добавляем списки пользователей групп\n",
    "df.to_csv('df_with_members.csv') # сохранение итогов\n"
   ]
  },
  {
   "cell_type": "markdown",
   "metadata": {},
   "source": [
    "### Вариант использования прямого метода *execute groups.getMembers*"
   ]
  },
  {
   "cell_type": "code",
   "execution_count": null,
   "metadata": {},
   "outputs": [],
   "source": [
    "\n",
    "df = pd.read_csv('groups_df', sep=',')\n",
    "def vk_groups_members(group_id):\n",
    "    ''' function for applying vk.com/groups.getMembers\n",
    "    https://dev.vk.com/method/groups.getMembers\n",
    "    '''\n",
    "    with open('token.txt', 'r') as file: #берем токен из файла\n",
    "        token = file.read().strip()\n",
    "   \n",
    "    time.sleep(0.2) #даже с такой задержкой иногда вылетает ошибка по частоте хотя должен выдерживать 0.08с в данномм скрипте\n",
    "    url = \"https://api.vk.com/method/execute?\"\n",
    "    method = 'groups.getMembers'\n",
    "    params = {\n",
    "        'access_token': token,\n",
    "        'group_id': group_id,\n",
    "        'count': 1,\n",
    "        'offset': 0,\n",
    "        'v': 5.131\n",
    "        } \n",
    "    \n",
    "    code = 'return [API.{}({})];'.format(method, params)\n",
    "    data = dict(code=code, access_token=token, v='5.131')\n",
    "    max_count_req = requests.post(url=url, data=data).json()\n",
    "    try:\n",
    "        max_count = max_count_req['response'][0]['count'] # смотрим количество записей для использования в цикле выгрузки пользователей\n",
    "    except:\n",
    "        max_count = max_count_req['response'] #ВК часто выдает ограничения по частоте использования методов причем иногда без описания в документации\n",
    "        print(f'wrong way {max_count}') \n",
    "        return np.NaN  # позже можно все NaN обработать\n",
    "    \n",
    "    offset = 0\n",
    "    resuslt_list = list()\n",
    "    count = 500 # максимальный \n",
    "    while offset < max_count:\n",
    "        # начиная с того места, где закончили на предыдущей итерации (offset) \n",
    "        \n",
    "        params = {\n",
    "        'access_token': token,\n",
    "        'group_id': group_id,\n",
    "        'sort': 2,\n",
    "        'count': count,\n",
    "        'offset': offset,\n",
    "        'v': 5.131\n",
    "        }\n",
    "        code = 'return [API.{}({})];'.format(method, params)\n",
    "        \n",
    "        time.sleep(0.2)\n",
    "        data = dict(code=code, access_token=token, v='5.131')\n",
    "        json_to_list = requests.post(url=url, data=data).json()\n",
    "        \n",
    "        try:\n",
    "            lst = list(json_to_list['response']['items'])\n",
    "        except:\n",
    "            pprint(f'wrong way list {lst}')\n",
    "            return lst # если вылетела ошибка по частоте то частично сохраняем пользователей хотя правильнее было бы np.NaN вернуть\n",
    "                \n",
    "        resuslt_list.extend(lst)\n",
    "        offset += count # переходим на следующий интервал пользователей\n",
    "    return resuslt_list\n",
    "\n",
    "\n",
    "df['members'] = df['id'].apply(lambda x: vk_groups_members(x))\n",
    "df.to_csv('df_with_members_ex.csv')\n",
    "\n"
   ]
  },
  {
   "cell_type": "code",
   "execution_count": null,
   "metadata": {},
   "outputs": [],
   "source": [
    "\n",
    "df.head()\n"
   ]
  }
 ],
 "metadata": {
  "interpreter": {
   "hash": "4cf8740b77de6ac68c701f5d05813ddbce361e765d83d58497ce85d0cb93b38e"
  },
  "kernelspec": {
   "display_name": "Python 3.9.10 64-bit",
   "language": "python",
   "name": "python3"
  },
  "language_info": {
   "codemirror_mode": {
    "name": "ipython",
    "version": 3
   },
   "file_extension": ".py",
   "mimetype": "text/x-python",
   "name": "python",
   "nbconvert_exporter": "python",
   "pygments_lexer": "ipython3",
   "version": "3.9.10"
  },
  "orig_nbformat": 4
 },
 "nbformat": 4,
 "nbformat_minor": 2
}
