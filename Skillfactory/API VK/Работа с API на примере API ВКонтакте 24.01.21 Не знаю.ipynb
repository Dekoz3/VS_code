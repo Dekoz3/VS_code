{
 "cells": [
  {
   "cell_type": "markdown",
   "metadata": {},
   "source": [
    "# Вебинар по теме: \"Работа с API на примере API ВКонтакте\"\n",
    "\n",
    "## Вопросы\n",
    "- API, HTTP-проткол, модуль requests\n",
    "- получение токена VK\n",
    "- получение информации о пользователях и группах VK\n",
    "- получение новостей из ленты\n",
    "- использование библиотеки vk_api\n",
    "\n",
    "Спикер/Ведущий: Владимир Горюнов  \n",
    "Slack: @Владимир Горюнов"
   ]
  },
  {
   "cell_type": "markdown",
   "metadata": {},
   "source": [
    "## Вопрос №1 API, HTTP-протокол, модуль requests\n",
    "\n",
    "Аббревиатура API расшифровывается как Application Programming Interface, или интерфейс для программирования приложений.   \n",
    "Какие примеры API вам знакомы? \n",
    "\n",
    "Протокол HTTP предполагает использование клиент-серверной структуры передачи данных. Клиентское приложение формирует запрос и отправляет его на сервер, после чего серверное программное обеспечение обрабатывает данный запрос, формирует ответ и передаёт его обратно клиенту. После этого клиентское приложение может продолжить отправлять другие запросы, которые будут обработаны аналогичным образом"
   ]
  },
  {
   "cell_type": "code",
   "execution_count": 10,
   "metadata": {},
   "outputs": [
    {
     "name": "stdout",
     "output_type": "stream",
     "text": [
      "<Response [200]>\n",
      "200\n",
      "            <!DOCTYPE html>\n",
      "      <html lang=\"ru\" class=\"vk vk_js_no vk_1x vk_flex_no r d h  vk_appAuth_no n vk_old  vk_schemes_no   \">\n",
      "      <head>\n",
      "              <meta charset=\"utf-8\">\n",
      "        <meta name=\"viewport\" content=\"width=device-width, initial-scale=1.0, minimum-scale=1.0, maximum-scale=1.0, minimal-ui, user-scalable=no\" />\n",
      "        <meta name=\"format-detection\" content=\"telephone=no\" />\n",
      "        <meta http-equiv=\"X-UA-Compatible\" content=\"IE=edge\" />\n",
      "        <meta name=\"MobileOptimized\" content=\"176\" />\n",
      "        <meta name=\"HandheldFriendly\" content=\"True\" />\n",
      "        <base id=\"base\">\n",
      "        \n",
      "        <meta name=\"description\" content=\"ВКонтакте – универсальное средство для общения и поиска друзей и одноклассников, которым ежедневно пользуются десятки миллионов человек. Мы хотим, чтобы друзья, однокурсники, одноклассники, соседи и коллеги всегда оставались в контакте.\" />\n",
      "        <meta property=\"og:description\" content=\"ВКонтакте – универсальное средство для общения и поиска друзе\n"
     ]
    }
   ],
   "source": [
    "# 1.1 GET - запрос - получаем содержимое страницы в виде html- текста\n",
    "import requests\n",
    "from pprint import pprint\n",
    "\n",
    "rc = requests.get('https://vk.com')\n",
    "print(rc)\n",
    "print(rc.status_code)\n",
    "print(rc.text[:1000])"
   ]
  },
  {
   "cell_type": "markdown",
   "metadata": {},
   "source": [
    "GET — получение ресурса\n",
    "Метод GET запрашивает информацию из указанного источника и не влияет на его содержимое. Запрос доступен для кеширования данных и добавления в закладки. Длина запроса ограничена (макс. длина URL - 2048).\n",
    "\n",
    "Пример:  \n",
    "ищем котиков в Санкт-Петербурге\n",
    "https://yandex.ru/search/?lr=2&text=котики\n",
    "\n",
    "POST — создание ресурса.\n",
    "Метод POST используется для отправки данных, что может оказывать влияние на содержимое ресурса. В отличие от метода GET запросы POST не могут быть кешированы, они не остаются в истории браузера и их нельзя добавить в закладки. Запросы POST не ограничиваются в объеме.\n",
    "\n",
    "Примечание: Отправляемые данные содержатся в теле запроса."
   ]
  },
  {
   "cell_type": "code",
   "execution_count": 11,
   "metadata": {},
   "outputs": [],
   "source": [
    "# 1.2 JSON - простой, основанный на использовании текста, способ хранить и передавать структурированные данные.\t\n",
    "# Подробнее: https://python-scripts.com/json\n",
    "\n",
    "import json\n",
    "\n",
    "data = {\n",
    "        \"firstName\": \"Jane\",\n",
    "        \"lastName\": \"Doe\",\n",
    "        \"hobbies\": [\"running\", \"sky diving\", \"singing\"],\n",
    "        \"age\": 35,\n",
    "        \"children\": [\n",
    "            {\n",
    "                \"firstName\": \"Alice\",\n",
    "                \"age\": 6\n",
    "            },\n",
    "            {\n",
    "                \"firstName\": \"Bob\",\n",
    "                \"age\": 8\n",
    "            }\n",
    "        ]\n",
    "    }\n",
    "# 1. Как вы думаете какой тип данных у переменной data?\n",
    "# 2. Как преобразовать данные в json-строку?\n",
    "# 3. Как получить данные из json-строки?\n"
   ]
  },
  {
   "cell_type": "code",
   "execution_count": 12,
   "metadata": {},
   "outputs": [
    {
     "name": "stdout",
     "output_type": "stream",
     "text": [
      "{'address': 'улица Ленина, Уэлен, Чукотский район, Чукотский автономный округ, '\n",
      "            '689310',\n",
      " 'bbox': {'northeast': [66.16196917082077, -169.82050466372576],\n",
      "          'southwest': [66.15996917082076, -169.82250466372577]},\n",
      " 'confidence': 10,\n",
      " 'lat': 66.16096917082076,\n",
      " 'lng': -169.82150466372576,\n",
      " 'ok': True,\n",
      " 'quality': 'StreetName',\n",
      " 'raw': {'extent': {'xmax': -169.82050466372576,\n",
      "                    'xmin': -169.82250466372577,\n",
      "                    'ymax': 66.16196917082077,\n",
      "                    'ymin': 66.15996917082076},\n",
      "         'feature': {'attributes': {'Addr_Type': 'StreetName', 'Score': 83.64},\n",
      "                     'geometry': {'x': -169.82150466372576,\n",
      "                                  'y': 66.16096917082076}},\n",
      "         'name': 'улица Ленина, Уэлен, Чукотский район, Чукотский автономный '\n",
      "                 'округ, 689310'},\n",
      " 'score': 83.64,\n",
      " 'status': 'OK'}\n",
      "(66.16096917082076, -169.82150466372576)\n"
     ]
    }
   ],
   "source": [
    "# 1.3 Пример работы с API геокодера\n",
    "# Крайний восточный н.п. России, на мысе Дежнева\n",
    "# Можно установить непосредственно из блокнота\n",
    "# !pip install geocoder\n",
    "import geocoder\n",
    "\n",
    "g = geocoder.arcgis('улица Ленина 21, село Уэлен')\n",
    "pprint(g.json)\n",
    "vostok = (g.json['lat'], g.json['lng'])\n",
    "print(vostok)"
   ]
  },
  {
   "cell_type": "code",
   "execution_count": 14,
   "metadata": {},
   "outputs": [
    {
     "ename": "SSLError",
     "evalue": "HTTPSConnectionPool(host='api.sunrise-sunset.org', port=443): Max retries exceeded with url: /json (Caused by SSLError(SSLCertVerificationError(1, '[SSL: CERTIFICATE_VERIFY_FAILED] certificate verify failed: certificate has expired (_ssl.c:1129)')))",
     "output_type": "error",
     "traceback": [
      "\u001b[1;31m---------------------------------------------------------------------------\u001b[0m",
      "\u001b[1;31mSSLCertVerificationError\u001b[0m                  Traceback (most recent call last)",
      "File \u001b[1;32m~\\AppData\\Local\\Programs\\Python\\Python39\\lib\\site-packages\\urllib3\\connectionpool.py:703\u001b[0m, in \u001b[0;36mHTTPConnectionPool.urlopen\u001b[1;34m(self, method, url, body, headers, retries, redirect, assert_same_host, timeout, pool_timeout, release_conn, chunked, body_pos, **response_kw)\u001b[0m\n\u001b[0;32m    <a href='file:///c%3A/Users/Denis.kozarenko/AppData/Local/Programs/Python/Python39/lib/site-packages/urllib3/connectionpool.py?line=701'>702</a>\u001b[0m \u001b[39m# Make the request on the httplib connection object.\u001b[39;00m\n\u001b[1;32m--> <a href='file:///c%3A/Users/Denis.kozarenko/AppData/Local/Programs/Python/Python39/lib/site-packages/urllib3/connectionpool.py?line=702'>703</a>\u001b[0m httplib_response \u001b[39m=\u001b[39m \u001b[39mself\u001b[39;49m\u001b[39m.\u001b[39;49m_make_request(\n\u001b[0;32m    <a href='file:///c%3A/Users/Denis.kozarenko/AppData/Local/Programs/Python/Python39/lib/site-packages/urllib3/connectionpool.py?line=703'>704</a>\u001b[0m     conn,\n\u001b[0;32m    <a href='file:///c%3A/Users/Denis.kozarenko/AppData/Local/Programs/Python/Python39/lib/site-packages/urllib3/connectionpool.py?line=704'>705</a>\u001b[0m     method,\n\u001b[0;32m    <a href='file:///c%3A/Users/Denis.kozarenko/AppData/Local/Programs/Python/Python39/lib/site-packages/urllib3/connectionpool.py?line=705'>706</a>\u001b[0m     url,\n\u001b[0;32m    <a href='file:///c%3A/Users/Denis.kozarenko/AppData/Local/Programs/Python/Python39/lib/site-packages/urllib3/connectionpool.py?line=706'>707</a>\u001b[0m     timeout\u001b[39m=\u001b[39;49mtimeout_obj,\n\u001b[0;32m    <a href='file:///c%3A/Users/Denis.kozarenko/AppData/Local/Programs/Python/Python39/lib/site-packages/urllib3/connectionpool.py?line=707'>708</a>\u001b[0m     body\u001b[39m=\u001b[39;49mbody,\n\u001b[0;32m    <a href='file:///c%3A/Users/Denis.kozarenko/AppData/Local/Programs/Python/Python39/lib/site-packages/urllib3/connectionpool.py?line=708'>709</a>\u001b[0m     headers\u001b[39m=\u001b[39;49mheaders,\n\u001b[0;32m    <a href='file:///c%3A/Users/Denis.kozarenko/AppData/Local/Programs/Python/Python39/lib/site-packages/urllib3/connectionpool.py?line=709'>710</a>\u001b[0m     chunked\u001b[39m=\u001b[39;49mchunked,\n\u001b[0;32m    <a href='file:///c%3A/Users/Denis.kozarenko/AppData/Local/Programs/Python/Python39/lib/site-packages/urllib3/connectionpool.py?line=710'>711</a>\u001b[0m )\n\u001b[0;32m    <a href='file:///c%3A/Users/Denis.kozarenko/AppData/Local/Programs/Python/Python39/lib/site-packages/urllib3/connectionpool.py?line=712'>713</a>\u001b[0m \u001b[39m# If we're going to release the connection in ``finally:``, then\u001b[39;00m\n\u001b[0;32m    <a href='file:///c%3A/Users/Denis.kozarenko/AppData/Local/Programs/Python/Python39/lib/site-packages/urllib3/connectionpool.py?line=713'>714</a>\u001b[0m \u001b[39m# the response doesn't need to know about the connection. Otherwise\u001b[39;00m\n\u001b[0;32m    <a href='file:///c%3A/Users/Denis.kozarenko/AppData/Local/Programs/Python/Python39/lib/site-packages/urllib3/connectionpool.py?line=714'>715</a>\u001b[0m \u001b[39m# it will also try to release it and we'll have a double-release\u001b[39;00m\n\u001b[0;32m    <a href='file:///c%3A/Users/Denis.kozarenko/AppData/Local/Programs/Python/Python39/lib/site-packages/urllib3/connectionpool.py?line=715'>716</a>\u001b[0m \u001b[39m# mess.\u001b[39;00m\n",
      "File \u001b[1;32m~\\AppData\\Local\\Programs\\Python\\Python39\\lib\\site-packages\\urllib3\\connectionpool.py:386\u001b[0m, in \u001b[0;36mHTTPConnectionPool._make_request\u001b[1;34m(self, conn, method, url, timeout, chunked, **httplib_request_kw)\u001b[0m\n\u001b[0;32m    <a href='file:///c%3A/Users/Denis.kozarenko/AppData/Local/Programs/Python/Python39/lib/site-packages/urllib3/connectionpool.py?line=384'>385</a>\u001b[0m \u001b[39mtry\u001b[39;00m:\n\u001b[1;32m--> <a href='file:///c%3A/Users/Denis.kozarenko/AppData/Local/Programs/Python/Python39/lib/site-packages/urllib3/connectionpool.py?line=385'>386</a>\u001b[0m     \u001b[39mself\u001b[39;49m\u001b[39m.\u001b[39;49m_validate_conn(conn)\n\u001b[0;32m    <a href='file:///c%3A/Users/Denis.kozarenko/AppData/Local/Programs/Python/Python39/lib/site-packages/urllib3/connectionpool.py?line=386'>387</a>\u001b[0m \u001b[39mexcept\u001b[39;00m (SocketTimeout, BaseSSLError) \u001b[39mas\u001b[39;00m e:\n\u001b[0;32m    <a href='file:///c%3A/Users/Denis.kozarenko/AppData/Local/Programs/Python/Python39/lib/site-packages/urllib3/connectionpool.py?line=387'>388</a>\u001b[0m     \u001b[39m# Py2 raises this as a BaseSSLError, Py3 raises it as socket timeout.\u001b[39;00m\n",
      "File \u001b[1;32m~\\AppData\\Local\\Programs\\Python\\Python39\\lib\\site-packages\\urllib3\\connectionpool.py:1040\u001b[0m, in \u001b[0;36mHTTPSConnectionPool._validate_conn\u001b[1;34m(self, conn)\u001b[0m\n\u001b[0;32m   <a href='file:///c%3A/Users/Denis.kozarenko/AppData/Local/Programs/Python/Python39/lib/site-packages/urllib3/connectionpool.py?line=1038'>1039</a>\u001b[0m \u001b[39mif\u001b[39;00m \u001b[39mnot\u001b[39;00m \u001b[39mgetattr\u001b[39m(conn, \u001b[39m\"\u001b[39m\u001b[39msock\u001b[39m\u001b[39m\"\u001b[39m, \u001b[39mNone\u001b[39;00m):  \u001b[39m# AppEngine might not have  `.sock`\u001b[39;00m\n\u001b[1;32m-> <a href='file:///c%3A/Users/Denis.kozarenko/AppData/Local/Programs/Python/Python39/lib/site-packages/urllib3/connectionpool.py?line=1039'>1040</a>\u001b[0m     conn\u001b[39m.\u001b[39;49mconnect()\n\u001b[0;32m   <a href='file:///c%3A/Users/Denis.kozarenko/AppData/Local/Programs/Python/Python39/lib/site-packages/urllib3/connectionpool.py?line=1041'>1042</a>\u001b[0m \u001b[39mif\u001b[39;00m \u001b[39mnot\u001b[39;00m conn\u001b[39m.\u001b[39mis_verified:\n",
      "File \u001b[1;32m~\\AppData\\Local\\Programs\\Python\\Python39\\lib\\site-packages\\urllib3\\connection.py:416\u001b[0m, in \u001b[0;36mHTTPSConnection.connect\u001b[1;34m(self)\u001b[0m\n\u001b[0;32m    <a href='file:///c%3A/Users/Denis.kozarenko/AppData/Local/Programs/Python/Python39/lib/site-packages/urllib3/connection.py?line=413'>414</a>\u001b[0m     context\u001b[39m.\u001b[39mload_default_certs()\n\u001b[1;32m--> <a href='file:///c%3A/Users/Denis.kozarenko/AppData/Local/Programs/Python/Python39/lib/site-packages/urllib3/connection.py?line=415'>416</a>\u001b[0m \u001b[39mself\u001b[39m\u001b[39m.\u001b[39msock \u001b[39m=\u001b[39m ssl_wrap_socket(\n\u001b[0;32m    <a href='file:///c%3A/Users/Denis.kozarenko/AppData/Local/Programs/Python/Python39/lib/site-packages/urllib3/connection.py?line=416'>417</a>\u001b[0m     sock\u001b[39m=\u001b[39;49mconn,\n\u001b[0;32m    <a href='file:///c%3A/Users/Denis.kozarenko/AppData/Local/Programs/Python/Python39/lib/site-packages/urllib3/connection.py?line=417'>418</a>\u001b[0m     keyfile\u001b[39m=\u001b[39;49m\u001b[39mself\u001b[39;49m\u001b[39m.\u001b[39;49mkey_file,\n\u001b[0;32m    <a href='file:///c%3A/Users/Denis.kozarenko/AppData/Local/Programs/Python/Python39/lib/site-packages/urllib3/connection.py?line=418'>419</a>\u001b[0m     certfile\u001b[39m=\u001b[39;49m\u001b[39mself\u001b[39;49m\u001b[39m.\u001b[39;49mcert_file,\n\u001b[0;32m    <a href='file:///c%3A/Users/Denis.kozarenko/AppData/Local/Programs/Python/Python39/lib/site-packages/urllib3/connection.py?line=419'>420</a>\u001b[0m     key_password\u001b[39m=\u001b[39;49m\u001b[39mself\u001b[39;49m\u001b[39m.\u001b[39;49mkey_password,\n\u001b[0;32m    <a href='file:///c%3A/Users/Denis.kozarenko/AppData/Local/Programs/Python/Python39/lib/site-packages/urllib3/connection.py?line=420'>421</a>\u001b[0m     ca_certs\u001b[39m=\u001b[39;49m\u001b[39mself\u001b[39;49m\u001b[39m.\u001b[39;49mca_certs,\n\u001b[0;32m    <a href='file:///c%3A/Users/Denis.kozarenko/AppData/Local/Programs/Python/Python39/lib/site-packages/urllib3/connection.py?line=421'>422</a>\u001b[0m     ca_cert_dir\u001b[39m=\u001b[39;49m\u001b[39mself\u001b[39;49m\u001b[39m.\u001b[39;49mca_cert_dir,\n\u001b[0;32m    <a href='file:///c%3A/Users/Denis.kozarenko/AppData/Local/Programs/Python/Python39/lib/site-packages/urllib3/connection.py?line=422'>423</a>\u001b[0m     ca_cert_data\u001b[39m=\u001b[39;49m\u001b[39mself\u001b[39;49m\u001b[39m.\u001b[39;49mca_cert_data,\n\u001b[0;32m    <a href='file:///c%3A/Users/Denis.kozarenko/AppData/Local/Programs/Python/Python39/lib/site-packages/urllib3/connection.py?line=423'>424</a>\u001b[0m     server_hostname\u001b[39m=\u001b[39;49mserver_hostname,\n\u001b[0;32m    <a href='file:///c%3A/Users/Denis.kozarenko/AppData/Local/Programs/Python/Python39/lib/site-packages/urllib3/connection.py?line=424'>425</a>\u001b[0m     ssl_context\u001b[39m=\u001b[39;49mcontext,\n\u001b[0;32m    <a href='file:///c%3A/Users/Denis.kozarenko/AppData/Local/Programs/Python/Python39/lib/site-packages/urllib3/connection.py?line=425'>426</a>\u001b[0m     tls_in_tls\u001b[39m=\u001b[39;49mtls_in_tls,\n\u001b[0;32m    <a href='file:///c%3A/Users/Denis.kozarenko/AppData/Local/Programs/Python/Python39/lib/site-packages/urllib3/connection.py?line=426'>427</a>\u001b[0m )\n\u001b[0;32m    <a href='file:///c%3A/Users/Denis.kozarenko/AppData/Local/Programs/Python/Python39/lib/site-packages/urllib3/connection.py?line=428'>429</a>\u001b[0m \u001b[39m# If we're using all defaults and the connection\u001b[39;00m\n\u001b[0;32m    <a href='file:///c%3A/Users/Denis.kozarenko/AppData/Local/Programs/Python/Python39/lib/site-packages/urllib3/connection.py?line=429'>430</a>\u001b[0m \u001b[39m# is TLSv1 or TLSv1.1 we throw a DeprecationWarning\u001b[39;00m\n\u001b[0;32m    <a href='file:///c%3A/Users/Denis.kozarenko/AppData/Local/Programs/Python/Python39/lib/site-packages/urllib3/connection.py?line=430'>431</a>\u001b[0m \u001b[39m# for the host.\u001b[39;00m\n",
      "File \u001b[1;32m~\\AppData\\Local\\Programs\\Python\\Python39\\lib\\site-packages\\urllib3\\util\\ssl_.py:449\u001b[0m, in \u001b[0;36mssl_wrap_socket\u001b[1;34m(sock, keyfile, certfile, cert_reqs, ca_certs, server_hostname, ssl_version, ciphers, ssl_context, ca_cert_dir, key_password, ca_cert_data, tls_in_tls)\u001b[0m\n\u001b[0;32m    <a href='file:///c%3A/Users/Denis.kozarenko/AppData/Local/Programs/Python/Python39/lib/site-packages/urllib3/util/ssl_.py?line=447'>448</a>\u001b[0m \u001b[39mif\u001b[39;00m send_sni:\n\u001b[1;32m--> <a href='file:///c%3A/Users/Denis.kozarenko/AppData/Local/Programs/Python/Python39/lib/site-packages/urllib3/util/ssl_.py?line=448'>449</a>\u001b[0m     ssl_sock \u001b[39m=\u001b[39m _ssl_wrap_socket_impl(\n\u001b[0;32m    <a href='file:///c%3A/Users/Denis.kozarenko/AppData/Local/Programs/Python/Python39/lib/site-packages/urllib3/util/ssl_.py?line=449'>450</a>\u001b[0m         sock, context, tls_in_tls, server_hostname\u001b[39m=\u001b[39;49mserver_hostname\n\u001b[0;32m    <a href='file:///c%3A/Users/Denis.kozarenko/AppData/Local/Programs/Python/Python39/lib/site-packages/urllib3/util/ssl_.py?line=450'>451</a>\u001b[0m     )\n\u001b[0;32m    <a href='file:///c%3A/Users/Denis.kozarenko/AppData/Local/Programs/Python/Python39/lib/site-packages/urllib3/util/ssl_.py?line=451'>452</a>\u001b[0m \u001b[39melse\u001b[39;00m:\n",
      "File \u001b[1;32m~\\AppData\\Local\\Programs\\Python\\Python39\\lib\\site-packages\\urllib3\\util\\ssl_.py:493\u001b[0m, in \u001b[0;36m_ssl_wrap_socket_impl\u001b[1;34m(sock, ssl_context, tls_in_tls, server_hostname)\u001b[0m\n\u001b[0;32m    <a href='file:///c%3A/Users/Denis.kozarenko/AppData/Local/Programs/Python/Python39/lib/site-packages/urllib3/util/ssl_.py?line=491'>492</a>\u001b[0m \u001b[39mif\u001b[39;00m server_hostname:\n\u001b[1;32m--> <a href='file:///c%3A/Users/Denis.kozarenko/AppData/Local/Programs/Python/Python39/lib/site-packages/urllib3/util/ssl_.py?line=492'>493</a>\u001b[0m     \u001b[39mreturn\u001b[39;00m ssl_context\u001b[39m.\u001b[39;49mwrap_socket(sock, server_hostname\u001b[39m=\u001b[39;49mserver_hostname)\n\u001b[0;32m    <a href='file:///c%3A/Users/Denis.kozarenko/AppData/Local/Programs/Python/Python39/lib/site-packages/urllib3/util/ssl_.py?line=493'>494</a>\u001b[0m \u001b[39melse\u001b[39;00m:\n",
      "File \u001b[1;32m~\\AppData\\Local\\Programs\\Python\\Python39\\lib\\ssl.py:500\u001b[0m, in \u001b[0;36mSSLContext.wrap_socket\u001b[1;34m(self, sock, server_side, do_handshake_on_connect, suppress_ragged_eofs, server_hostname, session)\u001b[0m\n\u001b[0;32m    <a href='file:///c%3A/Users/Denis.kozarenko/AppData/Local/Programs/Python/Python39/lib/ssl.py?line=493'>494</a>\u001b[0m \u001b[39mdef\u001b[39;00m \u001b[39mwrap_socket\u001b[39m(\u001b[39mself\u001b[39m, sock, server_side\u001b[39m=\u001b[39m\u001b[39mFalse\u001b[39;00m,\n\u001b[0;32m    <a href='file:///c%3A/Users/Denis.kozarenko/AppData/Local/Programs/Python/Python39/lib/ssl.py?line=494'>495</a>\u001b[0m                 do_handshake_on_connect\u001b[39m=\u001b[39m\u001b[39mTrue\u001b[39;00m,\n\u001b[0;32m    <a href='file:///c%3A/Users/Denis.kozarenko/AppData/Local/Programs/Python/Python39/lib/ssl.py?line=495'>496</a>\u001b[0m                 suppress_ragged_eofs\u001b[39m=\u001b[39m\u001b[39mTrue\u001b[39;00m,\n\u001b[0;32m    <a href='file:///c%3A/Users/Denis.kozarenko/AppData/Local/Programs/Python/Python39/lib/ssl.py?line=496'>497</a>\u001b[0m                 server_hostname\u001b[39m=\u001b[39m\u001b[39mNone\u001b[39;00m, session\u001b[39m=\u001b[39m\u001b[39mNone\u001b[39;00m):\n\u001b[0;32m    <a href='file:///c%3A/Users/Denis.kozarenko/AppData/Local/Programs/Python/Python39/lib/ssl.py?line=497'>498</a>\u001b[0m     \u001b[39m# SSLSocket class handles server_hostname encoding before it calls\u001b[39;00m\n\u001b[0;32m    <a href='file:///c%3A/Users/Denis.kozarenko/AppData/Local/Programs/Python/Python39/lib/ssl.py?line=498'>499</a>\u001b[0m     \u001b[39m# ctx._wrap_socket()\u001b[39;00m\n\u001b[1;32m--> <a href='file:///c%3A/Users/Denis.kozarenko/AppData/Local/Programs/Python/Python39/lib/ssl.py?line=499'>500</a>\u001b[0m     \u001b[39mreturn\u001b[39;00m \u001b[39mself\u001b[39;49m\u001b[39m.\u001b[39;49msslsocket_class\u001b[39m.\u001b[39;49m_create(\n\u001b[0;32m    <a href='file:///c%3A/Users/Denis.kozarenko/AppData/Local/Programs/Python/Python39/lib/ssl.py?line=500'>501</a>\u001b[0m         sock\u001b[39m=\u001b[39;49msock,\n\u001b[0;32m    <a href='file:///c%3A/Users/Denis.kozarenko/AppData/Local/Programs/Python/Python39/lib/ssl.py?line=501'>502</a>\u001b[0m         server_side\u001b[39m=\u001b[39;49mserver_side,\n\u001b[0;32m    <a href='file:///c%3A/Users/Denis.kozarenko/AppData/Local/Programs/Python/Python39/lib/ssl.py?line=502'>503</a>\u001b[0m         do_handshake_on_connect\u001b[39m=\u001b[39;49mdo_handshake_on_connect,\n\u001b[0;32m    <a href='file:///c%3A/Users/Denis.kozarenko/AppData/Local/Programs/Python/Python39/lib/ssl.py?line=503'>504</a>\u001b[0m         suppress_ragged_eofs\u001b[39m=\u001b[39;49msuppress_ragged_eofs,\n\u001b[0;32m    <a href='file:///c%3A/Users/Denis.kozarenko/AppData/Local/Programs/Python/Python39/lib/ssl.py?line=504'>505</a>\u001b[0m         server_hostname\u001b[39m=\u001b[39;49mserver_hostname,\n\u001b[0;32m    <a href='file:///c%3A/Users/Denis.kozarenko/AppData/Local/Programs/Python/Python39/lib/ssl.py?line=505'>506</a>\u001b[0m         context\u001b[39m=\u001b[39;49m\u001b[39mself\u001b[39;49m,\n\u001b[0;32m    <a href='file:///c%3A/Users/Denis.kozarenko/AppData/Local/Programs/Python/Python39/lib/ssl.py?line=506'>507</a>\u001b[0m         session\u001b[39m=\u001b[39;49msession\n\u001b[0;32m    <a href='file:///c%3A/Users/Denis.kozarenko/AppData/Local/Programs/Python/Python39/lib/ssl.py?line=507'>508</a>\u001b[0m     )\n",
      "File \u001b[1;32m~\\AppData\\Local\\Programs\\Python\\Python39\\lib\\ssl.py:1040\u001b[0m, in \u001b[0;36mSSLSocket._create\u001b[1;34m(cls, sock, server_side, do_handshake_on_connect, suppress_ragged_eofs, server_hostname, context, session)\u001b[0m\n\u001b[0;32m   <a href='file:///c%3A/Users/Denis.kozarenko/AppData/Local/Programs/Python/Python39/lib/ssl.py?line=1038'>1039</a>\u001b[0m             \u001b[39mraise\u001b[39;00m \u001b[39mValueError\u001b[39;00m(\u001b[39m\"\u001b[39m\u001b[39mdo_handshake_on_connect should not be specified for non-blocking sockets\u001b[39m\u001b[39m\"\u001b[39m)\n\u001b[1;32m-> <a href='file:///c%3A/Users/Denis.kozarenko/AppData/Local/Programs/Python/Python39/lib/ssl.py?line=1039'>1040</a>\u001b[0m         \u001b[39mself\u001b[39;49m\u001b[39m.\u001b[39;49mdo_handshake()\n\u001b[0;32m   <a href='file:///c%3A/Users/Denis.kozarenko/AppData/Local/Programs/Python/Python39/lib/ssl.py?line=1040'>1041</a>\u001b[0m \u001b[39mexcept\u001b[39;00m (\u001b[39mOSError\u001b[39;00m, \u001b[39mValueError\u001b[39;00m):\n",
      "File \u001b[1;32m~\\AppData\\Local\\Programs\\Python\\Python39\\lib\\ssl.py:1309\u001b[0m, in \u001b[0;36mSSLSocket.do_handshake\u001b[1;34m(self, block)\u001b[0m\n\u001b[0;32m   <a href='file:///c%3A/Users/Denis.kozarenko/AppData/Local/Programs/Python/Python39/lib/ssl.py?line=1307'>1308</a>\u001b[0m         \u001b[39mself\u001b[39m\u001b[39m.\u001b[39msettimeout(\u001b[39mNone\u001b[39;00m)\n\u001b[1;32m-> <a href='file:///c%3A/Users/Denis.kozarenko/AppData/Local/Programs/Python/Python39/lib/ssl.py?line=1308'>1309</a>\u001b[0m     \u001b[39mself\u001b[39;49m\u001b[39m.\u001b[39;49m_sslobj\u001b[39m.\u001b[39;49mdo_handshake()\n\u001b[0;32m   <a href='file:///c%3A/Users/Denis.kozarenko/AppData/Local/Programs/Python/Python39/lib/ssl.py?line=1309'>1310</a>\u001b[0m \u001b[39mfinally\u001b[39;00m:\n",
      "\u001b[1;31mSSLCertVerificationError\u001b[0m: [SSL: CERTIFICATE_VERIFY_FAILED] certificate verify failed: certificate has expired (_ssl.c:1129)",
      "\nDuring handling of the above exception, another exception occurred:\n",
      "\u001b[1;31mMaxRetryError\u001b[0m                             Traceback (most recent call last)",
      "File \u001b[1;32m~\\AppData\\Local\\Programs\\Python\\Python39\\lib\\site-packages\\requests\\adapters.py:440\u001b[0m, in \u001b[0;36mHTTPAdapter.send\u001b[1;34m(self, request, stream, timeout, verify, cert, proxies)\u001b[0m\n\u001b[0;32m    <a href='file:///c%3A/Users/Denis.kozarenko/AppData/Local/Programs/Python/Python39/lib/site-packages/requests/adapters.py?line=438'>439</a>\u001b[0m \u001b[39mif\u001b[39;00m \u001b[39mnot\u001b[39;00m chunked:\n\u001b[1;32m--> <a href='file:///c%3A/Users/Denis.kozarenko/AppData/Local/Programs/Python/Python39/lib/site-packages/requests/adapters.py?line=439'>440</a>\u001b[0m     resp \u001b[39m=\u001b[39m conn\u001b[39m.\u001b[39;49murlopen(\n\u001b[0;32m    <a href='file:///c%3A/Users/Denis.kozarenko/AppData/Local/Programs/Python/Python39/lib/site-packages/requests/adapters.py?line=440'>441</a>\u001b[0m         method\u001b[39m=\u001b[39;49mrequest\u001b[39m.\u001b[39;49mmethod,\n\u001b[0;32m    <a href='file:///c%3A/Users/Denis.kozarenko/AppData/Local/Programs/Python/Python39/lib/site-packages/requests/adapters.py?line=441'>442</a>\u001b[0m         url\u001b[39m=\u001b[39;49murl,\n\u001b[0;32m    <a href='file:///c%3A/Users/Denis.kozarenko/AppData/Local/Programs/Python/Python39/lib/site-packages/requests/adapters.py?line=442'>443</a>\u001b[0m         body\u001b[39m=\u001b[39;49mrequest\u001b[39m.\u001b[39;49mbody,\n\u001b[0;32m    <a href='file:///c%3A/Users/Denis.kozarenko/AppData/Local/Programs/Python/Python39/lib/site-packages/requests/adapters.py?line=443'>444</a>\u001b[0m         headers\u001b[39m=\u001b[39;49mrequest\u001b[39m.\u001b[39;49mheaders,\n\u001b[0;32m    <a href='file:///c%3A/Users/Denis.kozarenko/AppData/Local/Programs/Python/Python39/lib/site-packages/requests/adapters.py?line=444'>445</a>\u001b[0m         redirect\u001b[39m=\u001b[39;49m\u001b[39mFalse\u001b[39;49;00m,\n\u001b[0;32m    <a href='file:///c%3A/Users/Denis.kozarenko/AppData/Local/Programs/Python/Python39/lib/site-packages/requests/adapters.py?line=445'>446</a>\u001b[0m         assert_same_host\u001b[39m=\u001b[39;49m\u001b[39mFalse\u001b[39;49;00m,\n\u001b[0;32m    <a href='file:///c%3A/Users/Denis.kozarenko/AppData/Local/Programs/Python/Python39/lib/site-packages/requests/adapters.py?line=446'>447</a>\u001b[0m         preload_content\u001b[39m=\u001b[39;49m\u001b[39mFalse\u001b[39;49;00m,\n\u001b[0;32m    <a href='file:///c%3A/Users/Denis.kozarenko/AppData/Local/Programs/Python/Python39/lib/site-packages/requests/adapters.py?line=447'>448</a>\u001b[0m         decode_content\u001b[39m=\u001b[39;49m\u001b[39mFalse\u001b[39;49;00m,\n\u001b[0;32m    <a href='file:///c%3A/Users/Denis.kozarenko/AppData/Local/Programs/Python/Python39/lib/site-packages/requests/adapters.py?line=448'>449</a>\u001b[0m         retries\u001b[39m=\u001b[39;49m\u001b[39mself\u001b[39;49m\u001b[39m.\u001b[39;49mmax_retries,\n\u001b[0;32m    <a href='file:///c%3A/Users/Denis.kozarenko/AppData/Local/Programs/Python/Python39/lib/site-packages/requests/adapters.py?line=449'>450</a>\u001b[0m         timeout\u001b[39m=\u001b[39;49mtimeout\n\u001b[0;32m    <a href='file:///c%3A/Users/Denis.kozarenko/AppData/Local/Programs/Python/Python39/lib/site-packages/requests/adapters.py?line=450'>451</a>\u001b[0m     )\n\u001b[0;32m    <a href='file:///c%3A/Users/Denis.kozarenko/AppData/Local/Programs/Python/Python39/lib/site-packages/requests/adapters.py?line=452'>453</a>\u001b[0m \u001b[39m# Send the request.\u001b[39;00m\n\u001b[0;32m    <a href='file:///c%3A/Users/Denis.kozarenko/AppData/Local/Programs/Python/Python39/lib/site-packages/requests/adapters.py?line=453'>454</a>\u001b[0m \u001b[39melse\u001b[39;00m:\n",
      "File \u001b[1;32m~\\AppData\\Local\\Programs\\Python\\Python39\\lib\\site-packages\\urllib3\\connectionpool.py:785\u001b[0m, in \u001b[0;36mHTTPConnectionPool.urlopen\u001b[1;34m(self, method, url, body, headers, retries, redirect, assert_same_host, timeout, pool_timeout, release_conn, chunked, body_pos, **response_kw)\u001b[0m\n\u001b[0;32m    <a href='file:///c%3A/Users/Denis.kozarenko/AppData/Local/Programs/Python/Python39/lib/site-packages/urllib3/connectionpool.py?line=782'>783</a>\u001b[0m     e \u001b[39m=\u001b[39m ProtocolError(\u001b[39m\"\u001b[39m\u001b[39mConnection aborted.\u001b[39m\u001b[39m\"\u001b[39m, e)\n\u001b[1;32m--> <a href='file:///c%3A/Users/Denis.kozarenko/AppData/Local/Programs/Python/Python39/lib/site-packages/urllib3/connectionpool.py?line=784'>785</a>\u001b[0m retries \u001b[39m=\u001b[39m retries\u001b[39m.\u001b[39;49mincrement(\n\u001b[0;32m    <a href='file:///c%3A/Users/Denis.kozarenko/AppData/Local/Programs/Python/Python39/lib/site-packages/urllib3/connectionpool.py?line=785'>786</a>\u001b[0m     method, url, error\u001b[39m=\u001b[39;49me, _pool\u001b[39m=\u001b[39;49m\u001b[39mself\u001b[39;49m, _stacktrace\u001b[39m=\u001b[39;49msys\u001b[39m.\u001b[39;49mexc_info()[\u001b[39m2\u001b[39;49m]\n\u001b[0;32m    <a href='file:///c%3A/Users/Denis.kozarenko/AppData/Local/Programs/Python/Python39/lib/site-packages/urllib3/connectionpool.py?line=786'>787</a>\u001b[0m )\n\u001b[0;32m    <a href='file:///c%3A/Users/Denis.kozarenko/AppData/Local/Programs/Python/Python39/lib/site-packages/urllib3/connectionpool.py?line=787'>788</a>\u001b[0m retries\u001b[39m.\u001b[39msleep()\n",
      "File \u001b[1;32m~\\AppData\\Local\\Programs\\Python\\Python39\\lib\\site-packages\\urllib3\\util\\retry.py:592\u001b[0m, in \u001b[0;36mRetry.increment\u001b[1;34m(self, method, url, response, error, _pool, _stacktrace)\u001b[0m\n\u001b[0;32m    <a href='file:///c%3A/Users/Denis.kozarenko/AppData/Local/Programs/Python/Python39/lib/site-packages/urllib3/util/retry.py?line=590'>591</a>\u001b[0m \u001b[39mif\u001b[39;00m new_retry\u001b[39m.\u001b[39mis_exhausted():\n\u001b[1;32m--> <a href='file:///c%3A/Users/Denis.kozarenko/AppData/Local/Programs/Python/Python39/lib/site-packages/urllib3/util/retry.py?line=591'>592</a>\u001b[0m     \u001b[39mraise\u001b[39;00m MaxRetryError(_pool, url, error \u001b[39mor\u001b[39;00m ResponseError(cause))\n\u001b[0;32m    <a href='file:///c%3A/Users/Denis.kozarenko/AppData/Local/Programs/Python/Python39/lib/site-packages/urllib3/util/retry.py?line=593'>594</a>\u001b[0m log\u001b[39m.\u001b[39mdebug(\u001b[39m\"\u001b[39m\u001b[39mIncremented Retry for (url=\u001b[39m\u001b[39m'\u001b[39m\u001b[39m%s\u001b[39;00m\u001b[39m'\u001b[39m\u001b[39m): \u001b[39m\u001b[39m%r\u001b[39;00m\u001b[39m\"\u001b[39m, url, new_retry)\n",
      "\u001b[1;31mMaxRetryError\u001b[0m: HTTPSConnectionPool(host='api.sunrise-sunset.org', port=443): Max retries exceeded with url: /json (Caused by SSLError(SSLCertVerificationError(1, '[SSL: CERTIFICATE_VERIFY_FAILED] certificate verify failed: certificate has expired (_ssl.c:1129)')))",
      "\nDuring handling of the above exception, another exception occurred:\n",
      "\u001b[1;31mSSLError\u001b[0m                                  Traceback (most recent call last)",
      "\u001b[1;32mc:\\Users\\Denis.kozarenko\\Desktop\\API VK\\Работа с API на примере API ВКонтакте 24.01.21 Не знаю.ipynb Cell 7'\u001b[0m in \u001b[0;36m<module>\u001b[1;34m\u001b[0m\n\u001b[0;32m      <a href='vscode-notebook-cell:/c%3A/Users/Denis.kozarenko/Desktop/API%20VK/%D0%A0%D0%B0%D0%B1%D0%BE%D1%82%D0%B0%20%D1%81%20API%20%D0%BD%D0%B0%20%D0%BF%D1%80%D0%B8%D0%BC%D0%B5%D1%80%D0%B5%20API%20%D0%92%D0%9A%D0%BE%D0%BD%D1%82%D0%B0%D0%BA%D1%82%D0%B5%2024.01.21%20%D0%9D%D0%B5%20%D0%B7%D0%BD%D0%B0%D1%8E.ipynb#ch0000007?line=7'>8</a>\u001b[0m params \u001b[39m=\u001b[39m {\n\u001b[0;32m      <a href='vscode-notebook-cell:/c%3A/Users/Denis.kozarenko/Desktop/API%20VK/%D0%A0%D0%B0%D0%B1%D0%BE%D1%82%D0%B0%20%D1%81%20API%20%D0%BD%D0%B0%20%D0%BF%D1%80%D0%B8%D0%BC%D0%B5%D1%80%D0%B5%20API%20%D0%92%D0%9A%D0%BE%D0%BD%D1%82%D0%B0%D0%BA%D1%82%D0%B5%2024.01.21%20%D0%9D%D0%B5%20%D0%B7%D0%BD%D0%B0%D1%8E.ipynb#ch0000007?line=8'>9</a>\u001b[0m \n\u001b[0;32m     <a href='vscode-notebook-cell:/c%3A/Users/Denis.kozarenko/Desktop/API%20VK/%D0%A0%D0%B0%D0%B1%D0%BE%D1%82%D0%B0%20%D1%81%20API%20%D0%BD%D0%B0%20%D0%BF%D1%80%D0%B8%D0%BC%D0%B5%D1%80%D0%B5%20API%20%D0%92%D0%9A%D0%BE%D0%BD%D1%82%D0%B0%D0%BA%D1%82%D0%B5%2024.01.21%20%D0%9D%D0%B5%20%D0%B7%D0%BD%D0%B0%D1%8E.ipynb#ch0000007?line=9'>10</a>\u001b[0m }\n\u001b[0;32m     <a href='vscode-notebook-cell:/c%3A/Users/Denis.kozarenko/Desktop/API%20VK/%D0%A0%D0%B0%D0%B1%D0%BE%D1%82%D0%B0%20%D1%81%20API%20%D0%BD%D0%B0%20%D0%BF%D1%80%D0%B8%D0%BC%D0%B5%D1%80%D0%B5%20API%20%D0%92%D0%9A%D0%BE%D0%BD%D1%82%D0%B0%D0%BA%D1%82%D0%B5%2024.01.21%20%D0%9D%D0%B5%20%D0%B7%D0%BD%D0%B0%D1%8E.ipynb#ch0000007?line=10'>11</a>\u001b[0m \u001b[39m# requests за нас формирует конечный URL из параметров\u001b[39;00m\n\u001b[1;32m---> <a href='vscode-notebook-cell:/c%3A/Users/Denis.kozarenko/Desktop/API%20VK/%D0%A0%D0%B0%D0%B1%D0%BE%D1%82%D0%B0%20%D1%81%20API%20%D0%BD%D0%B0%20%D0%BF%D1%80%D0%B8%D0%BC%D0%B5%D1%80%D0%B5%20API%20%D0%92%D0%9A%D0%BE%D0%BD%D1%82%D0%B0%D0%BA%D1%82%D0%B5%2024.01.21%20%D0%9D%D0%B5%20%D0%B7%D0%BD%D0%B0%D1%8E.ipynb#ch0000007?line=11'>12</a>\u001b[0m r \u001b[39m=\u001b[39m requests\u001b[39m.\u001b[39;49mget(URL, params\u001b[39m=\u001b[39;49mparams)\n\u001b[0;32m     <a href='vscode-notebook-cell:/c%3A/Users/Denis.kozarenko/Desktop/API%20VK/%D0%A0%D0%B0%D0%B1%D0%BE%D1%82%D0%B0%20%D1%81%20API%20%D0%BD%D0%B0%20%D0%BF%D1%80%D0%B8%D0%BC%D0%B5%D1%80%D0%B5%20API%20%D0%92%D0%9A%D0%BE%D0%BD%D1%82%D0%B0%D0%BA%D1%82%D0%B5%2024.01.21%20%D0%9D%D0%B5%20%D0%B7%D0%BD%D0%B0%D1%8E.ipynb#ch0000007?line=12'>13</a>\u001b[0m \u001b[39mprint\u001b[39m(r)\n\u001b[0;32m     <a href='vscode-notebook-cell:/c%3A/Users/Denis.kozarenko/Desktop/API%20VK/%D0%A0%D0%B0%D0%B1%D0%BE%D1%82%D0%B0%20%D1%81%20API%20%D0%BD%D0%B0%20%D0%BF%D1%80%D0%B8%D0%BC%D0%B5%D1%80%D0%B5%20API%20%D0%92%D0%9A%D0%BE%D0%BD%D1%82%D0%B0%D0%BA%D1%82%D0%B5%2024.01.21%20%D0%9D%D0%B5%20%D0%B7%D0%BD%D0%B0%D1%8E.ipynb#ch0000007?line=13'>14</a>\u001b[0m pprint(r\u001b[39m.\u001b[39mtext)\n",
      "File \u001b[1;32m~\\AppData\\Local\\Programs\\Python\\Python39\\lib\\site-packages\\requests\\api.py:75\u001b[0m, in \u001b[0;36mget\u001b[1;34m(url, params, **kwargs)\u001b[0m\n\u001b[0;32m     <a href='file:///c%3A/Users/Denis.kozarenko/AppData/Local/Programs/Python/Python39/lib/site-packages/requests/api.py?line=63'>64</a>\u001b[0m \u001b[39mdef\u001b[39;00m \u001b[39mget\u001b[39m(url, params\u001b[39m=\u001b[39m\u001b[39mNone\u001b[39;00m, \u001b[39m*\u001b[39m\u001b[39m*\u001b[39mkwargs):\n\u001b[0;32m     <a href='file:///c%3A/Users/Denis.kozarenko/AppData/Local/Programs/Python/Python39/lib/site-packages/requests/api.py?line=64'>65</a>\u001b[0m     \u001b[39mr\u001b[39m\u001b[39m\"\"\"Sends a GET request.\u001b[39;00m\n\u001b[0;32m     <a href='file:///c%3A/Users/Denis.kozarenko/AppData/Local/Programs/Python/Python39/lib/site-packages/requests/api.py?line=65'>66</a>\u001b[0m \n\u001b[0;32m     <a href='file:///c%3A/Users/Denis.kozarenko/AppData/Local/Programs/Python/Python39/lib/site-packages/requests/api.py?line=66'>67</a>\u001b[0m \u001b[39m    :param url: URL for the new :class:`Request` object.\u001b[39;00m\n\u001b[1;32m   (...)\u001b[0m\n\u001b[0;32m     <a href='file:///c%3A/Users/Denis.kozarenko/AppData/Local/Programs/Python/Python39/lib/site-packages/requests/api.py?line=71'>72</a>\u001b[0m \u001b[39m    :rtype: requests.Response\u001b[39;00m\n\u001b[0;32m     <a href='file:///c%3A/Users/Denis.kozarenko/AppData/Local/Programs/Python/Python39/lib/site-packages/requests/api.py?line=72'>73</a>\u001b[0m \u001b[39m    \"\"\"\u001b[39;00m\n\u001b[1;32m---> <a href='file:///c%3A/Users/Denis.kozarenko/AppData/Local/Programs/Python/Python39/lib/site-packages/requests/api.py?line=74'>75</a>\u001b[0m     \u001b[39mreturn\u001b[39;00m request(\u001b[39m'\u001b[39m\u001b[39mget\u001b[39m\u001b[39m'\u001b[39m, url, params\u001b[39m=\u001b[39mparams, \u001b[39m*\u001b[39m\u001b[39m*\u001b[39mkwargs)\n",
      "File \u001b[1;32m~\\AppData\\Local\\Programs\\Python\\Python39\\lib\\site-packages\\requests\\api.py:61\u001b[0m, in \u001b[0;36mrequest\u001b[1;34m(method, url, **kwargs)\u001b[0m\n\u001b[0;32m     <a href='file:///c%3A/Users/Denis.kozarenko/AppData/Local/Programs/Python/Python39/lib/site-packages/requests/api.py?line=56'>57</a>\u001b[0m \u001b[39m# By using the 'with' statement we are sure the session is closed, thus we\u001b[39;00m\n\u001b[0;32m     <a href='file:///c%3A/Users/Denis.kozarenko/AppData/Local/Programs/Python/Python39/lib/site-packages/requests/api.py?line=57'>58</a>\u001b[0m \u001b[39m# avoid leaving sockets open which can trigger a ResourceWarning in some\u001b[39;00m\n\u001b[0;32m     <a href='file:///c%3A/Users/Denis.kozarenko/AppData/Local/Programs/Python/Python39/lib/site-packages/requests/api.py?line=58'>59</a>\u001b[0m \u001b[39m# cases, and look like a memory leak in others.\u001b[39;00m\n\u001b[0;32m     <a href='file:///c%3A/Users/Denis.kozarenko/AppData/Local/Programs/Python/Python39/lib/site-packages/requests/api.py?line=59'>60</a>\u001b[0m \u001b[39mwith\u001b[39;00m sessions\u001b[39m.\u001b[39mSession() \u001b[39mas\u001b[39;00m session:\n\u001b[1;32m---> <a href='file:///c%3A/Users/Denis.kozarenko/AppData/Local/Programs/Python/Python39/lib/site-packages/requests/api.py?line=60'>61</a>\u001b[0m     \u001b[39mreturn\u001b[39;00m session\u001b[39m.\u001b[39mrequest(method\u001b[39m=\u001b[39mmethod, url\u001b[39m=\u001b[39murl, \u001b[39m*\u001b[39m\u001b[39m*\u001b[39mkwargs)\n",
      "File \u001b[1;32m~\\AppData\\Local\\Programs\\Python\\Python39\\lib\\site-packages\\requests\\sessions.py:529\u001b[0m, in \u001b[0;36mSession.request\u001b[1;34m(self, method, url, params, data, headers, cookies, files, auth, timeout, allow_redirects, proxies, hooks, stream, verify, cert, json)\u001b[0m\n\u001b[0;32m    <a href='file:///c%3A/Users/Denis.kozarenko/AppData/Local/Programs/Python/Python39/lib/site-packages/requests/sessions.py?line=523'>524</a>\u001b[0m send_kwargs \u001b[39m=\u001b[39m {\n\u001b[0;32m    <a href='file:///c%3A/Users/Denis.kozarenko/AppData/Local/Programs/Python/Python39/lib/site-packages/requests/sessions.py?line=524'>525</a>\u001b[0m     \u001b[39m'\u001b[39m\u001b[39mtimeout\u001b[39m\u001b[39m'\u001b[39m: timeout,\n\u001b[0;32m    <a href='file:///c%3A/Users/Denis.kozarenko/AppData/Local/Programs/Python/Python39/lib/site-packages/requests/sessions.py?line=525'>526</a>\u001b[0m     \u001b[39m'\u001b[39m\u001b[39mallow_redirects\u001b[39m\u001b[39m'\u001b[39m: allow_redirects,\n\u001b[0;32m    <a href='file:///c%3A/Users/Denis.kozarenko/AppData/Local/Programs/Python/Python39/lib/site-packages/requests/sessions.py?line=526'>527</a>\u001b[0m }\n\u001b[0;32m    <a href='file:///c%3A/Users/Denis.kozarenko/AppData/Local/Programs/Python/Python39/lib/site-packages/requests/sessions.py?line=527'>528</a>\u001b[0m send_kwargs\u001b[39m.\u001b[39mupdate(settings)\n\u001b[1;32m--> <a href='file:///c%3A/Users/Denis.kozarenko/AppData/Local/Programs/Python/Python39/lib/site-packages/requests/sessions.py?line=528'>529</a>\u001b[0m resp \u001b[39m=\u001b[39m \u001b[39mself\u001b[39m\u001b[39m.\u001b[39msend(prep, \u001b[39m*\u001b[39m\u001b[39m*\u001b[39msend_kwargs)\n\u001b[0;32m    <a href='file:///c%3A/Users/Denis.kozarenko/AppData/Local/Programs/Python/Python39/lib/site-packages/requests/sessions.py?line=530'>531</a>\u001b[0m \u001b[39mreturn\u001b[39;00m resp\n",
      "File \u001b[1;32m~\\AppData\\Local\\Programs\\Python\\Python39\\lib\\site-packages\\requests\\sessions.py:645\u001b[0m, in \u001b[0;36mSession.send\u001b[1;34m(self, request, **kwargs)\u001b[0m\n\u001b[0;32m    <a href='file:///c%3A/Users/Denis.kozarenko/AppData/Local/Programs/Python/Python39/lib/site-packages/requests/sessions.py?line=641'>642</a>\u001b[0m start \u001b[39m=\u001b[39m preferred_clock()\n\u001b[0;32m    <a href='file:///c%3A/Users/Denis.kozarenko/AppData/Local/Programs/Python/Python39/lib/site-packages/requests/sessions.py?line=643'>644</a>\u001b[0m \u001b[39m# Send the request\u001b[39;00m\n\u001b[1;32m--> <a href='file:///c%3A/Users/Denis.kozarenko/AppData/Local/Programs/Python/Python39/lib/site-packages/requests/sessions.py?line=644'>645</a>\u001b[0m r \u001b[39m=\u001b[39m adapter\u001b[39m.\u001b[39msend(request, \u001b[39m*\u001b[39m\u001b[39m*\u001b[39mkwargs)\n\u001b[0;32m    <a href='file:///c%3A/Users/Denis.kozarenko/AppData/Local/Programs/Python/Python39/lib/site-packages/requests/sessions.py?line=646'>647</a>\u001b[0m \u001b[39m# Total elapsed time of the request (approximately)\u001b[39;00m\n\u001b[0;32m    <a href='file:///c%3A/Users/Denis.kozarenko/AppData/Local/Programs/Python/Python39/lib/site-packages/requests/sessions.py?line=647'>648</a>\u001b[0m elapsed \u001b[39m=\u001b[39m preferred_clock() \u001b[39m-\u001b[39m start\n",
      "File \u001b[1;32m~\\AppData\\Local\\Programs\\Python\\Python39\\lib\\site-packages\\requests\\adapters.py:517\u001b[0m, in \u001b[0;36mHTTPAdapter.send\u001b[1;34m(self, request, stream, timeout, verify, cert, proxies)\u001b[0m\n\u001b[0;32m    <a href='file:///c%3A/Users/Denis.kozarenko/AppData/Local/Programs/Python/Python39/lib/site-packages/requests/adapters.py?line=512'>513</a>\u001b[0m         \u001b[39mraise\u001b[39;00m ProxyError(e, request\u001b[39m=\u001b[39mrequest)\n\u001b[0;32m    <a href='file:///c%3A/Users/Denis.kozarenko/AppData/Local/Programs/Python/Python39/lib/site-packages/requests/adapters.py?line=514'>515</a>\u001b[0m     \u001b[39mif\u001b[39;00m \u001b[39misinstance\u001b[39m(e\u001b[39m.\u001b[39mreason, _SSLError):\n\u001b[0;32m    <a href='file:///c%3A/Users/Denis.kozarenko/AppData/Local/Programs/Python/Python39/lib/site-packages/requests/adapters.py?line=515'>516</a>\u001b[0m         \u001b[39m# This branch is for urllib3 v1.22 and later.\u001b[39;00m\n\u001b[1;32m--> <a href='file:///c%3A/Users/Denis.kozarenko/AppData/Local/Programs/Python/Python39/lib/site-packages/requests/adapters.py?line=516'>517</a>\u001b[0m         \u001b[39mraise\u001b[39;00m SSLError(e, request\u001b[39m=\u001b[39mrequest)\n\u001b[0;32m    <a href='file:///c%3A/Users/Denis.kozarenko/AppData/Local/Programs/Python/Python39/lib/site-packages/requests/adapters.py?line=518'>519</a>\u001b[0m     \u001b[39mraise\u001b[39;00m \u001b[39mConnectionError\u001b[39;00m(e, request\u001b[39m=\u001b[39mrequest)\n\u001b[0;32m    <a href='file:///c%3A/Users/Denis.kozarenko/AppData/Local/Programs/Python/Python39/lib/site-packages/requests/adapters.py?line=520'>521</a>\u001b[0m \u001b[39mexcept\u001b[39;00m ClosedPoolError \u001b[39mas\u001b[39;00m e:\n",
      "\u001b[1;31mSSLError\u001b[0m: HTTPSConnectionPool(host='api.sunrise-sunset.org', port=443): Max retries exceeded with url: /json (Caused by SSLError(SSLCertVerificationError(1, '[SSL: CERTIFICATE_VERIFY_FAILED] certificate verify failed: certificate has expired (_ssl.c:1129)')))"
     ]
    }
   ],
   "source": [
    "# 1.4 используем API sunrise-sunset для получения времени восхода и заката\n",
    "# https://sunrise-sunset.org/api\n",
    "# Если в адресную строку браузера передать запрос - получим ответ\n",
    "# https://api.sunrise-sunset.org/json?lat=36.7201600&lng=-4.4203400&date=today\n",
    "# как нужно заполнить словарь параметров чтобы получить ответ от сервера?\n",
    "\n",
    "URL = 'https://api.sunrise-sunset.org/json'\n",
    "params = {\n",
    "\n",
    "}\n",
    "# requests за нас формирует конечный URL из параметров\n",
    "r = requests.get(URL, params=params)\n",
    "print(r)\n",
    "pprint(r.text)"
   ]
  },
  {
   "cell_type": "markdown",
   "metadata": {},
   "source": [
    "Примеры интересных API:\n",
    "- api карт Яндекс, Google, OpenStreetMap\n",
    "- api погоды\n",
    " https://habr.com/ru/post/315264/ \n",
    "- api википедии\n",
    " pip3 install wikipedia-api\n",
    "- OMDb API - поиск фильмов по рейтингу и жанру\n",
    " http://www.omdbapi.com/"
   ]
  },
  {
   "cell_type": "code",
   "execution_count": 17,
   "metadata": {},
   "outputs": [
    {
     "name": "stdout",
     "output_type": "stream",
     "text": [
      "Page - Title: Python\n",
      "Page - Summary: Python (МФА: [ˈpʌɪθ(ə)n]; в русском языке встречаются названия пито́н или па́йтон) — высокоуровневый язык программирования общего назначения с динамической строгой типизацией и автоматическим управлением памятью, ориентированный на повышение производительности разработчика, читаемости кода и его кач\n"
     ]
    }
   ],
   "source": [
    "#1.5* Пример получения статьи из википедии через модуль wikipedia-api\n",
    "# !pip3 install wikipedia-api\n",
    "import wikipediaapi\n",
    "wiki_wiki = wikipediaapi.Wikipedia('ru')\n",
    "page_py = wiki_wiki.page('Python')\n",
    "print(\"Page - Title: %s\" % page_py.title)\n",
    "print(\"Page - Summary: %s\" % page_py.summary[0:300])"
   ]
  },
  {
   "cell_type": "markdown",
   "metadata": {},
   "source": [
    "Таким образом API обычно сопровождается подробной документацией с описанием доступных методов взаимодействия с ним. \n",
    "Но процесс может быть упрощен использованием готовых библиотек. \n",
    "Каким способом пользоваться - зависит от конкретной ситуации."
   ]
  },
  {
   "cell_type": "markdown",
   "metadata": {},
   "source": [
    "## Вопрос №2 Получение токена VK\n",
    "Переходим к работе с API VK\n",
    "\n",
    "Процесс получения токена\n",
    "- Заходим в свой VK-аккаунт\n",
    "- Переходим на страницу для разработчиков https://vk.com/dev/\n",
    "- Раздел \"Мои приложения\" -> Создать\n",
    "- Заполнить название, Standalone-приложение\n",
    "- Получить звонок от VK ввести в поле код последние 4 цифры номера\n",
    "- Состояние -> приложение включено\n",
    "- OpenAPI -> включить\n",
    "- Адрес сайта -> http://localhost, Базовый домен -> localhost\n",
    "- Настройки -> Запомнить ID-приложения, вставить в ссылку  \n",
    "\n",
    "https://oauth.vk.com/authorize?client_id=1&display=page&scope=stats,offline&response_type=token&v=5.103&state=123456\n",
    "- Разрешить доступ\n",
    "- в адресной строке браузера поле acess_token=.............& будет ваш токен - скопировать в текстовый файл"
   ]
  },
  {
   "cell_type": "code",
   "execution_count": 18,
   "metadata": {
    "tags": []
   },
   "outputs": [
    {
     "name": "stdout",
     "output_type": "stream",
     "text": [
      "('{\"error\":\"invalid_request\",\"error_description\":\"OAuth authorization cannot '\n",
      " 'be used from native VK applications\"}')\n"
     ]
    }
   ],
   "source": [
    "# Возможный аналог запроса с помощью requests, но в данном случае он не сработает, так как нужно предоставить разрешения на доступ к своим данным\n",
    "# https://oauth.vk.com/authorize?client_id=1&display=page&scope=stats,offline&response_type=token&v=5.103&state=123456\n",
    "URL = 'https://oauth.vk.com/authorize'\n",
    "params = {\n",
    "    'client_id':'1',\n",
    "    'display': 'page',\n",
    "    'scope': 'stats,offline',\n",
    "    'response_type':'token',\n",
    "    'v':'5.103',\n",
    "    'state':'123456'\n",
    "}\n",
    "r = requests.get(URL, params=params)\n",
    "pprint(r.text)"
   ]
  },
  {
   "cell_type": "code",
   "execution_count": null,
   "metadata": {},
   "outputs": [],
   "source": [
    "# Сохраняем токен в файл\n",
    "# читаем токен\n",
    "with open('token.txt', 'r') as file_object:\n",
    "    token = file_object.read().strip()"
   ]
  },
  {
   "cell_type": "code",
   "execution_count": 7,
   "metadata": {},
   "outputs": [
    {
     "data": {
      "text/plain": [
       "{'error': {'error_code': 5,\n",
       "  'error_msg': 'User authorization failed: invalid session.',\n",
       "  'request_params': [{'key': 'user_id', 'value': '1'},\n",
       "   {'key': 'v', 'value': '5.89'},\n",
       "   {'key': 'method', 'value': 'users.get'},\n",
       "   {'key': 'oauth', 'value': '1'}]}}"
      ]
     },
     "execution_count": 7,
     "metadata": {},
     "output_type": "execute_result"
    }
   ],
   "source": [
    "# Получаем информацию о пользователе по id=1\n",
    "\n",
    "URL = 'https://api.vk.com/method/users.get'\n",
    "params = {\n",
    "    'user_id': '1',\n",
    "    'access_token': token, # токен и версия api являются обязательными параметрами во всех запросах к vk\n",
    "    'v':'5.89'\n",
    "}\n",
    "res = requests.get(URL, params=params)\n",
    "res.json()\n",
    "\n",
    "# Скажите какой пользователь скрывается под номером 100?"
   ]
  },
  {
   "cell_type": "code",
   "execution_count": 8,
   "metadata": {},
   "outputs": [
    {
     "ename": "KeyError",
     "evalue": "'response'",
     "output_type": "error",
     "traceback": [
      "\u001b[1;31m---------------------------------------------------------------------------\u001b[0m",
      "\u001b[1;31mKeyError\u001b[0m                                  Traceback (most recent call last)",
      "\u001b[1;32mc:\\Users\\Denis.kozarenko\\Desktop\\API VK\\Работа с API на примере API ВКонтакте 24.01.21 Не знаю.ipynb Cell 16'\u001b[0m in \u001b[0;36m<module>\u001b[1;34m\u001b[0m\n\u001b[0;32m      <a href='vscode-notebook-cell:/c%3A/Users/Denis.kozarenko/Desktop/API%20VK/%D0%A0%D0%B0%D0%B1%D0%BE%D1%82%D0%B0%20%D1%81%20API%20%D0%BD%D0%B0%20%D0%BF%D1%80%D0%B8%D0%BC%D0%B5%D1%80%D0%B5%20API%20%D0%92%D0%9A%D0%BE%D0%BD%D1%82%D0%B0%D0%BA%D1%82%D0%B5%2024.01.21%20%D0%9D%D0%B5%20%D0%B7%D0%BD%D0%B0%D1%8E.ipynb#ch0000015?line=3'>4</a>\u001b[0m params \u001b[39m=\u001b[39m {\n\u001b[0;32m      <a href='vscode-notebook-cell:/c%3A/Users/Denis.kozarenko/Desktop/API%20VK/%D0%A0%D0%B0%D0%B1%D0%BE%D1%82%D0%B0%20%D1%81%20API%20%D0%BD%D0%B0%20%D0%BF%D1%80%D0%B8%D0%BC%D0%B5%D1%80%D0%B5%20API%20%D0%92%D0%9A%D0%BE%D0%BD%D1%82%D0%B0%D0%BA%D1%82%D0%B5%2024.01.21%20%D0%9D%D0%B5%20%D0%B7%D0%BD%D0%B0%D1%8E.ipynb#ch0000015?line=4'>5</a>\u001b[0m     \u001b[39m'\u001b[39m\u001b[39mgroup_ids\u001b[39m\u001b[39m'\u001b[39m: \u001b[39m'\u001b[39m\u001b[39mvk\u001b[39m\u001b[39m'\u001b[39m,\n\u001b[0;32m      <a href='vscode-notebook-cell:/c%3A/Users/Denis.kozarenko/Desktop/API%20VK/%D0%A0%D0%B0%D0%B1%D0%BE%D1%82%D0%B0%20%D1%81%20API%20%D0%BD%D0%B0%20%D0%BF%D1%80%D0%B8%D0%BC%D0%B5%D1%80%D0%B5%20API%20%D0%92%D0%9A%D0%BE%D0%BD%D1%82%D0%B0%D0%BA%D1%82%D0%B5%2024.01.21%20%D0%9D%D0%B5%20%D0%B7%D0%BD%D0%B0%D1%8E.ipynb#ch0000015?line=5'>6</a>\u001b[0m     \u001b[39m'\u001b[39m\u001b[39maccess_token\u001b[39m\u001b[39m'\u001b[39m: token,\n\u001b[0;32m      <a href='vscode-notebook-cell:/c%3A/Users/Denis.kozarenko/Desktop/API%20VK/%D0%A0%D0%B0%D0%B1%D0%BE%D1%82%D0%B0%20%D1%81%20API%20%D0%BD%D0%B0%20%D0%BF%D1%80%D0%B8%D0%BC%D0%B5%D1%80%D0%B5%20API%20%D0%92%D0%9A%D0%BE%D0%BD%D1%82%D0%B0%D0%BA%D1%82%D0%B5%2024.01.21%20%D0%9D%D0%B5%20%D0%B7%D0%BD%D0%B0%D1%8E.ipynb#ch0000015?line=6'>7</a>\u001b[0m     \u001b[39m'\u001b[39m\u001b[39mfields\u001b[39m\u001b[39m'\u001b[39m: \u001b[39m'\u001b[39m\u001b[39mactivity,description,contacts,members_count\u001b[39m\u001b[39m'\u001b[39m,\n\u001b[0;32m      <a href='vscode-notebook-cell:/c%3A/Users/Denis.kozarenko/Desktop/API%20VK/%D0%A0%D0%B0%D0%B1%D0%BE%D1%82%D0%B0%20%D1%81%20API%20%D0%BD%D0%B0%20%D0%BF%D1%80%D0%B8%D0%BC%D0%B5%D1%80%D0%B5%20API%20%D0%92%D0%9A%D0%BE%D0%BD%D1%82%D0%B0%D0%BA%D1%82%D0%B5%2024.01.21%20%D0%9D%D0%B5%20%D0%B7%D0%BD%D0%B0%D1%8E.ipynb#ch0000015?line=7'>8</a>\u001b[0m     \u001b[39m'\u001b[39m\u001b[39mv\u001b[39m\u001b[39m'\u001b[39m:\u001b[39m'\u001b[39m\u001b[39m5.89\u001b[39m\u001b[39m'\u001b[39m\n\u001b[0;32m      <a href='vscode-notebook-cell:/c%3A/Users/Denis.kozarenko/Desktop/API%20VK/%D0%A0%D0%B0%D0%B1%D0%BE%D1%82%D0%B0%20%D1%81%20API%20%D0%BD%D0%B0%20%D0%BF%D1%80%D0%B8%D0%BC%D0%B5%D1%80%D0%B5%20API%20%D0%92%D0%9A%D0%BE%D0%BD%D1%82%D0%B0%D0%BA%D1%82%D0%B5%2024.01.21%20%D0%9D%D0%B5%20%D0%B7%D0%BD%D0%B0%D1%8E.ipynb#ch0000015?line=8'>9</a>\u001b[0m }\n\u001b[0;32m     <a href='vscode-notebook-cell:/c%3A/Users/Denis.kozarenko/Desktop/API%20VK/%D0%A0%D0%B0%D0%B1%D0%BE%D1%82%D0%B0%20%D1%81%20API%20%D0%BD%D0%B0%20%D0%BF%D1%80%D0%B8%D0%BC%D0%B5%D1%80%D0%B5%20API%20%D0%92%D0%9A%D0%BE%D0%BD%D1%82%D0%B0%D0%BA%D1%82%D0%B5%2024.01.21%20%D0%9D%D0%B5%20%D0%B7%D0%BD%D0%B0%D1%8E.ipynb#ch0000015?line=9'>10</a>\u001b[0m res \u001b[39m=\u001b[39m requests\u001b[39m.\u001b[39mget(URL, params\u001b[39m=\u001b[39mparams)\n\u001b[1;32m---> <a href='vscode-notebook-cell:/c%3A/Users/Denis.kozarenko/Desktop/API%20VK/%D0%A0%D0%B0%D0%B1%D0%BE%D1%82%D0%B0%20%D1%81%20API%20%D0%BD%D0%B0%20%D0%BF%D1%80%D0%B8%D0%BC%D0%B5%D1%80%D0%B5%20API%20%D0%92%D0%9A%D0%BE%D0%BD%D1%82%D0%B0%D0%BA%D1%82%D0%B5%2024.01.21%20%D0%9D%D0%B5%20%D0%B7%D0%BD%D0%B0%D1%8E.ipynb#ch0000015?line=10'>11</a>\u001b[0m result \u001b[39m=\u001b[39m res\u001b[39m.\u001b[39;49mjson()[\u001b[39m'\u001b[39;49m\u001b[39mresponse\u001b[39;49m\u001b[39m'\u001b[39;49m][\u001b[39m0\u001b[39m]\n\u001b[0;32m     <a href='vscode-notebook-cell:/c%3A/Users/Denis.kozarenko/Desktop/API%20VK/%D0%A0%D0%B0%D0%B1%D0%BE%D1%82%D0%B0%20%D1%81%20API%20%D0%BD%D0%B0%20%D0%BF%D1%80%D0%B8%D0%BC%D0%B5%D1%80%D0%B5%20API%20%D0%92%D0%9A%D0%BE%D0%BD%D1%82%D0%B0%D0%BA%D1%82%D0%B5%2024.01.21%20%D0%9D%D0%B5%20%D0%B7%D0%BD%D0%B0%D1%8E.ipynb#ch0000015?line=11'>12</a>\u001b[0m result\n",
      "\u001b[1;31mKeyError\u001b[0m: 'response'"
     ]
    }
   ],
   "source": [
    "# Получаем информацию о группе VK по его ids\n",
    "URL = 'https://api.vk.com/method/groups.getById'\n",
    "\n",
    "params = {\n",
    "    'group_ids': 'vk',\n",
    "    'access_token': token,\n",
    "    'fields': 'activity,description,contacts,members_count',\n",
    "    'v':'5.89'\n",
    "}\n",
    "res = requests.get(URL, params=params)\n",
    "result = res.json()['response'][0]\n",
    "result"
   ]
  },
  {
   "cell_type": "code",
   "execution_count": null,
   "metadata": {},
   "outputs": [],
   "source": [
    "result['members_count']"
   ]
  },
  {
   "cell_type": "markdown",
   "metadata": {},
   "source": [
    "## Вопрос №3 Получение информации о пользователях и группах \n",
    "\n",
    "### 3.1 Метод groups.search - Получаем информацию о группах из поискового запроса   \n",
    "Напишем функцию, которая будет находить группы по поисковому запросу при помощи метода groups.search"
   ]
  },
  {
   "cell_type": "code",
   "execution_count": 9,
   "metadata": {
    "tags": []
   },
   "outputs": [
    {
     "ename": "KeyError",
     "evalue": "'response'",
     "output_type": "error",
     "traceback": [
      "\u001b[1;31m---------------------------------------------------------------------------\u001b[0m",
      "\u001b[1;31mKeyError\u001b[0m                                  Traceback (most recent call last)",
      "\u001b[1;32mc:\\Users\\Denis.kozarenko\\Desktop\\API VK\\Работа с API на примере API ВКонтакте 24.01.21 Не знаю.ipynb Cell 19'\u001b[0m in \u001b[0;36m<module>\u001b[1;34m\u001b[0m\n\u001b[0;32m     <a href='vscode-notebook-cell:/c%3A/Users/Denis.kozarenko/Desktop/API%20VK/%D0%A0%D0%B0%D0%B1%D0%BE%D1%82%D0%B0%20%D1%81%20API%20%D0%BD%D0%B0%20%D0%BF%D1%80%D0%B8%D0%BC%D0%B5%D1%80%D0%B5%20API%20%D0%92%D0%9A%D0%BE%D0%BD%D1%82%D0%B0%D0%BA%D1%82%D0%B5%2024.01.21%20%D0%9D%D0%B5%20%D0%B7%D0%BD%D0%B0%D1%8E.ipynb#ch0000018?line=16'>17</a>\u001b[0m     req \u001b[39m=\u001b[39m req[\u001b[39m'\u001b[39m\u001b[39mresponse\u001b[39m\u001b[39m'\u001b[39m][\u001b[39m'\u001b[39m\u001b[39mitems\u001b[39m\u001b[39m'\u001b[39m]\n\u001b[0;32m     <a href='vscode-notebook-cell:/c%3A/Users/Denis.kozarenko/Desktop/API%20VK/%D0%A0%D0%B0%D0%B1%D0%BE%D1%82%D0%B0%20%D1%81%20API%20%D0%BD%D0%B0%20%D0%BF%D1%80%D0%B8%D0%BC%D0%B5%D1%80%D0%B5%20API%20%D0%92%D0%9A%D0%BE%D0%BD%D1%82%D0%B0%D0%BA%D1%82%D0%B5%2024.01.21%20%D0%9D%D0%B5%20%D0%B7%D0%BD%D0%B0%D1%8E.ipynb#ch0000018?line=17'>18</a>\u001b[0m     \u001b[39mreturn\u001b[39;00m req\n\u001b[1;32m---> <a href='vscode-notebook-cell:/c%3A/Users/Denis.kozarenko/Desktop/API%20VK/%D0%A0%D0%B0%D0%B1%D0%BE%D1%82%D0%B0%20%D1%81%20API%20%D0%BD%D0%B0%20%D0%BF%D1%80%D0%B8%D0%BC%D0%B5%D1%80%D0%B5%20API%20%D0%92%D0%9A%D0%BE%D0%BD%D1%82%D0%B0%D0%BA%D1%82%D0%B5%2024.01.21%20%D0%9D%D0%B5%20%D0%B7%D0%BD%D0%B0%D1%8E.ipynb#ch0000018?line=19'>20</a>\u001b[0m search_query(\u001b[39m'\u001b[39;49m\u001b[39mpython\u001b[39;49m\u001b[39m'\u001b[39;49m, \u001b[39m0\u001b[39;49m)\n\u001b[0;32m     <a href='vscode-notebook-cell:/c%3A/Users/Denis.kozarenko/Desktop/API%20VK/%D0%A0%D0%B0%D0%B1%D0%BE%D1%82%D0%B0%20%D1%81%20API%20%D0%BD%D0%B0%20%D0%BF%D1%80%D0%B8%D0%BC%D0%B5%D1%80%D0%B5%20API%20%D0%92%D0%9A%D0%BE%D0%BD%D1%82%D0%B0%D0%BA%D1%82%D0%B5%2024.01.21%20%D0%9D%D0%B5%20%D0%B7%D0%BD%D0%B0%D1%8E.ipynb#ch0000018?line=20'>21</a>\u001b[0m res_df \u001b[39m=\u001b[39m pd\u001b[39m.\u001b[39mDataFrame(search_query(\u001b[39m'\u001b[39m\u001b[39mpython\u001b[39m\u001b[39m'\u001b[39m, \u001b[39m0\u001b[39m)) \u001b[39m#[['id', 'name', 'screen_name', 'is_closed', 'type']]\u001b[39;00m\n\u001b[0;32m     <a href='vscode-notebook-cell:/c%3A/Users/Denis.kozarenko/Desktop/API%20VK/%D0%A0%D0%B0%D0%B1%D0%BE%D1%82%D0%B0%20%D1%81%20API%20%D0%BD%D0%B0%20%D0%BF%D1%80%D0%B8%D0%BC%D0%B5%D1%80%D0%B5%20API%20%D0%92%D0%9A%D0%BE%D0%BD%D1%82%D0%B0%D0%BA%D1%82%D0%B5%2024.01.21%20%D0%9D%D0%B5%20%D0%B7%D0%BD%D0%B0%D1%8E.ipynb#ch0000018?line=21'>22</a>\u001b[0m res_df\n",
      "\u001b[1;32mc:\\Users\\Denis.kozarenko\\Desktop\\API VK\\Работа с API на примере API ВКонтакте 24.01.21 Не знаю.ipynb Cell 19'\u001b[0m in \u001b[0;36msearch_query\u001b[1;34m(q, sorting)\u001b[0m\n\u001b[0;32m     <a href='vscode-notebook-cell:/c%3A/Users/Denis.kozarenko/Desktop/API%20VK/%D0%A0%D0%B0%D0%B1%D0%BE%D1%82%D0%B0%20%D1%81%20API%20%D0%BD%D0%B0%20%D0%BF%D1%80%D0%B8%D0%BC%D0%B5%D1%80%D0%B5%20API%20%D0%92%D0%9A%D0%BE%D0%BD%D1%82%D0%B0%D0%BA%D1%82%D0%B5%2024.01.21%20%D0%9D%D0%B5%20%D0%B7%D0%BD%D0%B0%D1%8E.ipynb#ch0000018?line=14'>15</a>\u001b[0m req \u001b[39m=\u001b[39m requests\u001b[39m.\u001b[39mget(\u001b[39m'\u001b[39m\u001b[39mhttps://api.vk.com/method/groups.search\u001b[39m\u001b[39m'\u001b[39m, params)\u001b[39m.\u001b[39mjson()\n\u001b[0;32m     <a href='vscode-notebook-cell:/c%3A/Users/Denis.kozarenko/Desktop/API%20VK/%D0%A0%D0%B0%D0%B1%D0%BE%D1%82%D0%B0%20%D1%81%20API%20%D0%BD%D0%B0%20%D0%BF%D1%80%D0%B8%D0%BC%D0%B5%D1%80%D0%B5%20API%20%D0%92%D0%9A%D0%BE%D0%BD%D1%82%D0%B0%D0%BA%D1%82%D0%B5%2024.01.21%20%D0%9D%D0%B5%20%D0%B7%D0%BD%D0%B0%D1%8E.ipynb#ch0000018?line=15'>16</a>\u001b[0m \u001b[39m# print(req)\u001b[39;00m\n\u001b[1;32m---> <a href='vscode-notebook-cell:/c%3A/Users/Denis.kozarenko/Desktop/API%20VK/%D0%A0%D0%B0%D0%B1%D0%BE%D1%82%D0%B0%20%D1%81%20API%20%D0%BD%D0%B0%20%D0%BF%D1%80%D0%B8%D0%BC%D0%B5%D1%80%D0%B5%20API%20%D0%92%D0%9A%D0%BE%D0%BD%D1%82%D0%B0%D0%BA%D1%82%D0%B5%2024.01.21%20%D0%9D%D0%B5%20%D0%B7%D0%BD%D0%B0%D1%8E.ipynb#ch0000018?line=16'>17</a>\u001b[0m req \u001b[39m=\u001b[39m req[\u001b[39m'\u001b[39;49m\u001b[39mresponse\u001b[39;49m\u001b[39m'\u001b[39;49m][\u001b[39m'\u001b[39m\u001b[39mitems\u001b[39m\u001b[39m'\u001b[39m]\n\u001b[0;32m     <a href='vscode-notebook-cell:/c%3A/Users/Denis.kozarenko/Desktop/API%20VK/%D0%A0%D0%B0%D0%B1%D0%BE%D1%82%D0%B0%20%D1%81%20API%20%D0%BD%D0%B0%20%D0%BF%D1%80%D0%B8%D0%BC%D0%B5%D1%80%D0%B5%20API%20%D0%92%D0%9A%D0%BE%D0%BD%D1%82%D0%B0%D0%BA%D1%82%D0%B5%2024.01.21%20%D0%9D%D0%B5%20%D0%B7%D0%BD%D0%B0%D1%8E.ipynb#ch0000018?line=17'>18</a>\u001b[0m \u001b[39mreturn\u001b[39;00m req\n",
      "\u001b[1;31mKeyError\u001b[0m: 'response'"
     ]
    }
   ],
   "source": [
    "import pandas as pd \n",
    "\n",
    "# Задание - правильно заполнить параметры запроса\n",
    "def search_query(q, sorting=0):\n",
    "    #Параметры sort\n",
    "    #0 — сортировать по умолчанию (аналогично результатам поиска в полной версии сайта);\n",
    "    #1 — сортировать по скорости роста;\n",
    "    #2 — сортировать по отношению дневной посещаемости к количеству пользователей;\n",
    "    #3 — сортировать по отношению количества лайков к количеству пользователей;\n",
    "    #4 — сортировать по отношению количества комментариев к количеству пользователей;\n",
    "    #5 — сортировать по отношению количества записей в обсуждениях к количеству пользователей.\n",
    "    params = {\n",
    "\n",
    "    }\n",
    "    req = requests.get('https://api.vk.com/method/groups.search', params).json()\n",
    "    # print(req)\n",
    "    req = req['response']['items']\n",
    "    return req\n",
    "\n",
    "search_query('python', 0)\n",
    "res_df = pd.DataFrame(search_query('python', 0)) #[['id', 'name', 'screen_name', 'is_closed', 'type']]\n",
    "res_df"
   ]
  },
  {
   "cell_type": "markdown",
   "metadata": {},
   "source": [
    "### 3.2 Получим расширенную информацию по группам при помощи метода groups.getById"
   ]
  },
  {
   "cell_type": "code",
   "execution_count": null,
   "metadata": {},
   "outputs": [],
   "source": [
    "# Получим более подробную информацию по каждой из групп\n",
    "# Сформируем перечень групп для передачи в запрос\n",
    "groups_ids = ','.join(str(x) for x in res_df.id)\n",
    "print(groups_ids)"
   ]
  },
  {
   "cell_type": "code",
   "execution_count": null,
   "metadata": {},
   "outputs": [],
   "source": [
    "\n",
    "params = {\n",
    "    'access_token': token,\n",
    "    'v':'5.89',\n",
    "    'group_ids': groups_ids,\n",
    "    'fields':  'members_count,activity,description'\n",
    "}\n",
    "req = requests.get('https://api.vk.com/method/groups.getById', params)\n",
    "# req\n",
    "# print(req)\n",
    "\n",
    "groups_df = pd.DataFrame(req.json()['response']).sort_values('members_count', ascending=False)\n",
    "groups_df\n",
    "# Кто найдет несостыковки в том что получилось в результате с тем что мы запрашивали?"
   ]
  },
  {
   "cell_type": "code",
   "execution_count": null,
   "metadata": {},
   "outputs": [],
   "source": [
    "# В каком количестве групп в качестве activity указано Программирование?\n",
    "# Каково соотношение открытых и закрытых групп по показателю is_closed\n",
    "# *Найти группу с самым длинным description"
   ]
  },
  {
   "cell_type": "markdown",
   "metadata": {},
   "source": [
    "### 3.3 Получим нужное количество пользователей при помощи параметра offset и метода groups.getMembers"
   ]
  },
  {
   "cell_type": "code",
   "execution_count": null,
   "metadata": {},
   "outputs": [],
   "source": [
    "import time\n",
    "\n",
    "members = pd.DataFrame()\n",
    "for offset in range(0, 10000, 1000):  # указываем смещение 1000, т.к. по-умолчанию получаем 1000 пользователей\n",
    "    params = {\n",
    "        'access_token': token,\n",
    "        'v':'5.89',\n",
    "        'group_id': '142410745',\n",
    "        'fields': 'city,sex',\n",
    "        'offset': offset\n",
    "    }\n",
    "    req = requests.get('https://api.vk.com/method/groups.getMembers', params)\n",
    "    time.sleep(0.33)\n",
    "    members = pd.concat([members, pd.DataFrame(req.json()['response']['items'])])\n",
    "               \n",
    "members"
   ]
  },
  {
   "cell_type": "code",
   "execution_count": null,
   "metadata": {},
   "outputs": [],
   "source": [
    "# Посчитаем например соотношение парней и девушек в\n",
    "members['sex'].value_counts()"
   ]
  },
  {
   "cell_type": "code",
   "execution_count": null,
   "metadata": {},
   "outputs": [],
   "source": [
    "# получение списка уникальных названий городов - и подсчет их количества - отдельная задача на знание Pandas\n",
    "# Кто знает каким образом можно вытащить названия городов из колонки city?"
   ]
  },
  {
   "cell_type": "markdown",
   "metadata": {},
   "source": [
    "## Вопрос №4 Получение новостей из ленты"
   ]
  },
  {
   "cell_type": "code",
   "execution_count": null,
   "metadata": {},
   "outputs": [],
   "source": [
    "pd.set_option('max_colwidth', None)\n",
    "\n",
    "def get_newsfeed_posts(url, tag):\n",
    "    newsfeed_df = pd.DataFrame()\n",
    "    params = {\n",
    "        'access_token': token,\n",
    "        'v':'5.89',\n",
    "        'q': tag,\n",
    "        'start_from': '',\n",
    "        'count': 100,\n",
    "        'extended': 1\n",
    "    }    \n",
    "    while True:\n",
    "        result = requests.get(url, params)\n",
    "        time.sleep(0.33)\n",
    "        newsfeed_df = pd.concat([newsfeed_df, pd.DataFrame(result.json()['response']['items'])])\n",
    "        if 'next_from' in result.json()['response'].keys():\n",
    "            params['start_from'] = result.json()['response']['next_from']\n",
    "        else:\n",
    "            break\n",
    "    return newsfeed_df\n",
    "\n",
    "\n",
    "def main_vk_newsfeed():\n",
    "    print('Собираем данные из новостной ленты ВК')\n",
    "    tag_list = ['skillfactory']\n",
    "    url = 'https://api.vk.com/method/newsfeed.search'\n",
    "    df = pd.DataFrame()\n",
    "    for tag in tag_list:\n",
    "        df = pd.concat([df, get_newsfeed_posts(url, tag)])\n",
    "    print('Собрали данные из новостной ленты ВК')\n",
    "    return df\n",
    "\n",
    "main_vk_newsfeed()"
   ]
  },
  {
   "cell_type": "code",
   "execution_count": null,
   "metadata": {},
   "outputs": [],
   "source": [
    "# Интересные задачи по работе с API VK\n",
    "# - получение количества уникальных пользователей, поиск пересечений пользователей в группах\n",
    "# - получение постов со стены группы набравших наибольшее количество лайков\n",
    "# - получение товаров из групп-магазинов"
   ]
  },
  {
   "cell_type": "markdown",
   "metadata": {},
   "source": [
    "## Вопрос №5 Получение данных с использованием библиотеки vk_api"
   ]
  },
  {
   "cell_type": "code",
   "execution_count": null,
   "metadata": {},
   "outputs": [],
   "source": [
    "# Получение данных с использованием библиотеки vk_api\n",
    "# https://vk-api.readthedocs.io/en/latest/ \n",
    "# !pip install vk_api\n",
    "\n",
    "import vk_api\n",
    "import json\n",
    "from pprint import pprint\n",
    "\n",
    "''' vkapi.json\n",
    "{\n",
    "    \"login\" : \"+71234567890\",\n",
    "    \"pass\" : \"mypassword\"\n",
    "}\n",
    "'''\n",
    "with open(\"vkapi.json\",'r') as f_:\n",
    "    config = json.loads(f_.read())\n",
    "\n",
    "# vk_session = vk_api.VkApi('+71234567890', 'mypassword')\n",
    "vk_session = vk_api.VkApi(config['login'], config['pass'])\n",
    "\n",
    "vk_session.auth()\n",
    "\n",
    "vk = vk_session.get_api()\n",
    "\n",
    "# print(vk.wall.get(count=1)['items'][0])\n",
    "print(vk.users.get(user_id=1)[0])\n",
    "pprint(vk.groups.getById(group_ids='vk')[0])"
   ]
  },
  {
   "cell_type": "markdown",
   "metadata": {},
   "source": [
    "## Приложение 1 Полезные ссылки\n",
    "\n",
    "- https://python-scripts.com/json - работа с json в python\n",
    "- https://geocoder.readthedocs.io/api.html - api geocoder\n",
    "- https://vk.com/dev - документация vk для разработчиков \n",
    "- https://vk-api.readthedocs.io/en/latest/ - библиотека vk_api"
   ]
  },
  {
   "cell_type": "markdown",
   "metadata": {},
   "source": [
    "## Спасибо за внимание!"
   ]
  }
 ],
 "metadata": {
  "kernelspec": {
   "display_name": "Python 3",
   "language": "python",
   "name": "python3"
  },
  "language_info": {
   "codemirror_mode": {
    "name": "ipython",
    "version": 3
   },
   "file_extension": ".py",
   "mimetype": "text/x-python",
   "name": "python",
   "nbconvert_exporter": "python",
   "pygments_lexer": "ipython3",
   "version": "3.9.10"
  },
  "orig_nbformat": 2
 },
 "nbformat": 4,
 "nbformat_minor": 2
}
