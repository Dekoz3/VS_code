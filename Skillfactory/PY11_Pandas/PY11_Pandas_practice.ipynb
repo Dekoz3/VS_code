{
 "cells": [
  {
   "cell_type": "code",
   "execution_count": 98,
   "metadata": {},
   "outputs": [],
   "source": [
    "import pandas as pd\n",
    "import numpy as np\n",
    "from IPython.display import display\n",
    "bike_data = pd.read_csv('data/citibike-tripdata.csv', sep=',')\n",
    "df = bike_data.copy()"
   ]
  },
  {
   "cell_type": "code",
   "execution_count": 99,
   "metadata": {},
   "outputs": [
    {
     "name": "stdout",
     "output_type": "stream",
     "text": [
      "<class 'pandas.core.frame.DataFrame'>\n",
      "RangeIndex: 300000 entries, 0 to 299999\n",
      "Data columns (total 14 columns):\n",
      " #   Column                   Non-Null Count   Dtype  \n",
      "---  ------                   --------------   -----  \n",
      " 0   starttime                300000 non-null  object \n",
      " 1   stoptime                 300000 non-null  object \n",
      " 2   start station id         299831 non-null  float64\n",
      " 3   start station name       299831 non-null  object \n",
      " 4   start station latitude   300000 non-null  float64\n",
      " 5   start station longitude  300000 non-null  float64\n",
      " 6   end station id           299831 non-null  float64\n",
      " 7   end station name         299831 non-null  object \n",
      " 8   end station latitude     300000 non-null  float64\n",
      " 9   end station longitude    300000 non-null  float64\n",
      " 10  bikeid                   300000 non-null  int64  \n",
      " 11  usertype                 300000 non-null  object \n",
      " 12  birth year               300000 non-null  int64  \n",
      " 13  gender                   300000 non-null  int64  \n",
      "dtypes: float64(6), int64(3), object(5)\n",
      "memory usage: 32.0+ MB\n"
     ]
    }
   ],
   "source": [
    "# starttime — время начала поездки (дата, время);\n",
    "# stoptime — время окончания поездки (дата, время);\n",
    "# start station id — идентификатор стартовой стоянки;\n",
    "# start station name — название стартовой стоянки;\n",
    "# start station latitude, start station longitude — географическая широта и долгота стартовой стоянки;\n",
    "# end station id — идентификатор конечной стоянки;\n",
    "# end station name — название конечной стоянки;\n",
    "# end station latitude, end station longitude — географическая широта и долгота конечной стоянки;\n",
    "# bikeid — идентификатор велосипеда;\n",
    "# usertype — тип пользователя (Customer — клиент с подпиской на 24 часа или на три дня, Subscriber — подписчик с годовой арендой велосипеда);\n",
    "# birth year — год рождения клиента;\n",
    "# gender — пол клиента (0 — неизвестный, 1 — мужчина, 2 — женщина).\n",
    "df.info()"
   ]
  },
  {
   "cell_type": "code",
   "execution_count": 100,
   "metadata": {},
   "outputs": [
    {
     "name": "stdout",
     "output_type": "stream",
     "text": [
      "<class 'pandas.core.frame.DataFrame'>\n",
      "RangeIndex: 300000 entries, 0 to 299999\n",
      "Data columns (total 14 columns):\n",
      " #   Column                   Non-Null Count   Dtype   \n",
      "---  ------                   --------------   -----   \n",
      " 0   starttime                300000 non-null  object  \n",
      " 1   stoptime                 300000 non-null  object  \n",
      " 2   start station id         299831 non-null  category\n",
      " 3   start station name       299831 non-null  category\n",
      " 4   start station latitude   300000 non-null  float64 \n",
      " 5   start station longitude  300000 non-null  float64 \n",
      " 6   end station id           299831 non-null  category\n",
      " 7   end station name         299831 non-null  category\n",
      " 8   end station latitude     300000 non-null  float64 \n",
      " 9   end station longitude    300000 non-null  float64 \n",
      " 10  bikeid                   300000 non-null  category\n",
      " 11  usertype                 300000 non-null  category\n",
      " 12  birth year               300000 non-null  category\n",
      " 13  gender                   300000 non-null  category\n",
      "dtypes: category(8), float64(4), object(2)\n",
      "memory usage: 17.9+ MB\n"
     ]
    },
    {
     "data": {
      "text/plain": [
       "None"
      ]
     },
     "metadata": {},
     "output_type": "display_data"
    }
   ],
   "source": [
    "cols_to_exclude = ['start station latitude', 'start station longitude', 'end station latitude', 'end station longitude', 'Car'] # список столбцов, которые мы не берём во внимание\n",
    "max_unique_count = 15000 # задаём максимальное число уникальных категорий\n",
    "for col in df.columns: # цикл по именам столбцов\n",
    "    if df[col].nunique() < max_unique_count and col not in cols_to_exclude: # проверяем условие\n",
    "        df[col] = df[col].astype('category') # преобразуем тип столбца\n",
    "display(df.info())"
   ]
  },
  {
   "cell_type": "code",
   "execution_count": 101,
   "metadata": {},
   "outputs": [
    {
     "ename": "TypeError",
     "evalue": "Categorical is not ordered for operation max\nyou can use .as_ordered() to change the Categorical to an ordered one\n",
     "output_type": "error",
     "traceback": [
      "\u001b[1;31m---------------------------------------------------------------------------\u001b[0m",
      "\u001b[1;31mTypeError\u001b[0m                                 Traceback (most recent call last)",
      "\u001b[1;32mc:\\Users\\Denis.kozarenko\\VS_code\\VS_code\\Задания Skillfactory\\PY11_Pandas\\PY11_Pandas_practice.ipynb Cell 4'\u001b[0m in \u001b[0;36m<module>\u001b[1;34m\u001b[0m\n\u001b[0;32m     <a href='vscode-notebook-cell:/c%3A/Users/Denis.kozarenko/VS_code/VS_code/%D0%97%D0%B0%D0%B4%D0%B0%D0%BD%D0%B8%D1%8F%20Skillfactory/PY11_Pandas/PY11_Pandas_practice.ipynb#ch0000003?line=28'>29</a>\u001b[0m df[\u001b[39m'\u001b[39m\u001b[39mstart station id\u001b[39m\u001b[39m'\u001b[39m]\u001b[39m.\u001b[39mnunique() \u001b[39m==\u001b[39m df[\u001b[39m'\u001b[39m\u001b[39mend station id\u001b[39m\u001b[39m'\u001b[39m]\u001b[39m.\u001b[39mnunique()\n\u001b[0;32m     <a href='vscode-notebook-cell:/c%3A/Users/Denis.kozarenko/VS_code/VS_code/%D0%97%D0%B0%D0%B4%D0%B0%D0%BD%D0%B8%D1%8F%20Skillfactory/PY11_Pandas/PY11_Pandas_practice.ipynb#ch0000003?line=30'>31</a>\u001b[0m \u001b[39m# B В рассматриваемые дни минимальный возраст клиента составлял 10 лет\u001b[39;00m\n\u001b[1;32m---> <a href='vscode-notebook-cell:/c%3A/Users/Denis.kozarenko/VS_code/VS_code/%D0%97%D0%B0%D0%B4%D0%B0%D0%BD%D0%B8%D1%8F%20Skillfactory/PY11_Pandas/PY11_Pandas_practice.ipynb#ch0000003?line=31'>32</a>\u001b[0m (\u001b[39m2018\u001b[39m \u001b[39m-\u001b[39m df[\u001b[39m'\u001b[39;49m\u001b[39mbirth year\u001b[39;49m\u001b[39m'\u001b[39;49m]\u001b[39m.\u001b[39;49mmax()) \u001b[39m==\u001b[39m \u001b[39m10\u001b[39m\n\u001b[0;32m     <a href='vscode-notebook-cell:/c%3A/Users/Denis.kozarenko/VS_code/VS_code/%D0%97%D0%B0%D0%B4%D0%B0%D0%BD%D0%B8%D1%8F%20Skillfactory/PY11_Pandas/PY11_Pandas_practice.ipynb#ch0000003?line=33'>34</a>\u001b[0m \u001b[39m# C Самой непопулярной стартовой стоянкой из тех, которыми воспользовались клиенты, является стоянка с названием \"Eastern Pkwy & Washington Ave\"\u001b[39;00m\n\u001b[0;32m     <a href='vscode-notebook-cell:/c%3A/Users/Denis.kozarenko/VS_code/VS_code/%D0%97%D0%B0%D0%B4%D0%B0%D0%BD%D0%B8%D1%8F%20Skillfactory/PY11_Pandas/PY11_Pandas_practice.ipynb#ch0000003?line=34'>35</a>\u001b[0m not_popular_start_station \u001b[39m=\u001b[39m df[\u001b[39m'\u001b[39m\u001b[39mstart station name\u001b[39m\u001b[39m'\u001b[39m]\u001b[39m.\u001b[39mvalue_counts()\u001b[39m.\u001b[39mnsmallest(\u001b[39m1\u001b[39m)\u001b[39m.\u001b[39mindex\n",
      "File \u001b[1;32m~\\AppData\\Local\\Programs\\Python\\Python39\\lib\\site-packages\\pandas\\core\\generic.py:11222\u001b[0m, in \u001b[0;36mNDFrame._add_numeric_operations.<locals>.max\u001b[1;34m(self, axis, skipna, level, numeric_only, **kwargs)\u001b[0m\n\u001b[0;32m  <a href='file:///c%3A/Users/Denis.kozarenko/AppData/Local/Programs/Python/Python39/lib/site-packages/pandas/core/generic.py?line=11201'>11202</a>\u001b[0m \u001b[39m@doc\u001b[39m(  \u001b[39m# type: ignore[misc]\u001b[39;00m\n\u001b[0;32m  <a href='file:///c%3A/Users/Denis.kozarenko/AppData/Local/Programs/Python/Python39/lib/site-packages/pandas/core/generic.py?line=11202'>11203</a>\u001b[0m     _num_doc,\n\u001b[0;32m  <a href='file:///c%3A/Users/Denis.kozarenko/AppData/Local/Programs/Python/Python39/lib/site-packages/pandas/core/generic.py?line=11203'>11204</a>\u001b[0m     desc\u001b[39m=\u001b[39m\u001b[39m\"\u001b[39m\u001b[39mReturn the maximum of the values over the requested axis.\u001b[39m\u001b[39m\\n\u001b[39;00m\u001b[39m\\n\u001b[39;00m\u001b[39m\"\u001b[39m\n\u001b[1;32m   (...)\u001b[0m\n\u001b[0;32m  <a href='file:///c%3A/Users/Denis.kozarenko/AppData/Local/Programs/Python/Python39/lib/site-packages/pandas/core/generic.py?line=11219'>11220</a>\u001b[0m     \u001b[39m*\u001b[39m\u001b[39m*\u001b[39mkwargs,\n\u001b[0;32m  <a href='file:///c%3A/Users/Denis.kozarenko/AppData/Local/Programs/Python/Python39/lib/site-packages/pandas/core/generic.py?line=11220'>11221</a>\u001b[0m ):\n\u001b[1;32m> <a href='file:///c%3A/Users/Denis.kozarenko/AppData/Local/Programs/Python/Python39/lib/site-packages/pandas/core/generic.py?line=11221'>11222</a>\u001b[0m     \u001b[39mreturn\u001b[39;00m NDFrame\u001b[39m.\u001b[39mmax(\u001b[39mself\u001b[39m, axis, skipna, level, numeric_only, \u001b[39m*\u001b[39m\u001b[39m*\u001b[39mkwargs)\n",
      "File \u001b[1;32m~\\AppData\\Local\\Programs\\Python\\Python39\\lib\\site-packages\\pandas\\core\\generic.py:10679\u001b[0m, in \u001b[0;36mNDFrame.max\u001b[1;34m(self, axis, skipna, level, numeric_only, **kwargs)\u001b[0m\n\u001b[0;32m  <a href='file:///c%3A/Users/Denis.kozarenko/AppData/Local/Programs/Python/Python39/lib/site-packages/pandas/core/generic.py?line=10670'>10671</a>\u001b[0m \u001b[39mdef\u001b[39;00m \u001b[39mmax\u001b[39m(\n\u001b[0;32m  <a href='file:///c%3A/Users/Denis.kozarenko/AppData/Local/Programs/Python/Python39/lib/site-packages/pandas/core/generic.py?line=10671'>10672</a>\u001b[0m     \u001b[39mself\u001b[39m,\n\u001b[0;32m  <a href='file:///c%3A/Users/Denis.kozarenko/AppData/Local/Programs/Python/Python39/lib/site-packages/pandas/core/generic.py?line=10672'>10673</a>\u001b[0m     axis: Axis \u001b[39m|\u001b[39m \u001b[39mNone\u001b[39;00m \u001b[39m|\u001b[39m lib\u001b[39m.\u001b[39mNoDefault \u001b[39m=\u001b[39m lib\u001b[39m.\u001b[39mno_default,\n\u001b[1;32m   (...)\u001b[0m\n\u001b[0;32m  <a href='file:///c%3A/Users/Denis.kozarenko/AppData/Local/Programs/Python/Python39/lib/site-packages/pandas/core/generic.py?line=10676'>10677</a>\u001b[0m     \u001b[39m*\u001b[39m\u001b[39m*\u001b[39mkwargs,\n\u001b[0;32m  <a href='file:///c%3A/Users/Denis.kozarenko/AppData/Local/Programs/Python/Python39/lib/site-packages/pandas/core/generic.py?line=10677'>10678</a>\u001b[0m ):\n\u001b[1;32m> <a href='file:///c%3A/Users/Denis.kozarenko/AppData/Local/Programs/Python/Python39/lib/site-packages/pandas/core/generic.py?line=10678'>10679</a>\u001b[0m     \u001b[39mreturn\u001b[39;00m \u001b[39mself\u001b[39m\u001b[39m.\u001b[39m_stat_function(\n\u001b[0;32m  <a href='file:///c%3A/Users/Denis.kozarenko/AppData/Local/Programs/Python/Python39/lib/site-packages/pandas/core/generic.py?line=10679'>10680</a>\u001b[0m         \u001b[39m\"\u001b[39m\u001b[39mmax\u001b[39m\u001b[39m\"\u001b[39m,\n\u001b[0;32m  <a href='file:///c%3A/Users/Denis.kozarenko/AppData/Local/Programs/Python/Python39/lib/site-packages/pandas/core/generic.py?line=10680'>10681</a>\u001b[0m         nanops\u001b[39m.\u001b[39mnanmax,\n\u001b[0;32m  <a href='file:///c%3A/Users/Denis.kozarenko/AppData/Local/Programs/Python/Python39/lib/site-packages/pandas/core/generic.py?line=10681'>10682</a>\u001b[0m         axis,\n\u001b[0;32m  <a href='file:///c%3A/Users/Denis.kozarenko/AppData/Local/Programs/Python/Python39/lib/site-packages/pandas/core/generic.py?line=10682'>10683</a>\u001b[0m         skipna,\n\u001b[0;32m  <a href='file:///c%3A/Users/Denis.kozarenko/AppData/Local/Programs/Python/Python39/lib/site-packages/pandas/core/generic.py?line=10683'>10684</a>\u001b[0m         level,\n\u001b[0;32m  <a href='file:///c%3A/Users/Denis.kozarenko/AppData/Local/Programs/Python/Python39/lib/site-packages/pandas/core/generic.py?line=10684'>10685</a>\u001b[0m         numeric_only,\n\u001b[0;32m  <a href='file:///c%3A/Users/Denis.kozarenko/AppData/Local/Programs/Python/Python39/lib/site-packages/pandas/core/generic.py?line=10685'>10686</a>\u001b[0m         \u001b[39m*\u001b[39m\u001b[39m*\u001b[39mkwargs,\n\u001b[0;32m  <a href='file:///c%3A/Users/Denis.kozarenko/AppData/Local/Programs/Python/Python39/lib/site-packages/pandas/core/generic.py?line=10686'>10687</a>\u001b[0m     )\n",
      "File \u001b[1;32m~\\AppData\\Local\\Programs\\Python\\Python39\\lib\\site-packages\\pandas\\core\\generic.py:10649\u001b[0m, in \u001b[0;36mNDFrame._stat_function\u001b[1;34m(self, name, func, axis, skipna, level, numeric_only, **kwargs)\u001b[0m\n\u001b[0;32m  <a href='file:///c%3A/Users/Denis.kozarenko/AppData/Local/Programs/Python/Python39/lib/site-packages/pandas/core/generic.py?line=10638'>10639</a>\u001b[0m     warnings\u001b[39m.\u001b[39mwarn(\n\u001b[0;32m  <a href='file:///c%3A/Users/Denis.kozarenko/AppData/Local/Programs/Python/Python39/lib/site-packages/pandas/core/generic.py?line=10639'>10640</a>\u001b[0m         \u001b[39m\"\u001b[39m\u001b[39mUsing the level keyword in DataFrame and Series aggregations is \u001b[39m\u001b[39m\"\u001b[39m\n\u001b[0;32m  <a href='file:///c%3A/Users/Denis.kozarenko/AppData/Local/Programs/Python/Python39/lib/site-packages/pandas/core/generic.py?line=10640'>10641</a>\u001b[0m         \u001b[39m\"\u001b[39m\u001b[39mdeprecated and will be removed in a future version. Use groupby \u001b[39m\u001b[39m\"\u001b[39m\n\u001b[1;32m   (...)\u001b[0m\n\u001b[0;32m  <a href='file:///c%3A/Users/Denis.kozarenko/AppData/Local/Programs/Python/Python39/lib/site-packages/pandas/core/generic.py?line=10643'>10644</a>\u001b[0m         stacklevel\u001b[39m=\u001b[39mfind_stack_level(),\n\u001b[0;32m  <a href='file:///c%3A/Users/Denis.kozarenko/AppData/Local/Programs/Python/Python39/lib/site-packages/pandas/core/generic.py?line=10644'>10645</a>\u001b[0m     )\n\u001b[0;32m  <a href='file:///c%3A/Users/Denis.kozarenko/AppData/Local/Programs/Python/Python39/lib/site-packages/pandas/core/generic.py?line=10645'>10646</a>\u001b[0m     \u001b[39mreturn\u001b[39;00m \u001b[39mself\u001b[39m\u001b[39m.\u001b[39m_agg_by_level(\n\u001b[0;32m  <a href='file:///c%3A/Users/Denis.kozarenko/AppData/Local/Programs/Python/Python39/lib/site-packages/pandas/core/generic.py?line=10646'>10647</a>\u001b[0m         name, axis\u001b[39m=\u001b[39maxis, level\u001b[39m=\u001b[39mlevel, skipna\u001b[39m=\u001b[39mskipna, numeric_only\u001b[39m=\u001b[39mnumeric_only\n\u001b[0;32m  <a href='file:///c%3A/Users/Denis.kozarenko/AppData/Local/Programs/Python/Python39/lib/site-packages/pandas/core/generic.py?line=10647'>10648</a>\u001b[0m     )\n\u001b[1;32m> <a href='file:///c%3A/Users/Denis.kozarenko/AppData/Local/Programs/Python/Python39/lib/site-packages/pandas/core/generic.py?line=10648'>10649</a>\u001b[0m \u001b[39mreturn\u001b[39;00m \u001b[39mself\u001b[39;49m\u001b[39m.\u001b[39;49m_reduce(\n\u001b[0;32m  <a href='file:///c%3A/Users/Denis.kozarenko/AppData/Local/Programs/Python/Python39/lib/site-packages/pandas/core/generic.py?line=10649'>10650</a>\u001b[0m     func, name\u001b[39m=\u001b[39;49mname, axis\u001b[39m=\u001b[39;49maxis, skipna\u001b[39m=\u001b[39;49mskipna, numeric_only\u001b[39m=\u001b[39;49mnumeric_only\n\u001b[0;32m  <a href='file:///c%3A/Users/Denis.kozarenko/AppData/Local/Programs/Python/Python39/lib/site-packages/pandas/core/generic.py?line=10650'>10651</a>\u001b[0m )\n",
      "File \u001b[1;32m~\\AppData\\Local\\Programs\\Python\\Python39\\lib\\site-packages\\pandas\\core\\series.py:4459\u001b[0m, in \u001b[0;36mSeries._reduce\u001b[1;34m(self, op, name, axis, skipna, numeric_only, filter_type, **kwds)\u001b[0m\n\u001b[0;32m   <a href='file:///c%3A/Users/Denis.kozarenko/AppData/Local/Programs/Python/Python39/lib/site-packages/pandas/core/series.py?line=4454'>4455</a>\u001b[0m     \u001b[39mself\u001b[39m\u001b[39m.\u001b[39m_get_axis_number(axis)\n\u001b[0;32m   <a href='file:///c%3A/Users/Denis.kozarenko/AppData/Local/Programs/Python/Python39/lib/site-packages/pandas/core/series.py?line=4456'>4457</a>\u001b[0m \u001b[39mif\u001b[39;00m \u001b[39misinstance\u001b[39m(delegate, ExtensionArray):\n\u001b[0;32m   <a href='file:///c%3A/Users/Denis.kozarenko/AppData/Local/Programs/Python/Python39/lib/site-packages/pandas/core/series.py?line=4457'>4458</a>\u001b[0m     \u001b[39m# dispatch to ExtensionArray interface\u001b[39;00m\n\u001b[1;32m-> <a href='file:///c%3A/Users/Denis.kozarenko/AppData/Local/Programs/Python/Python39/lib/site-packages/pandas/core/series.py?line=4458'>4459</a>\u001b[0m     \u001b[39mreturn\u001b[39;00m delegate\u001b[39m.\u001b[39m_reduce(name, skipna\u001b[39m=\u001b[39mskipna, \u001b[39m*\u001b[39m\u001b[39m*\u001b[39mkwds)\n\u001b[0;32m   <a href='file:///c%3A/Users/Denis.kozarenko/AppData/Local/Programs/Python/Python39/lib/site-packages/pandas/core/series.py?line=4460'>4461</a>\u001b[0m \u001b[39melse\u001b[39;00m:\n\u001b[0;32m   <a href='file:///c%3A/Users/Denis.kozarenko/AppData/Local/Programs/Python/Python39/lib/site-packages/pandas/core/series.py?line=4461'>4462</a>\u001b[0m     \u001b[39m# dispatch to numpy arrays\u001b[39;00m\n\u001b[0;32m   <a href='file:///c%3A/Users/Denis.kozarenko/AppData/Local/Programs/Python/Python39/lib/site-packages/pandas/core/series.py?line=4462'>4463</a>\u001b[0m     \u001b[39mif\u001b[39;00m numeric_only:\n",
      "File \u001b[1;32m~\\AppData\\Local\\Programs\\Python\\Python39\\lib\\site-packages\\pandas\\core\\arrays\\base.py:1373\u001b[0m, in \u001b[0;36mExtensionArray._reduce\u001b[1;34m(self, name, skipna, **kwargs)\u001b[0m\n\u001b[0;32m   <a href='file:///c%3A/Users/Denis.kozarenko/AppData/Local/Programs/Python/Python39/lib/site-packages/pandas/core/arrays/base.py?line=1367'>1368</a>\u001b[0m \u001b[39mif\u001b[39;00m meth \u001b[39mis\u001b[39;00m \u001b[39mNone\u001b[39;00m:\n\u001b[0;32m   <a href='file:///c%3A/Users/Denis.kozarenko/AppData/Local/Programs/Python/Python39/lib/site-packages/pandas/core/arrays/base.py?line=1368'>1369</a>\u001b[0m     \u001b[39mraise\u001b[39;00m \u001b[39mTypeError\u001b[39;00m(\n\u001b[0;32m   <a href='file:///c%3A/Users/Denis.kozarenko/AppData/Local/Programs/Python/Python39/lib/site-packages/pandas/core/arrays/base.py?line=1369'>1370</a>\u001b[0m         \u001b[39mf\u001b[39m\u001b[39m\"\u001b[39m\u001b[39m'\u001b[39m\u001b[39m{\u001b[39;00m\u001b[39mtype\u001b[39m(\u001b[39mself\u001b[39m)\u001b[39m.\u001b[39m\u001b[39m__name__\u001b[39m\u001b[39m}\u001b[39;00m\u001b[39m'\u001b[39m\u001b[39m with dtype \u001b[39m\u001b[39m{\u001b[39;00m\u001b[39mself\u001b[39m\u001b[39m.\u001b[39mdtype\u001b[39m}\u001b[39;00m\u001b[39m \u001b[39m\u001b[39m\"\u001b[39m\n\u001b[0;32m   <a href='file:///c%3A/Users/Denis.kozarenko/AppData/Local/Programs/Python/Python39/lib/site-packages/pandas/core/arrays/base.py?line=1370'>1371</a>\u001b[0m         \u001b[39mf\u001b[39m\u001b[39m\"\u001b[39m\u001b[39mdoes not support reduction \u001b[39m\u001b[39m'\u001b[39m\u001b[39m{\u001b[39;00mname\u001b[39m}\u001b[39;00m\u001b[39m'\u001b[39m\u001b[39m\"\u001b[39m\n\u001b[0;32m   <a href='file:///c%3A/Users/Denis.kozarenko/AppData/Local/Programs/Python/Python39/lib/site-packages/pandas/core/arrays/base.py?line=1371'>1372</a>\u001b[0m     )\n\u001b[1;32m-> <a href='file:///c%3A/Users/Denis.kozarenko/AppData/Local/Programs/Python/Python39/lib/site-packages/pandas/core/arrays/base.py?line=1372'>1373</a>\u001b[0m \u001b[39mreturn\u001b[39;00m meth(skipna\u001b[39m=\u001b[39mskipna, \u001b[39m*\u001b[39m\u001b[39m*\u001b[39mkwargs)\n",
      "File \u001b[1;32m~\\AppData\\Local\\Programs\\Python\\Python39\\lib\\site-packages\\pandas\\util\\_decorators.py:207\u001b[0m, in \u001b[0;36mdeprecate_kwarg.<locals>._deprecate_kwarg.<locals>.wrapper\u001b[1;34m(*args, **kwargs)\u001b[0m\n\u001b[0;32m    <a href='file:///c%3A/Users/Denis.kozarenko/AppData/Local/Programs/Python/Python39/lib/site-packages/pandas/util/_decorators.py?line=204'>205</a>\u001b[0m     \u001b[39melse\u001b[39;00m:\n\u001b[0;32m    <a href='file:///c%3A/Users/Denis.kozarenko/AppData/Local/Programs/Python/Python39/lib/site-packages/pandas/util/_decorators.py?line=205'>206</a>\u001b[0m         kwargs[new_arg_name] \u001b[39m=\u001b[39m new_arg_value\n\u001b[1;32m--> <a href='file:///c%3A/Users/Denis.kozarenko/AppData/Local/Programs/Python/Python39/lib/site-packages/pandas/util/_decorators.py?line=206'>207</a>\u001b[0m \u001b[39mreturn\u001b[39;00m func(\u001b[39m*\u001b[39margs, \u001b[39m*\u001b[39m\u001b[39m*\u001b[39mkwargs)\n",
      "File \u001b[1;32m~\\AppData\\Local\\Programs\\Python\\Python39\\lib\\site-packages\\pandas\\core\\arrays\\categorical.py:2226\u001b[0m, in \u001b[0;36mCategorical.max\u001b[1;34m(self, skipna, **kwargs)\u001b[0m\n\u001b[0;32m   <a href='file:///c%3A/Users/Denis.kozarenko/AppData/Local/Programs/Python/Python39/lib/site-packages/pandas/core/arrays/categorical.py?line=2223'>2224</a>\u001b[0m nv\u001b[39m.\u001b[39mvalidate_minmax_axis(kwargs\u001b[39m.\u001b[39mget(\u001b[39m\"\u001b[39m\u001b[39maxis\u001b[39m\u001b[39m\"\u001b[39m, \u001b[39m0\u001b[39m))\n\u001b[0;32m   <a href='file:///c%3A/Users/Denis.kozarenko/AppData/Local/Programs/Python/Python39/lib/site-packages/pandas/core/arrays/categorical.py?line=2224'>2225</a>\u001b[0m nv\u001b[39m.\u001b[39mvalidate_max((), kwargs)\n\u001b[1;32m-> <a href='file:///c%3A/Users/Denis.kozarenko/AppData/Local/Programs/Python/Python39/lib/site-packages/pandas/core/arrays/categorical.py?line=2225'>2226</a>\u001b[0m \u001b[39mself\u001b[39;49m\u001b[39m.\u001b[39;49mcheck_for_ordered(\u001b[39m\"\u001b[39;49m\u001b[39mmax\u001b[39;49m\u001b[39m\"\u001b[39;49m)\n\u001b[0;32m   <a href='file:///c%3A/Users/Denis.kozarenko/AppData/Local/Programs/Python/Python39/lib/site-packages/pandas/core/arrays/categorical.py?line=2227'>2228</a>\u001b[0m \u001b[39mif\u001b[39;00m \u001b[39mnot\u001b[39;00m \u001b[39mlen\u001b[39m(\u001b[39mself\u001b[39m\u001b[39m.\u001b[39m_codes):\n\u001b[0;32m   <a href='file:///c%3A/Users/Denis.kozarenko/AppData/Local/Programs/Python/Python39/lib/site-packages/pandas/core/arrays/categorical.py?line=2228'>2229</a>\u001b[0m     \u001b[39mreturn\u001b[39;00m \u001b[39mself\u001b[39m\u001b[39m.\u001b[39mdtype\u001b[39m.\u001b[39mna_value\n",
      "File \u001b[1;32m~\\AppData\\Local\\Programs\\Python\\Python39\\lib\\site-packages\\pandas\\core\\arrays\\categorical.py:1707\u001b[0m, in \u001b[0;36mCategorical.check_for_ordered\u001b[1;34m(self, op)\u001b[0m\n\u001b[0;32m   <a href='file:///c%3A/Users/Denis.kozarenko/AppData/Local/Programs/Python/Python39/lib/site-packages/pandas/core/arrays/categorical.py?line=1704'>1705</a>\u001b[0m \u001b[39m\"\"\"assert that we are ordered\"\"\"\u001b[39;00m\n\u001b[0;32m   <a href='file:///c%3A/Users/Denis.kozarenko/AppData/Local/Programs/Python/Python39/lib/site-packages/pandas/core/arrays/categorical.py?line=1705'>1706</a>\u001b[0m \u001b[39mif\u001b[39;00m \u001b[39mnot\u001b[39;00m \u001b[39mself\u001b[39m\u001b[39m.\u001b[39mordered:\n\u001b[1;32m-> <a href='file:///c%3A/Users/Denis.kozarenko/AppData/Local/Programs/Python/Python39/lib/site-packages/pandas/core/arrays/categorical.py?line=1706'>1707</a>\u001b[0m     \u001b[39mraise\u001b[39;00m \u001b[39mTypeError\u001b[39;00m(\n\u001b[0;32m   <a href='file:///c%3A/Users/Denis.kozarenko/AppData/Local/Programs/Python/Python39/lib/site-packages/pandas/core/arrays/categorical.py?line=1707'>1708</a>\u001b[0m         \u001b[39mf\u001b[39m\u001b[39m\"\u001b[39m\u001b[39mCategorical is not ordered for operation \u001b[39m\u001b[39m{\u001b[39;00mop\u001b[39m}\u001b[39;00m\u001b[39m\\n\u001b[39;00m\u001b[39m\"\u001b[39m\n\u001b[0;32m   <a href='file:///c%3A/Users/Denis.kozarenko/AppData/Local/Programs/Python/Python39/lib/site-packages/pandas/core/arrays/categorical.py?line=1708'>1709</a>\u001b[0m         \u001b[39m\"\u001b[39m\u001b[39myou can use .as_ordered() to change the \u001b[39m\u001b[39m\"\u001b[39m\n\u001b[0;32m   <a href='file:///c%3A/Users/Denis.kozarenko/AppData/Local/Programs/Python/Python39/lib/site-packages/pandas/core/arrays/categorical.py?line=1709'>1710</a>\u001b[0m         \u001b[39m\"\u001b[39m\u001b[39mCategorical to an ordered one\u001b[39m\u001b[39m\\n\u001b[39;00m\u001b[39m\"\u001b[39m\n\u001b[0;32m   <a href='file:///c%3A/Users/Denis.kozarenko/AppData/Local/Programs/Python/Python39/lib/site-packages/pandas/core/arrays/categorical.py?line=1710'>1711</a>\u001b[0m     )\n",
      "\u001b[1;31mTypeError\u001b[0m: Categorical is not ordered for operation max\nyou can use .as_ordered() to change the Categorical to an ordered one\n"
     ]
    }
   ],
   "source": [
    "# Задание 6.1\n",
    "# Сколько пропусков в столбце start station id?\n",
    "# 169\n",
    "\n",
    "# Задание 6.2\n",
    "# Какой тип данных имеют столбцы starttime и stoptime?\n",
    "# object\n",
    "\n",
    "# Задание 6.3\n",
    "# Найдите идентификатор самой популярной стартовой стоянки. Запишите идентификатор в виде целого числа.\n",
    "df['start station id'].mode()[0]\n",
    "\n",
    "# Задание 6.4\n",
    "# Велосипед с каким идентификатором является самым популярным?\n",
    "df['bikeid'].mode()[0]\n",
    "\n",
    "# Задание 6.5\n",
    "# Какой тип клиентов (столбец usertype) является преобладающим — Subscriber или Customer? В качестве ответа запишите долю клиентов \n",
    "# преобладающего типа среди общего количества клиентов. Ответ округлите до сотых.\n",
    "round(df['usertype'].value_counts(normalize=True).nlargest(1), 2)\n",
    "\n",
    "# Задание 6.6\n",
    "# Кто больше занимается велоспортом — мужчины или женщины? В ответ запишите число поездок для той группы, у которой их больше.\n",
    "df['gender'].value_counts().nlargest(3)\n",
    "\n",
    "# Задание 6.7\n",
    "# Выберите утверждения,которые соответствуют нашим данным:\n",
    "# A Число уникальных стартовых и конечных стоянок, которыми воспользовались клиенты, не равны друг другу\n",
    "df['start station id'].nunique() == df['end station id'].nunique()\n",
    "\n",
    "# B В рассматриваемые дни минимальный возраст клиента составлял 10 лет\n",
    "(2018 - df['birth year'].max()) == 10\n",
    "\n",
    "# C Самой непопулярной стартовой стоянкой из тех, которыми воспользовались клиенты, является стоянка с названием \"Eastern Pkwy & Washington Ave\"\n",
    "not_popular_start_station = df['start station name'].value_counts().nsmallest(1).index\n",
    "not_popular_start_station == \"Eastern Pkwy & Washington Ave\"\n",
    "\n",
    "# D Наибольшее количество поездок завершается на стоянке под названием \"Liberty Light Rail\"\n",
    "most_popular_end_station = df['end station name'].value_counts().nlargest(1).index\n",
    "most_popular_end_station == \"Liberty Light Rail\""
   ]
  },
  {
   "cell_type": "code",
   "execution_count": null,
   "metadata": {},
   "outputs": [
    {
     "name": "stdout",
     "output_type": "stream",
     "text": [
      "<class 'pandas.core.frame.DataFrame'>\n",
      "RangeIndex: 300000 entries, 0 to 299999\n",
      "Data columns (total 12 columns):\n",
      " #   Column                   Non-Null Count   Dtype  \n",
      "---  ------                   --------------   -----  \n",
      " 0   starttime                300000 non-null  object \n",
      " 1   stoptime                 300000 non-null  object \n",
      " 2   start station name       299831 non-null  object \n",
      " 3   start station latitude   300000 non-null  float64\n",
      " 4   start station longitude  300000 non-null  float64\n",
      " 5   end station name         299831 non-null  object \n",
      " 6   end station latitude     300000 non-null  float64\n",
      " 7   end station longitude    300000 non-null  float64\n",
      " 8   bikeid                   300000 non-null  int64  \n",
      " 9   usertype                 300000 non-null  object \n",
      " 10  birth year               300000 non-null  int64  \n",
      " 11  gender                   300000 non-null  int64  \n",
      "dtypes: float64(4), int64(3), object(5)\n",
      "memory usage: 27.5+ MB\n"
     ]
    }
   ],
   "source": [
    "# Задание 6.8\n",
    "# В первую очередь удалим лишнюю информацию из данных.\n",
    "# В наших данных присутствуют столбцы, которые дублируют информацию друг о друге: это столбцы с идентификатором и названием стартовой и конечной стоянки.\n",
    "# Удалите признаки идентификаторов стоянок. Сколько столбцов осталось?\n",
    "df = df.drop('start station id', axis=1)\n",
    "df = df.drop('end station id', axis=1)\n",
    "df.info()\n",
    "#12"
   ]
  },
  {
   "cell_type": "code",
   "execution_count": null,
   "metadata": {},
   "outputs": [
    {
     "data": {
      "text/plain": [
       "starttime                  11837\n",
       "stoptime                   11837\n",
       "start station name         11837\n",
       "start station latitude     11837\n",
       "start station longitude    11837\n",
       "end station name           11837\n",
       "end station latitude       11837\n",
       "end station longitude      11837\n",
       "bikeid                     11837\n",
       "usertype                   11837\n",
       "gender                     11837\n",
       "age                        11837\n",
       "dtype: int64"
      ]
     },
     "execution_count": 66,
     "metadata": {},
     "output_type": "execute_result"
    }
   ],
   "source": [
    "# Задание 6.9\n",
    "# Замените признак birth year на более понятный признак возраста клиента age. Годом отсчёта возраста выберите 2018 год.\n",
    "# Столбец birth year удалите из таблицы. Сколько поездок совершено клиентами старше 60 лет?\n",
    "df['age'] = 2018 - df['birth year']\n",
    "df = df.drop(['birth year'], axis=1)\n",
    "mask_age = df['age'] > 60\n",
    "df[mask_age].count()"
   ]
  },
  {
   "cell_type": "code",
   "execution_count": null,
   "metadata": {},
   "outputs": [
    {
     "data": {
      "text/plain": [
       "1000"
      ]
     },
     "execution_count": 67,
     "metadata": {},
     "output_type": "execute_result"
    }
   ],
   "source": [
    "# Задание 6.10\n",
    "# 1 point possible (graded)\n",
    "# Создайте признак длительности поездки trip duration. Для этого вычислите интервал времени между временем окончания поездки (stoptime) и временем её начала (starttime) в секундах. В качестве ответа запишите среднюю длительность поездки в секундах. Ответ округлите до целого.\n",
    "# Для того чтобы преобразовать временной интервал timedelta в секунды, используется атрибут dt.seconds (в datetime атрибут был second — в единственном числе).\n",
    "df['trip duration'] = pd.to_datetime(df['stoptime'])  - pd.to_datetime(df['starttime'])\n",
    "df['trip duration'] = df['trip duration'].dt.seconds\n",
    "round(df['trip duration'].mean())\n"
   ]
  },
  {
   "cell_type": "code",
   "execution_count": null,
   "metadata": {},
   "outputs": [
    {
     "name": "stdout",
     "output_type": "stream",
     "text": [
      "322 ms ± 891 µs per loop (mean ± std. dev. of 7 runs, 1 loop each)\n"
     ]
    }
   ],
   "source": [
    "%%timeit\n",
    "# Задание 6.11\n",
    "# Создайте «признак-мигалку» weekend, который равен 1, если поездка начиналась в выходной день (суббота или воскресенье), \n",
    "# и 0 — в противном случае. Выясните, сколько поездок начиналось в выходные.\n",
    "\n",
    "\n",
    "def weekend_func(day_week):\n",
    "    if day_week in [5,6]:\n",
    "        return 1\n",
    "    else:\n",
    "        return 0\n",
    "\n",
    "df['weekday'] = pd.to_datetime(df['starttime']).dt.dayofweek\n",
    "df['weekend'] = df['weekday'].apply(weekend_func)\n",
    "df['weekend'].sum()"
   ]
  },
  {
   "cell_type": "code",
   "execution_count": 103,
   "metadata": {},
   "outputs": [
    {
     "name": "stdout",
     "output_type": "stream",
     "text": [
      "357 ms ± 38.4 ms per loop (mean ± std. dev. of 7 runs, 1 loop each)\n"
     ]
    }
   ],
   "source": [
    "%%timeit\n",
    "# Задание 6.11 вариант lambda\n",
    "# Создайте «признак-мигалку» weekend, который равен 1, если поездка начиналась в выходной день (суббота или воскресенье), \n",
    "# и 0 — в противном случае. Выясните, сколько поездок начиналось в выходные.\n",
    "\n",
    "\n",
    "df['weekday'] = pd.to_datetime(df['starttime']).dt.dayofweek\n",
    "df['weekend'] = df['weekday'].apply(lambda x: 1 if x in [5,6] else 0)\n",
    "df['weekend'].sum()"
   ]
  },
  {
   "cell_type": "code",
   "execution_count": null,
   "metadata": {},
   "outputs": [
    {
     "name": "stdout",
     "output_type": "stream",
     "text": [
      "345 ms ± 12.3 ms per loop (mean ± std. dev. of 7 runs, 1 loop each)\n"
     ]
    }
   ],
   "source": [
    "%%timeit\n",
    "# Задание 6.11 вариант lambda в одну строку\n",
    "# Создайте «признак-мигалку» weekend, который равен 1, если поездка начиналась в выходной день (суббота или воскресенье), \n",
    "# и 0 — в противном случае. Выясните, сколько поездок начиналось в выходные.\n",
    "\n",
    "\n",
    "df['weekend'] = (pd.to_datetime(df['starttime']).dt.dayofweek).apply(lambda x: 1 if x in [5,6] else 0)\n",
    "df['weekend'].sum()"
   ]
  },
  {
   "cell_type": "code",
   "execution_count": 97,
   "metadata": {},
   "outputs": [
    {
     "data": {
      "text/plain": [
       "9"
      ]
     },
     "execution_count": 97,
     "metadata": {},
     "output_type": "execute_result"
    }
   ],
   "source": [
    "# Задание 6.12\n",
    "# Создайте признак времени суток поездки time_of_day. Время суток будем определять из часа начала поездки. Условимся, что:\n",
    "# поездка совершается ночью (night), если её час приходится на интервал от 0 (включительно) до 6 (включительно) часов;\n",
    "# поездка совершается утром (morning), если её час приходится на интервал от 6 (не включительно) до 12 (включительно) часов;\n",
    "# поездка совершается днём (day), если её час приходится на интервал от 12 (не включительно) до 18 (включительно) часов;\n",
    "# поездка совершается вечером (evening), если её час приходится на интервал от 18 (не включительно) до 23 часов (включительно).\n",
    "# Во сколько раз количество поездок, совершённых днём, больше, чем количество поездок, совёршенных ночью, за представленный в данных период времени? Ответ округлите до целых.\n",
    "\n",
    "def day_and_night(start_hour):\n",
    "    night = [0, 1, 2, 3, 4 ,5 ,6]\n",
    "    mornign = [7, 8, 9, 10, 11, 12]\n",
    "    day =[13, 14, 15, 16, 17, 18]\n",
    "    evening = [19, 20, 21 , 22, 23,]\n",
    "        \n",
    "    if start_hour in night:\n",
    "        return \"night\"\n",
    "    elif start_hour in mornign:\n",
    "        return \"morning\"\n",
    "    elif start_hour in day:\n",
    "        return \"day\"\n",
    "    else:\n",
    "        return 'evening'\n",
    "\n",
    "df['time_of_day'] = (pd.to_datetime(df['starttime']).dt.hour).apply(day_and_night)\n",
    "df['time_of_day'] = df['time_of_day'].astype('category')\n",
    "round(df['time_of_day'].value_counts()['day'] / df['time_of_day'].value_counts()['night'])\n"
   ]
  }
 ],
 "metadata": {
  "interpreter": {
   "hash": "4cf8740b77de6ac68c701f5d05813ddbce361e765d83d58497ce85d0cb93b38e"
  },
  "kernelspec": {
   "display_name": "Python 3.9.10 64-bit",
   "language": "python",
   "name": "python3"
  },
  "language_info": {
   "codemirror_mode": {
    "name": "ipython",
    "version": 3
   },
   "file_extension": ".py",
   "mimetype": "text/x-python",
   "name": "python",
   "nbconvert_exporter": "python",
   "pygments_lexer": "ipython3",
   "version": "3.9.10"
  },
  "orig_nbformat": 4
 },
 "nbformat": 4,
 "nbformat_minor": 2
}
