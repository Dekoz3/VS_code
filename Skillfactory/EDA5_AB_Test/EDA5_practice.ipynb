{
 "cells": [
  {
   "cell_type": "code",
   "execution_count": null,
   "metadata": {},
   "outputs": [],
   "source": [
    "# https://lms.skillfactory.ru/courses/course-v1:SkillFactory+DSPR-2.0+14JULY2021/courseware/64fb8f8af1424a7788ba0e45453617fc/fe7f54b798d642c9990b9f43ccd7b492/1?activate_block_id=block-v1%3ASkillFactory%2BDSPR-2.0%2B14JULY2021%2Btype%40html%2Bblock%403bddec1d246549348a1e5440710424d4\n",
    "from IPython.display import display\n",
    "\n",
    "import pandas as pd\n",
    "import matplotlib.pyplot as plt\n",
    "import seaborn as sns\n",
    "\n",
    "pd.set_option('display.max_columns', 40) # выводить больше столбцов\n",
    "pd.set_option('display.max_rows', 40)   # выводить больше строк\n",
    "\n",
    "# plt.style.use('default')    # корректный вывод графиков в темной теме Matplotlib\n",
    "# fig.show(renderer='notebook') #включение анимации\n",
    "#!/usr/bin/env python\n",
    "\n",
    "import io\n",
    "import zipfile\n",
    "import requests  \n",
    "\n",
    "link = \"https://lms.skillfactory.ru/assets/courseware/v1/f9f05ba6ecb36996a8ec5c6e89cd2a75/asset-v1:SkillFactory+DSPR-2.0+14JULY2021+type@asset+block/ab_data.zip\" # put link here\n",
    "\n",
    "# unzip with link\n",
    "r = requests.get(link) # link\n",
    "with r, zipfile.ZipFile(io.BytesIO(r.content)) as archive:\n",
    "  archive.extractall('data')\n",
    "\n",
    "# # unzip file on the disk\n",
    "# with zipfile.ZipFile('data/wine_cleared.zip', 'r') as archive:\n",
    "#     archive.extractall('data')\n",
    "\n",
    "# download file \n",
    "# f=open(r'data\\pizzas.csv',\"wb\") #открываем файл для записи, в режиме wb\n",
    "# ufr = requests.get(link) #делаем запрос\n",
    "# f.write(ufr.content) #записываем содержимое в файл; как видите - content запроса\n",
    "# f.close()"
   ]
  }
 ],
 "metadata": {
  "language_info": {
   "name": "python"
  },
  "orig_nbformat": 4
 },
 "nbformat": 4,
 "nbformat_minor": 2
}
