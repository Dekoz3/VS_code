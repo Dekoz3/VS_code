{
 "cells": [
  {
   "cell_type": "code",
   "execution_count": 3,
   "metadata": {},
   "outputs": [],
   "source": [
    "# https://www.youtube.com/playlist?list=PLA0M1Bcd0w8zPwP7t-FgwONhZOHt9rz9E"
   ]
  },
  {
   "cell_type": "code",
   "execution_count": 51,
   "metadata": {},
   "outputs": [],
   "source": [
    "class Point:\n",
    "    \"Класс для представления координат точек на плоскости\"\n",
    "    color =\"black\"\n",
    "    circle = 2\n",
    "    \n",
    "    def set_coords():\n",
    "        print(\"вызов метода set_coords\")\n",
    "    \n",
    "a = Point()\n",
    "b = Point()"
   ]
  },
  {
   "cell_type": "code",
   "execution_count": 55,
   "metadata": {},
   "outputs": [
    {
     "name": "stdout",
     "output_type": "stream",
     "text": [
      "{}\n",
      "green black\n"
     ]
    },
    {
     "data": {
      "text/plain": [
       "'Класс для представления координат точек на плоскости'"
      ]
     },
     "execution_count": 55,
     "metadata": {},
     "output_type": "execute_result"
    }
   ],
   "source": [
    "# https://www.youtube.com/watch?v=P4CNNo8jWj4&list=PLA0M1Bcd0w8zPwP7t-FgwONhZOHt9rz9E&index=3\n",
    "# 1 урок\n",
    "\n",
    "a = Point()\n",
    "b = Point()\n",
    "print(a.__dict__)\n",
    "\n",
    "\n",
    "\n",
    "Point.__dict__\n",
    "Point.color\n",
    "type(a)\n",
    "isinstance(a, Point)\n",
    "a.color = 'green'\n",
    "print(a.color, b.color)\n",
    "Point.type_pt = 'disc'\n",
    "setattr(Point, 'prop', 1)\n",
    "Point.__dict__\n",
    "getattr(Point, 'color', False)  # проверка аттрибутов \n",
    "del Point.prop\n",
    "hasattr(Point, 'prop')\n",
    "hasattr(Point, 'cirle')\n",
    "Point.__doc__\n"
   ]
  },
  {
   "cell_type": "code",
   "execution_count": 49,
   "metadata": {},
   "outputs": [],
   "source": [
    "a.x = 1\n",
    "a.y = 1\n",
    "b.x = 10\n",
    "b.y = 10\n"
   ]
  },
  {
   "cell_type": "code",
   "execution_count": 57,
   "metadata": {},
   "outputs": [
    {
     "data": {
      "text/plain": [
       "<function __main__.Point.set_coords()>"
      ]
     },
     "execution_count": 57,
     "metadata": {},
     "output_type": "execute_result"
    }
   ],
   "source": [
    "# 2 урок\n",
    "# https://www.youtube.com/watch?v=Lw8TeLS4_IA&list=PLA0M1Bcd0w8zPwP7t-FgwONhZOHt9rz9E&index=3\n",
    "\n",
    "Point.__dict__\n",
    "\n",
    "Point.set_coords\n",
    "pt = P"
   ]
  }
 ],
 "metadata": {
  "interpreter": {
   "hash": "74668ca775b65556bba853117f41fb465b199a16b19945f2f619beec785fb939"
  },
  "kernelspec": {
   "display_name": "Python 3.9.10 64-bit",
   "language": "python",
   "name": "python3"
  },
  "language_info": {
   "codemirror_mode": {
    "name": "ipython",
    "version": 3
   },
   "file_extension": ".py",
   "mimetype": "text/x-python",
   "name": "python",
   "nbconvert_exporter": "python",
   "pygments_lexer": "ipython3",
   "version": "3.9.10"
  },
  "orig_nbformat": 4
 },
 "nbformat": 4,
 "nbformat_minor": 2
}
