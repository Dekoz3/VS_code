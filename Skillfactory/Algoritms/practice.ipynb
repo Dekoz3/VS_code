{
 "cells": [
  {
   "cell_type": "code",
   "execution_count": null,
   "metadata": {},
   "outputs": [],
   "source": [
    "animals = ['cat', 'dog', 'rabbit']\n",
    "words = set()\n",
    "for elem in animals:\n",
    "    for word in elem:\n",
    "        words.add(word)\n",
    "print(list(words))"
   ]
  },
  {
   "cell_type": "code",
   "execution_count": null,
   "metadata": {},
   "outputs": [],
   "source": [
    "\"\"\"\n",
    "Solution, which must be more faster than dumb string comparison.\n",
    "\"\"\"\n",
    "import random\n",
    "\n",
    "def generate_random_str(chars, length=28):\n",
    "    return ''.join([random.choice(chars) for _ in range(length)])\n",
    "\n",
    "def str_check(random_str, needle_str):\n",
    "    return {index: needle_str[index] for index in range(0, len(needle_str)) if random_str[index] == needle_str[index]}\n",
    "\n",
    "def run():\n",
    "    alphabet = ['a', 'b', 'c', 'd', 'e', 'f', 'g', 'h', 'i', 'j', 'k', 'l', 'm', 'n', 'o', 'p', 'q', 'r', 's', 't', 'u', 'v', 'w', 'x', 'y', 'z',' ']\n",
    "    phrase = \"methinks it is like a weasel\"\n",
    "    probably_phrase = dict()\n",
    "    while len(probably_phrase) != len(phrase):\n",
    "        random_str = generate_random_str(alphabet, length=len(phrase))\n",
    "        probably_phrase.update(str_check(random_str, phrase))\n",
    "        check_phrase = ''.join([ch for idx, ch in sorted(probably_phrase.items())])\n",
    "    assert phrase == check_phrase\n",
    "    print(check_phrase)\n",
    "\n",
    "if __name__ == '__main__':\n",
    "    run()\n",
    "    "
   ]
  },
  {
   "cell_type": "code",
   "execution_count": null,
   "metadata": {},
   "outputs": [],
   "source": [
    "class Fraction:\n",
    "\n",
    "    def __init__(self,top,bottom):\n",
    "\n",
    "        self.num = top\n",
    "        self.den = bottom\n",
    "    \n",
    "    def show(self):\n",
    "        print(self.num,\"/\",self.den)\n",
    "     \n",
    "    def __str__(self):\n",
    "        return str(self.num)+\"/\"+str(self.den)\n",
    "    \n",
    "    def __add__(self,otherfraction):\n",
    "        newnum = self.num*otherfraction.den + self.den*otherfraction.num\n",
    "        newden = self.den * otherfraction.den\n",
    "        return Fraction(newnum,newden)\n",
    "    \n",
    "    def __add__(self,otherfraction):\n",
    "        newnum = self.num*otherfraction.den + self.den*otherfraction.num\n",
    "        newden = self.den * otherfraction.den\n",
    "        common = gcd(newnum,newden)\n",
    "        return Fraction(newnum//common,newden//common)\n",
    "    \n",
    "    def gcd(m,n):\n",
    "        while m%n != 0:\n",
    "            oldm = m\n",
    "            oldn = n\n",
    "            \n",
    "            m = oldn\n",
    "            n = oldm%oldn\n",
    "        return n\n",
    "\n",
    "    def __eq__(self, other):\n",
    "        firstnum = self.num * other.den\n",
    "        secondnum = other.num * self.den\n",
    "\n",
    "        return firstnum == secondnum\n",
    "\n",
    "x = Fraction(1,2)\n",
    "y = Fraction(3,6)\n",
    "print(x+y)\n",
    "print(x == y)\n",
    "\n",
    "myf = Fraction(3,5)\n",
    "myf.show()\n",
    "\n",
    "print(myf)\n",
    "\n",
    "f1=Fraction(1,4)\n",
    "f2=Fraction(1,2)\n",
    "f3=f1+f2\n",
    "print(f3)"
   ]
  },
  {
   "cell_type": "code",
   "execution_count": null,
   "metadata": {},
   "outputs": [],
   "source": [
    "''' Алгоритм Евклида нахождение НОД'''\n",
    "\n",
    "def gcd(m,n):\n",
    "    while m%n != 0:\n",
    "        oldm = m\n",
    "        oldn = n\n",
    "\n",
    "        m = oldn\n",
    "        n = oldm%oldn\n",
    "    return n\n",
    "\n",
    "print(gcd(135,24))"
   ]
  },
  {
   "cell_type": "code",
   "execution_count": null,
   "metadata": {},
   "outputs": [],
   "source": [
    "def gcd(m,n):\n",
    "    while m%n != 0:\n",
    "        oldm = m\n",
    "        oldn = n\n",
    "\n",
    "        m = oldn\n",
    "        n = oldm%oldn\n",
    "    return n\n",
    "\n",
    "class Fraction:\n",
    "     def __init__(self,top,bottom):\n",
    "         self.num = top\n",
    "         self.den = bottom\n",
    "\n",
    "     def __str__(self):\n",
    "         return str(self.num)+\"/\"+str(self.den)\n",
    "\n",
    "     def show(self):\n",
    "         print(self.num,\"/\",self.den)\n",
    "\n",
    "     def __add__(self,otherfraction):\n",
    "         newnum = self.num*otherfraction.den + \\\n",
    "                      self.den*otherfraction.num\n",
    "         newden = self.den * otherfraction.den\n",
    "         common = gcd(newnum,newden)\n",
    "         return Fraction(newnum//common,newden//common)\n",
    "\n",
    "     def __eq__(self, other):\n",
    "         firstnum = self.num * other.den\n",
    "         secondnum = other.num * self.den\n",
    "\n",
    "         return firstnum == secondnum\n",
    "\n",
    "x = Fraction(1,2)\n",
    "y = Fraction(3,6)\n",
    "print(x+y)\n",
    "print(x == y)"
   ]
  },
  {
   "cell_type": "code",
   "execution_count": null,
   "metadata": {},
   "outputs": [],
   "source": [
    "class LogicGate:\n",
    "\n",
    "    def __init__(self,n):\n",
    "        self.name = n\n",
    "        self.output = None\n",
    "\n",
    "    def getName(self):\n",
    "        return self.name\n",
    "\n",
    "    def getOutput(self):\n",
    "        self.output = self.performGateLogic()\n",
    "        return self.output\n",
    "\n",
    "\n",
    "class BinaryGate(LogicGate):\n",
    "\n",
    "    def __init__(self,n):\n",
    "        LogicGate.__init__(self,n)\n",
    "\n",
    "        self.pinA = None\n",
    "        self.pinB = None\n",
    "\n",
    "    def getPinA(self):\n",
    "        if self.pinA == None:\n",
    "            return int(input(\"Enter Pin A input for gate \"+self.getName()+\"-->\"))\n",
    "        else:\n",
    "            return self.pinA.getFrom().getOutput()\n",
    "\n",
    "    def getPinB(self):\n",
    "        if self.pinB == None:\n",
    "            return int(input(\"Enter Pin B input for gate \"+self.getName()+\"-->\"))\n",
    "        else:\n",
    "            return self.pinB.getFrom().getOutput()\n",
    "\n",
    "    def setNextPin(self,source):\n",
    "        if self.pinA == None:\n",
    "            self.pinA = source\n",
    "        else:\n",
    "            if self.pinB == None:\n",
    "                self.pinB = source\n",
    "            else:\n",
    "                print(\"Cannot Connect: NO EMPTY PINS on this gate\")\n",
    "\n",
    "\n",
    "class AndGate(BinaryGate):\n",
    "\n",
    "    def __init__(self,n):\n",
    "        BinaryGate.__init__(self,n)\n",
    "\n",
    "    def performGateLogic(self):\n",
    "\n",
    "        a = self.getPinA()\n",
    "        b = self.getPinB()\n",
    "        if a==1 and b==1:\n",
    "            return 1\n",
    "        else:\n",
    "            return 0\n",
    "\n",
    "class OrGate(BinaryGate):\n",
    "\n",
    "    def __init__(self,n):\n",
    "        BinaryGate.__init__(self,n)\n",
    "\n",
    "    def performGateLogic(self):\n",
    "\n",
    "        a = self.getPinA()\n",
    "        b = self.getPinB()\n",
    "        if a ==1 or b==1:\n",
    "            return 1\n",
    "        else:\n",
    "            return 0\n",
    "\n",
    "class UnaryGate(LogicGate):\n",
    "\n",
    "    def __init__(self,n):\n",
    "        LogicGate.__init__(self,n)\n",
    "\n",
    "        self.pin = None\n",
    "\n",
    "    def getPin(self):\n",
    "        if self.pin == None:\n",
    "            return int(input(\"Enter Pin input for gate \"+self.getName()+\"-->\"))\n",
    "        else:\n",
    "            return self.pin.getFrom().getOutput()\n",
    "\n",
    "    def setNextPin(self,source):\n",
    "        if self.pin == None:\n",
    "            self.pin = source\n",
    "        else:\n",
    "            print(\"Cannot Connect: NO EMPTY PINS on this gate\")\n",
    "\n",
    "\n",
    "class NotGate(UnaryGate):\n",
    "\n",
    "    def __init__(self,n):\n",
    "        UnaryGate.__init__(self,n)\n",
    "\n",
    "    def performGateLogic(self):\n",
    "        if self.getPin():\n",
    "            return 0\n",
    "        else:\n",
    "            return 1\n",
    "\n",
    "\n",
    "class Connector:\n",
    "\n",
    "    def __init__(self, fgate, tgate):\n",
    "        self.fromgate = fgate\n",
    "        self.togate = tgate\n",
    "\n",
    "        tgate.setNextPin(self)\n",
    "\n",
    "    def getFrom(self):\n",
    "        return self.fromgate\n",
    "\n",
    "    def getTo(self):\n",
    "        return self.togate\n",
    "\n",
    "\n",
    "def main():\n",
    "   g1 = AndGate(\"G1\")\n",
    "   g2 = AndGate(\"G2\")\n",
    "   g3 = OrGate(\"G3\")\n",
    "   g4 = NotGate(\"G4\")\n",
    "   c1 = Connector(g1,g3)\n",
    "   c2 = Connector(g2,g3)\n",
    "   c3 = Connector(g3,g4)\n",
    "   print(g4.getOutput())\n",
    "\n",
    "main()\n",
    "       \n",
    "       \n",
    "       \n",
    "# g1 = AndGate(\"G1\")\n",
    "# g1.getOutput()\n",
    "# # Enter Pin A input for gate G1-->1\n",
    "# # Enter Pin B input for gate G1-->0\n",
    "# # 0\n",
    "# g2 = OrGate(\"G2\")\n",
    "# g2.getOutput()\n",
    "# # Enter Pin A input for gate G2-->1\n",
    "# # Enter Pin B input for gate G2-->1\n",
    "# # 1\n",
    "# g2.getOutput()\n",
    "# # Enter Pin A input for gate G2-->0\n",
    "# # Enter Pin B input for gate G2-->0\n",
    "# # 0\n",
    "# g3 = NotGate(\"G3\")\n",
    "# g3.getOutput()\n",
    "# # Enter Pin input for gate G3-->0\n",
    "# # 1"
   ]
  },
  {
   "cell_type": "code",
   "execution_count": null,
   "metadata": {},
   "outputs": [],
   "source": [
    "def fib_mod(n, m):\n",
    "    lst = [0,1]\n",
    "    if n <= 1:\n",
    "        return lst[n]\n",
    "    else:\n",
    "        for i in range(2, (m*6)+1, 1):\n",
    "            lst.append(((lst[i - 2] % m) + (lst[i - 1] % m)) % m)\n",
    "            # print(lst)\n",
    "    for step in range(2, len(lst) + 1):\n",
    "        # print(f'n = {step}  lst[n]={lst[step]} , lst[n-1]={lst[step-1]}')\n",
    "        if lst[step] == 1 and lst[step - 1] == 0:\n",
    "            return lst[n % (step - 1)]\n",
    "\n",
    "\n",
    "def main():\n",
    "    n, m = 999999999999999999, 99999\n",
    "    print(fib_mod(n, m))\n",
    "\n",
    "\n",
    "if __name__ == \"__main__\":\n",
    "    main()"
   ]
  },
  {
   "cell_type": "code",
   "execution_count": null,
   "metadata": {},
   "outputs": [],
   "source": [
    "def gcd(a, b):\n",
    "    return gcd(b, a % b) if b else a    \n",
    "\n",
    "\n",
    "def main():\n",
    "    a, b = 0, 234\n",
    "    print(gcd(a, b))\n",
    "\n",
    "\n",
    "if __name__ == \"__main__\":\n",
    "    main()"
   ]
  },
  {
   "cell_type": "code",
   "execution_count": null,
   "metadata": {},
   "outputs": [],
   "source": [
    "import math\n",
    "n=200\n",
    "print(round(math.sqrt(math.log(n, 4)),1))\n",
    "print(round(math.log(math.log(n, 2),2),1))\n",
    "print(round(math.log(n, 3)))\n",
    "print(round(math.log(n, 2) ** 2))\n",
    "print(round(math.sqrt(n)))\n",
    "print(round(n / math.log(n, 5)))\n",
    "print(round(math.log(math.factorial(n),2)))\n",
    "print(round(3 ** math.log(n, 2)))\n",
    "print(round(n ** 2))\n",
    "print(round(7 ** (math.log(n, 2))))\n",
    "print(round(math.log(n, 2) ** (math.log(n, 2))))\n",
    "print(round(n ** (math.log(n, 2))))\n",
    "print(round(n ** (math.sqrt(n))))\n",
    "print(round(2 ** n))\n",
    "print(round(4 ** n))\n",
    "print(round(2 ** (3 * n)))\n",
    "print(round(math.factorial(n)))\n",
    "# print(round(2 ** (2 ** n)))"
   ]
  },
  {
   "cell_type": "code",
   "execution_count": null,
   "metadata": {},
   "outputs": [],
   "source": [
    "from PIL import Image\n",
    "from rcviz import viz\n",
    "def fib1(n):\n",
    "    assert n >= 0\n",
    "    return n if n <= 1 else fib1(n-1) + fib1(n-2)\n",
    "fib1(8)\n",
    "\n",
    "old_fib1 = fib1\n",
    "\n",
    "cache = {}\n",
    "def fib2(n):\n",
    "    assert n >= 0\n",
    "    if n not in cache:\n",
    "        cache[n] = n if n <= 1 else fib2(n-1) + fib2(n-2)\n",
    "    return cache[n]\n",
    "\n",
    "\n",
    "fib2(1000)"
   ]
  },
  {
   "cell_type": "code",
   "execution_count": null,
   "metadata": {},
   "outputs": [],
   "source": [
    "def memo(f):\n",
    "    cache = {}\n",
    "    def inner(n):\n",
    "        assert n >= 0\n",
    "        if n not in cache:\n",
    "            cache[n] = f(n)\n",
    "            return cache[n]\n",
    "        return inner\n",
    "    "
   ]
  },
  {
   "cell_type": "code",
   "execution_count": null,
   "metadata": {},
   "outputs": [],
   "source": [
    "from functools import lru_cache\n",
    "fib1 = lru_cache(maxsize=None)(old_fib1)\n",
    "fib1(80)"
   ]
  },
  {
   "cell_type": "code",
   "execution_count": null,
   "metadata": {},
   "outputs": [],
   "source": [
    "def fib3(n):\n",
    "    assert n >= 0 \n",
    "    f0, f1 = 0, 1\n",
    "    for i in range(n -1):\n",
    "        f0, f1 = f1, f0 + f1\n",
    "    return f1\n",
    "\n",
    "fib3(8)"
   ]
  },
  {
   "cell_type": "code",
   "execution_count": null,
   "metadata": {},
   "outputs": [],
   "source": [
    "import time\n",
    "\n",
    "from matplotlib import pyplot as plt\n",
    "\n",
    "\n",
    "def timed(f, args, *, n_iter=100):\n",
    "    acc = float(\"inf\")\n",
    "    for i in range(n_iter):\n",
    "        t0 = time.perf_counter()\n",
    "        f(*args)\n",
    "        acc = min(acc, time.perf_counter() - t0)\n",
    "\n",
    "    return acc\n",
    "\n",
    "\n",
    "def compare(fs, args):\n",
    "    xs = list(range(len(args)))\n",
    "    for f in fs:\n",
    "        plt.plot(xs, [timed(f, chunk) for chunk in args],\n",
    "                 label=f.__name__)\n",
    "    plt.legend()\n",
    "    plt.grid(True)"
   ]
  },
  {
   "cell_type": "code",
   "execution_count": null,
   "metadata": {},
   "outputs": [],
   "source": [
    "import random\n",
    "\n",
    "def test(gcd, n_iter = 100):\n",
    "    for i in range(n_iter):\n",
    "        c = random.randint(0, 1024)\n",
    "        a = c * random.randint(0, 128)\n",
    "        b = c * random.randint(0, 128)\n",
    "        assert gcd(a, a) == gcd (a, 0) == a\n",
    "        assert gcd(b, b) == gcd (b, 0) == b\n",
    "        assert gcd(a, 1) == gcd (b, 1) == 1\n",
    "        d = gcd(a, b)\n",
    "        assert a % d == b % d == 0\n",
    "def gcd1(a, b):\n",
    "    assert a >= 0 and b>=0\n",
    "    for d in reversed(range(max(a, b) +1)):\n",
    "        if d == 0 or a % d == b % d == 0:\n",
    "            return d\n",
    "    \n",
    "    \n",
    "gcd1(0, 0)\n",
    "test(gcd1)\n",
    "        "
   ]
  },
  {
   "cell_type": "code",
   "execution_count": null,
   "metadata": {},
   "outputs": [],
   "source": [
    "def gcd2(a, b):\n",
    "    while a and b:\n",
    "        if a >= b:\n",
    "            a %= b\n",
    "        else:\n",
    "            b %= a\n",
    "    return max(a, b)\n",
    "\n",
    "test(gcd2)\n",
    "\n"
   ]
  },
  {
   "cell_type": "code",
   "execution_count": null,
   "metadata": {},
   "outputs": [],
   "source": [
    "def gcd3(a, b):\n",
    "    assert a >= 0 and b >=0\n",
    "    if a == 0 or b == 0:\n",
    "        return max(a, b)\n",
    "    elif a >= b:\n",
    "        return gcd3(a % b, b)\n",
    "    else:\n",
    "        return gcd3(a, b % a)\n",
    "test(gcd3)"
   ]
  },
  {
   "cell_type": "code",
   "execution_count": null,
   "metadata": {},
   "outputs": [],
   "source": [
    "def gcd4(a, b):\n",
    "    assert a >= 0 and b >= 0\n",
    "    if a == 0 or b == 0:\n",
    "        return max(a, b)\n",
    "    else:\n",
    "        return gcd4(b % a, a)\n",
    "test(gcd4)"
   ]
  },
  {
   "cell_type": "markdown",
   "metadata": {},
   "source": [
    "## Жадные алгоритмы"
   ]
  },
  {
   "cell_type": "code",
   "execution_count": 1,
   "metadata": {},
   "outputs": [
    {
     "name": "stdout",
     "output_type": "stream",
     "text": [
      "1\n",
      "3\n"
     ]
    }
   ],
   "source": [
    "import sys\n",
    "import IPython.display as display\n",
    "input = open('dots.txt', 'r') #расскомментировать решая задачу локально\n",
    "# input = sys.stdin //расскомментировать при сдаче задачи в системе\n",
    "s = []\n",
    "n = int(input.readline())\n",
    "for i in range(1,n+1):\n",
    "    x,y = map(int, input.readline().split())\n",
    "    s.append([x,y])\n",
    "\n",
    "\n",
    "\n",
    "def getKey(item):\n",
    "    return item[1]\n",
    "s.sort(key = getKey) \n",
    "\n",
    "\n",
    "\n",
    "        \n",
    "def output(lst):\n",
    "    dots_lst = []\n",
    "    \n",
    "    def dots(lst):\n",
    "        right_dot = lst[0][1]\n",
    "        dots_lst.append(right_dot)\n",
    "        for cut in reversed(lst):\n",
    "            if cut[0] <= right_dot <= cut[1]:\n",
    "                lst.remove(cut)\n",
    "                \n",
    "        if lst:\n",
    "            dots(lst)\n",
    "        return None\n",
    "                \n",
    "    dots(lst)   \n",
    "    rez = dots_lst\n",
    "    print(len(rez))\n",
    "    print(*rez)\n",
    "\n",
    "output(s)\n"
   ]
  },
  {
   "cell_type": "code",
   "execution_count": 20,
   "metadata": {},
   "outputs": [
    {
     "name": "stdout",
     "output_type": "stream",
     "text": [
      "21221.000\n"
     ]
    }
   ],
   "source": [
    "import sys\n",
    "import IPython.display as display\n",
    "input = open('ruqzaq.txt', 'r') #расскомментировать решая задачу локально\n",
    "# input = sys.stdin # расскомментировать при сдаче задачи в системе\n",
    "s = []\n",
    "n, ruqzaq=map(int, input.readline().split(' '))\n",
    "for i in range(1,n+1):\n",
    "    x,y = map(int, input.readline().split())\n",
    "    s.append([x,y])\n",
    "\n",
    "def getKey(item):\n",
    "    return item[0]/item[1]\n",
    "s.sort(key = getKey, reverse=True) \n",
    "\n",
    "def output(s, ruqzaq):\n",
    "    sum_ruq = 0\n",
    "    for item in s:\n",
    "        if ruqzaq == 0:\n",
    "            return sum_ruq            \n",
    "        elif ruqzaq >= item[1]:\n",
    "            ruqzaq -= item[1]\n",
    "            sum_ruq += item[0]\n",
    "        else:\n",
    "            sum_ruq += item[0] / item[1] * ruqzaq\n",
    "            return sum_ruq\n",
    "    return sum_ruq\n",
    "\n",
    "print(f'{output(s, ruqzaq):.3f}')"
   ]
  },
  {
   "cell_type": "code",
   "execution_count": 1,
   "metadata": {},
   "outputs": [
    {
     "name": "stdout",
     "output_type": "stream",
     "text": [
      "2\n",
      "1 3\n"
     ]
    }
   ],
   "source": [
    "import sys\n",
    "import IPython.display as display\n",
    "input = open('number.txt', 'r') #расскомментировать решая задачу локально\n",
    "# input = sys.stdin # расскомментировать при сдаче задачи в системе\n",
    "\n",
    "n = int(input.read())\n",
    "s= []\n",
    "for i in range(1, n + 1):\n",
    "    if n > i:\n",
    "        n -= i\n",
    "        s.append(i)\n",
    "    else:\n",
    "        s.append(i)\n",
    "        s.remove(i - n)\n",
    "        print(len(s))\n",
    "        print(*s)\n",
    "        break\n",
    "    "
   ]
  },
  {
   "cell_type": "code",
   "execution_count": 1,
   "metadata": {},
   "outputs": [
    {
     "name": "stdout",
     "output_type": "stream",
     "text": [
      "One*Two*Three\n"
     ]
    }
   ],
   "source": [
    "import sys\n",
    "input = open('print.txt', 'r') #расскомментировать решая задачу локально\n",
    "# input = sys.stdin\n",
    "\n",
    "f=list(input.read().split('\\n'))\n",
    "print(*f[1:], sep=f[0])\n"
   ]
  },
  {
   "cell_type": "code",
   "execution_count": 6,
   "metadata": {},
   "outputs": [
    {
     "name": "stdout",
     "output_type": "stream",
     "text": [
      "[1, 6, 1, 4]\n"
     ]
    }
   ],
   "source": [
    "data = '1614'\n",
    "f=[]\n",
    "f=[int(x) for x in data]\n",
    "print(f)\n"
   ]
  },
  {
   "cell_type": "code",
   "execution_count": 5,
   "metadata": {},
   "outputs": [
    {
     "name": "stdout",
     "output_type": "stream",
     "text": [
      "[8, 6, 2, 4, 10]\n"
     ]
    }
   ],
   "source": [
    "my_list = [8, 10, 6, 2, 4]  # list to sort\n",
    "\n",
    "for i in range(len(my_list) - 1):  # we need (5 - 1) comparisons\n",
    "    if my_list[i] > my_list[i + 1]:  # compare adjacent elements\n",
    "        my_list[i], my_list[i + 1] = my_list[i + 1], my_list[i] \n",
    "print(my_list)"
   ]
  },
  {
   "cell_type": "code",
   "execution_count": 7,
   "metadata": {},
   "outputs": [
    {
     "data": {
      "text/plain": [
       "['A', 'B', 'C']"
      ]
     },
     "execution_count": 7,
     "metadata": {},
     "output_type": "execute_result"
    }
   ],
   "source": [
    "list_1 = [\"A\", \"B\", \"C\"]\n",
    "list_2 = list_1[:]\n",
    "list_2\n"
   ]
  },
  {
   "cell_type": "code",
   "execution_count": 11,
   "metadata": {},
   "outputs": [
    {
     "data": {
      "text/plain": [
       "[1]"
      ]
     },
     "execution_count": 11,
     "metadata": {},
     "output_type": "execute_result"
    }
   ],
   "source": [
    "squares = [1, 2, 4, 8, 16, 32, 64, 128]\n",
    "odds = [x for x in squares if x % 2 != 0 ]\n",
    "odds"
   ]
  },
  {
   "cell_type": "code",
   "execution_count": 21,
   "metadata": {},
   "outputs": [
    {
     "data": {
      "text/plain": [
       "True"
      ]
     },
     "execution_count": 21,
     "metadata": {},
     "output_type": "execute_result"
    }
   ],
   "source": [
    "x = 1 \n",
    "x = x == x \n",
    "x\n"
   ]
  },
  {
   "cell_type": "code",
   "execution_count": 33,
   "metadata": {},
   "outputs": [
    {
     "name": "stdout",
     "output_type": "stream",
     "text": [
      "True\n",
      "False\n",
      "None\n"
     ]
    }
   ],
   "source": [
    "def is_int(data):\n",
    "    if type(data) == int:\n",
    "        return True\n",
    "    elif type(data) == float:\n",
    "        return False\n",
    "\n",
    "print(is_int(5))\n",
    "print(is_int(5.0))\n",
    "print(is_int(\"5\"))\n"
   ]
  },
  {
   "cell_type": "code",
   "execution_count": 34,
   "metadata": {},
   "outputs": [
    {
     "data": {
      "text/plain": [
       "[1, 2, 3, 4, 5, 6, 7, 8, 9]"
      ]
     },
     "metadata": {},
     "output_type": "display_data"
    },
    {
     "data": {
      "text/plain": [
       "45"
      ]
     },
     "execution_count": 34,
     "metadata": {},
     "output_type": "execute_result"
    }
   ],
   "source": [
    "lst = [x for x in range(1, 10)]\n",
    "display(lst)\n",
    "z = sum(lst[:11])\n",
    "z\n"
   ]
  },
  {
   "cell_type": "code",
   "execution_count": 72,
   "metadata": {},
   "outputs": [
    {
     "name": "stdout",
     "output_type": "stream",
     "text": [
      "1\n"
     ]
    }
   ],
   "source": [
    "lst= {1:[1, 2], 2:[3, 4]}\n",
    "move = 1 \n",
    "\n",
    "print(lst[move][0])"
   ]
  },
  {
   "cell_type": "code",
   "execution_count": null,
   "metadata": {},
   "outputs": [],
   "source": [
    "'''     Tic Tac Toe\n",
    "    крестики нолики     '''\n",
    "\n",
    "from random import randint\n",
    "tile = 0\n",
    "tiles =[[0 for x in range(3)]for y in range(3)]\n",
    "for row in range(3):\n",
    "    for collumn in range(3):\n",
    "        tile +=1\n",
    "        tiles[row][collumn] = tile\n",
    "    tiles[1][1] = 'X'\n",
    "tiles_dict = dict((x, [0, 0]) for x in range(1, 10))\n",
    "x = 1 \n",
    "for row in range(3):\n",
    "    for collumn in range(3):\n",
    "        tiles_dict[x] = [row, collumn]\n",
    "        x +=1\n",
    "\n",
    "def display_board(board):\n",
    "    print('+','+','+','+', sep=str('-'*7))\n",
    "    print('|','|','|','|',sep=str(' '*7))\n",
    "    print('|',board[0][0],'|',board[0][1],'|',board[0][2],'|',sep=str(' '*3))\n",
    "    print('|','|','|','|',sep=str(' '*7))\n",
    "    print('+','+','+','+', sep=str('-'*7))\n",
    "    print('|','|','|','|',sep=str(' '*7))\n",
    "    print('|',board[1][0],'|',board[1][1],'|',board[1][2],'|',sep=str(' '*3))\n",
    "    print('|','|','|','|',sep=str(' '*7))\n",
    "    print('+','+','+','+', sep=str('-'*7))\n",
    "    print('|','|','|','|',sep=str(' '*7))\n",
    "    print('|',board[2][0],'|',board[2][1],'|',board[2][2],'|',sep=str(' '*3))\n",
    "    print('|','|','|','|',sep=str(' '*7))\n",
    "    print('+','+','+','+', sep=str('-'*7))\n",
    "    # The function accepts one parameter containing the board's current status\n",
    "    # and prints it out to the console.\n",
    "    \n",
    "def enter_move(board):\n",
    "    # global tiles\n",
    "    move = int(input('Please input your move'))\n",
    "    while not 1 <= move <= 9:\n",
    "        print('Your make wrong move, you should chouse a number from 1 to 9')\n",
    "        display_board(board)\n",
    "        move = int(input('Please input correct move'))\n",
    "    # print(tiles_dict)\n",
    "    while type(board[tiles_dict[move][0]][tiles_dict[move][1]]) is str:\n",
    "        print('Your make wrong move, this tile is not emty any more')\n",
    "        display_board(board)\n",
    "        move = int(input('Please input correct move'))\n",
    "    board[tiles_dict[move][0]][tiles_dict[move][1]] = 'O'\n",
    "    return board\n",
    "    # The function accepts the board's current status, asks the user about their move, \n",
    "    # checks the input, and updates the board according to the user's decision.\n",
    "    \n",
    "def make_list_of_free_fields(board):\n",
    "    free_feilds_list = []\n",
    "    for row in range(3):\n",
    "        for collumn in range(3):\n",
    "            if type(board[row][collumn]) is int:\n",
    "                tupl = row, collumn,\n",
    "                free_feilds_list.append(tupl)\n",
    "    return free_feilds_list\n",
    "    # The function browses the board and builds a list of all the free squares; \n",
    "    # the list consists of tuples, while each tuple is a pair of row and column numbers.\n",
    "    \n",
    "def victory_for(board, sign):\n",
    "    lst = [board[0][0] == board[0][1] == board[0][2] == sign,\n",
    "         board[1][0] == board[1][1] == board[1][2] == sign,\n",
    "         board[2][0] == board[2][1] == board[2][2] == sign,\n",
    "         board[0][0] == board[1][0] == board[2][0] == sign,\n",
    "         board[0][1] == board[1][1] == board[2][1] == sign,\n",
    "         board[0][2] == board[1][2] == board[2][2] == sign,\n",
    "         board[0][0] == board[1][1] == board[2][2] == sign,\n",
    "         board[0][2] == board[1][1] == board[2][0] == sign]\n",
    "    if any(lst):\n",
    "        return True\n",
    "    return False\n",
    "    # The function analyzes the board's status in order to check if \n",
    "    # the player using 'O's or 'X's has won the game\n",
    "    \n",
    "\n",
    "def draw_move(board, free_feilds_list):\n",
    "    comp_move = free_feilds_list[randint(0, len(free_feilds_list)-1)]\n",
    "    board[comp_move[0]][comp_move[1]] = 'X'\n",
    "    return board\n",
    "    # The function draws the computer's move and updates the board.\n",
    "    \n",
    "for i in range(1, 5):\n",
    "    # print(f'Turn # {i}')\n",
    "    display_board(tiles)\n",
    "    tiles = enter_move(tiles)\n",
    "    free_fields_list = make_list_of_free_fields(tiles)\n",
    "    if victory_for(tiles, \"O\"):\n",
    "        print('The player win!!!')\n",
    "        display_board(tiles)\n",
    "        break\n",
    "    tiles = draw_move(tiles, free_fields_list)\n",
    "    if victory_for(tiles, \"X\"):\n",
    "        print('The computer win!!!')\n",
    "        display_board(tiles)\n",
    "        break\n",
    "    \n",
    "if victory_for(tiles, \"O\"):\n",
    "    pass\n",
    "elif victory_for(tiles, \"X\"):\n",
    "    pass\n",
    "else:\n",
    "    print('The game ends with a tie')\n",
    "display_board(tiles)"
   ]
  },
  {
   "cell_type": "code",
   "execution_count": 2,
   "metadata": {},
   "outputs": [
    {
     "name": "stdout",
     "output_type": "stream",
     "text": [
      "ok\n"
     ]
    }
   ],
   "source": [
    "try:\n",
    "    foo = (1, 2, 3)\n",
    "    foo.index(0)\n",
    "except(ValueError, ZeroDivisionError, TypeError):\n",
    "    print('ok')"
   ]
  },
  {
   "cell_type": "code",
   "execution_count": 5,
   "metadata": {},
   "outputs": [
    {
     "name": "stdout",
     "output_type": "stream",
     "text": [
      "1 1 2\n"
     ]
    }
   ],
   "source": [
    "x = 1 \n",
    "y = 2 \n",
    "x , y, z = x, x, y\n",
    "z , y, z = x, y, z\n",
    "print(x, y, z)"
   ]
  },
  {
   "cell_type": "code",
   "execution_count": 9,
   "metadata": {},
   "outputs": [
    {
     "ename": "SyntaxError",
     "evalue": "positional argument follows keyword argument (3335658683.py, line 4)",
     "output_type": "error",
     "traceback": [
      "\u001b[1;36m  Input \u001b[1;32mIn [9]\u001b[1;36m\u001b[0m\n\u001b[1;33m    print(fun(b=2, 2))\u001b[0m\n\u001b[1;37m                    ^\u001b[0m\n\u001b[1;31mSyntaxError\u001b[0m\u001b[1;31m:\u001b[0m positional argument follows keyword argument\n"
     ]
    }
   ],
   "source": [
    "def fun(a, b):\n",
    "    return b**a\n",
    "\n",
    "print(fun(b=2, 2))"
   ]
  },
  {
   "cell_type": "code",
   "execution_count": 14,
   "metadata": {},
   "outputs": [
    {
     "data": {
      "text/plain": [
       "[]"
      ]
     },
     "execution_count": 14,
     "metadata": {},
     "output_type": "execute_result"
    }
   ],
   "source": [
    "var = [1, 2, 3]\n",
    "num = var\n",
    "del num[:]\n",
    "var"
   ]
  },
  {
   "cell_type": "code",
   "execution_count": 18,
   "metadata": {},
   "outputs": [
    {
     "name": "stdout",
     "output_type": "stream",
     "text": [
      "0 1 0\n",
      "1 1 0\n",
      "2 1 1\n",
      "fin 0 1\n"
     ]
    }
   ],
   "source": [
    "a = 1\n",
    "b = 0\n",
    "print('0', a, b)\n",
    "a = a ^ b\n",
    "print('1', a, b)\n",
    "b = a ^ b\n",
    "print('2', a, b)\n",
    "a = a ^ b \n",
    "print('fin', a, b)"
   ]
  },
  {
   "cell_type": "code",
   "execution_count": 20,
   "metadata": {},
   "outputs": [
    {
     "name": "stdout",
     "output_type": "stream",
     "text": [
      "2\n",
      "8\n",
      "1\n",
      "7\n",
      "10\n",
      "5\n",
      "6\n",
      "8\n",
      "1\n",
      "2\n",
      "7\n"
     ]
    }
   ],
   "source": [
    "from random import choice, sample\n",
    "\n",
    "my_list = [1, 2, 3, 4, 5, 6, 7, 8, 9, 10]\n",
    "for i in range(11):\n",
    "    print(choice(my_list))"
   ]
  },
  {
   "cell_type": "code",
   "execution_count": 22,
   "metadata": {},
   "outputs": [
    {
     "name": "stdout",
     "output_type": "stream",
     "text": [
      "Windows-10-10.0.19044-SP0\n",
      "Windows-10-10.0.19044-SP0\n",
      "Windows-10\n"
     ]
    }
   ],
   "source": [
    "from platform import platform\n",
    "\n",
    "print(platform())\n",
    "print(platform(1))\n",
    "print(platform(0, 1))"
   ]
  },
  {
   "cell_type": "code",
   "execution_count": 27,
   "metadata": {},
   "outputs": [
    {
     "name": "stdout",
     "output_type": "stream",
     "text": [
      "AMD64\n"
     ]
    }
   ],
   "source": [
    "from platform import machine\n",
    "\n",
    "print(machine())"
   ]
  },
  {
   "cell_type": "code",
   "execution_count": 30,
   "metadata": {},
   "outputs": [
    {
     "name": "stdout",
     "output_type": "stream",
     "text": [
      "Windows\n",
      "10.0.19044\n"
     ]
    }
   ],
   "source": [
    "from platform import system\n",
    "\n",
    "print(system())\n",
    "from platform import version\n",
    "\n",
    "print(version())"
   ]
  },
  {
   "cell_type": "code",
   "execution_count": 32,
   "metadata": {},
   "outputs": [
    {
     "name": "stdout",
     "output_type": "stream",
     "text": [
      "CPython\n",
      "3\n",
      "9\n",
      "10\n"
     ]
    }
   ],
   "source": [
    "from platform import python_implementation, python_version_tuple\n",
    "\n",
    "print(python_implementation())\n",
    "\n",
    "for atr in python_version_tuple():\n",
    "    print(atr)"
   ]
  },
  {
   "cell_type": "code",
   "execution_count": null,
   "metadata": {},
   "outputs": [],
   "source": [
    "import os\n",
    "dir(os)"
   ]
  },
  {
   "cell_type": "code",
   "execution_count": 26,
   "metadata": {},
   "outputs": [
    {
     "name": "stdout",
     "output_type": "stream",
     "text": [
      "Intel64 Family 6 Model 60 Stepping 3, GenuineIntel\n"
     ]
    }
   ],
   "source": [
    "from platform import processor\n",
    "\n",
    "print(processor())"
   ]
  },
  {
   "cell_type": "code",
   "execution_count": 2,
   "metadata": {},
   "outputs": [
    {
     "name": "stdout",
     "output_type": "stream",
     "text": [
      "c:\\Users\\Denis.kozarenko\\VS_code\\VS_code\\Skillfactory\\Algoritms\n",
      "C:\\Users\\Denis.kozarenko\\AppData\\Local\\Programs\\Python\\Python39\\python39.zip\n",
      "C:\\Users\\Denis.kozarenko\\AppData\\Local\\Programs\\Python\\Python39\\DLLs\n",
      "C:\\Users\\Denis.kozarenko\\AppData\\Local\\Programs\\Python\\Python39\\lib\n",
      "C:\\Users\\Denis.kozarenko\\AppData\\Local\\Programs\\Python\\Python39\n",
      "\n",
      "C:\\Users\\Denis.kozarenko\\AppData\\Roaming\\Python\\Python39\\site-packages\n",
      "C:\\Users\\Denis.kozarenko\\AppData\\Roaming\\Python\\Python39\\site-packages\\win32\n",
      "C:\\Users\\Denis.kozarenko\\AppData\\Roaming\\Python\\Python39\\site-packages\\win32\\lib\n",
      "C:\\Users\\Denis.kozarenko\\AppData\\Roaming\\Python\\Python39\\site-packages\\Pythonwin\n",
      "C:\\Users\\Denis.kozarenko\\AppData\\Local\\Programs\\Python\\Python39\\lib\\site-packages\n"
     ]
    }
   ],
   "source": [
    "import sys\n",
    "\n",
    "for p in sys.path:\n",
    "    print(p)"
   ]
  },
  {
   "cell_type": "code",
   "execution_count": 18,
   "metadata": {},
   "outputs": [
    {
     "name": "stdout",
     "output_type": "stream",
     "text": [
      "  # ###   # ###   # ###   # ###   # ### \n",
      "  #   #   # # #   # # #   # # #   # # # \n",
      "  # ###   # # #   # # #   # # #   # # # \n",
      "  # #     # # #   # # #   # # #   # # # \n",
      "  # ###   # ###   # ###   # ###   # ### \n"
     ]
    }
   ],
   "source": [
    "zero = [['#'*3], ['#' + ' ' + '#'], ['#' + ' ' + '#'], ['#' + ' ' + '#'], ['#'*3]]\n",
    "one = [[' '*2+'#'], [' '*2+'#'],[' '*2+'#'],[' '*2+'#'],[' '*2+'#']]\n",
    "two =[['#'*3],[' ' * 2 + '#'], ['#'*3],['#' + ' ' * 2], ['#'*3],]\n",
    "paterns = [zero, one, two, one, one, one, one, one, one, one]\n",
    "z = 1210101010\n",
    "for level in range(5):\n",
    "    str_to_print = ''\n",
    "    for num in list(str(z)):\n",
    "        str_to_print += str(*paterns[int(num)][level]) + ' '\n",
    "    print(str_to_print)"
   ]
  }
 ],
 "metadata": {
  "interpreter": {
   "hash": "4cf8740b77de6ac68c701f5d05813ddbce361e765d83d58497ce85d0cb93b38e"
  },
  "kernelspec": {
   "display_name": "Python 3.9.10 64-bit",
   "language": "python",
   "name": "python3"
  },
  "language_info": {
   "codemirror_mode": {
    "name": "ipython",
    "version": 3
   },
   "file_extension": ".py",
   "mimetype": "text/x-python",
   "name": "python",
   "nbconvert_exporter": "python",
   "pygments_lexer": "ipython3",
   "version": "3.9.10"
  },
  "orig_nbformat": 4
 },
 "nbformat": 4,
 "nbformat_minor": 2
}
