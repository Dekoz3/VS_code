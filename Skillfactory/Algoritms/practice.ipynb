{
 "cells": [
  {
   "cell_type": "code",
   "execution_count": 5,
   "metadata": {},
   "outputs": [
    {
     "name": "stdout",
     "output_type": "stream",
     "text": [
      "['t', 'a', 'o', 'b', 'g', 'r', 'i', 'c', 'd']\n"
     ]
    }
   ],
   "source": [
    "animals = ['cat', 'dog', 'rabbit']\n",
    "words = set()\n",
    "for elem in animals:\n",
    "    for word in elem:\n",
    "        words.add(word)\n",
    "print(list(words))"
   ]
  },
  {
   "cell_type": "code",
   "execution_count": 6,
   "metadata": {},
   "outputs": [
    {
     "name": "stdout",
     "output_type": "stream",
     "text": [
      "methinks it is like a weasel\n"
     ]
    }
   ],
   "source": [
    "\"\"\"\n",
    "Solution, which must be more faster than dumb string comparison.\n",
    "\"\"\"\n",
    "import random\n",
    "\n",
    "def generate_random_str(chars, length=28):\n",
    "    return ''.join([random.choice(chars) for _ in range(length)])\n",
    "\n",
    "def str_check(random_str, needle_str):\n",
    "    return {index: needle_str[index] for index in range(0, len(needle_str)) if random_str[index] == needle_str[index]}\n",
    "\n",
    "def run():\n",
    "    alphabet = ['a', 'b', 'c', 'd', 'e', 'f', 'g', 'h', 'i', 'j', 'k', 'l', 'm', 'n', 'o', 'p', 'q', 'r', 's', 't', 'u', 'v', 'w', 'x', 'y', 'z',' ']\n",
    "    phrase = \"methinks it is like a weasel\"\n",
    "    probably_phrase = dict()\n",
    "    while len(probably_phrase) != len(phrase):\n",
    "        random_str = generate_random_str(alphabet, length=len(phrase))\n",
    "        probably_phrase.update(str_check(random_str, phrase))\n",
    "        check_phrase = ''.join([ch for idx, ch in sorted(probably_phrase.items())])\n",
    "    assert phrase == check_phrase\n",
    "    print(check_phrase)\n",
    "\n",
    "if __name__ == '__main__':\n",
    "    run()\n",
    "    "
   ]
  },
  {
   "cell_type": "code",
   "execution_count": 7,
   "metadata": {},
   "outputs": [
    {
     "ename": "NameError",
     "evalue": "name 'gcd' is not defined",
     "output_type": "error",
     "traceback": [
      "\u001b[1;31m---------------------------------------------------------------------------\u001b[0m",
      "\u001b[1;31mNameError\u001b[0m                                 Traceback (most recent call last)",
      "\u001b[1;32mc:\\Users\\Denis.kozarenko\\VS_code\\VS_code\\Skillfactory\\Algoritms\\practice.ipynb Cell 3'\u001b[0m in \u001b[0;36m<module>\u001b[1;34m\u001b[0m\n\u001b[0;32m     <a href='vscode-notebook-cell:/c%3A/Users/Denis.kozarenko/VS_code/VS_code/Skillfactory/Algoritms/practice.ipynb#ch0000002?line=39'>40</a>\u001b[0m x \u001b[39m=\u001b[39m Fraction(\u001b[39m1\u001b[39m,\u001b[39m2\u001b[39m)\n\u001b[0;32m     <a href='vscode-notebook-cell:/c%3A/Users/Denis.kozarenko/VS_code/VS_code/Skillfactory/Algoritms/practice.ipynb#ch0000002?line=40'>41</a>\u001b[0m y \u001b[39m=\u001b[39m Fraction(\u001b[39m3\u001b[39m,\u001b[39m6\u001b[39m)\n\u001b[1;32m---> <a href='vscode-notebook-cell:/c%3A/Users/Denis.kozarenko/VS_code/VS_code/Skillfactory/Algoritms/practice.ipynb#ch0000002?line=41'>42</a>\u001b[0m \u001b[39mprint\u001b[39m(x\u001b[39m+\u001b[39;49my)\n\u001b[0;32m     <a href='vscode-notebook-cell:/c%3A/Users/Denis.kozarenko/VS_code/VS_code/Skillfactory/Algoritms/practice.ipynb#ch0000002?line=42'>43</a>\u001b[0m \u001b[39mprint\u001b[39m(x \u001b[39m==\u001b[39m y)\n\u001b[0;32m     <a href='vscode-notebook-cell:/c%3A/Users/Denis.kozarenko/VS_code/VS_code/Skillfactory/Algoritms/practice.ipynb#ch0000002?line=44'>45</a>\u001b[0m myf \u001b[39m=\u001b[39m Fraction(\u001b[39m3\u001b[39m,\u001b[39m5\u001b[39m)\n",
      "\u001b[1;32mc:\\Users\\Denis.kozarenko\\VS_code\\VS_code\\Skillfactory\\Algoritms\\practice.ipynb Cell 3'\u001b[0m in \u001b[0;36mFraction.__add__\u001b[1;34m(self, otherfraction)\u001b[0m\n\u001b[0;32m     <a href='vscode-notebook-cell:/c%3A/Users/Denis.kozarenko/VS_code/VS_code/Skillfactory/Algoritms/practice.ipynb#ch0000002?line=19'>20</a>\u001b[0m newnum \u001b[39m=\u001b[39m \u001b[39mself\u001b[39m\u001b[39m.\u001b[39mnum\u001b[39m*\u001b[39motherfraction\u001b[39m.\u001b[39mden \u001b[39m+\u001b[39m \u001b[39mself\u001b[39m\u001b[39m.\u001b[39mden\u001b[39m*\u001b[39motherfraction\u001b[39m.\u001b[39mnum\n\u001b[0;32m     <a href='vscode-notebook-cell:/c%3A/Users/Denis.kozarenko/VS_code/VS_code/Skillfactory/Algoritms/practice.ipynb#ch0000002?line=20'>21</a>\u001b[0m newden \u001b[39m=\u001b[39m \u001b[39mself\u001b[39m\u001b[39m.\u001b[39mden \u001b[39m*\u001b[39m otherfraction\u001b[39m.\u001b[39mden\n\u001b[1;32m---> <a href='vscode-notebook-cell:/c%3A/Users/Denis.kozarenko/VS_code/VS_code/Skillfactory/Algoritms/practice.ipynb#ch0000002?line=21'>22</a>\u001b[0m common \u001b[39m=\u001b[39m gcd(newnum,newden)\n\u001b[0;32m     <a href='vscode-notebook-cell:/c%3A/Users/Denis.kozarenko/VS_code/VS_code/Skillfactory/Algoritms/practice.ipynb#ch0000002?line=22'>23</a>\u001b[0m \u001b[39mreturn\u001b[39;00m Fraction(newnum\u001b[39m/\u001b[39m\u001b[39m/\u001b[39mcommon,newden\u001b[39m/\u001b[39m\u001b[39m/\u001b[39mcommon)\n",
      "\u001b[1;31mNameError\u001b[0m: name 'gcd' is not defined"
     ]
    }
   ],
   "source": [
    "class Fraction:\n",
    "\n",
    "    def __init__(self,top,bottom):\n",
    "\n",
    "        self.num = top\n",
    "        self.den = bottom\n",
    "    \n",
    "    def show(self):\n",
    "        print(self.num,\"/\",self.den)\n",
    "     \n",
    "    def __str__(self):\n",
    "        return str(self.num)+\"/\"+str(self.den)\n",
    "    \n",
    "    def __add__(self,otherfraction):\n",
    "        newnum = self.num*otherfraction.den + self.den*otherfraction.num\n",
    "        newden = self.den * otherfraction.den\n",
    "        return Fraction(newnum,newden)\n",
    "    \n",
    "    def __add__(self,otherfraction):\n",
    "        newnum = self.num*otherfraction.den + self.den*otherfraction.num\n",
    "        newden = self.den * otherfraction.den\n",
    "        common = gcd(newnum,newden)\n",
    "        return Fraction(newnum//common,newden//common)\n",
    "    \n",
    "    def gcd(m,n):\n",
    "        while m%n != 0:\n",
    "            oldm = m\n",
    "            oldn = n\n",
    "            \n",
    "            m = oldn\n",
    "            n = oldm%oldn\n",
    "        return n\n",
    "\n",
    "    def __eq__(self, other):\n",
    "        firstnum = self.num * other.den\n",
    "        secondnum = other.num * self.den\n",
    "\n",
    "        return firstnum == secondnum\n",
    "\n",
    "x = Fraction(1,2)\n",
    "y = Fraction(3,6)\n",
    "print(x+y)\n",
    "print(x == y)\n",
    "\n",
    "myf = Fraction(3,5)\n",
    "myf.show()\n",
    "\n",
    "print(myf)\n",
    "\n",
    "f1=Fraction(1,4)\n",
    "f2=Fraction(1,2)\n",
    "f3=f1+f2\n",
    "print(f3)"
   ]
  },
  {
   "cell_type": "code",
   "execution_count": null,
   "metadata": {},
   "outputs": [
    {
     "name": "stdout",
     "output_type": "stream",
     "text": [
      "3\n"
     ]
    }
   ],
   "source": [
    "''' Алгоритм Евклида нахождение НОД'''\n",
    "\n",
    "def gcd(m,n):\n",
    "    while m%n != 0:\n",
    "        oldm = m\n",
    "        oldn = n\n",
    "\n",
    "        m = oldn\n",
    "        n = oldm%oldn\n",
    "    return n\n",
    "\n",
    "print(gcd(135,24))"
   ]
  },
  {
   "cell_type": "code",
   "execution_count": null,
   "metadata": {},
   "outputs": [
    {
     "name": "stdout",
     "output_type": "stream",
     "text": [
      "1/1\n",
      "True\n"
     ]
    }
   ],
   "source": [
    "def gcd(m,n):\n",
    "    while m%n != 0:\n",
    "        oldm = m\n",
    "        oldn = n\n",
    "\n",
    "        m = oldn\n",
    "        n = oldm%oldn\n",
    "    return n\n",
    "\n",
    "class Fraction:\n",
    "     def __init__(self,top,bottom):\n",
    "         self.num = top\n",
    "         self.den = bottom\n",
    "\n",
    "     def __str__(self):\n",
    "         return str(self.num)+\"/\"+str(self.den)\n",
    "\n",
    "     def show(self):\n",
    "         print(self.num,\"/\",self.den)\n",
    "\n",
    "     def __add__(self,otherfraction):\n",
    "         newnum = self.num*otherfraction.den + \\\n",
    "                      self.den*otherfraction.num\n",
    "         newden = self.den * otherfraction.den\n",
    "         common = gcd(newnum,newden)\n",
    "         return Fraction(newnum//common,newden//common)\n",
    "\n",
    "     def __eq__(self, other):\n",
    "         firstnum = self.num * other.den\n",
    "         secondnum = other.num * self.den\n",
    "\n",
    "         return firstnum == secondnum\n",
    "\n",
    "x = Fraction(1,2)\n",
    "y = Fraction(3,6)\n",
    "print(x+y)\n",
    "print(x == y)"
   ]
  },
  {
   "cell_type": "code",
   "execution_count": null,
   "metadata": {},
   "outputs": [
    {
     "ename": "ValueError",
     "evalue": "invalid literal for int() with base 10: ''",
     "output_type": "error",
     "traceback": [
      "\u001b[1;31m---------------------------------------------------------------------------\u001b[0m",
      "\u001b[1;31mValueError\u001b[0m                                Traceback (most recent call last)",
      "\u001b[1;32mc:\\Users\\Denis.kozarenko\\VS_code\\VS_code\\Skillfactory\\Algoritms\\practice.ipynb Cell 6'\u001b[0m in \u001b[0;36m<module>\u001b[1;34m\u001b[0m\n\u001b[0;32m    <a href='vscode-notebook-cell:/c%3A/Users/Denis.kozarenko/VS_code/VS_code/Skillfactory/Algoritms/practice.ipynb#ch0000005?line=126'>127</a>\u001b[0m    c3 \u001b[39m=\u001b[39m Connector(g3,g4)\n\u001b[0;32m    <a href='vscode-notebook-cell:/c%3A/Users/Denis.kozarenko/VS_code/VS_code/Skillfactory/Algoritms/practice.ipynb#ch0000005?line=127'>128</a>\u001b[0m    \u001b[39mprint\u001b[39m(g4\u001b[39m.\u001b[39mgetOutput())\n\u001b[1;32m--> <a href='vscode-notebook-cell:/c%3A/Users/Denis.kozarenko/VS_code/VS_code/Skillfactory/Algoritms/practice.ipynb#ch0000005?line=129'>130</a>\u001b[0m main()\n",
      "\u001b[1;32mc:\\Users\\Denis.kozarenko\\VS_code\\VS_code\\Skillfactory\\Algoritms\\practice.ipynb Cell 6'\u001b[0m in \u001b[0;36mmain\u001b[1;34m()\u001b[0m\n\u001b[0;32m    <a href='vscode-notebook-cell:/c%3A/Users/Denis.kozarenko/VS_code/VS_code/Skillfactory/Algoritms/practice.ipynb#ch0000005?line=125'>126</a>\u001b[0m c2 \u001b[39m=\u001b[39m Connector(g2,g3)\n\u001b[0;32m    <a href='vscode-notebook-cell:/c%3A/Users/Denis.kozarenko/VS_code/VS_code/Skillfactory/Algoritms/practice.ipynb#ch0000005?line=126'>127</a>\u001b[0m c3 \u001b[39m=\u001b[39m Connector(g3,g4)\n\u001b[1;32m--> <a href='vscode-notebook-cell:/c%3A/Users/Denis.kozarenko/VS_code/VS_code/Skillfactory/Algoritms/practice.ipynb#ch0000005?line=127'>128</a>\u001b[0m \u001b[39mprint\u001b[39m(g4\u001b[39m.\u001b[39;49mgetOutput())\n",
      "\u001b[1;32mc:\\Users\\Denis.kozarenko\\VS_code\\VS_code\\Skillfactory\\Algoritms\\practice.ipynb Cell 6'\u001b[0m in \u001b[0;36mLogicGate.getOutput\u001b[1;34m(self)\u001b[0m\n\u001b[0;32m     <a href='vscode-notebook-cell:/c%3A/Users/Denis.kozarenko/VS_code/VS_code/Skillfactory/Algoritms/practice.ipynb#ch0000005?line=9'>10</a>\u001b[0m \u001b[39mdef\u001b[39;00m \u001b[39mgetOutput\u001b[39m(\u001b[39mself\u001b[39m):\n\u001b[1;32m---> <a href='vscode-notebook-cell:/c%3A/Users/Denis.kozarenko/VS_code/VS_code/Skillfactory/Algoritms/practice.ipynb#ch0000005?line=10'>11</a>\u001b[0m     \u001b[39mself\u001b[39m\u001b[39m.\u001b[39moutput \u001b[39m=\u001b[39m \u001b[39mself\u001b[39;49m\u001b[39m.\u001b[39;49mperformGateLogic()\n\u001b[0;32m     <a href='vscode-notebook-cell:/c%3A/Users/Denis.kozarenko/VS_code/VS_code/Skillfactory/Algoritms/practice.ipynb#ch0000005?line=11'>12</a>\u001b[0m     \u001b[39mreturn\u001b[39;00m \u001b[39mself\u001b[39m\u001b[39m.\u001b[39moutput\n",
      "\u001b[1;32mc:\\Users\\Denis.kozarenko\\VS_code\\VS_code\\Skillfactory\\Algoritms\\practice.ipynb Cell 6'\u001b[0m in \u001b[0;36mNotGate.performGateLogic\u001b[1;34m(self)\u001b[0m\n\u001b[0;32m     <a href='vscode-notebook-cell:/c%3A/Users/Denis.kozarenko/VS_code/VS_code/Skillfactory/Algoritms/practice.ipynb#ch0000005?line=97'>98</a>\u001b[0m \u001b[39mdef\u001b[39;00m \u001b[39mperformGateLogic\u001b[39m(\u001b[39mself\u001b[39m):\n\u001b[1;32m---> <a href='vscode-notebook-cell:/c%3A/Users/Denis.kozarenko/VS_code/VS_code/Skillfactory/Algoritms/practice.ipynb#ch0000005?line=98'>99</a>\u001b[0m     \u001b[39mif\u001b[39;00m \u001b[39mself\u001b[39;49m\u001b[39m.\u001b[39;49mgetPin():\n\u001b[0;32m    <a href='vscode-notebook-cell:/c%3A/Users/Denis.kozarenko/VS_code/VS_code/Skillfactory/Algoritms/practice.ipynb#ch0000005?line=99'>100</a>\u001b[0m         \u001b[39mreturn\u001b[39;00m \u001b[39m0\u001b[39m\n\u001b[0;32m    <a href='vscode-notebook-cell:/c%3A/Users/Denis.kozarenko/VS_code/VS_code/Skillfactory/Algoritms/practice.ipynb#ch0000005?line=100'>101</a>\u001b[0m     \u001b[39melse\u001b[39;00m:\n",
      "\u001b[1;32mc:\\Users\\Denis.kozarenko\\VS_code\\VS_code\\Skillfactory\\Algoritms\\practice.ipynb Cell 6'\u001b[0m in \u001b[0;36mUnaryGate.getPin\u001b[1;34m(self)\u001b[0m\n\u001b[0;32m     <a href='vscode-notebook-cell:/c%3A/Users/Denis.kozarenko/VS_code/VS_code/Skillfactory/Algoritms/practice.ipynb#ch0000005?line=81'>82</a>\u001b[0m     \u001b[39mreturn\u001b[39;00m \u001b[39mint\u001b[39m(\u001b[39minput\u001b[39m(\u001b[39m\"\u001b[39m\u001b[39mEnter Pin input for gate \u001b[39m\u001b[39m\"\u001b[39m\u001b[39m+\u001b[39m\u001b[39mself\u001b[39m\u001b[39m.\u001b[39mgetName()\u001b[39m+\u001b[39m\u001b[39m\"\u001b[39m\u001b[39m-->\u001b[39m\u001b[39m\"\u001b[39m))\n\u001b[0;32m     <a href='vscode-notebook-cell:/c%3A/Users/Denis.kozarenko/VS_code/VS_code/Skillfactory/Algoritms/practice.ipynb#ch0000005?line=82'>83</a>\u001b[0m \u001b[39melse\u001b[39;00m:\n\u001b[1;32m---> <a href='vscode-notebook-cell:/c%3A/Users/Denis.kozarenko/VS_code/VS_code/Skillfactory/Algoritms/practice.ipynb#ch0000005?line=83'>84</a>\u001b[0m     \u001b[39mreturn\u001b[39;00m \u001b[39mself\u001b[39;49m\u001b[39m.\u001b[39;49mpin\u001b[39m.\u001b[39;49mgetFrom()\u001b[39m.\u001b[39;49mgetOutput()\n",
      "\u001b[1;32mc:\\Users\\Denis.kozarenko\\VS_code\\VS_code\\Skillfactory\\Algoritms\\practice.ipynb Cell 6'\u001b[0m in \u001b[0;36mLogicGate.getOutput\u001b[1;34m(self)\u001b[0m\n\u001b[0;32m     <a href='vscode-notebook-cell:/c%3A/Users/Denis.kozarenko/VS_code/VS_code/Skillfactory/Algoritms/practice.ipynb#ch0000005?line=9'>10</a>\u001b[0m \u001b[39mdef\u001b[39;00m \u001b[39mgetOutput\u001b[39m(\u001b[39mself\u001b[39m):\n\u001b[1;32m---> <a href='vscode-notebook-cell:/c%3A/Users/Denis.kozarenko/VS_code/VS_code/Skillfactory/Algoritms/practice.ipynb#ch0000005?line=10'>11</a>\u001b[0m     \u001b[39mself\u001b[39m\u001b[39m.\u001b[39moutput \u001b[39m=\u001b[39m \u001b[39mself\u001b[39;49m\u001b[39m.\u001b[39;49mperformGateLogic()\n\u001b[0;32m     <a href='vscode-notebook-cell:/c%3A/Users/Denis.kozarenko/VS_code/VS_code/Skillfactory/Algoritms/practice.ipynb#ch0000005?line=11'>12</a>\u001b[0m     \u001b[39mreturn\u001b[39;00m \u001b[39mself\u001b[39m\u001b[39m.\u001b[39moutput\n",
      "\u001b[1;32mc:\\Users\\Denis.kozarenko\\VS_code\\VS_code\\Skillfactory\\Algoritms\\practice.ipynb Cell 6'\u001b[0m in \u001b[0;36mOrGate.performGateLogic\u001b[1;34m(self)\u001b[0m\n\u001b[0;32m     <a href='vscode-notebook-cell:/c%3A/Users/Denis.kozarenko/VS_code/VS_code/Skillfactory/Algoritms/practice.ipynb#ch0000005?line=63'>64</a>\u001b[0m \u001b[39mdef\u001b[39;00m \u001b[39mperformGateLogic\u001b[39m(\u001b[39mself\u001b[39m):\n\u001b[1;32m---> <a href='vscode-notebook-cell:/c%3A/Users/Denis.kozarenko/VS_code/VS_code/Skillfactory/Algoritms/practice.ipynb#ch0000005?line=65'>66</a>\u001b[0m     a \u001b[39m=\u001b[39m \u001b[39mself\u001b[39;49m\u001b[39m.\u001b[39;49mgetPinA()\n\u001b[0;32m     <a href='vscode-notebook-cell:/c%3A/Users/Denis.kozarenko/VS_code/VS_code/Skillfactory/Algoritms/practice.ipynb#ch0000005?line=66'>67</a>\u001b[0m     b \u001b[39m=\u001b[39m \u001b[39mself\u001b[39m\u001b[39m.\u001b[39mgetPinB()\n\u001b[0;32m     <a href='vscode-notebook-cell:/c%3A/Users/Denis.kozarenko/VS_code/VS_code/Skillfactory/Algoritms/practice.ipynb#ch0000005?line=67'>68</a>\u001b[0m     \u001b[39mif\u001b[39;00m a \u001b[39m==\u001b[39m\u001b[39m1\u001b[39m \u001b[39mor\u001b[39;00m b\u001b[39m==\u001b[39m\u001b[39m1\u001b[39m:\n",
      "\u001b[1;32mc:\\Users\\Denis.kozarenko\\VS_code\\VS_code\\Skillfactory\\Algoritms\\practice.ipynb Cell 6'\u001b[0m in \u001b[0;36mBinaryGate.getPinA\u001b[1;34m(self)\u001b[0m\n\u001b[0;32m     <a href='vscode-notebook-cell:/c%3A/Users/Denis.kozarenko/VS_code/VS_code/Skillfactory/Algoritms/practice.ipynb#ch0000005?line=24'>25</a>\u001b[0m     \u001b[39mreturn\u001b[39;00m \u001b[39mint\u001b[39m(\u001b[39minput\u001b[39m(\u001b[39m\"\u001b[39m\u001b[39mEnter Pin A input for gate \u001b[39m\u001b[39m\"\u001b[39m\u001b[39m+\u001b[39m\u001b[39mself\u001b[39m\u001b[39m.\u001b[39mgetName()\u001b[39m+\u001b[39m\u001b[39m\"\u001b[39m\u001b[39m-->\u001b[39m\u001b[39m\"\u001b[39m))\n\u001b[0;32m     <a href='vscode-notebook-cell:/c%3A/Users/Denis.kozarenko/VS_code/VS_code/Skillfactory/Algoritms/practice.ipynb#ch0000005?line=25'>26</a>\u001b[0m \u001b[39melse\u001b[39;00m:\n\u001b[1;32m---> <a href='vscode-notebook-cell:/c%3A/Users/Denis.kozarenko/VS_code/VS_code/Skillfactory/Algoritms/practice.ipynb#ch0000005?line=26'>27</a>\u001b[0m     \u001b[39mreturn\u001b[39;00m \u001b[39mself\u001b[39;49m\u001b[39m.\u001b[39;49mpinA\u001b[39m.\u001b[39;49mgetFrom()\u001b[39m.\u001b[39;49mgetOutput()\n",
      "\u001b[1;32mc:\\Users\\Denis.kozarenko\\VS_code\\VS_code\\Skillfactory\\Algoritms\\practice.ipynb Cell 6'\u001b[0m in \u001b[0;36mLogicGate.getOutput\u001b[1;34m(self)\u001b[0m\n\u001b[0;32m     <a href='vscode-notebook-cell:/c%3A/Users/Denis.kozarenko/VS_code/VS_code/Skillfactory/Algoritms/practice.ipynb#ch0000005?line=9'>10</a>\u001b[0m \u001b[39mdef\u001b[39;00m \u001b[39mgetOutput\u001b[39m(\u001b[39mself\u001b[39m):\n\u001b[1;32m---> <a href='vscode-notebook-cell:/c%3A/Users/Denis.kozarenko/VS_code/VS_code/Skillfactory/Algoritms/practice.ipynb#ch0000005?line=10'>11</a>\u001b[0m     \u001b[39mself\u001b[39m\u001b[39m.\u001b[39moutput \u001b[39m=\u001b[39m \u001b[39mself\u001b[39;49m\u001b[39m.\u001b[39;49mperformGateLogic()\n\u001b[0;32m     <a href='vscode-notebook-cell:/c%3A/Users/Denis.kozarenko/VS_code/VS_code/Skillfactory/Algoritms/practice.ipynb#ch0000005?line=11'>12</a>\u001b[0m     \u001b[39mreturn\u001b[39;00m \u001b[39mself\u001b[39m\u001b[39m.\u001b[39moutput\n",
      "\u001b[1;32mc:\\Users\\Denis.kozarenko\\VS_code\\VS_code\\Skillfactory\\Algoritms\\practice.ipynb Cell 6'\u001b[0m in \u001b[0;36mAndGate.performGateLogic\u001b[1;34m(self)\u001b[0m\n\u001b[0;32m     <a href='vscode-notebook-cell:/c%3A/Users/Denis.kozarenko/VS_code/VS_code/Skillfactory/Algoritms/practice.ipynb#ch0000005?line=49'>50</a>\u001b[0m \u001b[39mdef\u001b[39;00m \u001b[39mperformGateLogic\u001b[39m(\u001b[39mself\u001b[39m):\n\u001b[1;32m---> <a href='vscode-notebook-cell:/c%3A/Users/Denis.kozarenko/VS_code/VS_code/Skillfactory/Algoritms/practice.ipynb#ch0000005?line=51'>52</a>\u001b[0m     a \u001b[39m=\u001b[39m \u001b[39mself\u001b[39;49m\u001b[39m.\u001b[39;49mgetPinA()\n\u001b[0;32m     <a href='vscode-notebook-cell:/c%3A/Users/Denis.kozarenko/VS_code/VS_code/Skillfactory/Algoritms/practice.ipynb#ch0000005?line=52'>53</a>\u001b[0m     b \u001b[39m=\u001b[39m \u001b[39mself\u001b[39m\u001b[39m.\u001b[39mgetPinB()\n\u001b[0;32m     <a href='vscode-notebook-cell:/c%3A/Users/Denis.kozarenko/VS_code/VS_code/Skillfactory/Algoritms/practice.ipynb#ch0000005?line=53'>54</a>\u001b[0m     \u001b[39mif\u001b[39;00m a\u001b[39m==\u001b[39m\u001b[39m1\u001b[39m \u001b[39mand\u001b[39;00m b\u001b[39m==\u001b[39m\u001b[39m1\u001b[39m:\n",
      "\u001b[1;32mc:\\Users\\Denis.kozarenko\\VS_code\\VS_code\\Skillfactory\\Algoritms\\practice.ipynb Cell 6'\u001b[0m in \u001b[0;36mBinaryGate.getPinA\u001b[1;34m(self)\u001b[0m\n\u001b[0;32m     <a href='vscode-notebook-cell:/c%3A/Users/Denis.kozarenko/VS_code/VS_code/Skillfactory/Algoritms/practice.ipynb#ch0000005?line=22'>23</a>\u001b[0m \u001b[39mdef\u001b[39;00m \u001b[39mgetPinA\u001b[39m(\u001b[39mself\u001b[39m):\n\u001b[0;32m     <a href='vscode-notebook-cell:/c%3A/Users/Denis.kozarenko/VS_code/VS_code/Skillfactory/Algoritms/practice.ipynb#ch0000005?line=23'>24</a>\u001b[0m     \u001b[39mif\u001b[39;00m \u001b[39mself\u001b[39m\u001b[39m.\u001b[39mpinA \u001b[39m==\u001b[39m \u001b[39mNone\u001b[39;00m:\n\u001b[1;32m---> <a href='vscode-notebook-cell:/c%3A/Users/Denis.kozarenko/VS_code/VS_code/Skillfactory/Algoritms/practice.ipynb#ch0000005?line=24'>25</a>\u001b[0m         \u001b[39mreturn\u001b[39;00m \u001b[39mint\u001b[39;49m(\u001b[39minput\u001b[39;49m(\u001b[39m\"\u001b[39;49m\u001b[39mEnter Pin A input for gate \u001b[39;49m\u001b[39m\"\u001b[39;49m\u001b[39m+\u001b[39;49m\u001b[39mself\u001b[39;49m\u001b[39m.\u001b[39;49mgetName()\u001b[39m+\u001b[39;49m\u001b[39m\"\u001b[39;49m\u001b[39m-->\u001b[39;49m\u001b[39m\"\u001b[39;49m))\n\u001b[0;32m     <a href='vscode-notebook-cell:/c%3A/Users/Denis.kozarenko/VS_code/VS_code/Skillfactory/Algoritms/practice.ipynb#ch0000005?line=25'>26</a>\u001b[0m     \u001b[39melse\u001b[39;00m:\n\u001b[0;32m     <a href='vscode-notebook-cell:/c%3A/Users/Denis.kozarenko/VS_code/VS_code/Skillfactory/Algoritms/practice.ipynb#ch0000005?line=26'>27</a>\u001b[0m         \u001b[39mreturn\u001b[39;00m \u001b[39mself\u001b[39m\u001b[39m.\u001b[39mpinA\u001b[39m.\u001b[39mgetFrom()\u001b[39m.\u001b[39mgetOutput()\n",
      "\u001b[1;31mValueError\u001b[0m: invalid literal for int() with base 10: ''"
     ]
    }
   ],
   "source": [
    "class LogicGate:\n",
    "\n",
    "    def __init__(self,n):\n",
    "        self.name = n\n",
    "        self.output = None\n",
    "\n",
    "    def getName(self):\n",
    "        return self.name\n",
    "\n",
    "    def getOutput(self):\n",
    "        self.output = self.performGateLogic()\n",
    "        return self.output\n",
    "\n",
    "\n",
    "class BinaryGate(LogicGate):\n",
    "\n",
    "    def __init__(self,n):\n",
    "        LogicGate.__init__(self,n)\n",
    "\n",
    "        self.pinA = None\n",
    "        self.pinB = None\n",
    "\n",
    "    def getPinA(self):\n",
    "        if self.pinA == None:\n",
    "            return int(input(\"Enter Pin A input for gate \"+self.getName()+\"-->\"))\n",
    "        else:\n",
    "            return self.pinA.getFrom().getOutput()\n",
    "\n",
    "    def getPinB(self):\n",
    "        if self.pinB == None:\n",
    "            return int(input(\"Enter Pin B input for gate \"+self.getName()+\"-->\"))\n",
    "        else:\n",
    "            return self.pinB.getFrom().getOutput()\n",
    "\n",
    "    def setNextPin(self,source):\n",
    "        if self.pinA == None:\n",
    "            self.pinA = source\n",
    "        else:\n",
    "            if self.pinB == None:\n",
    "                self.pinB = source\n",
    "            else:\n",
    "                print(\"Cannot Connect: NO EMPTY PINS on this gate\")\n",
    "\n",
    "\n",
    "class AndGate(BinaryGate):\n",
    "\n",
    "    def __init__(self,n):\n",
    "        BinaryGate.__init__(self,n)\n",
    "\n",
    "    def performGateLogic(self):\n",
    "\n",
    "        a = self.getPinA()\n",
    "        b = self.getPinB()\n",
    "        if a==1 and b==1:\n",
    "            return 1\n",
    "        else:\n",
    "            return 0\n",
    "\n",
    "class OrGate(BinaryGate):\n",
    "\n",
    "    def __init__(self,n):\n",
    "        BinaryGate.__init__(self,n)\n",
    "\n",
    "    def performGateLogic(self):\n",
    "\n",
    "        a = self.getPinA()\n",
    "        b = self.getPinB()\n",
    "        if a ==1 or b==1:\n",
    "            return 1\n",
    "        else:\n",
    "            return 0\n",
    "\n",
    "class UnaryGate(LogicGate):\n",
    "\n",
    "    def __init__(self,n):\n",
    "        LogicGate.__init__(self,n)\n",
    "\n",
    "        self.pin = None\n",
    "\n",
    "    def getPin(self):\n",
    "        if self.pin == None:\n",
    "            return int(input(\"Enter Pin input for gate \"+self.getName()+\"-->\"))\n",
    "        else:\n",
    "            return self.pin.getFrom().getOutput()\n",
    "\n",
    "    def setNextPin(self,source):\n",
    "        if self.pin == None:\n",
    "            self.pin = source\n",
    "        else:\n",
    "            print(\"Cannot Connect: NO EMPTY PINS on this gate\")\n",
    "\n",
    "\n",
    "class NotGate(UnaryGate):\n",
    "\n",
    "    def __init__(self,n):\n",
    "        UnaryGate.__init__(self,n)\n",
    "\n",
    "    def performGateLogic(self):\n",
    "        if self.getPin():\n",
    "            return 0\n",
    "        else:\n",
    "            return 1\n",
    "\n",
    "\n",
    "class Connector:\n",
    "\n",
    "    def __init__(self, fgate, tgate):\n",
    "        self.fromgate = fgate\n",
    "        self.togate = tgate\n",
    "\n",
    "        tgate.setNextPin(self)\n",
    "\n",
    "    def getFrom(self):\n",
    "        return self.fromgate\n",
    "\n",
    "    def getTo(self):\n",
    "        return self.togate\n",
    "\n",
    "\n",
    "def main():\n",
    "   g1 = AndGate(\"G1\")\n",
    "   g2 = AndGate(\"G2\")\n",
    "   g3 = OrGate(\"G3\")\n",
    "   g4 = NotGate(\"G4\")\n",
    "   c1 = Connector(g1,g3)\n",
    "   c2 = Connector(g2,g3)\n",
    "   c3 = Connector(g3,g4)\n",
    "   print(g4.getOutput())\n",
    "\n",
    "main()\n",
    "       \n",
    "       \n",
    "       \n",
    "# g1 = AndGate(\"G1\")\n",
    "# g1.getOutput()\n",
    "# # Enter Pin A input for gate G1-->1\n",
    "# # Enter Pin B input for gate G1-->0\n",
    "# # 0\n",
    "# g2 = OrGate(\"G2\")\n",
    "# g2.getOutput()\n",
    "# # Enter Pin A input for gate G2-->1\n",
    "# # Enter Pin B input for gate G2-->1\n",
    "# # 1\n",
    "# g2.getOutput()\n",
    "# # Enter Pin A input for gate G2-->0\n",
    "# # Enter Pin B input for gate G2-->0\n",
    "# # 0\n",
    "# g3 = NotGate(\"G3\")\n",
    "# g3.getOutput()\n",
    "# # Enter Pin input for gate G3-->0\n",
    "# # 1"
   ]
  },
  {
   "cell_type": "code",
   "execution_count": null,
   "metadata": {},
   "outputs": [
    {
     "name": "stdout",
     "output_type": "stream",
     "text": [
      "56581\n"
     ]
    }
   ],
   "source": [
    "def fib_mod(n, m):\n",
    "    lst = [0,1]\n",
    "    if n <= 1:\n",
    "        return lst[n]\n",
    "    else:\n",
    "        for i in range(2, (m*6)+1, 1):\n",
    "            lst.append(((lst[i - 2] % m) + (lst[i - 1] % m)) % m)\n",
    "            # print(lst)\n",
    "    for step in range(2, len(lst) + 1):\n",
    "        # print(f'n = {step}  lst[n]={lst[step]} , lst[n-1]={lst[step-1]}')\n",
    "        if lst[step] == 1 and lst[step - 1] == 0:\n",
    "            return lst[n % (step - 1)]\n",
    "\n",
    "\n",
    "def main():\n",
    "    n, m = 999999999999999999, 99999\n",
    "    print(fib_mod(n, m))\n",
    "\n",
    "\n",
    "if __name__ == \"__main__\":\n",
    "    main()"
   ]
  },
  {
   "cell_type": "code",
   "execution_count": null,
   "metadata": {},
   "outputs": [
    {
     "name": "stdout",
     "output_type": "stream",
     "text": [
      "234\n"
     ]
    }
   ],
   "source": [
    "def gcd(a, b):\n",
    "    return gcd(b, a % b) if b else a    \n",
    "\n",
    "\n",
    "def main():\n",
    "    a, b = 0, 234\n",
    "    print(gcd(a, b))\n",
    "\n",
    "\n",
    "if __name__ == \"__main__\":\n",
    "    main()"
   ]
  },
  {
   "cell_type": "code",
   "execution_count": null,
   "metadata": {},
   "outputs": [
    {
     "name": "stdout",
     "output_type": "stream",
     "text": [
      "2582249878086908589655919172003011874329705792829223512830659356540647622016841194629645353280137831435903171972747493376\n",
      "4149515568880992958512407863691161151012446232242436899995657329690652811412908146399707048947103794288197886611300789182395151075411775307886874834113963687061181803401509523685376\n",
      "788657867364790503552363213932185062295135977687173263294742533244359449963403342920304284011984623904177212138919638830257642790242637105061926624952829931113462857270763317237396988943922445621451664240254033291864131227428294853277524242407573903240321257405579568660226031904170324062351700858796178922222789623703897374720000000000000000000000000000000000000000000000000\n"
     ]
    }
   ],
   "source": [
    "import math\n",
    "n=200\n",
    "print(round(math.sqrt(math.log(n, 4)),1))\n",
    "print(round(math.log(math.log(n, 2),2),1))\n",
    "print(round(math.log(n, 3)))\n",
    "print(round(math.log(n, 2) ** 2))\n",
    "print(round(math.sqrt(n)))\n",
    "print(round(n / math.log(n, 5)))\n",
    "print(round(math.log(math.factorial(n),2)))\n",
    "print(round(3 ** math.log(n, 2)))\n",
    "print(round(n ** 2))\n",
    "print(round(7 ** (math.log(n, 2))))\n",
    "print(round(math.log(n, 2) ** (math.log(n, 2))))\n",
    "print(round(n ** (math.log(n, 2))))\n",
    "print(round(n ** (math.sqrt(n))))\n",
    "print(round(2 ** n))\n",
    "print(round(4 ** n))\n",
    "print(round(2 ** (3 * n)))\n",
    "print(round(math.factorial(n)))\n",
    "# print(round(2 ** (2 ** n)))"
   ]
  },
  {
   "cell_type": "code",
   "execution_count": 9,
   "metadata": {},
   "outputs": [
    {
     "data": {
      "text/plain": [
       "43466557686937456435688527675040625802564660517371780402481729089536555417949051890403879840079255169295922593080322634775209689623239873322471161642996440906533187938298969649928516003704476137795166849228875"
      ]
     },
     "execution_count": 9,
     "metadata": {},
     "output_type": "execute_result"
    }
   ],
   "source": [
    "from PIL import Image\n",
    "from rcviz import viz\n",
    "def fib1(n):\n",
    "    assert n >= 0\n",
    "    return n if n <= 1 else fib1(n-1) + fib1(n-2)\n",
    "fib1(8)\n",
    "\n",
    "old_fib1 = fib1\n",
    "\n",
    "cache = {}\n",
    "def fib2(n):\n",
    "    assert n >= 0\n",
    "    if n not in cache:\n",
    "        cache[n] = n if n <= 1 else fib2(n-1) + fib2(n-2)\n",
    "    return cache[n]\n",
    "\n",
    "\n",
    "fib2(1000)"
   ]
  },
  {
   "cell_type": "code",
   "execution_count": null,
   "metadata": {},
   "outputs": [],
   "source": [
    "def memo(f):\n",
    "    cache = {}\n",
    "    def inner(n):\n",
    "        assert n >= 0\n",
    "        if n not in cache:\n",
    "            cache[n] = f(n)\n",
    "            return cache[n]\n",
    "        return inner\n",
    "    "
   ]
  },
  {
   "cell_type": "code",
   "execution_count": 10,
   "metadata": {},
   "outputs": [
    {
     "data": {
      "text/plain": [
       "23416728348467685"
      ]
     },
     "execution_count": 10,
     "metadata": {},
     "output_type": "execute_result"
    }
   ],
   "source": [
    "from functools import lru_cache\n",
    "fib1 = lru_cache(maxsize=None)(old_fib1)\n",
    "fib1(80)"
   ]
  },
  {
   "cell_type": "code",
   "execution_count": 14,
   "metadata": {},
   "outputs": [
    {
     "data": {
      "text/plain": [
       "21"
      ]
     },
     "execution_count": 14,
     "metadata": {},
     "output_type": "execute_result"
    }
   ],
   "source": [
    "def fib3(n):\n",
    "    assert n >= 0 \n",
    "    f0, f1 = 0, 1\n",
    "    for i in range(n -1):\n",
    "        f0, f1 = f1, f0 + f1\n",
    "    return f1\n",
    "\n",
    "fib3(8)"
   ]
  },
  {
   "cell_type": "code",
   "execution_count": 16,
   "metadata": {},
   "outputs": [],
   "source": [
    "import time\n",
    "\n",
    "from matplotlib import pyplot as plt\n",
    "\n",
    "\n",
    "def timed(f, args, *, n_iter=100):\n",
    "    acc = float(\"inf\")\n",
    "    for i in range(n_iter):\n",
    "        t0 = time.perf_counter()\n",
    "        f(*args)\n",
    "        acc = min(acc, time.perf_counter() - t0)\n",
    "\n",
    "    return acc\n",
    "\n",
    "\n",
    "def compare(fs, args):\n",
    "    xs = list(range(len(args)))\n",
    "    for f in fs:\n",
    "        plt.plot(xs, [timed(f, chunk) for chunk in args],\n",
    "                 label=f.__name__)\n",
    "    plt.legend()\n",
    "    plt.grid(True)"
   ]
  },
  {
   "cell_type": "code",
   "execution_count": 34,
   "metadata": {},
   "outputs": [],
   "source": [
    "import random\n",
    "\n",
    "def test(gcd, n_iter = 100):\n",
    "    for i in range(n_iter):\n",
    "        c = random.randint(0, 1024)\n",
    "        a = c * random.randint(0, 128)\n",
    "        b = c * random.randint(0, 128)\n",
    "        assert gcd(a, a) == gcd (a, 0) == a\n",
    "        assert gcd(b, b) == gcd (b, 0) == b\n",
    "        assert gcd(a, 1) == gcd (b, 1) == 1\n",
    "        d = gcd(a, b)\n",
    "        assert a % d == b % d == 0\n",
    "def gcd1(a, b):\n",
    "    assert a >= 0 and b>=0\n",
    "    for d in reversed(range(max(a, b) +1)):\n",
    "        if d == 0 or a % d == b % d == 0:\n",
    "            return d\n",
    "    \n",
    "    \n",
    "gcd1(0, 0)\n",
    "test(gcd1)\n",
    "        "
   ]
  },
  {
   "cell_type": "code",
   "execution_count": 35,
   "metadata": {},
   "outputs": [],
   "source": [
    "def gcd2(a, b):\n",
    "    while a and b:\n",
    "        if a >= b:\n",
    "            a %= b\n",
    "        else:\n",
    "            b %= a\n",
    "    return max(a, b)\n",
    "\n",
    "test(gcd2)\n",
    "\n"
   ]
  },
  {
   "cell_type": "code",
   "execution_count": 36,
   "metadata": {},
   "outputs": [],
   "source": [
    "def gcd3(a, b):\n",
    "    assert a >= 0 and b >=0\n",
    "    if a == 0 or b == 0:\n",
    "        return max(a, b)\n",
    "    elif a >= b:\n",
    "        return gcd3(a % b, b)\n",
    "    else:\n",
    "        return gcd3(a, b % a)\n",
    "test(gcd3)"
   ]
  },
  {
   "cell_type": "code",
   "execution_count": 38,
   "metadata": {},
   "outputs": [],
   "source": [
    "def gcd4(a, b):\n",
    "    assert a >= 0 and b >= 0\n",
    "    if a == 0 or b == 0:\n",
    "        return max(a, b)\n",
    "    else:\n",
    "        return gcd4(b % a, a)\n",
    "test(gcd4)"
   ]
  },
  {
   "cell_type": "markdown",
   "metadata": {},
   "source": [
    "## Жадные алгоритмы"
   ]
  },
  {
   "cell_type": "code",
   "execution_count": null,
   "metadata": {},
   "outputs": [],
   "source": []
  }
 ],
 "metadata": {
  "interpreter": {
   "hash": "4cf8740b77de6ac68c701f5d05813ddbce361e765d83d58497ce85d0cb93b38e"
  },
  "kernelspec": {
   "display_name": "Python 3.9.10 64-bit",
   "language": "python",
   "name": "python3"
  },
  "language_info": {
   "codemirror_mode": {
    "name": "ipython",
    "version": 3
   },
   "file_extension": ".py",
   "mimetype": "text/x-python",
   "name": "python",
   "nbconvert_exporter": "python",
   "pygments_lexer": "ipython3",
   "version": "3.9.10"
  },
  "orig_nbformat": 4
 },
 "nbformat": 4,
 "nbformat_minor": 2
}
