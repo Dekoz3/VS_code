{
 "cells": [
  {
   "cell_type": "code",
   "execution_count": 1,
   "metadata": {},
   "outputs": [],
   "source": [
    "# https://lms.skillfactory.ru/courses/course-v1:SkillFactory+DSPR-2.0+14JULY2021/courseware/64fb8f8af1424a7788ba0e45453617fc/fe7f54b798d642c9990b9f43ccd7b492/1?activate_block_id=block-v1%3ASkillFactory%2BDSPR-2.0%2B14JULY2021%2Btype%40html%2Bblock%403bddec1d246549348a1e5440710424d4\n",
    "from IPython.display import display\n",
    "import numpy as np\n",
    "import pandas as pd \n",
    "\n",
    "pd.set_option('display.max_columns', 40) # выводить больше столбцов\n",
    "pd.set_option('display.max_rows', 40)   # выводить больше строк\n",
    "\n",
    "# plt.style.use('default')    # корректный вывод графиков в темной теме Matplotlib\n",
    "# fig.show(renderer='notebook') #включение анимации\n",
    "#!/usr/bin/env python\n",
    "\n",
    "import io\n",
    "import zipfile\n",
    "import requests  \n",
    "\n",
    "\n",
    "# # unzip with link\n",
    "# r = requests.get(\"!!!_link_!!!\") # link\n",
    "# with r, zipfile.ZipFile(io.BytesIO(r.content)) as archive:\n",
    "#   archive.extractall('data')\n",
    "\n",
    "# # unzip file on the disk\n",
    "# with zipfile.ZipFile('data/wine_cleared.zip', 'r') as archive:\n",
    "#     archive.extractall('data')\n"
   ]
  },
  {
   "cell_type": "markdown",
   "metadata": {},
   "source": [
    "# Домашнее задание\n",
    "Используя информацию по мидиям Петербурга и Магадана, которые представлены в виде двух массивов petersburg и magadan в разделе ANOVA тест, проверьте данные на нормальность и на наличие корреляции. Для этого объедините 2 массива в DataFrame. Обоснуйте выбор теста на корреляцию. Сделайте вывод по гипотезе.\n",
    "  \n",
    "Также ответьте на вопрос:\n",
    "Какова разница в среднем размере мидии в зависимости от города-производителя. Обоснуйте выбор теста. Сделайте вывод по гипотезе.\n",
    "\n",
    "5\tДанные объединены в DataFrame </br>\n",
    "5\tПроведён тест на корреляцию </br>\n",
    "7\tОбоснован выбор теста на корреляцию </br>\n",
    "3\tСделан правильный вывод по гипотезе </br>\n",
    "7\tПроведён тест на сравнение выборок </br>\n",
    "7\tОбоснован выбор теста на сравнение </br>\n",
    "3\tСделан правильный вывод по гипотезе </br>"
   ]
  },
  {
   "cell_type": "code",
   "execution_count": null,
   "metadata": {},
   "outputs": [],
   "source": [
    "# альфа устанавливаем на уровне 0.05 так как это не то чтобы жизненаважные показатели, но деньги в этом кейсе могут быть серьезные\n",
    "alpha = 0.05\n",
    "\n",
    "petersburg = [0.0974, 0.1352, 0.0817, 0.1016, 0.0968, 0.1064, 0.105]\n",
    "magadan = [0.1033, 0.0915, 0.0781, 0.0685, 0.0677, 0.0697, 0.0764, 0.0689]\n",
    "\n",
    "import pandas as pd\n",
    "\n",
    "# добавляем среднее значение для корректной сборки Dataframe\n",
    "# т.к. оно не повлияет ни на нормальность распределения ни на сравнение средних \n",
    "petersburg.append(np.mean(petersburg))  \n",
    "# собираем df\n",
    "data = pd.DataFrame(list(zip(petersburg, magadan)),\n",
    "               columns =['Petersburg', 'Magadan'])"
   ]
  },
  {
   "cell_type": "code",
   "execution_count": 37,
   "metadata": {},
   "outputs": [
    {
     "name": "stdout",
     "output_type": "stream",
     "text": [
      "p=0.100\n",
      "Данные распределены нормально\n"
     ]
    }
   ],
   "source": [
    "# Формирование гипотез по нормальности\n",
    "H0 = 'Данные распределены нормально'\n",
    "Ha = 'Данные не распределены нормально (мы отвергаем H0)'\n",
    "\n",
    "# Проверяем тестом Шапиро\n",
    "from scipy.stats import shapiro\n",
    "_, p = shapiro(data)\n",
    "print('p=%.3f' % p)\n",
    "\n",
    "# Интерпретация \n",
    "\n",
    "if p > alpha:\n",
    "\tprint(H0)\n",
    "else:\n",
    "\tprint(Ha)\n"
   ]
  },
  {
   "cell_type": "code",
   "execution_count": 41,
   "metadata": {},
   "outputs": [
    {
     "name": "stdout",
     "output_type": "stream",
     "text": [
      "0.5594098062056255 > 0.025. Мы не можем отвергнуть нулевую гипотезу об отсутсвии зависимости между переменными.\n"
     ]
    }
   ],
   "source": [
    "# Так как переменные непрерывные то берем тест на корреляцию Пирсона\n",
    "from numpy.random import rand\n",
    "from scipy.stats import pearsonr\n",
    "\n",
    "corr, p = pearsonr(data[\"Petersburg\"], data['Magadan'])\n",
    "\n",
    "\n",
    "if p>alpha:\n",
    "    print(f\"{p} > {alpha/2}. Мы не можем отвергнуть нулевую гипотезу об отсутсвии зависимости между переменными.\")\n",
    "else:\n",
    "    print(f\"{p} <= {alpha/2}. Мы отвергаем нулевую гипотезу об отсутсвии зависимости между переменными.\")"
   ]
  },
  {
   "cell_type": "code",
   "execution_count": 32,
   "metadata": {},
   "outputs": [
    {
     "name": "stdout",
     "output_type": "stream",
     "text": [
      "\n",
      "*** Результаты независимого T-теста ***\n",
      "0.0 <= 0.05. Мы отвергаем нулевую гипотезу. Есть значимая разница между диаметрами мидий в разных городах.\n",
      "Разница в среднем диаметре мидий, выращенных в Санкт-Питербурге и Магадане 0.025м\n"
     ]
    }
   ],
   "source": [
    "# для теста на сравнение выборок используем независимый Т-тест так как выборки происходят у разных совокупностей\n",
    "\n",
    "from scipy.stats import ttest_ind\n",
    "\n",
    "# формирование гипотез по разнице диаметра\n",
    "H0 = 'Нет значимой разницы между диаметрами мидий в разных городах.'\n",
    "Ha = 'Есть значимая разница между диаметрами мидий в разных городах.'\n",
    "\n",
    "\n",
    "def t_test(df):\n",
    "    print('\\n' + \"*** Результаты независимого T-теста ***\")\n",
    "    test_results = ttest_ind(data['Petersburg'], data['Magadan'], equal_var=True)\n",
    "\n",
    "    p = round(test_results[1],2)\n",
    "\n",
    "    if p>alpha:\n",
    "        print(f\"{p} > {alpha}. Мы не можем отвергнуть нулевую гипотезу. {H0}\")\n",
    "    else:\n",
    "        print(f\"{p} <= {alpha}. Мы отвергаем нулевую гипотезу. {Ha}\")\n",
    "\n",
    "t_test(data)\n",
    "print(f'Разница в среднем диаметре мидий, выращенных в Санкт-Питербурге и Магадане {round(np.mean(data[\"Petersburg\"]) - np.mean( data[\"Magadan\"]), 3)}м')\n"
   ]
  }
 ],
 "metadata": {
  "interpreter": {
   "hash": "74668ca775b65556bba853117f41fb465b199a16b19945f2f619beec785fb939"
  },
  "kernelspec": {
   "display_name": "Python 3.9.10 64-bit",
   "language": "python",
   "name": "python3"
  },
  "language_info": {
   "codemirror_mode": {
    "name": "ipython",
    "version": 3
   },
   "file_extension": ".py",
   "mimetype": "text/x-python",
   "name": "python",
   "nbconvert_exporter": "python",
   "pygments_lexer": "ipython3",
   "version": "3.9.10"
  },
  "orig_nbformat": 4
 },
 "nbformat": 4,
 "nbformat_minor": 2
}
