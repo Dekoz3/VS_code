{
 "cells": [
  {
   "cell_type": "code",
   "execution_count": 1,
   "metadata": {},
   "outputs": [],
   "source": [
    "# https://lms.skillfactory.ru/courses/course-v1:SkillFactory+DSPR-2.0+14JULY2021/courseware/64fb8f8af1424a7788ba0e45453617fc/fe7f54b798d642c9990b9f43ccd7b492/1?activate_block_id=block-v1%3ASkillFactory%2BDSPR-2.0%2B14JULY2021%2Btype%40html%2Bblock%403bddec1d246549348a1e5440710424d4\n",
    "from IPython.display import display\n",
    "import numpy as np\n",
    "import pandas as pd \n",
    "\n",
    "pd.set_option('display.max_columns', 40) # выводить больше столбцов\n",
    "pd.set_option('display.max_rows', 40)   # выводить больше строк\n",
    "\n",
    "# plt.style.use('default')    # корректный вывод графиков в темной теме Matplotlib\n",
    "# fig.show(renderer='notebook') #включение анимации\n",
    "#!/usr/bin/env python\n",
    "\n",
    "import io\n",
    "import zipfile\n",
    "import requests  \n",
    "\n",
    "\n",
    "# # unzip with link\n",
    "# r = requests.get(\"https://lms.skillfactory.ru/assets/courseware/v1/ce42b95793b6abb664068d5865e0df1a/asset-v1:SkillFactory+DSPR-2.0+14JULY2021+type@asset+block/iris.zip\") # link\n",
    "# with r, zipfile.ZipFile(io.BytesIO(r.content)) as archive:\n",
    "#   archive.extractall('data')\n",
    "\n",
    "# # unzip file on the disk\n",
    "# with zipfile.ZipFile('data/wine_cleared.zip', 'r') as archive:\n",
    "#     archive.extractall('data')\n",
    "# https://lms.skillfactory.ru/assets/courseware/v1/ce42b95793b6abb664068d5865e0df1a/asset-v1:SkillFactory+DSPR-2.0+14JULY2021+type@asset+block/iris.zip"
   ]
  },
  {
   "cell_type": "code",
   "execution_count": null,
   "metadata": {},
   "outputs": [],
   "source": []
  }
 ],
 "metadata": {
  "interpreter": {
   "hash": "74668ca775b65556bba853117f41fb465b199a16b19945f2f619beec785fb939"
  },
  "kernelspec": {
   "display_name": "Python 3.9.10 64-bit",
   "language": "python",
   "name": "python3"
  },
  "language_info": {
   "codemirror_mode": {
    "name": "ipython",
    "version": 3
   },
   "file_extension": ".py",
   "mimetype": "text/x-python",
   "name": "python",
   "nbconvert_exporter": "python",
   "pygments_lexer": "ipython3",
   "version": "3.9.10"
  },
  "orig_nbformat": 4
 },
 "nbformat": 4,
 "nbformat_minor": 2
}
