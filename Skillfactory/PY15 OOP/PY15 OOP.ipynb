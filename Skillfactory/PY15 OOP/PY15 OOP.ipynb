{
 "cells": [
  {
   "cell_type": "code",
   "execution_count": 1,
   "metadata": {},
   "outputs": [
    {
     "name": "stdout",
     "output_type": "stream",
     "text": [
      "[1000000, 400000]\n",
      "700000.0\n"
     ]
    }
   ],
   "source": [
    "class DepartmentReport():\n",
    "    def add_revenue(self, amount):\n",
    "        if not hasattr(self, 'revenues'):\n",
    "            self.revenues = []\n",
    "        self.revenues.append(amount)\n",
    "    \n",
    "    def average_revenue(self):\n",
    "        return sum(self.revenues)/len(self.revenues)\n",
    "    \n",
    "               \n",
    "report = DepartmentReport()\n",
    "report.add_revenue(1_000_000)\n",
    "report.add_revenue(400_000)\n",
    "print(report.revenues)\n",
    "# => [1000000, 400000]\n",
    "print(report.average_revenue())\n",
    "# => 700000.0"
   ]
  },
  {
   "cell_type": "code",
   "execution_count": 2,
   "metadata": {},
   "outputs": [
    {
     "name": "stdout",
     "output_type": "stream",
     "text": [
      "False\n",
      "(5, 2)\n"
     ]
    }
   ],
   "source": [
    " \n",
    "number = 2.5   \n",
    "# Вызовем метод is_integer. Он скажет нам, является ли number целым числом  \n",
    "print(number.is_integer())  \n",
    "# => False  \n",
    "  \n",
    "# Давайте попробуем представить number как обыкновенную дробь  \n",
    "print(number.as_integer_ratio())  \n",
    "# => (5, 2)  \n",
    "# Действительно 2.5 = 5/2 "
   ]
  },
  {
   "cell_type": "code",
   "execution_count": null,
   "metadata": {},
   "outputs": [],
   "source": []
  },
  {
   "cell_type": "code",
   "execution_count": 3,
   "metadata": {},
   "outputs": [
    {
     "name": "stdout",
     "output_type": "stream",
     "text": [
      "Average department revenue for Danon: 700000.0\n",
      "None\n"
     ]
    }
   ],
   "source": [
    "class DepartmentReport():\n",
    "\n",
    "    def __init__(self,company):\n",
    "        \"\"\"\n",
    "        Метод инициализации класса. \n",
    "        Создаёт атрибуты revenues и company\n",
    "        \"\"\"\n",
    "        self.revenues = []\n",
    "        self.company = company\n",
    "    \n",
    "    def add_revenue(self, amount):\n",
    "        \"\"\"\n",
    "        Метод для добавления выручки отдела в список revenues.\n",
    "        Если атрибута revenues ещё не существует, метод должен создавать пустой список перед добавлением выручки.\n",
    "        \"\"\"\n",
    "        self.revenues.append(amount)\n",
    "    \n",
    "    def average_revenue(self):\n",
    "        \"\"\"\n",
    "        Вычисляет average_revenue — среднюю выручку по отделам — округляя до целого.\n",
    "        Метод возвращает строку в формате:\n",
    "        'Average department revenue for <company>: <average_revenue>'\n",
    "        \"\"\"\n",
    "        average= sum(self.revenues)/len(self.revenues)\n",
    "        # return f'Average department revenue for {self.company}: {sum(self.revenues)/len(self.revenues)}'#Codeborde не работает со f'строками\n",
    "        return print('Average department revenue for {}: {}'.format(self.company, average))\n",
    "    \n",
    "\n",
    "        \n",
    "# В случае правильного описания класса код, приведённый ниже, должен выдать следующий результат:\n",
    "\n",
    "report = DepartmentReport(\"Danon\")\n",
    "report.add_revenue(1_000_000)\n",
    "report.add_revenue(400_000)\n",
    "\n",
    "print(report.average_revenue())\n",
    "# => Average department revenue for Danon: 700000"
   ]
  },
  {
   "cell_type": "code",
   "execution_count": 4,
   "metadata": {},
   "outputs": [
    {
     "name": "stdout",
     "output_type": "stream",
     "text": [
      "Average department revenue for Danon: 700000\n",
      "None\n"
     ]
    }
   ],
   "source": [
    "class DepartmentReport():\n",
    "\n",
    "    def __init__(self, company):\n",
    "        self.revenues = []\n",
    "        self.company = company\n",
    "    \n",
    "    def add_revenue(self, amount):\n",
    "        self.revenues.append(amount)\n",
    "    \n",
    "    def average_revenue(self):\n",
    "        average = round(sum(self.revenues)/len(self.revenues))\n",
    "        return print('Average department revenue for {}: {}'.format(self.company, average))\n",
    "        \n",
    "report = DepartmentReport(\"Danon\")\n",
    "report.add_revenue(1_000_000)\n",
    "report.add_revenue(400_000)\n",
    "\n",
    "print(report.average_revenue())"
   ]
  },
  {
   "cell_type": "code",
   "execution_count": 5,
   "metadata": {},
   "outputs": [
    {
     "name": "stdout",
     "output_type": "stream",
     "text": [
      "Employee:  Ivan Semenov\n",
      "Total sales: 390000\n",
      "Average sales: 130000.0\n",
      "Companies: ['PepsiCo', 'SkyEng']\n"
     ]
    }
   ],
   "source": [
    "class SalesReport():  \n",
    "    def __init__(self, employee_name):  \n",
    "        self.deals = []  \n",
    "        self.employee_name = employee_name  \n",
    "      \n",
    "    def add_deal(self, company, amount):   \n",
    "        self.deals.append({'company': company, 'amount': amount})  \n",
    "          \n",
    "    def total_amount(self):  \n",
    "        return sum([deal['amount'] for deal in self.deals])  \n",
    "      \n",
    "    def average_deal(self):  \n",
    "        return self.total_amount()/len(self.deals)  \n",
    "      \n",
    "    def all_companies(self):  \n",
    "        return list(set([deal['company'] for deal in self.deals]))  \n",
    "      \n",
    "    def print_report(self):  \n",
    "        print(\"Employee: \", self.employee_name)  \n",
    "        print(\"Total sales:\", self.total_amount())  \n",
    "        print(\"Average sales:\", self.average_deal())  \n",
    "        print(\"Companies:\", self.all_companies())  \n",
    "      \n",
    "      \n",
    "report = SalesReport(\"Ivan Semenov\")  \n",
    "  \n",
    "report.add_deal(\"PepsiCo\", 120_000)  \n",
    "report.add_deal(\"SkyEng\", 250_000)  \n",
    "report.add_deal(\"PepsiCo\", 20_000)  \n",
    "  \n",
    "report.print_report()  \n",
    "# => Employee:  Ivan Semenov  \n",
    "# Total sales: 390000  \n",
    "# Average sales: 130000.0  \n",
    "# Companies: ['PepsiCo', 'SkyEng'] "
   ]
  },
  {
   "cell_type": "code",
   "execution_count": 6,
   "metadata": {},
   "outputs": [
    {
     "name": "stdout",
     "output_type": "stream",
     "text": [
      "None age: None . Happy: None\n",
      "Gopen age: 2 . Happy: False\n"
     ]
    }
   ],
   "source": [
    "class Cat():\n",
    "    name = None\n",
    "    age = None\n",
    "    isHappy = None\n",
    "    \n",
    "    def __init__(self, name = None , age = None, isHappy = None ):\n",
    "        self.set_data(name, age, isHappy)\n",
    "        self.get_data()\n",
    "\n",
    "    def set_data(self, name = None, age = None, isHappy = None):\n",
    "        self.name = name\n",
    "        self.age = age\n",
    "        self.isHappy = isHappy\n",
    "        \n",
    "    def get_data(self):\n",
    "        print(self.name, 'age:', self.age, '. Happy:', self.isHappy)\n",
    "        \n",
    "    \n",
    "        \n",
    "        \n",
    "cat1 = Cat()\n",
    "\n",
    "cat1.set_data('John', 2)\n",
    "\n",
    "cat2 = Cat('Gopen', 2, False)\n",
    "\n",
    "\n",
    "\n"
   ]
  },
  {
   "cell_type": "code",
   "execution_count": 7,
   "metadata": {},
   "outputs": [
    {
     "name": "stdout",
     "output_type": "stream",
     "text": [
      "Average department revenue for Danon: 700000\n"
     ]
    }
   ],
   "source": [
    "class DepartmentReport():\n",
    "\n",
    "    def __init__(self, company=None, amount = None):\n",
    "        self.company = company\n",
    "\n",
    "    def add_revenue(self,company = None,  amount=None):\n",
    "        if not hasattr(self, 'revenues'):\n",
    "            self.revenues = []\n",
    "        self.revenues.append({\"company\" : company, \"amount\" : amount})    \n",
    "    \n",
    "    def total_amount(self):\n",
    "        return sum([revenue['amount'] for revenue in self.revenues])\n",
    "    \n",
    "    def average_revenue(self):\n",
    "        average = round(self.total_amount()/len(self.revenues))\n",
    "        return print('Average department revenue for {}: {}'.format(self.company, average))\n",
    "        \n",
    "report = DepartmentReport(\"Danon\")\n",
    "report.add_revenue(\"Danon\", 1000000)\n",
    "report.add_revenue(\"Danon\", 400000)\n",
    "\n",
    "report.average_revenue()"
   ]
  },
  {
   "cell_type": "code",
   "execution_count": 8,
   "metadata": {},
   "outputs": [
    {
     "name": "stdout",
     "output_type": "stream",
     "text": [
      "[{'company': 'Danon', 'amount': 1000000}]\n",
      "[{'company': 'Danon', 'amount': 1000000}, {'company': 'Danon', 'amount': 400000}]\n",
      "Average department revenue for Danon: 700000\n"
     ]
    }
   ],
   "source": [
    "class DepartmentReport():\n",
    "    \n",
    "    def __init__(self, company):\n",
    "        self.revenues = []\n",
    "        self.company = company\n",
    "    \n",
    "    def add_revenue(self, company,  amount):\n",
    "        if not hasattr(self, 'revenues'):\n",
    "            self.revenues = []\n",
    "        self.revenues.append({\"company\" : company, \"amount\" : amount})\n",
    "        print(self.revenues)  \n",
    "    \n",
    "    def total_amount(self):\n",
    "        return sum([revenue['amount'] for revenue in self.revenues])\n",
    "    \n",
    "    def average_revenue(self):\n",
    "        average = round(self.total_amount()/len(self.revenues))\n",
    "        return print('Average department revenue for {}: {}'.format(self.company, average))\n",
    "\n",
    "report = DepartmentReport(\"Danon\")\n",
    "report.add_revenue(\"Danon\", 1000000)\n",
    "report.add_revenue(\"Danon\", 400000)\n",
    "\n",
    "report.average_revenue()"
   ]
  },
  {
   "cell_type": "markdown",
   "metadata": {},
   "source": [
    "Задание 5.1\n",
    "1 point possible (graded)\n",
    "Определите класс для пользователей User:\n",
    "\n",
    "у него должны быть атрибуты email, password и balance, которые устанавливаются при инициализации;\n",
    "у него должен быть метод login, который принимает емайл и пароль. Если они совпадают с атрибутами объекта, он возвращает True, а иначе — False;\n",
    "должен быть метод update_balance(amount), который изменяет баланс счёта на величину amount.\n",
    "В случае правильного описания класса код, приведённый ниже, должен выдать следующий результат:"
   ]
  },
  {
   "cell_type": "code",
   "execution_count": 9,
   "metadata": {},
   "outputs": [
    {
     "name": "stdout",
     "output_type": "stream",
     "text": [
      "19700\n"
     ]
    }
   ],
   "source": [
    "class User():\n",
    "    \n",
    "    def __init__(self, email, password, balance):\n",
    "        self.email = email\n",
    "        self.password = password\n",
    "        self.balance = balance\n",
    "    \n",
    "    def login(self, email, password):\n",
    "        if self.email == email:\n",
    "            if self.password == password:\n",
    "                return True\n",
    "            else:\n",
    "                return False\n",
    "        else:\n",
    "            return False\n",
    "    \n",
    "    def update_balance(self, amount):\n",
    "        self.balance +=  + amount\n",
    "        return self.balance\n",
    "\n",
    "\n",
    "\n",
    "\n",
    "user = User(\"gosha@roskino.org\", \"qwerty\", 20_000)\n",
    "user.login(\"gosha@roskino.org\", \"qwerty123\")\n",
    "# => False\n",
    "user.login(\"gosha@roskino.org\", \"qwerty\")\n",
    "# => True\n",
    "user.update_balance(200)\n",
    "user.update_balance(-500)\n",
    "print(user.balance)\n",
    "# => 19700"
   ]
  },
  {
   "cell_type": "markdown",
   "metadata": {},
   "source": [
    "Определите класс IntDataFrame, который принимает список неотрицательных чисел и приводит к целым значениям все числа в этом списке. После этого становится доступен метод count, который считает количество ненулевых элементов, и метод unique, который возвращает число уникальных элементов."
   ]
  },
  {
   "cell_type": "code",
   "execution_count": 10,
   "metadata": {},
   "outputs": [
    {
     "name": "stdout",
     "output_type": "stream",
     "text": [
      "5\n",
      "4\n"
     ]
    }
   ],
   "source": [
    "import statistics\n",
    "\n",
    "class IntDataFrame():\n",
    "    \n",
    "    def __init__(self, lst):\n",
    "        self.lst = lst\n",
    "        self.procecced()\n",
    "    \n",
    "    def procecced(self):\n",
    "        proc_lst=[]\n",
    "        for i, value in enumerate(self.lst):\n",
    "            if round(value, 0) != 0:\n",
    "                proc_lst.append(round(value, 0))\n",
    "        self.lst = proc_lst\n",
    "        return self.lst\n",
    "    \n",
    "    def count(self):\n",
    "        return len(self.lst)\n",
    "    \n",
    "    def unique(self):\n",
    "        return len(set(self.lst))\n",
    "    \n",
    "    \n",
    "df = IntDataFrame([4.7, 4, 3, 0, 2.4, 0.3, 4])\n",
    "\n",
    "print(df.count())\n",
    "# => 5\n",
    "print(df.unique())\n",
    "# => 4\n"
   ]
  },
  {
   "cell_type": "markdown",
   "metadata": {},
   "source": [
    "КЛАСС-ОБЁРТКА \n",
    "\n",
    "Классы можно использовать тогда, когда у вас есть процесс, который требует сложной конфигурации, повторяющейся из раза в раз. Можно написать класс-обёртку, который сведёт этот процесс к одному-двум методам.\n",
    "\n",
    "Представим, вы делаете обработку данных и в конце каждого дня сохраняете результат в архив. Вы хотите, чтобы данные каждого дня лежали в отдельном файле для этого дня, при этом можно было бы получить данные за произвольный день. \n",
    "\n",
    "Перед запуском кода создайте папку с названием archive там же, где находится ноутбук:"
   ]
  },
  {
   "cell_type": "code",
   "execution_count": 11,
   "metadata": {},
   "outputs": [
    {
     "name": "stdout",
     "output_type": "stream",
     "text": [
      "{'perfomance': [10, 20, 10], 'clients': {'Romashka': 10, 'Vector': 34}}\n"
     ]
    }
   ],
   "source": [
    "import pickle  \n",
    "from datetime import datetime  \n",
    "from os import path  \n",
    "  \n",
    "class Dumper():  \n",
    "    def __init__(self, archive_dir=\"archive/\"):  \n",
    "        self.archive_dir = archive_dir  \n",
    "          \n",
    "    def dump(self, data):  \n",
    "        # Библиотека pickle позволяет доставать и класть объекты в файл  \n",
    "        with open(self.get_file_name(), 'wb') as file:  \n",
    "            pickle.dump(data, file)  \n",
    "              \n",
    "    def load_for_day(self, day):  \n",
    "        file_name = path.join(self.archive_dir, day + \".pkl\")   \n",
    "        with open(file_name, 'rb') as file:  \n",
    "            sets = pickle.load(file)  \n",
    "        return sets  \n",
    "          \n",
    "    # возвращает корректное имя для файла   \n",
    "    def get_file_name(self):   \n",
    "        today = datetime.now().strftime(\"%y-%m-%d\")   \n",
    "        return path.join(self.archive_dir, today + \".pkl\")  \n",
    "      \n",
    "      \n",
    "# Пример использования  \n",
    "  \n",
    "data = {  \n",
    "    'perfomance': [10, 20, 10],  \n",
    "    'clients': {\"Romashka\": 10, \"Vector\": 34}  \n",
    "}  \n",
    "  \n",
    "  \n",
    "dumper = Dumper()  \n",
    "  \n",
    "# Сохраним данные  \n",
    "dumper.dump(data)  \n",
    "  \n",
    "# Восстановим для сегодняшней даты  \n",
    "file_name = datetime.now().strftime(\"%y-%m-%d\")\n",
    "restored_data = dumper.load_for_day(file_name)\n",
    "print(restored_data)  \n",
    "# => {'perfomance': [10, 20, 10], 'clients': {'Romashka': 10, 'Vector': 34}}  "
   ]
  },
  {
   "cell_type": "markdown",
   "metadata": {},
   "source": [
    "Задание 5.3\n",
    "1 point possible (graded)\n",
    "Напишите класс сборщика технических сообщений OwnLogger.\n",
    "\n",
    "У него должен быть метод log(message, level), который записывает сообщения. Здесь сообщение message может быть любым,  \n",
    "а level — один из \"info\", \"warning\", \"error\".\n",
    "\n",
    "Также примените метод show_last(level), где level может быть \"info\", \"warning\", \"error\", \"all\". Для \"all\"  \n",
    "он просто возвращает последнее добавленное сообщение, а для остальных — последнее поступившее сообщение соответствующего уровня.\n",
    "\n",
    "При этом по умолчанию значение именно \"all\". Если подходящего сообщения нет, возвращает None.\n",
    "\n",
    "В случае правильного описания класса код, приведённый ниже, должен выдать следующий результат:"
   ]
  },
  {
   "cell_type": "code",
   "execution_count": 12,
   "metadata": {},
   "outputs": [
    {
     "data": {
      "text/plain": [
       "'System started'"
      ]
     },
     "execution_count": 12,
     "metadata": {},
     "output_type": "execute_result"
    }
   ],
   "source": [
    "class OwnLogger():\n",
    "        \n",
    "    def __init__(self):\n",
    "        self.level = ''\n",
    "        self.logger = []\n",
    "        \n",
    "    def log(self, message, level):\n",
    "        self.logger.append({\"message\" : message, \"level\" : level})\n",
    "\n",
    "    def show_last(self, level = 'all'):\n",
    "        self.level = level\n",
    "        if self.level == 'all':\n",
    "            return self.logger[-1]['message']\n",
    "        elif self.level in [\"info\", \"warning\", \"error\"]:\n",
    "            for message_number in range(len(self.logger)):\n",
    "                if self.logger[ - (message_number + 1) ]['level'] == level:\n",
    "                    return self.logger[ - (message_number + 1)]['message']\n",
    "            return None #Exception(print(f'No messages for level:{level} in database'))\n",
    "        else:\n",
    "            return None #Exception(print(f'No such level:{level} in database'))\n",
    "\n",
    "\n",
    "logger = OwnLogger()\n",
    "logger.log(\"System started\", \"info\")\n",
    "logger.show_last(\"error\")\n",
    "# => None\n",
    "# Некоторые интерпретаторы Python могут не выводить None, тогда в этой проверке у вас будет пустая строка\n",
    "logger.log(\"Connection instable\", \"warning\")\n",
    "logger.log(\"Connection lost\", \"error\")\n",
    "\n",
    "logger.show_last()\n",
    " # => Connection lost\n",
    "logger.show_last(\"info\")\n",
    "# => System started\n"
   ]
  },
  {
   "cell_type": "markdown",
   "metadata": {},
   "source": [
    "Задание 6.3\n",
    "0/1 point (graded)\n",
    "Определите класс Dog, у которого есть методы bark и give_paw.\n",
    "\n",
    "bark возвращает строку \"Bark!\"  \n",
    "give_paw возвращает строку \"Paw\""
   ]
  },
  {
   "cell_type": "code",
   "execution_count": 13,
   "metadata": {},
   "outputs": [
    {
     "data": {
      "text/plain": [
       "'Paw'"
      ]
     },
     "execution_count": 13,
     "metadata": {},
     "output_type": "execute_result"
    }
   ],
   "source": [
    "class Dog():\n",
    "                \n",
    "    def bark(*args):\n",
    "        return 'Bark!'\n",
    "        \n",
    "    def give_paw(*args):\n",
    "        return 'Paw'\n",
    "    \n",
    "doggy = Dog()\n",
    "doggy.bark()\n",
    "doggy.give_paw()"
   ]
  },
  {
   "cell_type": "markdown",
   "metadata": {},
   "source": [
    "Чтобы поработать с путями, есть модуль os. Функция os.chdir() позволяет нам изменить директорию, которую мы в данный момент используем.  \n",
    "Если вам нужно знать, какой путь вы в данный момент используете, для этого нужно вызвать os.getcwd()."
   ]
  },
  {
   "cell_type": "code",
   "execution_count": 14,
   "metadata": {},
   "outputs": [
    {
     "name": "stdout",
     "output_type": "stream",
     "text": [
      "c:\\Users\\Denis.kozarenko\\VS_code\\VS_code\\Задания Skillfactory\\PY15 OOP\n"
     ]
    }
   ],
   "source": [
    "start_path = os.getcwd()\n",
    "print(start_path) "
   ]
  },
  {
   "cell_type": "code",
   "execution_count": 15,
   "metadata": {},
   "outputs": [
    {
     "data": {
      "text/plain": [
       "'c:\\\\Users\\\\Denis.kozarenko\\\\VS_code\\\\VS_code\\\\Задания Skillfactory'"
      ]
     },
     "execution_count": 15,
     "metadata": {},
     "output_type": "execute_result"
    }
   ],
   "source": [
    "os.chdir(\"..\") # подняться на один уровень выше\n",
    "os.getcwd() # "
   ]
  },
  {
   "cell_type": "markdown",
   "metadata": {},
   "source": [
    "Теперь вернемся в ту директорию, из которой стартовали. Изначально мы сохраняли её в переменной start_path."
   ]
  },
  {
   "cell_type": "code",
   "execution_count": 16,
   "metadata": {},
   "outputs": [
    {
     "data": {
      "text/plain": [
       "'c:\\\\Users\\\\Denis.kozarenko\\\\VS_code\\\\VS_code\\\\Задания Skillfactory\\\\PY15 OOP'"
      ]
     },
     "execution_count": 16,
     "metadata": {},
     "output_type": "execute_result"
    }
   ],
   "source": [
    "os.chdir(start_path)\n",
    "os.getcwd()"
   ]
  },
  {
   "cell_type": "markdown",
   "metadata": {},
   "source": [
    "С помощью функции os.listdir() можно получить весь список файлов, находящихся в директории. Если не указать никаких аргументов, то будет взята текущая директория."
   ]
  },
  {
   "cell_type": "code",
   "execution_count": 17,
   "metadata": {},
   "outputs": [
    {
     "name": "stdout",
     "output_type": "stream",
     "text": [
      "['archive', 'PY15 OOP.ipynb']\n",
      "Файл отсутствует в данной директории\n"
     ]
    }
   ],
   "source": [
    "# список файлов и директорий в папке\n",
    "import os\n",
    "\n",
    "print(os.listdir()) # \n",
    "\n",
    "if 'tmp.py' not in os.listdir():\n",
    "    print(\"Файл отсутствует в данной директории\")\n"
   ]
  },
  {
   "cell_type": "markdown",
   "metadata": {},
   "source": [
    "Для того чтобы склеивать пути с учётом особенностей ОС, следует использовать функцию os.path.join().  \n",
    "Это связано с тем, что в разных операционных системах могут быть разные разделители каталогов,  \n",
    "например в ОС Windows этим разделителем является «\\», а в Linux — «/», как мы и говорили в начале юнита.  \n",
    "Поэтому, чтобы поиск файла проходил гладко в обеих системах (ведь ваш скрипт могут запускать на  \n",
    "любой системе в связи с кросс-платформенностью Python), лучше всё-таки использовать os.path.join()."
   ]
  },
  {
   "cell_type": "code",
   "execution_count": 18,
   "metadata": {},
   "outputs": [
    {
     "name": "stdout",
     "output_type": "stream",
     "text": [
      "c:\\Users\\Denis.kozarenko\\VS_code\\VS_code\\Задания Skillfactory\\PY15 OOP\n",
      "c:\\Users\\Denis.kozarenko\\VS_code\\VS_code\\Задания Skillfactory\\PY15 OOP\\test\n"
     ]
    }
   ],
   "source": [
    "# соединяет пути с учётом особенностей операционной системы\n",
    "print(start_path)\n",
    "print(os.path.join(start_path, 'test'))"
   ]
  },
  {
   "cell_type": "markdown",
   "metadata": {},
   "source": [
    "Задание 7.3\n",
    "Задание на самопроверку.\n",
    "\n",
    "Сделайте функцию, которая принимает от пользователя путь и выводит всю информацию о содержимом этой папки. Для реализации используйте функцию встроенного модуля os.walk(). Если путь не указан, то сравнение начинается с текущей директории."
   ]
  },
  {
   "cell_type": "code",
   "execution_count": 20,
   "metadata": {},
   "outputs": [
    {
     "name": "stdout",
     "output_type": "stream",
     "text": [
      "Текущая директория c:\\Users\\Denis.kozarenko\\VS_code\\VS_code\\Задания Skillfactory\\PY15 OOP\n",
      "---\n",
      "Список папок ['archive']\n",
      "---\n",
      "Список файлов ['PY15 OOP.ipynb']\n",
      "---\n",
      "Все пути:\n",
      "Файл  c:\\Users\\Denis.kozarenko\\VS_code\\VS_code\\Задания Skillfactory\\PY15 OOP\\PY15 OOP.ipynb\n",
      "Папка  c:\\Users\\Denis.kozarenko\\VS_code\\VS_code\\Задания Skillfactory\\PY15 OOP\\archive\n",
      "===\n",
      "Текущая директория c:\\Users\\Denis.kozarenko\\VS_code\\VS_code\\Задания Skillfactory\\PY15 OOP\\archive\n",
      "---\n",
      "Папок нет\n",
      "---\n",
      "Список файлов ['22-04-02.pkl', '22-04-04.pkl']\n",
      "---\n",
      "Файл  c:\\Users\\Denis.kozarenko\\VS_code\\VS_code\\Задания Skillfactory\\PY15 OOP\\archive\\22-04-02.pkl\n",
      "Файл  c:\\Users\\Denis.kozarenko\\VS_code\\VS_code\\Задания Skillfactory\\PY15 OOP\\archive\\22-04-04.pkl\n",
      "===\n"
     ]
    }
   ],
   "source": [
    "import os\n",
    "\n",
    "def walk_desc(path=None):\n",
    "    start_path = path if path is not None else os.getcwd()\n",
    "\n",
    "    for root, dirs, files in os.walk(start_path):\n",
    "        print(\"Текущая директория\", root)\n",
    "        print(\"---\")\n",
    "\n",
    "        if dirs:\n",
    "            print(\"Список папок\", dirs)\n",
    "        else:\n",
    "            print(\"Папок нет\")\n",
    "        print(\"---\")\n",
    "\n",
    "        if files:\n",
    "            print(\"Список файлов\", files)\n",
    "        else:\n",
    "            print(\"Файлов нет\")\n",
    "        print(\"---\")\n",
    "\n",
    "        if files and dirs:\n",
    "            print(\"Все пути:\")\n",
    "        for f in files:\n",
    "            print(\"Файл \", os.path.join(root, f))\n",
    "        for d in dirs:\n",
    "            print(\"Папка \", os.path.join(root, d))\n",
    "        print(\"===\")\n",
    "\n",
    "walk_desc()"
   ]
  },
  {
   "cell_type": "markdown",
   "metadata": {},
   "source": [
    "Задание 7.4\n",
    "Задание на самопроверку.\n",
    "\n",
    "Создайте любой файл на операционной системе под название input.txt и построчно перепишите его в файл output.txt."
   ]
  },
  {
   "cell_type": "code",
   "execution_count": 69,
   "metadata": {},
   "outputs": [],
   "source": [
    "with open('archive\\input.txt', 'w') as f:\n",
    "    for x in range(100):\n",
    "        f.write(f'This is a test string number {x}\\n')\n",
    "        "
   ]
  },
  {
   "cell_type": "code",
   "execution_count": 55,
   "metadata": {},
   "outputs": [],
   "source": [
    "with open('archive\\input.txt', 'r') as f:\n",
    "    with open('archive\\output.txt', 'w') as d:\n",
    "        for line in f:\n",
    "            d.write(line)\n",
    "\n"
   ]
  },
  {
   "cell_type": "markdown",
   "metadata": {},
   "source": [
    "Задание 7.5\n",
    "Задание на самопроверку.\n",
    "\n",
    "Дан файл numbers.txt, компоненты которого являются действительными числами (файл создайте самостоятельно и заполните любыми числам, в одной строке одно число). Найдите сумму наибольшего и наименьшего из значений и запишите результат в файл output.txt."
   ]
  },
  {
   "cell_type": "code",
   "execution_count": 44,
   "metadata": {},
   "outputs": [
    {
     "name": "stdout",
     "output_type": "stream",
     "text": [
      "That is all falks!\n"
     ]
    }
   ],
   "source": [
    "import numpy as np\n",
    "\n",
    "\n",
    "with open(r'archive\\numbers.txt', 'w') as numbers_file:\n",
    "    for n in np.random.randint(0, 1000, size= 100):\n",
    "        numbers_file.write(f'{n}\\n')\n",
    "        \n",
    "with open(r'archive\\numbers.txt', 'r') as numbers_file:\n",
    "    with open(r'archive\\output.txt', 'w') as output_file:\n",
    "        z= numbers_file.readlines()\n",
    "        z = [int(x) for x in z]\n",
    "        sum_min_max = min(z) + max(z)\n",
    "        output_file.write(f'sum of min and max numbers = {sum_min_max}\\n')\n",
    "        \n",
    "\n",
    "print(f'That is all falks!')"
   ]
  },
  {
   "cell_type": "markdown",
   "metadata": {},
   "source": [
    "Задание 7.6\n",
    "Задание на самопроверку.\n",
    "\n",
    "В текстовый файл построчно записаны фамилии и имена учащихся класса и их оценки за контрольную. Подсчитайте количество учащихся, чья оценка меньше 3 баллов. Cодержание файла:\n",
    "\n",
    "Иванов О. 4\n",
    "Петров И. 3\n",
    "Дмитриев Н. 2\n",
    "Смирнова О. 4\n",
    "Керченских В. 5\n",
    "Котов Д. 2\n",
    "Бирюкова Н. 1\n",
    "Данилов П. 3\n",
    "Аранских В. 5\n",
    "Лемонов Ю. 2\n",
    "Олегова К. 4"
   ]
  },
  {
   "cell_type": "code",
   "execution_count": 58,
   "metadata": {},
   "outputs": [
    {
     "name": "stdout",
     "output_type": "stream",
     "text": [
      "Дмитриев Н. 2\n",
      "Котов Д. 2\n",
      "Бирюкова Н. 1\n",
      "Лемонов Ю. 2\n"
     ]
    }
   ],
   "source": [
    "with open(r'archive\\calc_text.txt', 'r', encoding='utf8') as test_marks:\n",
    "    for line in test_marks:\n",
    "        if int(line.split(sep=' ')[-1]) < 3:\n",
    "            print(line, end='')"
   ]
  },
  {
   "cell_type": "markdown",
   "metadata": {},
   "source": [
    "Задание 7.7\n",
    "Задание на самопроверку.\n",
    "\n",
    "Выполните реверсирование строк файла (перестановку строк файла в обратном порядке)."
   ]
  },
  {
   "cell_type": "code",
   "execution_count": 73,
   "metadata": {},
   "outputs": [],
   "source": [
    "with open(r'archive\\input.txt', 'r') as f:\n",
    "    z = list(f.readlines())\n",
    "with open(r'archive\\input.txt', 'w') as f:\n",
    "    for x in range(len(z)):\n",
    "        f.write(z[-(x+1)])\n",
    "    "
   ]
  },
  {
   "cell_type": "markdown",
   "metadata": {},
   "source": [
    "отреть\n",
    "Задание 8.7\n",
    "Задание на самопроверку.\n",
    "\n",
    "Создать скрипт, который будет в input() принимать строки, и их необходимо будет конвертировать в числа, добавить try-except на то, чтобы строки могли быть сконвертированы в числа.\n",
    "\n",
    "В случае удачного выполнения скрипта написать: «Вы ввели <введённое число>».\n",
    "\n",
    "В конце скрипта обязательно написать: «Выход из программы».\n",
    "\n",
    "ПРИМЕЧАНИЕ: Для отлова ошибок используйте try-except, а также блоки finally и else.\n",
    "\n",
    "Примеры входов и выходов:\n",
    "Входные данные\tВыходные данные\n",
    "\n",
    "1\tВы ввели 1 Выход из программы\n",
    "\n",
    "-3\tВы ввели -3 Выход из программы\n",
    "\n",
    "razdvatri\tВы ввели неправильное число Выход из программы"
   ]
  },
  {
   "cell_type": "code",
   "execution_count": 77,
   "metadata": {},
   "outputs": [
    {
     "name": "stdout",
     "output_type": "stream",
     "text": [
      "You entered 1.0\n",
      "You entered -3.0\n",
      "You did not enter a number! razdvatri is not a number\n"
     ]
    }
   ],
   "source": [
    "def str_to_float(str):\n",
    "    z = str\n",
    "    try:\n",
    "        str_to_float = float(z)\n",
    "    except ValueError:\n",
    "        return print(f'You did not enter a number! {z} is not a number')\n",
    "    else:\n",
    "        return print(f'You entered {str_to_float}')\n",
    "        \n",
    "for x in ['1', '-3', 'razdvatri']:\n",
    "    str_to_float(x)"
   ]
  },
  {
   "cell_type": "markdown",
   "metadata": {},
   "source": [
    "Задание 9.5\n",
    "Задание на самопроверку.\n",
    "\n",
    "Создайте класс Square. Добавьте в конструктор класса Square собственное исключение NonPositiveDigitException, унаследованное от ValueError, которое будет срабатывать каждый раз, когда сторона квадрата меньше или равна 0."
   ]
  },
  {
   "cell_type": "code",
   "execution_count": null,
   "metadata": {},
   "outputs": [],
   "source": [
    "class Square():\n",
    "    \n",
    "    def __init__(self, a):\n",
    "        if a <= 0:\n",
    "            raise NonPositiveDigitException()\n",
    "    \n",
    "class NonPositiveDigitException(ValueError):\n",
    "    pass\n",
    " "
   ]
  }
 ],
 "metadata": {
  "interpreter": {
   "hash": "4cf8740b77de6ac68c701f5d05813ddbce361e765d83d58497ce85d0cb93b38e"
  },
  "kernelspec": {
   "display_name": "Python 3.9.10 64-bit",
   "language": "python",
   "name": "python3"
  },
  "language_info": {
   "codemirror_mode": {
    "name": "ipython",
    "version": 3
   },
   "file_extension": ".py",
   "mimetype": "text/x-python",
   "name": "python",
   "nbconvert_exporter": "python",
   "pygments_lexer": "ipython3",
   "version": "3.9.10"
  },
  "orig_nbformat": 4
 },
 "nbformat": 4,
 "nbformat_minor": 2
}
