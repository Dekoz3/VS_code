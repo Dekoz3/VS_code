{
 "cells": [
  {
   "cell_type": "code",
   "execution_count": null,
   "metadata": {},
   "outputs": [],
   "source": [
    "# Задание 2.1\n",
    "# 1/1 point (graded)\n",
    "# Рассчитайте максимальный возраст (max_age) кандидата в таблице.\n",
    "\n",
    "select \n",
    "    max(can.age)\n",
    "from hh.candidate can"
   ]
  },
  {
   "cell_type": "code",
   "execution_count": null,
   "metadata": {},
   "outputs": [],
   "source": [
    "# Задание 2.2\n",
    "# Теперь давайте рассчитаем \n",
    "\n",
    "select \n",
    "    min(can.age)\n",
    "from hh.candidate can"
   ]
  },
  {
   "cell_type": "code",
   "execution_count": null,
   "metadata": {},
   "outputs": [],
   "source": [
    "# задание 2.3\n",
    "select \n",
    "    c.age age,\n",
    "    count(c.id)\n",
    "from hh.candidate c\n",
    "group by c.age\n",
    "order by age desc"
   ]
  },
  {
   "cell_type": "code",
   "execution_count": 1,
   "metadata": {},
   "outputs": [
    {
     "ename": "IndentationError",
     "evalue": "unexpected indent (2097032624.py, line 3)",
     "output_type": "error",
     "traceback": [
      "\u001b[1;36m  Input \u001b[1;32mIn [1]\u001b[1;36m\u001b[0m\n\u001b[1;33m    count(c.id)\u001b[0m\n\u001b[1;37m    ^\u001b[0m\n\u001b[1;31mIndentationError\u001b[0m\u001b[1;31m:\u001b[0m unexpected indent\n"
     ]
    }
   ],
   "source": [
    "# задание 2.4\n",
    "select \n",
    "    count(c.id)\n",
    "from hh.candidate c\n",
    "where c.age <> 100 and c.age > 40 \n",
    "group by c.age"
   ]
  },
  {
   "cell_type": "code",
   "execution_count": null,
   "metadata": {},
   "outputs": [],
   "source": [
    "# Задание 3.1\n",
    "# Для начала напишите запрос, который позволит узнать, сколько (cnt) у нас кандидатов из каждого города (city).\n",
    "# Отсортируйте результат по количеству в обратном порядке.\n",
    "select \n",
    "    ci.title city,\n",
    "    count(c.id) cnt\n",
    "from hh.candidate c\n",
    "left join hh.city ci on c.city_id = ci.id\n",
    "where c.age <> 100\n",
    "group by ci.title\n",
    "order by cnt desc"
   ]
  },
  {
   "cell_type": "code",
   "execution_count": null,
   "metadata": {},
   "outputs": [],
   "source": [
    "# Задание 3.2\n",
    "select \n",
    "    can.gender gender,\n",
    "    can.age age,\n",
    "    can.desirable_occupation desirable_occupation,\n",
    "    ci.title city,\n",
    "    can.employment_type employment_type\n",
    "from hh.candidate can\n",
    "    left join hh.city ci on can.city_id = ci.id\n",
    "where ci.title like 'Москва' and can.employment_type like '%проектная работа%'\n",
    "order by can.id"
   ]
  },
  {
   "cell_type": "code",
   "execution_count": null,
   "metadata": {},
   "outputs": [],
   "source": [
    "select \n",
    "    can.gender gender,\n",
    "    can.age age,\n",
    "    can.desirable_occupation desirable_occupation,\n",
    "    ci.title city,\n",
    "    can.employment_type employment_type\n",
    "from hh.candidate can\n",
    "    left join hh.city ci on can.city_id = ci.id\n",
    "where ci.title ilike 'Москва' \n",
    "    and can.employment_type ilike '%проектная работа%'\n",
    "    and can.desirable_occupation ilike any (array['%разработчик%', '%аналитик%', '%программист%'])\n",
    "order by ci.title, can.id"
   ]
  },
  {
   "cell_type": "code",
   "execution_count": 1,
   "metadata": {},
   "outputs": [
    {
     "ename": "IndentationError",
     "evalue": "unexpected indent (106846470.py, line 6)",
     "output_type": "error",
     "traceback": [
      "\u001b[1;36m  Input \u001b[1;32mIn [1]\u001b[1;36m\u001b[0m\n\u001b[1;33m    can.id id,\u001b[0m\n\u001b[1;37m    ^\u001b[0m\n\u001b[1;31mIndentationError\u001b[0m\u001b[1;31m:\u001b[0m unexpected indent\n"
     ]
    }
   ],
   "source": [
    "# Задание 3.4\n",
    "# Для общей информации попробуйте выбрать номера и города кандидатов, у которых занимаемая должность совпадает с желаемой.\n",
    "# Формат выборки: id, city.\n",
    "# Отсортируйте результат по городу и id кандидата.\n",
    "select \n",
    "    can.id id,\n",
    "    ci.title city\n",
    "from hh.candidate can\n",
    "    left join hh.city ci on can.city_id = ci.id\n",
    "where can.desirable_occupation = can.current_occupation\n",
    "order by ci.title, can.id\n"
   ]
  },
  {
   "cell_type": "code",
   "execution_count": null,
   "metadata": {},
   "outputs": [],
   "source": [
    "\n",
    "select \n",
    "    count(can.id)\n",
    "from hh.candidate can\n",
    "where can.age <> 100\n",
    "    and ((can.gender = 'M' and can.age >= 65) \n",
    "    or (can.gender = 'F' and can.age >= 60))\n"
   ]
  },
  {
   "cell_type": "code",
   "execution_count": null,
   "metadata": {},
   "outputs": [],
   "source": [
    "# Задание 4.1\n",
    "# Для добывающей компании нам необходимо подобрать кандидатов из Новосибирска, Омска, Томска и Тюмени, которые готовы работать вахтовым методом.\n",
    "# Формат выборки: gender, age, desirable_occupation, city, employment_type, timetable_type.\n",
    "# Отсортируйте результат по городу и номеру кандидата.\n",
    "select \n",
    "    c.gender gender,\n",
    "    c.age age,\n",
    "    c.desirable_occupation desirable_occupation,\n",
    "    ci.title city,\n",
    "    c.employment_type employment_type,\n",
    "    tt.title timetable_type\n",
    "from hh.candidate c\n",
    "    left join hh.city ci on (ci.id = c.city_id)\n",
    "    left join hh.candidate_timetable_type ctt on (c.id = ctt.candidate_id)\n",
    "    left join hh.timetable_type tt on (ctt.timetable_id = tt.id)\n",
    "where ci.title ilike any (array['Новосибирск', 'Омск', 'Томск' , 'Тюмень'])\n",
    "    and tt.title ilike 'вахтовый метод'\n",
    "order by city, c.id"
   ]
  },
  {
   "cell_type": "code",
   "execution_count": null,
   "metadata": {},
   "outputs": [],
   "source": [
    "\n",
    "\n",
    "with x_gen as(\n",
    "select\n",
    "    c.desirable_occupation desirable_occupation, \n",
    "    c.age age\n",
    "from hh.candidate c\n",
    "    left join hh.city ci on (ci.id = c.city_id)\n",
    "where ci.title = 'Санкт-Петербург'\n",
    "    and c.age between 16 and 21\n",
    ")\n",
    "\n",
    "(select *\n",
    "from x_gen\n",
    "order by age\n",
    "limit 10)\n",
    "\n",
    "union all\n",
    "\n",
    "(select \n",
    "    'Total',\n",
    "    count(age)\n",
    "from x_gen)"
   ]
  },
  {
   "cell_type": "code",
   "execution_count": 2,
   "metadata": {},
   "outputs": [
    {
     "ename": "IndentationError",
     "evalue": "unexpected indent (3630420116.py, line 3)",
     "output_type": "error",
     "traceback": [
      "\u001b[1;36m  Input \u001b[1;32mIn [2]\u001b[1;36m\u001b[0m\n\u001b[1;33m    g.name genre_name,\u001b[0m\n\u001b[1;37m    ^\u001b[0m\n\u001b[1;31mIndentationError\u001b[0m\u001b[1;31m:\u001b[0m unexpected indent\n"
     ]
    }
   ],
   "source": [
    "# Атестация задание 4\n",
    "select \n",
    "    g.name genre_name,\n",
    "    count(m.id) movies_count\n",
    "from sqlprotest.movies m\n",
    "    join sqlprotest.movie_genres mg on m.id = mg.movie_id\n",
    "    join sqlprotest.genres g on mg.genre_id = g.id\n",
    "group by g.name\n",
    "having count(m.id) >= 3\n",
    "order by 2 desc"
   ]
  },
  {
   "cell_type": "code",
   "execution_count": 3,
   "metadata": {},
   "outputs": [
    {
     "ename": "IndentationError",
     "evalue": "unexpected indent (147617754.py, line 3)",
     "output_type": "error",
     "traceback": [
      "\u001b[1;36m  Input \u001b[1;32mIn [3]\u001b[1;36m\u001b[0m\n\u001b[1;33m    name,\u001b[0m\n\u001b[1;37m    ^\u001b[0m\n\u001b[1;31mIndentationError\u001b[0m\u001b[1;31m:\u001b[0m unexpected indent\n"
     ]
    }
   ],
   "source": [
    "# задание 5\n",
    "select \n",
    "    name,\n",
    "    description\n",
    "from A\n",
    "\n",
    "union \n",
    "\n",
    "select \n",
    "    name,\n",
    "    description\n",
    "from B"
   ]
  },
  {
   "cell_type": "code",
   "execution_count": null,
   "metadata": {},
   "outputs": [],
   "source": [
    "# Задание 6\n"
   ]
  }
 ],
 "metadata": {
  "interpreter": {
   "hash": "4cf8740b77de6ac68c701f5d05813ddbce361e765d83d58497ce85d0cb93b38e"
  },
  "kernelspec": {
   "display_name": "Python 3.9.10 64-bit",
   "language": "python",
   "name": "python3"
  },
  "language_info": {
   "codemirror_mode": {
    "name": "ipython",
    "version": 3
   },
   "file_extension": ".py",
   "mimetype": "text/x-python",
   "name": "python",
   "nbconvert_exporter": "python",
   "pygments_lexer": "ipython3",
   "version": "3.9.10"
  },
  "orig_nbformat": 4
 },
 "nbformat": 4,
 "nbformat_minor": 2
}
