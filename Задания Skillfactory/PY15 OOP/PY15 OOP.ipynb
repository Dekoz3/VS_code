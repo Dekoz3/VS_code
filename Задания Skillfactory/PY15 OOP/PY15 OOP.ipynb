{
 "cells": [
  {
   "cell_type": "code",
   "execution_count": 25,
   "metadata": {},
   "outputs": [
    {
     "name": "stdout",
     "output_type": "stream",
     "text": [
      "[1000000, 400000]\n",
      "700000.0\n"
     ]
    }
   ],
   "source": [
    "class DepartmentReport():\n",
    "    def add_revenue(self, amount):\n",
    "        if not hasattr(self, 'revenues'):\n",
    "            self.revenues = []\n",
    "        self.revenues.append(amount)\n",
    "    \n",
    "    def average_revenue(self):\n",
    "        return sum(self.revenues)/len(self.revenues)\n",
    "    \n",
    "               \n",
    "report = DepartmentReport()\n",
    "report.add_revenue(1_000_000)\n",
    "report.add_revenue(400_000)\n",
    "print(report.revenues)\n",
    "# => [1000000, 400000]\n",
    "print(report.average_revenue())\n",
    "# => 700000.0"
   ]
  },
  {
   "cell_type": "code",
   "execution_count": 36,
   "metadata": {},
   "outputs": [
    {
     "name": "stdout",
     "output_type": "stream",
     "text": [
      "Average department revenue for Danon: 700000.0\n",
      "None\n"
     ]
    }
   ],
   "source": [
    "class DepartmentReport():\n",
    "\n",
    "    def __init__(self,company):\n",
    "        \"\"\"\n",
    "        Метод инициализации класса. \n",
    "        Создаёт атрибуты revenues и company\n",
    "        \"\"\"\n",
    "        self.revenues = []\n",
    "        self.company = company\n",
    "    \n",
    "    def add_revenue(self, amount):\n",
    "        \"\"\"\n",
    "        Метод для добавления выручки отдела в список revenues.\n",
    "        Если атрибута revenues ещё не существует, метод должен создавать пустой список перед добавлением выручки.\n",
    "        \"\"\"\n",
    "        self.revenues.append(amount)\n",
    "    \n",
    "    def average_revenue(self):\n",
    "        \"\"\"\n",
    "        Вычисляет average_revenue — среднюю выручку по отделам — округляя до целого.\n",
    "        Метод возвращает строку в формате:\n",
    "        'Average department revenue for <company>: <average_revenue>'\n",
    "        \"\"\"\n",
    "        average= sum(self.revenues)/len(self.revenues)\n",
    "        # return f'Average department revenue for {self.company}: {sum(self.revenues)/len(self.revenues)}'#Codeborde не работает со f'строками\n",
    "        return print('Average department revenue for {}: {}'.format(self.company, average))\n",
    "    \n",
    "\n",
    "        \n",
    "# В случае правильного описания класса код, приведённый ниже, должен выдать следующий результат:\n",
    "\n",
    "report = DepartmentReport(\"Danon\")\n",
    "report.add_revenue(1_000_000)\n",
    "report.add_revenue(400_000)\n",
    "\n",
    "print(report.average_revenue())\n",
    "# => Average department revenue for Danon: 700000"
   ]
  },
  {
   "cell_type": "code",
   "execution_count": 40,
   "metadata": {},
   "outputs": [
    {
     "name": "stdout",
     "output_type": "stream",
     "text": [
      "Average department revenue for Danon: 700000\n",
      "None\n"
     ]
    }
   ],
   "source": [
    "class DepartmentReport():\n",
    "\n",
    "    def __init__(self, company):\n",
    "        self.revenues = []\n",
    "        self.company = company\n",
    "    \n",
    "    def add_revenue(self, amount):\n",
    "        self.revenues.append(amount)\n",
    "    \n",
    "    def average_revenue(self):\n",
    "        average = round(sum(self.revenues)/len(self.revenues))\n",
    "        return print('Average department revenue for {}: {}'.format(self.company, average))\n",
    "        \n",
    "report = DepartmentReport(\"Danon\")\n",
    "report.add_revenue(1_000_000)\n",
    "report.add_revenue(400_000)\n",
    "\n",
    "print(report.average_revenue())"
   ]
  },
  {
   "cell_type": "code",
   "execution_count": 41,
   "metadata": {},
   "outputs": [
    {
     "name": "stdout",
     "output_type": "stream",
     "text": [
      "Employee:  Ivan Semenov\n",
      "Total sales: 390000\n",
      "Average sales: 130000.0\n",
      "Companies: ['PepsiCo', 'SkyEng']\n"
     ]
    }
   ],
   "source": [
    "class SalesReport():  \n",
    "    def __init__(self, employee_name):  \n",
    "        self.deals = []  \n",
    "        self.employee_name = employee_name  \n",
    "      \n",
    "    def add_deal(self, company, amount):   \n",
    "        self.deals.append({'company': company, 'amount': amount})  \n",
    "          \n",
    "    def total_amount(self):  \n",
    "        return sum([deal['amount'] for deal in self.deals])  \n",
    "      \n",
    "    def average_deal(self):  \n",
    "        return self.total_amount()/len(self.deals)  \n",
    "      \n",
    "    def all_companies(self):  \n",
    "        return list(set([deal['company'] for deal in self.deals]))  \n",
    "      \n",
    "    def print_report(self):  \n",
    "        print(\"Employee: \", self.employee_name)  \n",
    "        print(\"Total sales:\", self.total_amount())  \n",
    "        print(\"Average sales:\", self.average_deal())  \n",
    "        print(\"Companies:\", self.all_companies())  \n",
    "      \n",
    "      \n",
    "report = SalesReport(\"Ivan Semenov\")  \n",
    "  \n",
    "report.add_deal(\"PepsiCo\", 120_000)  \n",
    "report.add_deal(\"SkyEng\", 250_000)  \n",
    "report.add_deal(\"PepsiCo\", 20_000)  \n",
    "  \n",
    "report.print_report()  \n",
    "# => Employee:  Ivan Semenov  \n",
    "# Total sales: 390000  \n",
    "# Average sales: 130000.0  \n",
    "# Companies: ['PepsiCo', 'SkyEng'] "
   ]
  }
 ],
 "metadata": {
  "interpreter": {
   "hash": "4cf8740b77de6ac68c701f5d05813ddbce361e765d83d58497ce85d0cb93b38e"
  },
  "kernelspec": {
   "display_name": "Python 3.9.10 64-bit",
   "language": "python",
   "name": "python3"
  },
  "language_info": {
   "codemirror_mode": {
    "name": "ipython",
    "version": 3
   },
   "file_extension": ".py",
   "mimetype": "text/x-python",
   "name": "python",
   "nbconvert_exporter": "python",
   "pygments_lexer": "ipython3",
   "version": "3.9.10"
  },
  "orig_nbformat": 4
 },
 "nbformat": 4,
 "nbformat_minor": 2
}
