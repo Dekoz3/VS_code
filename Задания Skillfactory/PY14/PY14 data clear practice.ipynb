{
 "cells": [
  {
   "cell_type": "code",
   "execution_count": 385,
   "metadata": {},
   "outputs": [],
   "source": [
    "# Чтобы скачать и распаковать zip-архив в output папку в Питоне:\n",
    "import pandas as pd\n",
    "import numpy as np\n",
    "import matplotlib.pyplot as plt\n",
    "import seaborn as sns\n",
    "import plotly\n",
    "import plotly.express as px\n",
    "import plotly.graph_objects as go \n",
    "\n",
    "from IPython.display import display\n",
    "\n",
    "#!/usr/bin/env python\n",
    "import io\n",
    "import zipfile\n",
    "import requests  # $ pip install requests\n",
    "\n",
    "pd.set_option('display.max_columns', 40) # выводить больше столбцов\n",
    "pd.set_option('display.max_rows', 40)   # выводить больше строк\n",
    "plt.style.use('default')    # корректный вывод графиков в темной теме \n",
    "\n",
    "# fig.show(renderer='notebook') #включение анимации\n",
    "\n",
    "r = requests.get(\"https://lms.skillfactory.ru/assets/courseware/v1/6559ab1e1d17acac79bec5dc8052261b/asset-v1:SkillFactory+DSPR-2.0+14JULY2021+type@asset+block/diabetes_data.zip\")\n",
    "with r, zipfile.ZipFile(io.BytesIO(r.content)) as archive:\n",
    "    archive.extractall('Data')\n",
    "\n",
    "\n",
    "# https://lms.skillfactory.ru/assets/courseware/v1/6559ab1e1d17acac79bec5dc8052261b/asset-v1:SkillFactory+DSPR-2.0+14JULY2021+type@asset+block/diabetes_data.zip"
   ]
  },
  {
   "cell_type": "code",
   "execution_count": 386,
   "metadata": {},
   "outputs": [
    {
     "name": "stdout",
     "output_type": "stream",
     "text": [
      "<class 'pandas.core.frame.DataFrame'>\n",
      "RangeIndex: 778 entries, 0 to 777\n",
      "Data columns (total 10 columns):\n",
      " #   Column                    Non-Null Count  Dtype  \n",
      "---  ------                    --------------  -----  \n",
      " 0   Pregnancies               778 non-null    int64  \n",
      " 1   Glucose                   778 non-null    int64  \n",
      " 2   BloodPressure             778 non-null    int64  \n",
      " 3   SkinThickness             778 non-null    int64  \n",
      " 4   Insulin                   778 non-null    int64  \n",
      " 5   BMI                       778 non-null    float64\n",
      " 6   DiabetesPedigreeFunction  778 non-null    float64\n",
      " 7   Age                       778 non-null    int64  \n",
      " 8   Outcome                   778 non-null    int64  \n",
      " 9   Gender                    778 non-null    object \n",
      "dtypes: float64(2), int64(7), object(1)\n",
      "memory usage: 60.9+ KB\n"
     ]
    }
   ],
   "source": [
    "diabetes = pd.read_csv('data/diabetes_data.csv')\n",
    "diabetes.info()"
   ]
  },
  {
   "cell_type": "code",
   "execution_count": 387,
   "metadata": {},
   "outputs": [
    {
     "data": {
      "application/vnd.plotly.v1+json": {
       "config": {
        "plotlyServerURL": "https://plot.ly"
       },
       "data": [
        {
         "alignmentgroup": "True",
         "bingroup": "x",
         "hovertemplate": "Outcome=0<br>Pregnancies=%{x}<br>count=%{y}<extra></extra>",
         "legendgroup": "0",
         "marker": {
          "color": "#636efa",
          "pattern": {
           "shape": ""
          }
         },
         "name": "0",
         "nbinsx": 30,
         "offsetgroup": "0",
         "orientation": "v",
         "showlegend": true,
         "type": "histogram",
         "x": [
          6,
          2,
          2,
          8,
          7,
          6,
          1,
          0,
          4,
          5,
          7,
          5,
          2,
          3,
          5,
          5,
          1,
          13,
          1,
          10,
          6,
          1,
          3,
          2,
          12,
          4,
          1,
          5,
          6,
          5,
          8,
          0,
          4,
          0,
          3,
          5,
          3,
          2,
          2,
          6,
          0,
          0,
          2,
          0,
          7,
          4,
          9,
          6,
          5,
          2,
          3,
          0,
          4,
          2,
          0,
          0,
          5,
          2,
          0,
          4,
          2,
          2,
          1,
          9,
          2,
          7,
          1,
          0,
          2,
          2,
          2,
          4,
          2,
          7,
          1,
          1,
          4,
          2,
          10,
          1,
          2,
          1,
          1,
          10,
          4,
          1,
          3,
          2,
          2,
          2,
          2,
          1,
          0,
          8,
          1,
          4,
          1,
          8,
          8,
          2,
          1,
          0,
          1,
          1,
          1,
          1,
          2,
          4,
          3,
          7,
          3,
          5,
          0,
          2,
          12,
          13,
          0,
          8,
          0,
          1,
          1,
          6,
          3,
          4,
          3,
          2,
          0,
          3,
          11,
          0,
          2,
          7,
          2,
          3,
          0,
          2,
          1,
          3,
          0,
          0,
          0,
          4,
          10,
          7,
          1,
          0,
          9,
          2,
          0,
          6,
          5,
          1,
          5,
          4,
          1,
          2,
          3,
          0,
          0,
          2,
          4,
          5,
          0,
          1,
          8,
          0,
          1,
          2,
          10,
          7,
          4,
          3,
          1,
          1,
          6,
          3,
          12,
          2,
          9,
          0,
          1,
          6,
          4,
          2,
          7,
          1,
          1,
          7,
          0,
          2,
          7,
          4,
          0,
          5,
          6,
          13,
          1,
          2,
          6,
          8,
          3,
          0,
          1,
          0,
          1,
          2,
          0,
          1,
          1,
          1,
          3,
          3,
          2,
          2,
          6,
          4,
          0,
          5,
          1,
          1,
          0,
          0,
          1,
          2,
          1,
          5,
          1,
          5,
          3,
          10,
          1,
          5,
          1,
          4,
          4,
          6,
          13,
          3,
          2,
          4,
          4,
          5,
          0,
          0,
          0,
          6,
          1,
          1,
          0,
          1,
          2,
          4,
          0,
          10,
          0,
          2,
          3,
          3,
          2,
          9,
          8,
          6,
          12,
          1,
          1,
          2,
          1,
          5,
          4,
          2,
          0,
          1,
          10,
          0,
          2,
          3,
          6,
          3,
          1,
          4,
          1,
          3,
          3,
          3,
          1,
          2,
          4,
          1,
          1,
          0,
          0,
          7,
          7,
          6,
          8,
          3,
          0,
          2,
          6,
          0,
          5,
          0,
          2,
          3,
          5,
          6,
          4,
          1,
          2,
          4,
          3,
          0,
          2,
          7,
          1,
          1,
          3,
          5,
          1,
          4,
          0,
          1,
          2,
          2,
          6,
          4,
          1,
          2,
          8,
          1,
          1,
          7,
          1,
          1,
          3,
          0,
          6,
          0,
          3,
          2,
          0,
          1,
          2,
          4,
          4,
          9,
          5,
          1,
          1,
          4,
          11,
          0,
          0,
          1,
          11,
          1,
          4,
          0,
          1,
          6,
          5,
          1,
          4,
          2,
          9,
          6,
          3,
          5,
          1,
          5,
          2,
          2,
          2,
          2,
          5,
          0,
          1,
          10,
          1,
          6,
          0,
          0,
          13,
          8,
          2,
          10,
          2,
          5,
          1,
          1,
          6,
          2,
          4,
          3,
          6,
          1,
          12,
          1,
          7,
          0,
          1,
          1,
          2,
          0,
          3,
          10,
          7,
          3,
          11,
          1,
          1,
          2,
          3,
          4,
          10,
          5,
          6,
          6,
          1,
          1,
          9,
          1,
          1,
          2,
          6,
          1,
          6,
          2,
          2,
          3,
          0,
          2,
          1,
          8,
          4,
          1,
          0,
          5,
          0,
          1,
          2,
          2,
          3,
          4,
          0,
          5,
          6,
          2,
          1,
          5,
          1,
          7,
          7,
          6,
          1,
          2,
          3,
          1,
          10,
          3,
          5,
          10,
          2,
          2,
          4,
          0,
          8,
          4,
          2,
          1,
          1,
          3,
          3,
          1,
          1,
          3,
          4,
          0,
          0,
          4,
          2,
          8,
          3,
          9,
          4,
          9,
          1,
          1,
          2,
          5,
          0,
          2,
          8,
          0,
          6,
          3,
          2,
          5,
          1,
          0,
          6,
          2,
          2,
          8,
          7,
          6,
          1,
          0,
          4,
          5
         ],
         "xaxis": "x",
         "yaxis": "y"
        },
        {
         "alignmentgroup": "True",
         "hovertemplate": "Outcome=0<br>Pregnancies=%{x}<extra></extra>",
         "legendgroup": "0",
         "marker": {
          "color": "#636efa"
         },
         "name": "0",
         "notched": true,
         "offsetgroup": "0",
         "showlegend": false,
         "type": "box",
         "x": [
          6,
          2,
          2,
          8,
          7,
          6,
          1,
          0,
          4,
          5,
          7,
          5,
          2,
          3,
          5,
          5,
          1,
          13,
          1,
          10,
          6,
          1,
          3,
          2,
          12,
          4,
          1,
          5,
          6,
          5,
          8,
          0,
          4,
          0,
          3,
          5,
          3,
          2,
          2,
          6,
          0,
          0,
          2,
          0,
          7,
          4,
          9,
          6,
          5,
          2,
          3,
          0,
          4,
          2,
          0,
          0,
          5,
          2,
          0,
          4,
          2,
          2,
          1,
          9,
          2,
          7,
          1,
          0,
          2,
          2,
          2,
          4,
          2,
          7,
          1,
          1,
          4,
          2,
          10,
          1,
          2,
          1,
          1,
          10,
          4,
          1,
          3,
          2,
          2,
          2,
          2,
          1,
          0,
          8,
          1,
          4,
          1,
          8,
          8,
          2,
          1,
          0,
          1,
          1,
          1,
          1,
          2,
          4,
          3,
          7,
          3,
          5,
          0,
          2,
          12,
          13,
          0,
          8,
          0,
          1,
          1,
          6,
          3,
          4,
          3,
          2,
          0,
          3,
          11,
          0,
          2,
          7,
          2,
          3,
          0,
          2,
          1,
          3,
          0,
          0,
          0,
          4,
          10,
          7,
          1,
          0,
          9,
          2,
          0,
          6,
          5,
          1,
          5,
          4,
          1,
          2,
          3,
          0,
          0,
          2,
          4,
          5,
          0,
          1,
          8,
          0,
          1,
          2,
          10,
          7,
          4,
          3,
          1,
          1,
          6,
          3,
          12,
          2,
          9,
          0,
          1,
          6,
          4,
          2,
          7,
          1,
          1,
          7,
          0,
          2,
          7,
          4,
          0,
          5,
          6,
          13,
          1,
          2,
          6,
          8,
          3,
          0,
          1,
          0,
          1,
          2,
          0,
          1,
          1,
          1,
          3,
          3,
          2,
          2,
          6,
          4,
          0,
          5,
          1,
          1,
          0,
          0,
          1,
          2,
          1,
          5,
          1,
          5,
          3,
          10,
          1,
          5,
          1,
          4,
          4,
          6,
          13,
          3,
          2,
          4,
          4,
          5,
          0,
          0,
          0,
          6,
          1,
          1,
          0,
          1,
          2,
          4,
          0,
          10,
          0,
          2,
          3,
          3,
          2,
          9,
          8,
          6,
          12,
          1,
          1,
          2,
          1,
          5,
          4,
          2,
          0,
          1,
          10,
          0,
          2,
          3,
          6,
          3,
          1,
          4,
          1,
          3,
          3,
          3,
          1,
          2,
          4,
          1,
          1,
          0,
          0,
          7,
          7,
          6,
          8,
          3,
          0,
          2,
          6,
          0,
          5,
          0,
          2,
          3,
          5,
          6,
          4,
          1,
          2,
          4,
          3,
          0,
          2,
          7,
          1,
          1,
          3,
          5,
          1,
          4,
          0,
          1,
          2,
          2,
          6,
          4,
          1,
          2,
          8,
          1,
          1,
          7,
          1,
          1,
          3,
          0,
          6,
          0,
          3,
          2,
          0,
          1,
          2,
          4,
          4,
          9,
          5,
          1,
          1,
          4,
          11,
          0,
          0,
          1,
          11,
          1,
          4,
          0,
          1,
          6,
          5,
          1,
          4,
          2,
          9,
          6,
          3,
          5,
          1,
          5,
          2,
          2,
          2,
          2,
          5,
          0,
          1,
          10,
          1,
          6,
          0,
          0,
          13,
          8,
          2,
          10,
          2,
          5,
          1,
          1,
          6,
          2,
          4,
          3,
          6,
          1,
          12,
          1,
          7,
          0,
          1,
          1,
          2,
          0,
          3,
          10,
          7,
          3,
          11,
          1,
          1,
          2,
          3,
          4,
          10,
          5,
          6,
          6,
          1,
          1,
          9,
          1,
          1,
          2,
          6,
          1,
          6,
          2,
          2,
          3,
          0,
          2,
          1,
          8,
          4,
          1,
          0,
          5,
          0,
          1,
          2,
          2,
          3,
          4,
          0,
          5,
          6,
          2,
          1,
          5,
          1,
          7,
          7,
          6,
          1,
          2,
          3,
          1,
          10,
          3,
          5,
          10,
          2,
          2,
          4,
          0,
          8,
          4,
          2,
          1,
          1,
          3,
          3,
          1,
          1,
          3,
          4,
          0,
          0,
          4,
          2,
          8,
          3,
          9,
          4,
          9,
          1,
          1,
          2,
          5,
          0,
          2,
          8,
          0,
          6,
          3,
          2,
          5,
          1,
          0,
          6,
          2,
          2,
          8,
          7,
          6,
          1,
          0,
          4,
          5
         ],
         "xaxis": "x2",
         "yaxis": "y2"
        },
        {
         "alignmentgroup": "True",
         "bingroup": "x",
         "hovertemplate": "Outcome=1<br>Pregnancies=%{x}<br>count=%{y}<extra></extra>",
         "legendgroup": "1",
         "marker": {
          "color": "#EF553B",
          "pattern": {
           "shape": ""
          }
         },
         "name": "1",
         "nbinsx": 30,
         "offsetgroup": "1",
         "orientation": "v",
         "showlegend": true,
         "type": "histogram",
         "x": [
          10,
          4,
          1,
          4,
          0,
          7,
          2,
          0,
          4,
          4,
          0,
          9,
          2,
          0,
          0,
          13,
          3,
          4,
          9,
          12,
          2,
          5,
          8,
          12,
          5,
          1,
          0,
          7,
          0,
          3,
          7,
          2,
          8,
          0,
          13,
          4,
          3,
          3,
          7,
          8,
          3,
          9,
          10,
          11,
          11,
          8,
          12,
          11,
          1,
          8,
          13,
          7,
          5,
          9,
          2,
          9,
          6,
          4,
          10,
          4,
          9,
          2,
          4,
          6,
          0,
          1,
          2,
          6,
          3,
          13,
          0,
          3,
          5,
          7,
          13,
          11,
          8,
          3,
          0,
          4,
          0,
          1,
          0,
          8,
          1,
          8,
          1,
          1,
          7,
          6,
          4,
          0,
          10,
          9,
          6,
          4,
          0,
          3,
          0,
          7,
          5,
          5,
          8,
          7,
          2,
          8,
          4,
          1,
          1,
          2,
          7,
          8,
          7,
          15,
          1,
          9,
          6,
          6,
          5,
          8,
          1,
          3,
          5,
          0,
          3,
          5,
          6,
          1,
          0,
          1,
          5,
          4,
          1,
          0,
          3,
          7,
          0,
          3,
          2,
          3,
          4,
          1,
          2,
          7,
          8,
          10,
          2,
          9,
          14,
          11,
          8,
          7,
          1,
          6,
          1,
          0,
          7,
          9,
          0,
          1,
          4,
          2,
          2,
          0,
          0,
          0,
          8,
          6,
          0,
          7,
          9,
          3,
          3,
          9,
          7,
          3,
          7,
          9,
          0,
          3,
          11,
          8,
          2,
          9,
          8,
          10,
          3,
          8,
          5,
          2,
          5,
          0,
          10,
          0,
          8,
          10,
          3,
          1,
          4,
          3,
          4,
          0,
          5,
          5,
          3,
          3,
          1,
          5,
          3,
          7,
          7,
          2,
          3,
          17,
          8,
          6,
          1,
          9,
          8,
          0,
          0,
          6,
          7,
          5,
          4,
          6,
          3,
          4,
          4,
          5,
          3,
          7,
          0,
          1,
          7,
          5,
          1,
          5,
          5,
          14,
          2,
          2,
          0,
          1,
          6,
          7,
          1,
          8,
          9,
          1,
          0,
          4,
          6,
          5,
          0,
          12,
          6,
          7,
          0,
          1,
          4,
          9,
          1,
          10,
          9,
          11,
          10,
          0
         ],
         "xaxis": "x",
         "yaxis": "y"
        },
        {
         "alignmentgroup": "True",
         "hovertemplate": "Outcome=1<br>Pregnancies=%{x}<extra></extra>",
         "legendgroup": "1",
         "marker": {
          "color": "#EF553B"
         },
         "name": "1",
         "notched": true,
         "offsetgroup": "1",
         "showlegend": false,
         "type": "box",
         "x": [
          10,
          4,
          1,
          4,
          0,
          7,
          2,
          0,
          4,
          4,
          0,
          9,
          2,
          0,
          0,
          13,
          3,
          4,
          9,
          12,
          2,
          5,
          8,
          12,
          5,
          1,
          0,
          7,
          0,
          3,
          7,
          2,
          8,
          0,
          13,
          4,
          3,
          3,
          7,
          8,
          3,
          9,
          10,
          11,
          11,
          8,
          12,
          11,
          1,
          8,
          13,
          7,
          5,
          9,
          2,
          9,
          6,
          4,
          10,
          4,
          9,
          2,
          4,
          6,
          0,
          1,
          2,
          6,
          3,
          13,
          0,
          3,
          5,
          7,
          13,
          11,
          8,
          3,
          0,
          4,
          0,
          1,
          0,
          8,
          1,
          8,
          1,
          1,
          7,
          6,
          4,
          0,
          10,
          9,
          6,
          4,
          0,
          3,
          0,
          7,
          5,
          5,
          8,
          7,
          2,
          8,
          4,
          1,
          1,
          2,
          7,
          8,
          7,
          15,
          1,
          9,
          6,
          6,
          5,
          8,
          1,
          3,
          5,
          0,
          3,
          5,
          6,
          1,
          0,
          1,
          5,
          4,
          1,
          0,
          3,
          7,
          0,
          3,
          2,
          3,
          4,
          1,
          2,
          7,
          8,
          10,
          2,
          9,
          14,
          11,
          8,
          7,
          1,
          6,
          1,
          0,
          7,
          9,
          0,
          1,
          4,
          2,
          2,
          0,
          0,
          0,
          8,
          6,
          0,
          7,
          9,
          3,
          3,
          9,
          7,
          3,
          7,
          9,
          0,
          3,
          11,
          8,
          2,
          9,
          8,
          10,
          3,
          8,
          5,
          2,
          5,
          0,
          10,
          0,
          8,
          10,
          3,
          1,
          4,
          3,
          4,
          0,
          5,
          5,
          3,
          3,
          1,
          5,
          3,
          7,
          7,
          2,
          3,
          17,
          8,
          6,
          1,
          9,
          8,
          0,
          0,
          6,
          7,
          5,
          4,
          6,
          3,
          4,
          4,
          5,
          3,
          7,
          0,
          1,
          7,
          5,
          1,
          5,
          5,
          14,
          2,
          2,
          0,
          1,
          6,
          7,
          1,
          8,
          9,
          1,
          0,
          4,
          6,
          5,
          0,
          12,
          6,
          7,
          0,
          1,
          4,
          9,
          1,
          10,
          9,
          11,
          10,
          0
         ],
         "xaxis": "x2",
         "yaxis": "y2"
        }
       ],
       "layout": {
        "barmode": "relative",
        "height": 500,
        "legend": {
         "title": {
          "text": "Outcome"
         },
         "tracegroupgap": 0
        },
        "margin": {
         "t": 60
        },
        "template": {
         "data": {
          "bar": [
           {
            "error_x": {
             "color": "#2a3f5f"
            },
            "error_y": {
             "color": "#2a3f5f"
            },
            "marker": {
             "line": {
              "color": "#E5ECF6",
              "width": 0.5
             },
             "pattern": {
              "fillmode": "overlay",
              "size": 10,
              "solidity": 0.2
             }
            },
            "type": "bar"
           }
          ],
          "barpolar": [
           {
            "marker": {
             "line": {
              "color": "#E5ECF6",
              "width": 0.5
             },
             "pattern": {
              "fillmode": "overlay",
              "size": 10,
              "solidity": 0.2
             }
            },
            "type": "barpolar"
           }
          ],
          "carpet": [
           {
            "aaxis": {
             "endlinecolor": "#2a3f5f",
             "gridcolor": "white",
             "linecolor": "white",
             "minorgridcolor": "white",
             "startlinecolor": "#2a3f5f"
            },
            "baxis": {
             "endlinecolor": "#2a3f5f",
             "gridcolor": "white",
             "linecolor": "white",
             "minorgridcolor": "white",
             "startlinecolor": "#2a3f5f"
            },
            "type": "carpet"
           }
          ],
          "choropleth": [
           {
            "colorbar": {
             "outlinewidth": 0,
             "ticks": ""
            },
            "type": "choropleth"
           }
          ],
          "contour": [
           {
            "colorbar": {
             "outlinewidth": 0,
             "ticks": ""
            },
            "colorscale": [
             [
              0,
              "#0d0887"
             ],
             [
              0.1111111111111111,
              "#46039f"
             ],
             [
              0.2222222222222222,
              "#7201a8"
             ],
             [
              0.3333333333333333,
              "#9c179e"
             ],
             [
              0.4444444444444444,
              "#bd3786"
             ],
             [
              0.5555555555555556,
              "#d8576b"
             ],
             [
              0.6666666666666666,
              "#ed7953"
             ],
             [
              0.7777777777777778,
              "#fb9f3a"
             ],
             [
              0.8888888888888888,
              "#fdca26"
             ],
             [
              1,
              "#f0f921"
             ]
            ],
            "type": "contour"
           }
          ],
          "contourcarpet": [
           {
            "colorbar": {
             "outlinewidth": 0,
             "ticks": ""
            },
            "type": "contourcarpet"
           }
          ],
          "heatmap": [
           {
            "colorbar": {
             "outlinewidth": 0,
             "ticks": ""
            },
            "colorscale": [
             [
              0,
              "#0d0887"
             ],
             [
              0.1111111111111111,
              "#46039f"
             ],
             [
              0.2222222222222222,
              "#7201a8"
             ],
             [
              0.3333333333333333,
              "#9c179e"
             ],
             [
              0.4444444444444444,
              "#bd3786"
             ],
             [
              0.5555555555555556,
              "#d8576b"
             ],
             [
              0.6666666666666666,
              "#ed7953"
             ],
             [
              0.7777777777777778,
              "#fb9f3a"
             ],
             [
              0.8888888888888888,
              "#fdca26"
             ],
             [
              1,
              "#f0f921"
             ]
            ],
            "type": "heatmap"
           }
          ],
          "heatmapgl": [
           {
            "colorbar": {
             "outlinewidth": 0,
             "ticks": ""
            },
            "colorscale": [
             [
              0,
              "#0d0887"
             ],
             [
              0.1111111111111111,
              "#46039f"
             ],
             [
              0.2222222222222222,
              "#7201a8"
             ],
             [
              0.3333333333333333,
              "#9c179e"
             ],
             [
              0.4444444444444444,
              "#bd3786"
             ],
             [
              0.5555555555555556,
              "#d8576b"
             ],
             [
              0.6666666666666666,
              "#ed7953"
             ],
             [
              0.7777777777777778,
              "#fb9f3a"
             ],
             [
              0.8888888888888888,
              "#fdca26"
             ],
             [
              1,
              "#f0f921"
             ]
            ],
            "type": "heatmapgl"
           }
          ],
          "histogram": [
           {
            "marker": {
             "pattern": {
              "fillmode": "overlay",
              "size": 10,
              "solidity": 0.2
             }
            },
            "type": "histogram"
           }
          ],
          "histogram2d": [
           {
            "colorbar": {
             "outlinewidth": 0,
             "ticks": ""
            },
            "colorscale": [
             [
              0,
              "#0d0887"
             ],
             [
              0.1111111111111111,
              "#46039f"
             ],
             [
              0.2222222222222222,
              "#7201a8"
             ],
             [
              0.3333333333333333,
              "#9c179e"
             ],
             [
              0.4444444444444444,
              "#bd3786"
             ],
             [
              0.5555555555555556,
              "#d8576b"
             ],
             [
              0.6666666666666666,
              "#ed7953"
             ],
             [
              0.7777777777777778,
              "#fb9f3a"
             ],
             [
              0.8888888888888888,
              "#fdca26"
             ],
             [
              1,
              "#f0f921"
             ]
            ],
            "type": "histogram2d"
           }
          ],
          "histogram2dcontour": [
           {
            "colorbar": {
             "outlinewidth": 0,
             "ticks": ""
            },
            "colorscale": [
             [
              0,
              "#0d0887"
             ],
             [
              0.1111111111111111,
              "#46039f"
             ],
             [
              0.2222222222222222,
              "#7201a8"
             ],
             [
              0.3333333333333333,
              "#9c179e"
             ],
             [
              0.4444444444444444,
              "#bd3786"
             ],
             [
              0.5555555555555556,
              "#d8576b"
             ],
             [
              0.6666666666666666,
              "#ed7953"
             ],
             [
              0.7777777777777778,
              "#fb9f3a"
             ],
             [
              0.8888888888888888,
              "#fdca26"
             ],
             [
              1,
              "#f0f921"
             ]
            ],
            "type": "histogram2dcontour"
           }
          ],
          "mesh3d": [
           {
            "colorbar": {
             "outlinewidth": 0,
             "ticks": ""
            },
            "type": "mesh3d"
           }
          ],
          "parcoords": [
           {
            "line": {
             "colorbar": {
              "outlinewidth": 0,
              "ticks": ""
             }
            },
            "type": "parcoords"
           }
          ],
          "pie": [
           {
            "automargin": true,
            "type": "pie"
           }
          ],
          "scatter": [
           {
            "marker": {
             "colorbar": {
              "outlinewidth": 0,
              "ticks": ""
             }
            },
            "type": "scatter"
           }
          ],
          "scatter3d": [
           {
            "line": {
             "colorbar": {
              "outlinewidth": 0,
              "ticks": ""
             }
            },
            "marker": {
             "colorbar": {
              "outlinewidth": 0,
              "ticks": ""
             }
            },
            "type": "scatter3d"
           }
          ],
          "scattercarpet": [
           {
            "marker": {
             "colorbar": {
              "outlinewidth": 0,
              "ticks": ""
             }
            },
            "type": "scattercarpet"
           }
          ],
          "scattergeo": [
           {
            "marker": {
             "colorbar": {
              "outlinewidth": 0,
              "ticks": ""
             }
            },
            "type": "scattergeo"
           }
          ],
          "scattergl": [
           {
            "marker": {
             "colorbar": {
              "outlinewidth": 0,
              "ticks": ""
             }
            },
            "type": "scattergl"
           }
          ],
          "scattermapbox": [
           {
            "marker": {
             "colorbar": {
              "outlinewidth": 0,
              "ticks": ""
             }
            },
            "type": "scattermapbox"
           }
          ],
          "scatterpolar": [
           {
            "marker": {
             "colorbar": {
              "outlinewidth": 0,
              "ticks": ""
             }
            },
            "type": "scatterpolar"
           }
          ],
          "scatterpolargl": [
           {
            "marker": {
             "colorbar": {
              "outlinewidth": 0,
              "ticks": ""
             }
            },
            "type": "scatterpolargl"
           }
          ],
          "scatterternary": [
           {
            "marker": {
             "colorbar": {
              "outlinewidth": 0,
              "ticks": ""
             }
            },
            "type": "scatterternary"
           }
          ],
          "surface": [
           {
            "colorbar": {
             "outlinewidth": 0,
             "ticks": ""
            },
            "colorscale": [
             [
              0,
              "#0d0887"
             ],
             [
              0.1111111111111111,
              "#46039f"
             ],
             [
              0.2222222222222222,
              "#7201a8"
             ],
             [
              0.3333333333333333,
              "#9c179e"
             ],
             [
              0.4444444444444444,
              "#bd3786"
             ],
             [
              0.5555555555555556,
              "#d8576b"
             ],
             [
              0.6666666666666666,
              "#ed7953"
             ],
             [
              0.7777777777777778,
              "#fb9f3a"
             ],
             [
              0.8888888888888888,
              "#fdca26"
             ],
             [
              1,
              "#f0f921"
             ]
            ],
            "type": "surface"
           }
          ],
          "table": [
           {
            "cells": {
             "fill": {
              "color": "#EBF0F8"
             },
             "line": {
              "color": "white"
             }
            },
            "header": {
             "fill": {
              "color": "#C8D4E3"
             },
             "line": {
              "color": "white"
             }
            },
            "type": "table"
           }
          ]
         },
         "layout": {
          "annotationdefaults": {
           "arrowcolor": "#2a3f5f",
           "arrowhead": 0,
           "arrowwidth": 1
          },
          "autotypenumbers": "strict",
          "coloraxis": {
           "colorbar": {
            "outlinewidth": 0,
            "ticks": ""
           }
          },
          "colorscale": {
           "diverging": [
            [
             0,
             "#8e0152"
            ],
            [
             0.1,
             "#c51b7d"
            ],
            [
             0.2,
             "#de77ae"
            ],
            [
             0.3,
             "#f1b6da"
            ],
            [
             0.4,
             "#fde0ef"
            ],
            [
             0.5,
             "#f7f7f7"
            ],
            [
             0.6,
             "#e6f5d0"
            ],
            [
             0.7,
             "#b8e186"
            ],
            [
             0.8,
             "#7fbc41"
            ],
            [
             0.9,
             "#4d9221"
            ],
            [
             1,
             "#276419"
            ]
           ],
           "sequential": [
            [
             0,
             "#0d0887"
            ],
            [
             0.1111111111111111,
             "#46039f"
            ],
            [
             0.2222222222222222,
             "#7201a8"
            ],
            [
             0.3333333333333333,
             "#9c179e"
            ],
            [
             0.4444444444444444,
             "#bd3786"
            ],
            [
             0.5555555555555556,
             "#d8576b"
            ],
            [
             0.6666666666666666,
             "#ed7953"
            ],
            [
             0.7777777777777778,
             "#fb9f3a"
            ],
            [
             0.8888888888888888,
             "#fdca26"
            ],
            [
             1,
             "#f0f921"
            ]
           ],
           "sequentialminus": [
            [
             0,
             "#0d0887"
            ],
            [
             0.1111111111111111,
             "#46039f"
            ],
            [
             0.2222222222222222,
             "#7201a8"
            ],
            [
             0.3333333333333333,
             "#9c179e"
            ],
            [
             0.4444444444444444,
             "#bd3786"
            ],
            [
             0.5555555555555556,
             "#d8576b"
            ],
            [
             0.6666666666666666,
             "#ed7953"
            ],
            [
             0.7777777777777778,
             "#fb9f3a"
            ],
            [
             0.8888888888888888,
             "#fdca26"
            ],
            [
             1,
             "#f0f921"
            ]
           ]
          },
          "colorway": [
           "#636efa",
           "#EF553B",
           "#00cc96",
           "#ab63fa",
           "#FFA15A",
           "#19d3f3",
           "#FF6692",
           "#B6E880",
           "#FF97FF",
           "#FECB52"
          ],
          "font": {
           "color": "#2a3f5f"
          },
          "geo": {
           "bgcolor": "white",
           "lakecolor": "white",
           "landcolor": "#E5ECF6",
           "showlakes": true,
           "showland": true,
           "subunitcolor": "white"
          },
          "hoverlabel": {
           "align": "left"
          },
          "hovermode": "closest",
          "mapbox": {
           "style": "light"
          },
          "paper_bgcolor": "white",
          "plot_bgcolor": "#E5ECF6",
          "polar": {
           "angularaxis": {
            "gridcolor": "white",
            "linecolor": "white",
            "ticks": ""
           },
           "bgcolor": "#E5ECF6",
           "radialaxis": {
            "gridcolor": "white",
            "linecolor": "white",
            "ticks": ""
           }
          },
          "scene": {
           "xaxis": {
            "backgroundcolor": "#E5ECF6",
            "gridcolor": "white",
            "gridwidth": 2,
            "linecolor": "white",
            "showbackground": true,
            "ticks": "",
            "zerolinecolor": "white"
           },
           "yaxis": {
            "backgroundcolor": "#E5ECF6",
            "gridcolor": "white",
            "gridwidth": 2,
            "linecolor": "white",
            "showbackground": true,
            "ticks": "",
            "zerolinecolor": "white"
           },
           "zaxis": {
            "backgroundcolor": "#E5ECF6",
            "gridcolor": "white",
            "gridwidth": 2,
            "linecolor": "white",
            "showbackground": true,
            "ticks": "",
            "zerolinecolor": "white"
           }
          },
          "shapedefaults": {
           "line": {
            "color": "#2a3f5f"
           }
          },
          "ternary": {
           "aaxis": {
            "gridcolor": "white",
            "linecolor": "white",
            "ticks": ""
           },
           "baxis": {
            "gridcolor": "white",
            "linecolor": "white",
            "ticks": ""
           },
           "bgcolor": "#E5ECF6",
           "caxis": {
            "gridcolor": "white",
            "linecolor": "white",
            "ticks": ""
           }
          },
          "title": {
           "x": 0.05
          },
          "xaxis": {
           "automargin": true,
           "gridcolor": "white",
           "linecolor": "white",
           "ticks": "",
           "title": {
            "standoff": 15
           },
           "zerolinecolor": "white",
           "zerolinewidth": 2
          },
          "yaxis": {
           "automargin": true,
           "gridcolor": "white",
           "linecolor": "white",
           "ticks": "",
           "title": {
            "standoff": 15
           },
           "zerolinecolor": "white",
           "zerolinewidth": 2
          }
         }
        },
        "width": 1000,
        "xaxis": {
         "anchor": "y",
         "domain": [
          0,
          1
         ],
         "title": {
          "text": "Pregnancies"
         }
        },
        "xaxis2": {
         "anchor": "y2",
         "domain": [
          0,
          1
         ],
         "matches": "x",
         "showgrid": true,
         "showticklabels": false
        },
        "yaxis": {
         "anchor": "x",
         "domain": [
          0,
          0.7326
         ],
         "title": {
          "text": "count"
         }
        },
        "yaxis2": {
         "anchor": "x2",
         "domain": [
          0.7426,
          1
         ],
         "matches": "y2",
         "showgrid": false,
         "showline": false,
         "showticklabels": false,
         "ticks": ""
        }
       }
      }
     },
     "metadata": {},
     "output_type": "display_data"
    }
   ],
   "source": [
    "fig = px.histogram(diabetes, x=\"Pregnancies\",  marginal=\"box\", nbins=30, width=1000 , height= 500, color='Outcome')\n",
    "fig.show()"
   ]
  },
  {
   "cell_type": "code",
   "execution_count": 388,
   "metadata": {},
   "outputs": [
    {
     "data": {
      "text/plain": [
       "(768, 10)"
      ]
     },
     "execution_count": 388,
     "metadata": {},
     "output_type": "execute_result"
    }
   ],
   "source": [
    "diabetes_dd = diabetes.drop_duplicates()\n",
    "diabetes_dd.shape"
   ]
  },
  {
   "cell_type": "code",
   "execution_count": 389,
   "metadata": {},
   "outputs": [
    {
     "name": "stdout",
     "output_type": "stream",
     "text": [
      "Gender: 100.0% одинаковых значений\n",
      "['Gender']\n"
     ]
    }
   ],
   "source": [
    "#список неинформативных признаков\n",
    "low_information_cols = [] \n",
    "\n",
    "#цикл по всем столбцам\n",
    "for col in diabetes_dd.columns:\n",
    "    #наибольшая относительная частота в признаке\n",
    "    top_freq = diabetes_dd[col].value_counts(normalize=True).max()\n",
    "    #доля уникальных значений от размера признака\n",
    "    nunique_ratio = diabetes_dd[col].nunique() / diabetes_dd[col].count()\n",
    "    # сравниваем наибольшую частоту с порогом\n",
    "    if top_freq > 0.99:\n",
    "        low_information_cols.append(col)\n",
    "        print(f'{col}: {round(top_freq*100, 2)}% одинаковых значений')\n",
    "    # сравниваем долю уникальных значений с порогом\n",
    "    if nunique_ratio > 0.99:\n",
    "        low_information_cols.append(col)\n",
    "        print(f'{col}: {round(nunique_ratio*100, 2)}% уникальных значений')\n",
    "print(low_information_cols)"
   ]
  },
  {
   "cell_type": "code",
   "execution_count": 390,
   "metadata": {},
   "outputs": [
    {
     "data": {
      "text/html": [
       "<div>\n",
       "<style scoped>\n",
       "    .dataframe tbody tr th:only-of-type {\n",
       "        vertical-align: middle;\n",
       "    }\n",
       "\n",
       "    .dataframe tbody tr th {\n",
       "        vertical-align: top;\n",
       "    }\n",
       "\n",
       "    .dataframe thead th {\n",
       "        text-align: right;\n",
       "    }\n",
       "</style>\n",
       "<table border=\"1\" class=\"dataframe\">\n",
       "  <thead>\n",
       "    <tr style=\"text-align: right;\">\n",
       "      <th></th>\n",
       "      <th>Pregnancies</th>\n",
       "      <th>Glucose</th>\n",
       "      <th>BloodPressure</th>\n",
       "      <th>SkinThickness</th>\n",
       "      <th>Insulin</th>\n",
       "      <th>BMI</th>\n",
       "      <th>DiabetesPedigreeFunction</th>\n",
       "      <th>Age</th>\n",
       "      <th>Outcome</th>\n",
       "    </tr>\n",
       "  </thead>\n",
       "  <tbody>\n",
       "    <tr>\n",
       "      <th>0</th>\n",
       "      <td>6</td>\n",
       "      <td>98</td>\n",
       "      <td>58</td>\n",
       "      <td>33</td>\n",
       "      <td>190</td>\n",
       "      <td>34.0</td>\n",
       "      <td>0.430</td>\n",
       "      <td>43</td>\n",
       "      <td>0</td>\n",
       "    </tr>\n",
       "    <tr>\n",
       "      <th>1</th>\n",
       "      <td>2</td>\n",
       "      <td>112</td>\n",
       "      <td>75</td>\n",
       "      <td>32</td>\n",
       "      <td>0</td>\n",
       "      <td>35.7</td>\n",
       "      <td>0.148</td>\n",
       "      <td>21</td>\n",
       "      <td>0</td>\n",
       "    </tr>\n",
       "    <tr>\n",
       "      <th>2</th>\n",
       "      <td>2</td>\n",
       "      <td>108</td>\n",
       "      <td>64</td>\n",
       "      <td>0</td>\n",
       "      <td>0</td>\n",
       "      <td>30.8</td>\n",
       "      <td>0.158</td>\n",
       "      <td>21</td>\n",
       "      <td>0</td>\n",
       "    </tr>\n",
       "    <tr>\n",
       "      <th>3</th>\n",
       "      <td>8</td>\n",
       "      <td>107</td>\n",
       "      <td>80</td>\n",
       "      <td>0</td>\n",
       "      <td>0</td>\n",
       "      <td>24.6</td>\n",
       "      <td>0.856</td>\n",
       "      <td>34</td>\n",
       "      <td>0</td>\n",
       "    </tr>\n",
       "    <tr>\n",
       "      <th>4</th>\n",
       "      <td>7</td>\n",
       "      <td>136</td>\n",
       "      <td>90</td>\n",
       "      <td>0</td>\n",
       "      <td>0</td>\n",
       "      <td>29.9</td>\n",
       "      <td>0.210</td>\n",
       "      <td>50</td>\n",
       "      <td>0</td>\n",
       "    </tr>\n",
       "  </tbody>\n",
       "</table>\n",
       "</div>"
      ],
      "text/plain": [
       "   Pregnancies  Glucose  BloodPressure  SkinThickness  Insulin   BMI  \\\n",
       "0            6       98             58             33      190  34.0   \n",
       "1            2      112             75             32        0  35.7   \n",
       "2            2      108             64              0        0  30.8   \n",
       "3            8      107             80              0        0  24.6   \n",
       "4            7      136             90              0        0  29.9   \n",
       "\n",
       "   DiabetesPedigreeFunction  Age  Outcome  \n",
       "0                     0.430   43        0  \n",
       "1                     0.148   21        0  \n",
       "2                     0.158   21        0  \n",
       "3                     0.856   34        0  \n",
       "4                     0.210   50        0  "
      ]
     },
     "execution_count": 390,
     "metadata": {},
     "output_type": "execute_result"
    }
   ],
   "source": [
    "diabetes_dd = diabetes_dd.drop(low_information_cols, axis=1)\n",
    "diabetes_dd.head()"
   ]
  },
  {
   "cell_type": "code",
   "execution_count": 391,
   "metadata": {},
   "outputs": [
    {
     "name": "stdout",
     "output_type": "stream",
     "text": [
      "<class 'pandas.core.frame.DataFrame'>\n",
      "Int64Index: 768 entries, 0 to 767\n",
      "Data columns (total 9 columns):\n",
      " #   Column                    Non-Null Count  Dtype   \n",
      "---  ------                    --------------  -----   \n",
      " 0   Pregnancies               768 non-null    int64   \n",
      " 1   Glucose                   768 non-null    int64   \n",
      " 2   BloodPressure             768 non-null    int64   \n",
      " 3   SkinThickness             768 non-null    int64   \n",
      " 4   Insulin                   768 non-null    int64   \n",
      " 5   BMI                       768 non-null    float64 \n",
      " 6   DiabetesPedigreeFunction  768 non-null    float64 \n",
      " 7   Age                       768 non-null    int64   \n",
      " 8   Outcome                   768 non-null    category\n",
      "dtypes: category(1), float64(2), int64(6)\n",
      "memory usage: 54.9 KB\n"
     ]
    },
    {
     "data": {
      "text/html": [
       "<div>\n",
       "<style scoped>\n",
       "    .dataframe tbody tr th:only-of-type {\n",
       "        vertical-align: middle;\n",
       "    }\n",
       "\n",
       "    .dataframe tbody tr th {\n",
       "        vertical-align: top;\n",
       "    }\n",
       "\n",
       "    .dataframe thead th {\n",
       "        text-align: right;\n",
       "    }\n",
       "</style>\n",
       "<table border=\"1\" class=\"dataframe\">\n",
       "  <thead>\n",
       "    <tr style=\"text-align: right;\">\n",
       "      <th></th>\n",
       "      <th>Pregnancies</th>\n",
       "      <th>Glucose</th>\n",
       "      <th>BloodPressure</th>\n",
       "      <th>SkinThickness</th>\n",
       "      <th>Insulin</th>\n",
       "      <th>BMI</th>\n",
       "      <th>DiabetesPedigreeFunction</th>\n",
       "      <th>Age</th>\n",
       "      <th>Outcome</th>\n",
       "    </tr>\n",
       "  </thead>\n",
       "  <tbody>\n",
       "    <tr>\n",
       "      <th>0</th>\n",
       "      <td>6.0</td>\n",
       "      <td>98.0</td>\n",
       "      <td>58.0</td>\n",
       "      <td>33.0</td>\n",
       "      <td>190.0</td>\n",
       "      <td>34.0</td>\n",
       "      <td>0.430</td>\n",
       "      <td>43</td>\n",
       "      <td>0</td>\n",
       "    </tr>\n",
       "    <tr>\n",
       "      <th>1</th>\n",
       "      <td>2.0</td>\n",
       "      <td>112.0</td>\n",
       "      <td>75.0</td>\n",
       "      <td>32.0</td>\n",
       "      <td>NaN</td>\n",
       "      <td>35.7</td>\n",
       "      <td>0.148</td>\n",
       "      <td>21</td>\n",
       "      <td>0</td>\n",
       "    </tr>\n",
       "    <tr>\n",
       "      <th>2</th>\n",
       "      <td>2.0</td>\n",
       "      <td>108.0</td>\n",
       "      <td>64.0</td>\n",
       "      <td>NaN</td>\n",
       "      <td>NaN</td>\n",
       "      <td>30.8</td>\n",
       "      <td>0.158</td>\n",
       "      <td>21</td>\n",
       "      <td>0</td>\n",
       "    </tr>\n",
       "    <tr>\n",
       "      <th>3</th>\n",
       "      <td>8.0</td>\n",
       "      <td>107.0</td>\n",
       "      <td>80.0</td>\n",
       "      <td>NaN</td>\n",
       "      <td>NaN</td>\n",
       "      <td>24.6</td>\n",
       "      <td>0.856</td>\n",
       "      <td>34</td>\n",
       "      <td>0</td>\n",
       "    </tr>\n",
       "    <tr>\n",
       "      <th>4</th>\n",
       "      <td>7.0</td>\n",
       "      <td>136.0</td>\n",
       "      <td>90.0</td>\n",
       "      <td>NaN</td>\n",
       "      <td>NaN</td>\n",
       "      <td>29.9</td>\n",
       "      <td>0.210</td>\n",
       "      <td>50</td>\n",
       "      <td>0</td>\n",
       "    </tr>\n",
       "  </tbody>\n",
       "</table>\n",
       "</div>"
      ],
      "text/plain": [
       "   Pregnancies  Glucose  BloodPressure  SkinThickness  Insulin   BMI  \\\n",
       "0          6.0     98.0           58.0           33.0    190.0  34.0   \n",
       "1          2.0    112.0           75.0           32.0      NaN  35.7   \n",
       "2          2.0    108.0           64.0            NaN      NaN  30.8   \n",
       "3          8.0    107.0           80.0            NaN      NaN  24.6   \n",
       "4          7.0    136.0           90.0            NaN      NaN  29.9   \n",
       "\n",
       "   DiabetesPedigreeFunction  Age Outcome  \n",
       "0                     0.430   43       0  \n",
       "1                     0.148   21       0  \n",
       "2                     0.158   21       0  \n",
       "3                     0.856   34       0  \n",
       "4                     0.210   50       0  "
      ]
     },
     "metadata": {},
     "output_type": "display_data"
    },
    {
     "data": {
      "text/plain": [
       "0.49"
      ]
     },
     "execution_count": 391,
     "metadata": {},
     "output_type": "execute_result"
    }
   ],
   "source": [
    "# Задание 8.3\n",
    "# Попробуйте найти пропуски в данных с помощью метода insull().\n",
    "# Спойлер: ничего не найдёте. А они есть! Просто они скрыты от наших глаз. В таблице пропуски в столбцах Glucose, BloodPressure, SkinThickness, Insulin и BMI\n",
    "# обозначены нулём, поэтому традиционные методы поиска пропусков ничего вам не покажут. Давайте это исправим!\n",
    "# Замените все записи, равные 0, в столбцах Glucose, BloodPressure, SkinThickness, Insulin и BMI на символ пропуска. Его вы можете взять из библиотеки numpy: np.nan.\n",
    "# Какая доля пропусков содержится в столбце Insulin? Ответ округлите до сотых.\n",
    "diabetes_dd['Outcome']=diabetes_dd['Outcome'].astype('category')\n",
    "diabetes_dd.info()\n",
    "# display(df.colums())\n",
    "for col in diabetes_dd.columns:\n",
    "    if col != \"Outcome\":\n",
    "        diabetes_dd[col] = diabetes_dd[col].replace({0:np.nan})\n",
    "display(diabetes_dd.head())\n",
    "\n",
    "round(diabetes_dd['Insulin'].isna().value_counts(normalize=True)[True], 2)"
   ]
  },
  {
   "cell_type": "code",
   "execution_count": 392,
   "metadata": {},
   "outputs": [
    {
     "data": {
      "text/plain": [
       "(768, 9)"
      ]
     },
     "metadata": {},
     "output_type": "display_data"
    },
    {
     "data": {
      "text/html": [
       "<div>\n",
       "<style scoped>\n",
       "    .dataframe tbody tr th:only-of-type {\n",
       "        vertical-align: middle;\n",
       "    }\n",
       "\n",
       "    .dataframe tbody tr th {\n",
       "        vertical-align: top;\n",
       "    }\n",
       "\n",
       "    .dataframe thead th {\n",
       "        text-align: right;\n",
       "    }\n",
       "</style>\n",
       "<table border=\"1\" class=\"dataframe\">\n",
       "  <thead>\n",
       "    <tr style=\"text-align: right;\">\n",
       "      <th></th>\n",
       "      <th>Pregnancies</th>\n",
       "      <th>Glucose</th>\n",
       "      <th>BloodPressure</th>\n",
       "      <th>SkinThickness</th>\n",
       "      <th>BMI</th>\n",
       "      <th>DiabetesPedigreeFunction</th>\n",
       "      <th>Age</th>\n",
       "      <th>Outcome</th>\n",
       "    </tr>\n",
       "  </thead>\n",
       "  <tbody>\n",
       "    <tr>\n",
       "      <th>0</th>\n",
       "      <td>6.0</td>\n",
       "      <td>98.0</td>\n",
       "      <td>58.0</td>\n",
       "      <td>33.0</td>\n",
       "      <td>34.0</td>\n",
       "      <td>0.430</td>\n",
       "      <td>43</td>\n",
       "      <td>0</td>\n",
       "    </tr>\n",
       "    <tr>\n",
       "      <th>1</th>\n",
       "      <td>2.0</td>\n",
       "      <td>112.0</td>\n",
       "      <td>75.0</td>\n",
       "      <td>32.0</td>\n",
       "      <td>35.7</td>\n",
       "      <td>0.148</td>\n",
       "      <td>21</td>\n",
       "      <td>0</td>\n",
       "    </tr>\n",
       "    <tr>\n",
       "      <th>2</th>\n",
       "      <td>2.0</td>\n",
       "      <td>108.0</td>\n",
       "      <td>64.0</td>\n",
       "      <td>NaN</td>\n",
       "      <td>30.8</td>\n",
       "      <td>0.158</td>\n",
       "      <td>21</td>\n",
       "      <td>0</td>\n",
       "    </tr>\n",
       "    <tr>\n",
       "      <th>3</th>\n",
       "      <td>8.0</td>\n",
       "      <td>107.0</td>\n",
       "      <td>80.0</td>\n",
       "      <td>NaN</td>\n",
       "      <td>24.6</td>\n",
       "      <td>0.856</td>\n",
       "      <td>34</td>\n",
       "      <td>0</td>\n",
       "    </tr>\n",
       "    <tr>\n",
       "      <th>4</th>\n",
       "      <td>7.0</td>\n",
       "      <td>136.0</td>\n",
       "      <td>90.0</td>\n",
       "      <td>NaN</td>\n",
       "      <td>29.9</td>\n",
       "      <td>0.210</td>\n",
       "      <td>50</td>\n",
       "      <td>0</td>\n",
       "    </tr>\n",
       "    <tr>\n",
       "      <th>...</th>\n",
       "      <td>...</td>\n",
       "      <td>...</td>\n",
       "      <td>...</td>\n",
       "      <td>...</td>\n",
       "      <td>...</td>\n",
       "      <td>...</td>\n",
       "      <td>...</td>\n",
       "      <td>...</td>\n",
       "    </tr>\n",
       "    <tr>\n",
       "      <th>763</th>\n",
       "      <td>5.0</td>\n",
       "      <td>139.0</td>\n",
       "      <td>64.0</td>\n",
       "      <td>35.0</td>\n",
       "      <td>28.6</td>\n",
       "      <td>0.411</td>\n",
       "      <td>26</td>\n",
       "      <td>0</td>\n",
       "    </tr>\n",
       "    <tr>\n",
       "      <th>764</th>\n",
       "      <td>1.0</td>\n",
       "      <td>96.0</td>\n",
       "      <td>122.0</td>\n",
       "      <td>NaN</td>\n",
       "      <td>22.4</td>\n",
       "      <td>0.207</td>\n",
       "      <td>27</td>\n",
       "      <td>0</td>\n",
       "    </tr>\n",
       "    <tr>\n",
       "      <th>765</th>\n",
       "      <td>10.0</td>\n",
       "      <td>101.0</td>\n",
       "      <td>86.0</td>\n",
       "      <td>37.0</td>\n",
       "      <td>45.6</td>\n",
       "      <td>1.136</td>\n",
       "      <td>38</td>\n",
       "      <td>1</td>\n",
       "    </tr>\n",
       "    <tr>\n",
       "      <th>766</th>\n",
       "      <td>NaN</td>\n",
       "      <td>141.0</td>\n",
       "      <td>NaN</td>\n",
       "      <td>NaN</td>\n",
       "      <td>42.4</td>\n",
       "      <td>0.205</td>\n",
       "      <td>29</td>\n",
       "      <td>1</td>\n",
       "    </tr>\n",
       "    <tr>\n",
       "      <th>767</th>\n",
       "      <td>NaN</td>\n",
       "      <td>125.0</td>\n",
       "      <td>96.0</td>\n",
       "      <td>NaN</td>\n",
       "      <td>22.5</td>\n",
       "      <td>0.262</td>\n",
       "      <td>21</td>\n",
       "      <td>0</td>\n",
       "    </tr>\n",
       "  </tbody>\n",
       "</table>\n",
       "<p>768 rows × 8 columns</p>\n",
       "</div>"
      ],
      "text/plain": [
       "     Pregnancies  Glucose  BloodPressure  SkinThickness   BMI  \\\n",
       "0            6.0     98.0           58.0           33.0  34.0   \n",
       "1            2.0    112.0           75.0           32.0  35.7   \n",
       "2            2.0    108.0           64.0            NaN  30.8   \n",
       "3            8.0    107.0           80.0            NaN  24.6   \n",
       "4            7.0    136.0           90.0            NaN  29.9   \n",
       "..           ...      ...            ...            ...   ...   \n",
       "763          5.0    139.0           64.0           35.0  28.6   \n",
       "764          1.0     96.0          122.0            NaN  22.4   \n",
       "765         10.0    101.0           86.0           37.0  45.6   \n",
       "766          NaN    141.0            NaN            NaN  42.4   \n",
       "767          NaN    125.0           96.0            NaN  22.5   \n",
       "\n",
       "     DiabetesPedigreeFunction  Age Outcome  \n",
       "0                       0.430   43       0  \n",
       "1                       0.148   21       0  \n",
       "2                       0.158   21       0  \n",
       "3                       0.856   34       0  \n",
       "4                       0.210   50       0  \n",
       "..                        ...  ...     ...  \n",
       "763                     0.411   26       0  \n",
       "764                     0.207   27       0  \n",
       "765                     1.136   38       1  \n",
       "766                     0.205   29       1  \n",
       "767                     0.262   21       0  \n",
       "\n",
       "[768 rows x 8 columns]"
      ]
     },
     "metadata": {},
     "output_type": "display_data"
    },
    {
     "data": {
      "text/plain": [
       "(768, 8)"
      ]
     },
     "metadata": {},
     "output_type": "display_data"
    }
   ],
   "source": [
    "# Задание 8.4\n",
    "# Удалите из данных признаки, где число пропусков составляет более 30 %. Сколько признаков осталось в ваших данных (с учетом удаленных неинформативных признаков в задании 8.2)?\n",
    "display(diabetes_dd.shape)\n",
    "n = diabetes_dd.shape[0] #число строк в таблице\n",
    "thresh_col = n*0.7\n",
    "diabetes_dd = diabetes_dd.dropna(how='any', thresh=thresh_col, axis=1)\n",
    "display(diabetes_dd)\n",
    "display(diabetes_dd.shape)\n"
   ]
  },
  {
   "cell_type": "code",
   "execution_count": 393,
   "metadata": {},
   "outputs": [
    {
     "data": {
      "text/plain": [
       "(768, 8)"
      ]
     },
     "metadata": {},
     "output_type": "display_data"
    },
    {
     "name": "stdout",
     "output_type": "stream",
     "text": [
      "triesh_line = 6\n",
      "<class 'pandas.core.frame.DataFrame'>\n",
      "Int64Index: 752 entries, 0 to 767\n",
      "Data columns (total 8 columns):\n",
      " #   Column                    Non-Null Count  Dtype   \n",
      "---  ------                    --------------  -----   \n",
      " 0   Pregnancies               651 non-null    float64 \n",
      " 1   Glucose                   747 non-null    float64 \n",
      " 2   BloodPressure             733 non-null    float64 \n",
      " 3   SkinThickness             541 non-null    float64 \n",
      " 4   BMI                       748 non-null    float64 \n",
      " 5   DiabetesPedigreeFunction  752 non-null    float64 \n",
      " 6   Age                       752 non-null    int64   \n",
      " 7   Outcome                   752 non-null    category\n",
      "dtypes: category(1), float64(6), int64(1)\n",
      "memory usage: 47.9 KB\n"
     ]
    },
    {
     "data": {
      "text/plain": [
       "None"
      ]
     },
     "metadata": {},
     "output_type": "display_data"
    },
    {
     "data": {
      "text/plain": [
       "(752, 8)"
      ]
     },
     "metadata": {},
     "output_type": "display_data"
    }
   ],
   "source": [
    "# Задание 8.5\n",
    "# Удалите из данных только те строки, в которых содержится более двух пропусков одновременно. Чему равно результирующее число записей в таблице?\n",
    "\n",
    "display(diabetes_dd.shape)\n",
    "\n",
    "m = diabetes_dd.shape[1]\n",
    "tresh_line = m - 2 # убираем те записи где больее 2х Nan\n",
    "print(f'triesh_line = {tresh_line}')\n",
    "diabetes_dd = diabetes_dd.dropna(how='any', thresh=tresh_line, axis=0)\n",
    "\n",
    "display(diabetes_dd.info())\n",
    "\n",
    "display(diabetes_dd.shape)\n",
    "\n",
    "# values = {\n",
    "#     'one': df['one'].mean(),\n",
    "#     'two': df['two'].mean(),\n",
    "#     'three': df['three'].mean(),\n",
    "#     'four': df['four'].mode()[0]\n",
    "# }\n"
   ]
  },
  {
   "cell_type": "code",
   "execution_count": 374,
   "metadata": {},
   "outputs": [
    {
     "name": "stdout",
     "output_type": "stream",
     "text": [
      "29.2\n",
      "['Pregnancies', 'Glucose', 'BloodPressure', 'SkinThickness', 'BMI', 'DiabetesPedigreeFunction', 'Age']\n"
     ]
    },
    {
     "data": {
      "text/plain": [
       "29.1"
      ]
     },
     "metadata": {},
     "output_type": "display_data"
    }
   ],
   "source": [
    "# Задание 8.6\n",
    "# # В оставшихся записях замените пропуски на медиану. Чему равно среднее значение в столбце SkinThickness? Ответ округлите до десятых.\n",
    "print(round(diabetes_dd['SkinThickness'].mean(),1))\n",
    "cols = list(diabetes_dd.columns)\n",
    "cols.remove('Outcome')\n",
    "print(cols)\n",
    "for col in diabetes_dd.columns:\n",
    "    if col != 'Outcome':\n",
    "        diabetes_dd[col] = diabetes_dd[col].fillna(diabetes_dd[col].median())\n",
    "\n",
    "display(round(diabetes_dd['SkinThickness'].mean(),1))"
   ]
  },
  {
   "cell_type": "code",
   "execution_count": 375,
   "metadata": {},
   "outputs": [
    {
     "name": "stdout",
     "output_type": "stream",
     "text": [
      "Число выбросов по методу Тьюки: 81\n",
      "Результирующее число записей: 671\n"
     ]
    }
   ],
   "source": [
    "# Задание 8.7\n",
    "\n",
    "# Сколько выбросов найдёт классический метод межквартильного размаха в признаке SkinThickness?\n",
    "def outliers_iqr_mod(data, feature, left =1.5, right= 1.5, log_scale=False):\n",
    "    if log_scale:\n",
    "        x = np.log(data[feature]+1)\n",
    "    else:\n",
    "        x = data[feature]\n",
    "    quartile_1, quartile_3 = x.quantile(0.25), x.quantile(0.75),\n",
    "    iqr = quartile_3 - quartile_1\n",
    "    lower_bound = quartile_1 - (iqr * left)\n",
    "    upper_bound = quartile_3 + (iqr * right)\n",
    "    outliers = data[(x<lower_bound) | (x > upper_bound)]\n",
    "    cleaned = data[(x>lower_bound) & (x < upper_bound)]\n",
    "    return outliers, cleaned\n",
    "\n",
    "outliers, cleaned = outliers_iqr_mod(diabetes_dd, 'SkinThickness')\n",
    "print(f'Число выбросов по методу Тьюки: {outliers.shape[0]}')\n",
    "print(f'Результирующее число записей: {cleaned.shape[0]}')"
   ]
  }
 ],
 "metadata": {
  "interpreter": {
   "hash": "4cf8740b77de6ac68c701f5d05813ddbce361e765d83d58497ce85d0cb93b38e"
  },
  "kernelspec": {
   "display_name": "Python 3.9.10 64-bit",
   "language": "python",
   "name": "python3"
  },
  "language_info": {
   "codemirror_mode": {
    "name": "ipython",
    "version": 3
   },
   "file_extension": ".py",
   "mimetype": "text/x-python",
   "name": "python",
   "nbconvert_exporter": "python",
   "pygments_lexer": "ipython3",
   "version": "3.9.10"
  },
  "orig_nbformat": 4
 },
 "nbformat": 4,
 "nbformat_minor": 2
}
