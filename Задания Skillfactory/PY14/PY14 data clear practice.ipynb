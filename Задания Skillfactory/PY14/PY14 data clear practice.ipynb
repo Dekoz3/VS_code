{
 "cells": [
  {
   "cell_type": "code",
   "execution_count": 6,
   "metadata": {},
   "outputs": [
    {
     "ename": "OSError",
     "evalue": "[Errno 9] Bad file descriptor",
     "output_type": "error",
     "traceback": [
      "\u001b[1;31m---------------------------------------------------------------------------\u001b[0m",
      "\u001b[1;31mOSError\u001b[0m                                   Traceback (most recent call last)",
      "\u001b[1;32mc:\\Users\\Denis.kozarenko\\VS_code\\VS_code\\Задания Skillfactory\\PY14\\PY14 data clear practice.ipynb Cell 1'\u001b[0m in \u001b[0;36m<module>\u001b[1;34m\u001b[0m\n\u001b[0;32m     <a href='vscode-notebook-cell:/c%3A/Users/Denis.kozarenko/VS_code/VS_code/%D0%97%D0%B0%D0%B4%D0%B0%D0%BD%D0%B8%D1%8F%20Skillfactory/PY14/PY14%20data%20clear%20practice.ipynb#ch0000000?line=25'>26</a>\u001b[0m r \u001b[39m=\u001b[39m requests\u001b[39m.\u001b[39mget(\u001b[39m\"\u001b[39m\u001b[39mhttps://lms.skillfactory.ru/assets/courseware/v1/6559ab1e1d17acac79bec5dc8052261b/asset-v1:SkillFactory+DSPR-2.0+14JULY2021+type@asset+block/diabetes_data.zip\u001b[39m\u001b[39m\"\u001b[39m)\n\u001b[0;32m     <a href='vscode-notebook-cell:/c%3A/Users/Denis.kozarenko/VS_code/VS_code/%D0%97%D0%B0%D0%B4%D0%B0%D0%BD%D0%B8%D1%8F%20Skillfactory/PY14/PY14%20data%20clear%20practice.ipynb#ch0000000?line=26'>27</a>\u001b[0m \u001b[39mwith\u001b[39;00m r, zipfile\u001b[39m.\u001b[39mZipFile(io\u001b[39m.\u001b[39mBytesIO(r\u001b[39m.\u001b[39mcontent)) \u001b[39mas\u001b[39;00m archive:\n\u001b[1;32m---> <a href='vscode-notebook-cell:/c%3A/Users/Denis.kozarenko/VS_code/VS_code/%D0%97%D0%B0%D0%B4%D0%B0%D0%BD%D0%B8%D1%8F%20Skillfactory/PY14/PY14%20data%20clear%20practice.ipynb#ch0000000?line=27'>28</a>\u001b[0m     archive\u001b[39m.\u001b[39;49mextractall(\u001b[39m'\u001b[39;49m\u001b[39mData\u001b[39;49m\u001b[39m'\u001b[39;49m)\n",
      "File \u001b[1;32m~\\AppData\\Local\\Programs\\Python\\Python39\\lib\\zipfile.py:1633\u001b[0m, in \u001b[0;36mZipFile.extractall\u001b[1;34m(self, path, members, pwd)\u001b[0m\n\u001b[0;32m   <a href='file:///c%3A/Users/Denis.kozarenko/AppData/Local/Programs/Python/Python39/lib/zipfile.py?line=1629'>1630</a>\u001b[0m     path \u001b[39m=\u001b[39m os\u001b[39m.\u001b[39mfspath(path)\n\u001b[0;32m   <a href='file:///c%3A/Users/Denis.kozarenko/AppData/Local/Programs/Python/Python39/lib/zipfile.py?line=1631'>1632</a>\u001b[0m \u001b[39mfor\u001b[39;00m zipinfo \u001b[39min\u001b[39;00m members:\n\u001b[1;32m-> <a href='file:///c%3A/Users/Denis.kozarenko/AppData/Local/Programs/Python/Python39/lib/zipfile.py?line=1632'>1633</a>\u001b[0m     \u001b[39mself\u001b[39;49m\u001b[39m.\u001b[39;49m_extract_member(zipinfo, path, pwd)\n",
      "File \u001b[1;32m~\\AppData\\Local\\Programs\\Python\\Python39\\lib\\zipfile.py:1688\u001b[0m, in \u001b[0;36mZipFile._extract_member\u001b[1;34m(self, member, targetpath, pwd)\u001b[0m\n\u001b[0;32m   <a href='file:///c%3A/Users/Denis.kozarenko/AppData/Local/Programs/Python/Python39/lib/zipfile.py?line=1683'>1684</a>\u001b[0m     \u001b[39mreturn\u001b[39;00m targetpath\n\u001b[0;32m   <a href='file:///c%3A/Users/Denis.kozarenko/AppData/Local/Programs/Python/Python39/lib/zipfile.py?line=1685'>1686</a>\u001b[0m \u001b[39mwith\u001b[39;00m \u001b[39mself\u001b[39m\u001b[39m.\u001b[39mopen(member, pwd\u001b[39m=\u001b[39mpwd) \u001b[39mas\u001b[39;00m source, \\\n\u001b[0;32m   <a href='file:///c%3A/Users/Denis.kozarenko/AppData/Local/Programs/Python/Python39/lib/zipfile.py?line=1686'>1687</a>\u001b[0m      \u001b[39mopen\u001b[39m(targetpath, \u001b[39m\"\u001b[39m\u001b[39mwb\u001b[39m\u001b[39m\"\u001b[39m) \u001b[39mas\u001b[39;00m target:\n\u001b[1;32m-> <a href='file:///c%3A/Users/Denis.kozarenko/AppData/Local/Programs/Python/Python39/lib/zipfile.py?line=1687'>1688</a>\u001b[0m     shutil\u001b[39m.\u001b[39;49mcopyfileobj(source, target)\n\u001b[0;32m   <a href='file:///c%3A/Users/Denis.kozarenko/AppData/Local/Programs/Python/Python39/lib/zipfile.py?line=1689'>1690</a>\u001b[0m \u001b[39mreturn\u001b[39;00m targetpath\n",
      "File \u001b[1;32m~\\AppData\\Local\\Programs\\Python\\Python39\\lib\\shutil.py:208\u001b[0m, in \u001b[0;36mcopyfileobj\u001b[1;34m(fsrc, fdst, length)\u001b[0m\n\u001b[0;32m    <a href='file:///c%3A/Users/Denis.kozarenko/AppData/Local/Programs/Python/Python39/lib/shutil.py?line=205'>206</a>\u001b[0m \u001b[39mif\u001b[39;00m \u001b[39mnot\u001b[39;00m buf:\n\u001b[0;32m    <a href='file:///c%3A/Users/Denis.kozarenko/AppData/Local/Programs/Python/Python39/lib/shutil.py?line=206'>207</a>\u001b[0m     \u001b[39mbreak\u001b[39;00m\n\u001b[1;32m--> <a href='file:///c%3A/Users/Denis.kozarenko/AppData/Local/Programs/Python/Python39/lib/shutil.py?line=207'>208</a>\u001b[0m fdst_write(buf)\n",
      "\u001b[1;31mOSError\u001b[0m: [Errno 9] Bad file descriptor"
     ]
    }
   ],
   "source": [
    "# Чтобы скачать и распаковать zip-архив в output папку в Питоне:\n",
    "import pandas as pd\n",
    "import numpy as np\n",
    "import matplotlib.pyplot as plt\n",
    "import seaborn as sns\n",
    "import plotly\n",
    "import plotly.express as px\n",
    "import plotly.graph_objects as go \n",
    "\n",
    "from openpyxl import Workbook\n",
    "from IPython.display import display\n",
    "\n",
    "pd.set_option('display.max_columns', 40) # выводить больше столбцов\n",
    "pd.set_option('display.max_rows', 40)   # выводить больше строк\n",
    "plt.style.use('default')    # корректный вывод графиков в темной теме \n",
    "\n",
    "# fig.show(renderer='notebook') #включение анимации\n",
    "\n",
    "#!/usr/bin/env python\n",
    "import io\n",
    "import zipfile\n",
    "import requests  # $ pip install requests\n",
    "\n",
    "\n",
    "\n",
    "r = requests.get(\"https://lms.skillfactory.ru/assets/courseware/v1/6559ab1e1d17acac79bec5dc8052261b/asset-v1:SkillFactory+DSPR-2.0+14JULY2021+type@asset+block/diabetes_data.zip\")\n",
    "with r, zipfile.ZipFile(io.BytesIO(r.content)) as archive:\n",
    "    archive.extractall('Data')\n",
    "\n",
    "\n",
    "# https://lms.skillfactory.ru/assets/courseware/v1/6559ab1e1d17acac79bec5dc8052261b/asset-v1:SkillFactory+DSPR-2.0+14JULY2021+type@asset+block/diabetes_data.zip"
   ]
  },
  {
   "cell_type": "code",
   "execution_count": null,
   "metadata": {},
   "outputs": [],
   "source": [
    "\n",
    "diab = pd.read_csv('data/diabetes_data.csv')\n",
    "diab.info()\n",
    "with pd.ExcelWriter('task_befor_85.xlsx') as writer:  \n",
    "    diab.to_excel(writer, sheet_name='Start_csv')\n"
   ]
  },
  {
   "cell_type": "code",
   "execution_count": null,
   "metadata": {},
   "outputs": [],
   "source": [
    "# fig = px.histogram(diab, x=\"Pregnancies\",  marginal=\"box\", nbins=30, width=1000 , height= 500, color='Outcome')\n",
    "# fig.show()"
   ]
  },
  {
   "cell_type": "code",
   "execution_count": null,
   "metadata": {},
   "outputs": [],
   "source": [
    "diab_81 = diab.drop_duplicates()\n",
    "diab_81.shape\n",
    "with pd.ExcelWriter('task_befor_85.xlsx', mode='a') as writer:  \n",
    "    diab_81.to_excel(writer, sheet_name='drop_dup_81')\n"
   ]
  },
  {
   "cell_type": "code",
   "execution_count": null,
   "metadata": {},
   "outputs": [],
   "source": [
    "#список неинформативных признаков\n",
    "low_information_cols = [] \n",
    "\n",
    "#цикл по всем столбцам\n",
    "for col in diab_81.columns:\n",
    "    #наибольшая относительная частота в признаке\n",
    "    top_freq = diab_81[col].value_counts(normalize=True).max()\n",
    "    #доля уникальных значений от размера признака\n",
    "    nunique_ratio = diab_81[col].nunique() / diab_81[col].count()\n",
    "    # сравниваем наибольшую частоту с порогом\n",
    "    if top_freq > 0.99:\n",
    "        low_information_cols.append(col)\n",
    "        print(f'{col}: {round(top_freq*100, 2)}% одинаковых значений')\n",
    "    # сравниваем долю уникальных значений с порогом\n",
    "    if nunique_ratio > 0.99:\n",
    "        low_information_cols.append(col)\n",
    "        print(f'{col}: {round(nunique_ratio*100, 2)}% уникальных значений')\n",
    "print(low_information_cols)"
   ]
  },
  {
   "cell_type": "code",
   "execution_count": null,
   "metadata": {},
   "outputs": [],
   "source": [
    "diab_82 = diab_81.drop(low_information_cols, axis=1)\n",
    "diab_82.head()\n",
    "with pd.ExcelWriter('task_befor_85.xlsx', mode='a') as writer:  \n",
    "    diab_82.to_excel(writer, sheet_name='drop_gender_82')\n"
   ]
  },
  {
   "cell_type": "code",
   "execution_count": null,
   "metadata": {},
   "outputs": [],
   "source": [
    "# Задание 8.3\n",
    "# Попробуйте найти пропуски в данных с помощью метода insull().\n",
    "# Спойлер: ничего не найдёте. А они есть! Просто они скрыты от наших глаз. В таблице пропуски в столбцах Glucose, BloodPressure, SkinThickness, Insulin и BMI\n",
    "# обозначены нулём, поэтому традиционные методы поиска пропусков ничего вам не покажут. Давайте это исправим!\n",
    "# Замените все записи, равные 0, в столбцах Glucose, BloodPressure, SkinThickness, Insulin и BMI на символ пропуска. Его вы можете взять из библиотеки numpy: np.nan.\n",
    "# Какая доля пропусков содержится в столбце Insulin? Ответ округлите до сотых.\n",
    "\n",
    "diab_83 = diab_82.copy()\n",
    "col_to_change = ['Glucose', 'BloodPressure', 'SkinThickness', 'Insulin', 'BMI']\n",
    "\n",
    "for col in col_to_change:\n",
    "    diab_83[col] = diab_83[col].replace({0: np.nan})\n",
    "display(diab_83.head())\n",
    "\n",
    "round(diab_83['Insulin'].isna().value_counts(normalize=True)[True], 2)"
   ]
  },
  {
   "cell_type": "code",
   "execution_count": null,
   "metadata": {},
   "outputs": [],
   "source": [
    "# Задание 8.4\n",
    "# Удалите из данных признаки, где число пропусков составляет более 30 %. Сколько признаков осталось в ваших данных (с учетом удаленных неинформативных признаков в задании 8.2)?\n",
    "display(diab_83.shape)\n",
    "n = diab_83.shape[0] #число строк в таблице\n",
    "thresh_col = n*0.7\n",
    "diab_84 = diab_83.dropna(how='any', thresh=thresh_col, axis=1)\n",
    "display(diab_84)\n",
    "display(diab_84.shape)\n",
    "with pd.ExcelWriter('task_befor_85.xlsx', mode='a') as writer:  \n",
    "    diab_84.to_excel(writer, sheet_name='drop_Insulin_84')"
   ]
  },
  {
   "cell_type": "code",
   "execution_count": null,
   "metadata": {},
   "outputs": [],
   "source": [
    "# Задание 8.5\n",
    "# Удалите из данных только те строки, в которых содержится более двух пропусков одновременно. Чему равно результирующее число записей в таблице?\n",
    "\n",
    "display(diab_84.shape)\n",
    "\n",
    "m = diab_84.shape[1]\n",
    "tresh_line = m - 2 # убираем те записи где больее 2х Nan\n",
    "print(f'triesh_line = {tresh_line}')\n",
    "diab_85 = diab_84.dropna(how='any', thresh=tresh_line, axis=0)\n",
    "\n",
    "with pd.ExcelWriter('task_befor_85.xlsx', mode='a') as writer:  \n",
    "    diab_85.to_excel(writer, sheet_name='drop_lines_85')\n",
    "display(diab_85.info())\n",
    "\n",
    "display(diab_85.shape)\n",
    "\n",
    "# values = {\n",
    "#     'one': df['one'].mean(),\n",
    "#     'two': df['two'].mean(),\n",
    "#     'three': df['three'].mean(),\n",
    "#     'four': df['four'].mode()[0]\n",
    "# }\n"
   ]
  },
  {
   "cell_type": "code",
   "execution_count": null,
   "metadata": {},
   "outputs": [],
   "source": [
    "# Задание 8.6\n",
    "# # В оставшихся записях замените пропуски на медиану. Чему равно среднее значение в столбце SkinThickness? Ответ округлите до десятых.\n",
    "print(round(diab_85['SkinThickness'].mean(),1))\n",
    "diab_86= diab_85.copy()\n",
    "cols = list(diab_86.columns)\n",
    "cols.remove('Outcome')\n",
    "print(col_to_change)\n",
    "values = {\n",
    "    'Glucose': diab_86['Glucose'].median(),\n",
    "    'BloodPressure': diab_86['BloodPressure'].median(),\n",
    "    'SkinThickness': diab_86['SkinThickness'].median(),\n",
    "    'BMI': diab_86['BMI'].median()}\n",
    "#заполняем оставшиеся записи константами в соответствии со словарем values\n",
    "diab_86 = diab_86.fillna(values)\n",
    "display(round(diab_86['SkinThickness'].mean(),1))"
   ]
  },
  {
   "cell_type": "code",
   "execution_count": null,
   "metadata": {},
   "outputs": [],
   "source": [
    "# Задание 8.7\n",
    "\n",
    "# Сколько выбросов найдёт классический метод межквартильного размаха в признаке SkinThickness?\n",
    "def outliers_iqr_mod(data, feature, left =1.5, right= 1.5, log_scale=False):\n",
    "    if log_scale:\n",
    "        x = np.log(data[feature])\n",
    "    else:\n",
    "        x = data[feature]\n",
    "    quartile_1, quartile_3 = x.quantile(0.25), x.quantile(0.75),\n",
    "    iqr = quartile_3 - quartile_1\n",
    "    lower_bound = quartile_1 - (iqr * left)\n",
    "    upper_bound = quartile_3 + (iqr * right)\n",
    "    outliers = data[(x<lower_bound) | (x > upper_bound)]\n",
    "    cleaned = data[(x>lower_bound) & (x < upper_bound)]\n",
    "    return outliers, cleaned\n",
    "\n",
    "outliers, cleaned = outliers_iqr_mod(diab_86, 'SkinThickness')\n",
    "print(f'Число выбросов по методу Тьюки: {outliers.shape[0]}')\n",
    "print(f'Результирующее число записей: {cleaned.shape[0]}')"
   ]
  },
  {
   "cell_type": "code",
   "execution_count": null,
   "metadata": {},
   "outputs": [],
   "source": [
    "def outliers_z_score_mod(data, feature, left = 3, right = 3, log_scale=False):\n",
    "    if log_scale:\n",
    "        x = np.log(data[feature]+1)\n",
    "    else:\n",
    "        x = data[feature]\n",
    "    mu = x.mean()\n",
    "    sigma = x.std()\n",
    "    lower_bound = mu - left * sigma\n",
    "    upper_bound = mu + right * sigma\n",
    "    outliers = data[(x < lower_bound) | (x > upper_bound)]\n",
    "    cleaned = data[(x > lower_bound) & (x < upper_bound)]\n",
    "    return outliers, cleaned\n",
    "\n",
    "outliers, cleaned = outliers_z_score_mod(diab_86, 'SkinThickness')\n",
    "print(f'Число выбросов по методу z-отклонения: {outliers.shape[0]}')\n",
    "print(f'Результирующее число записей: {cleaned.shape[0]}')\n"
   ]
  },
  {
   "cell_type": "code",
   "execution_count": null,
   "metadata": {},
   "outputs": [],
   "source": [
    "outliers, cleaned = outliers_iqr_mod(diab_86, 'DiabetesPedigreeFunction')\n",
    "print(f'Число выбросов по методу Тьюки: {outliers.shape[0]}')\n",
    "print(f'Результирующее число записей: {cleaned.shape[0]}')\n",
    "\n",
    "outliers, cleaned = outliers_iqr_mod(diab_86, 'DiabetesPedigreeFunction', log_scale=True)\n",
    "print(f'Число выбросов по методу z-отклонения: {outliers.shape[0]}')\n",
    "print(f'Результирующее число записей: {cleaned.shape[0]}')\n"
   ]
  },
  {
   "cell_type": "markdown",
   "metadata": {},
   "source": [
    "Имеются две базы данных (два листа Excel-файла): база с ценами конкурентов (Data_Parsing) и внутренняя база компании (Data_Company).\n",
    "\n",
    "В базе парсинга есть два id, однозначно определяющие товар: producer_id и producer_color.\n",
    "\n",
    "В базе компании есть два аналогичных поля: item_id и color_id.\n",
    "\n",
    "Нам известно, что коды в двух базах отличаются наличием набора служебных символов. В базе парсинга встречаются следующие символы: _, -, ~, \\\\, /.\n",
    "\n",
    "Необходимо:\n",
    "\n",
    "Считать данные из Excel в DataFrame (Data_Parsing) и (Data_Company).\n",
    "Подтянуть к базе парсинга данные из базы компании (item_id, color_id, current_price) и сформировать столбец разницы цен в % (цена конкурента к нашей цене).\n",
    "Определить сильные отклонения от среднего в разности цен в пределах бренда-категории (то есть убрать случайные выбросы, сильно искажающие сравнение). Критерий — по вкусу, написать комментарий в коде.\n",
    "Записать новый файл Excel с базой парсинга, приклееными к ней столбцами из пункта 2 и с учётом пункта 3 (можно добавить столбец outlier и проставить Yes для выбросов).\n",
    "\n"
   ]
  },
  {
   "cell_type": "code",
   "execution_count": null,
   "metadata": {},
   "outputs": [],
   "source": [
    "Data_Parsing = pd.read_excel('data/Data_TSUM.xlsx', sheet_name='Data_Parsing')\n",
    "Data_Company = pd.read_excel('data/Data_TSUM.xlsx', sheet_name='Data_Company')\n",
    "display(Data_Company)\n",
    "display(Data_Parsing)"
   ]
  },
  {
   "cell_type": "code",
   "execution_count": null,
   "metadata": {},
   "outputs": [],
   "source": [
    "import re\n",
    "signs_of_signs = ['~','_','-', '/', '\\\\\\\\']\n",
    "Data_Parsing.replace(to_replace=signs_of_signs, value=\"\", regex=True, inplace=True)\n",
    "Data_Parsing"
   ]
  },
  {
   "cell_type": "code",
   "execution_count": null,
   "metadata": {},
   "outputs": [],
   "source": [
    "Data_merged = Data_Parsing.merge(Data_Company, how='left', left_on=['producer_id',  'producer_color'], right_on=['item_id', 'color_id'])\n",
    "Data_merged['Diff_%'] = round((Data_merged['price'] - Data_merged['current price']) / Data_merged['current price']*100 , 2)\n",
    "Data_merged"
   ]
  },
  {
   "cell_type": "code",
   "execution_count": null,
   "metadata": {},
   "outputs": [],
   "source": [
    "fig = px.box(Data_merged, x = 'brand_x', y='Diff_%', color='Category_x')\n",
    "fig.show()"
   ]
  },
  {
   "cell_type": "code",
   "execution_count": null,
   "metadata": {},
   "outputs": [],
   "source": [
    "Data_merged['brand_x'].value_counts().index"
   ]
  },
  {
   "cell_type": "code",
   "execution_count": null,
   "metadata": {},
   "outputs": [],
   "source": [
    "new_merged = pd.DataFrame()\n",
    "all_outliers = pd.DataFrame()\n",
    "for brand in Data_merged['brand_x'].value_counts().index:\n",
    "    for category in Data_merged['Category_x'].value_counts().index:\n",
    "        mask1 = Data_merged['brand_x'] == brand\n",
    "        mask2 =Data_merged['Category_x'] == category\n",
    "        mask = mask1 & mask2\n",
    "        outliers, cleaned = outliers_iqr_mod(Data_merged[mask], 'Diff_%')\n",
    "        print(f'Число выбросов по методу Тьюки:{brand}-{category} = {outliers.shape[0]}')\n",
    "        print(f'Результирующее число записей:{brand}-{category} =  {cleaned.shape[0]}')\n",
    "        new_merged = pd.concat([new_merged, cleaned], axis= 0)\n",
    "        all_outliers = pd.concat([all_outliers, outliers], axis= 0)\n",
    "fig = px.box(new_merged, x = 'brand_x', y='Diff_%', color='Category_x')\n",
    "fig.show()\n"
   ]
  },
  {
   "cell_type": "code",
   "execution_count": null,
   "metadata": {},
   "outputs": [],
   "source": [
    "Data_merged.groupby(['brand_x', 'Category_x'], as_index=False)['Diff_%'].agg(['mean', 'std'])"
   ]
  },
  {
   "cell_type": "code",
   "execution_count": null,
   "metadata": {},
   "outputs": [],
   "source": [
    "\n",
    "\n",
    "# hh_df1 = pd.read_csv('data/hh_database.csv', sep= ';')\n",
    "\n",
    "# test_hh = pd.read_csv('data/hh_database.csv', sep= ';', nrows=1000)\n",
    "\n",
    "# hh_df['Образование и ВУЗ'] = hh_df['Образование и ВУЗ'].apply(lambda x : x.split(sep=' ')[0] +' '+ x.split(sep=' ')[1]).astype('category')\n",
    "# hh_df['Образование и ВУЗ'].value_counts()\n",
    "\n",
    "\n",
    "# hh_df.head()\n",
    "# sex_age = pd.DataFrame()\n",
    "# sex_age['Пол, возраст'] = hh_df['Пол, возраст'].apply(lambda x : x.split(sep=' ')[0])\n",
    "# sex_age.head()"
   ]
  },
  {
   "cell_type": "code",
   "execution_count": null,
   "metadata": {},
   "outputs": [],
   "source": []
  }
 ],
 "metadata": {
  "interpreter": {
   "hash": "4cf8740b77de6ac68c701f5d05813ddbce361e765d83d58497ce85d0cb93b38e"
  },
  "kernelspec": {
   "display_name": "Python 3.9.10 64-bit",
   "language": "python",
   "name": "python3"
  },
  "language_info": {
   "codemirror_mode": {
    "name": "ipython",
    "version": 3
   },
   "file_extension": ".py",
   "mimetype": "text/x-python",
   "name": "python",
   "nbconvert_exporter": "python",
   "pygments_lexer": "ipython3",
   "version": "3.9.10"
  },
  "orig_nbformat": 4
 },
 "nbformat": 4,
 "nbformat_minor": 2
}
