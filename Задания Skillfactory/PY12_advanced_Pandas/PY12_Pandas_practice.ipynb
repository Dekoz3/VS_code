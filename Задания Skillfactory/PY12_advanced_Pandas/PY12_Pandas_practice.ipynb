{
 "cells": [
  {
   "cell_type": "code",
   "execution_count": 302,
   "metadata": {},
   "outputs": [],
   "source": [
    "# Чтобы скачать и распаковать zip-архив в output папку в Питоне:\n",
    "import pandas as pd\n",
    "import numpy as np\n",
    "from IPython.display import display\n",
    "#!/usr/bin/env python\n",
    "import io\n",
    "import zipfile\n",
    "import requests  # $ pip install requests\n",
    "\n",
    "r = requests.get(\"https://lms.skillfactory.ru/assets/courseware/v1/8e23b4ad7fb8d49f0b9c67be84dc440c/asset-v1:SkillFactory+DSPR-2.0+14JULY2021+type@asset+block/ratings_movies.zip\")\n",
    "with r, zipfile.ZipFile(io.BytesIO(r.content)) as archive:\n",
    "    archive.extractall('Data')"
   ]
  },
  {
   "cell_type": "code",
   "execution_count": 303,
   "metadata": {},
   "outputs": [
    {
     "data": {
      "text/html": [
       "<div>\n",
       "<style scoped>\n",
       "    .dataframe tbody tr th:only-of-type {\n",
       "        vertical-align: middle;\n",
       "    }\n",
       "\n",
       "    .dataframe tbody tr th {\n",
       "        vertical-align: top;\n",
       "    }\n",
       "\n",
       "    .dataframe thead th {\n",
       "        text-align: right;\n",
       "    }\n",
       "</style>\n",
       "<table border=\"1\" class=\"dataframe\">\n",
       "  <thead>\n",
       "    <tr style=\"text-align: right;\">\n",
       "      <th></th>\n",
       "      <th>userId</th>\n",
       "      <th>movieId</th>\n",
       "      <th>rating</th>\n",
       "      <th>date</th>\n",
       "      <th>title</th>\n",
       "      <th>genres</th>\n",
       "    </tr>\n",
       "  </thead>\n",
       "  <tbody>\n",
       "    <tr>\n",
       "      <th>0</th>\n",
       "      <td>1</td>\n",
       "      <td>1</td>\n",
       "      <td>4.0</td>\n",
       "      <td>2000-07-30 18:45:03</td>\n",
       "      <td>Toy Story (1995)</td>\n",
       "      <td>Adventure|Animation|Children|Comedy|Fantasy</td>\n",
       "    </tr>\n",
       "    <tr>\n",
       "      <th>1</th>\n",
       "      <td>1</td>\n",
       "      <td>3</td>\n",
       "      <td>4.0</td>\n",
       "      <td>2000-07-30 18:20:47</td>\n",
       "      <td>Grumpier Old Men (1995)</td>\n",
       "      <td>Comedy|Romance</td>\n",
       "    </tr>\n",
       "    <tr>\n",
       "      <th>2</th>\n",
       "      <td>1</td>\n",
       "      <td>6</td>\n",
       "      <td>4.0</td>\n",
       "      <td>2000-07-30 18:37:04</td>\n",
       "      <td>Heat (1995)</td>\n",
       "      <td>Action|Crime|Thriller</td>\n",
       "    </tr>\n",
       "    <tr>\n",
       "      <th>3</th>\n",
       "      <td>1</td>\n",
       "      <td>47</td>\n",
       "      <td>5.0</td>\n",
       "      <td>2000-07-30 19:03:35</td>\n",
       "      <td>Seven (a.k.a. Se7en) (1995)</td>\n",
       "      <td>Mystery|Thriller</td>\n",
       "    </tr>\n",
       "    <tr>\n",
       "      <th>4</th>\n",
       "      <td>1</td>\n",
       "      <td>50</td>\n",
       "      <td>5.0</td>\n",
       "      <td>2000-07-30 18:48:51</td>\n",
       "      <td>Usual Suspects, The (1995)</td>\n",
       "      <td>Crime|Mystery|Thriller</td>\n",
       "    </tr>\n",
       "  </tbody>\n",
       "</table>\n",
       "</div>"
      ],
      "text/plain": [
       "   userId  movieId  rating                 date                        title  \\\n",
       "0       1        1     4.0  2000-07-30 18:45:03             Toy Story (1995)   \n",
       "1       1        3     4.0  2000-07-30 18:20:47      Grumpier Old Men (1995)   \n",
       "2       1        6     4.0  2000-07-30 18:37:04                  Heat (1995)   \n",
       "3       1       47     5.0  2000-07-30 19:03:35  Seven (a.k.a. Se7en) (1995)   \n",
       "4       1       50     5.0  2000-07-30 18:48:51   Usual Suspects, The (1995)   \n",
       "\n",
       "                                        genres  \n",
       "0  Adventure|Animation|Children|Comedy|Fantasy  \n",
       "1                               Comedy|Romance  \n",
       "2                        Action|Crime|Thriller  \n",
       "3                             Mystery|Thriller  \n",
       "4                       Crime|Mystery|Thriller  "
      ]
     },
     "metadata": {},
     "output_type": "display_data"
    },
    {
     "name": "stdout",
     "output_type": "stream",
     "text": [
      "<class 'pandas.core.frame.DataFrame'>\n",
      "RangeIndex: 100836 entries, 0 to 100835\n",
      "Data columns (total 6 columns):\n",
      " #   Column   Non-Null Count   Dtype         \n",
      "---  ------   --------------   -----         \n",
      " 0   userId   100836 non-null  int64         \n",
      " 1   movieId  100836 non-null  int64         \n",
      " 2   rating   100836 non-null  float64       \n",
      " 3   date     100836 non-null  datetime64[ns]\n",
      " 4   title    100836 non-null  object        \n",
      " 5   genres   100836 non-null  object        \n",
      "dtypes: datetime64[ns](1), float64(1), int64(2), object(2)\n",
      "memory usage: 4.6+ MB\n"
     ]
    }
   ],
   "source": [
    "df = pd.read_csv('Data/ratings_movies.csv', sep=',')\n",
    "df = df.drop('Unnamed: 0', axis=1)\n",
    "display(df.head())\n",
    "df['date'] = pd.to_datetime(df['date'])\n",
    "# df['userId'] = df['userId'].astype('category')\n",
    "# df['genres'] = df['genres'].astype('category')\n",
    "df.info()\n"
   ]
  },
  {
   "cell_type": "code",
   "execution_count": 304,
   "metadata": {},
   "outputs": [
    {
     "data": {
      "text/plain": [
       "18"
      ]
     },
     "metadata": {},
     "output_type": "display_data"
    },
    {
     "name": "stdout",
     "output_type": "stream",
     "text": [
      "<class 'pandas.core.frame.DataFrame'>\n",
      "RangeIndex: 100836 entries, 0 to 100835\n",
      "Data columns (total 7 columns):\n",
      " #   Column        Non-Null Count   Dtype         \n",
      "---  ------        --------------   -----         \n",
      " 0   userId        100836 non-null  int64         \n",
      " 1   movieId       100836 non-null  int64         \n",
      " 2   rating        100836 non-null  float64       \n",
      " 3   date          100836 non-null  datetime64[ns]\n",
      " 4   title         100836 non-null  object        \n",
      " 5   genres        100836 non-null  object        \n",
      " 6   year_release  100836 non-null  int64         \n",
      "dtypes: datetime64[ns](1), float64(1), int64(3), object(2)\n",
      "memory usage: 5.4+ MB\n"
     ]
    }
   ],
   "source": [
    "# Для решения задач нам понадобится выделить из признака title год выпуска фильма. Для этого напишем функцию get_year_release(arg).\n",
    "# библиотека для регулярных выражений\n",
    "\n",
    "import re \n",
    "def get_year_release(arg):\n",
    "    #находим все слова по шаблону \"(DDDD)\"\n",
    "    candidates = re.findall(r'\\(\\d{4}\\)', arg) \n",
    "    # проверяем число вхождений\n",
    "    if len(candidates) > 0:\n",
    "        #если число вхождений больше 0,\n",
    "\t#очищаем строку от знаков \"(\" и \")\"\n",
    "        year = candidates[0].replace('(', '')\n",
    "        year = year.replace(')', '')\n",
    "        return int(year)\n",
    "    else:\n",
    "        #если год не указан, возвращаем None\n",
    "        return 0\n",
    " \n",
    "# Задание 8.1\n",
    "# Создайте в таблице новый признак year_release, который соответствует году выпуска фильма.\n",
    "# У скольких фильмов не указан год их выпуска? \n",
    "    \n",
    "df['year_release'] = df['title'].apply(get_year_release)\n",
    "mask_0 = df['year_release'] == 0 \n",
    "display(df[mask_0]['movieId'].count())\n",
    "df.info()\n"
   ]
  },
  {
   "cell_type": "code",
   "execution_count": 305,
   "metadata": {},
   "outputs": [
    {
     "data": {
      "text/plain": [
       "'Bloodsport: The Dark Kumite'"
      ]
     },
     "metadata": {},
     "output_type": "display_data"
    }
   ],
   "source": [
    "# Задание 8.2\n",
    "# Какой фильм, выпущенный в 1999 году, получил наименьшую среднюю оценку зрителей?\n",
    "# В качестве ответа запишите название этого фильма без указания года его выпуска.\n",
    "\n",
    "mask_year_1999 = df['year_release'] == 1999\n",
    "df_1999 =df[mask_year_1999]\n",
    "type(df_1999.head())\n",
    "df_grouped = df_1999.groupby(by=['movieId', 'title'], as_index=False)['rating'].mean().sort_values(by='rating').head(1)['title'].values\n",
    "display(str(*df_grouped).replace(' (1999)', ''))"
   ]
  },
  {
   "cell_type": "code",
   "execution_count": 306,
   "metadata": {},
   "outputs": [
    {
     "data": {
      "text/plain": [
       "'Action|Sci-Fi'"
      ]
     },
     "metadata": {},
     "output_type": "display_data"
    }
   ],
   "source": [
    "# Задание 8.3\n",
    "# 0/1 point (graded)\n",
    "# Какое сочетание жанров фильмов (genres), выпущенных в 2010 году, получило наименьшую среднюю оценку (rating)?\n",
    "# Запишите сочетание так же, как оно указано в таблице (через разделитель |, без пробелов).\n",
    "\n",
    "mask_year_2010 = df['year_release'] == 2010\n",
    "df_2010 =df[mask_year_2010]\n",
    "type(df_2010.head())\n",
    "df_grouped = df_2010.groupby(by=['genres'], as_index=False)['rating'].mean().sort_values(by='rating').head(1)['genres'].values\n",
    "display(*df_grouped)"
   ]
  },
  {
   "cell_type": "code",
   "execution_count": 307,
   "metadata": {},
   "outputs": [
    {
     "data": {
      "text/plain": [
       "599"
      ]
     },
     "execution_count": 307,
     "metadata": {},
     "output_type": "execute_result"
    }
   ],
   "source": [
    "# Задание 8.4\n",
    "# Какой пользователь (userId) посмотрел наибольшее количество различных (уникальных) жанров (genres) фильмов? \n",
    "# В качестве ответа запишите идентификатор этого пользователя.\n",
    "\n",
    "df.groupby('userId')['genres'].nunique().idxmax()\n",
    "# display(df[df['userId'] == 599].info())"
   ]
  },
  {
   "cell_type": "code",
   "execution_count": 308,
   "metadata": {},
   "outputs": [
    {
     "data": {
      "text/plain": [
       "53"
      ]
     },
     "execution_count": 308,
     "metadata": {},
     "output_type": "execute_result"
    }
   ],
   "source": [
    "# Задание 8.5\n",
    "# Найдите пользователя, который выставил наименьшее количество оценок, но его средняя оценка фильмам наибольшая.\n",
    "# В качестве ответа укажите идентификатор этого пользователя.\n",
    "# Чтобы рассчитать несколько параметров для каждого пользователя (количество оценок и среднюю оценку), можно воспользоваться методом agg() на сгруппированных данных.\n",
    "\n",
    "df.groupby('userId')['rating'].agg(['count', 'mean']).sort_values(by= ['mean', 'count'], ascending=[False, True]).idxmax()['mean']"
   ]
  },
  {
   "cell_type": "code",
   "execution_count": 309,
   "metadata": {},
   "outputs": [
    {
     "data": {
      "text/plain": [
       "'Action|Adventure|Sci-Fi'"
      ]
     },
     "execution_count": 309,
     "metadata": {},
     "output_type": "execute_result"
    }
   ],
   "source": [
    "# Задание 8.6\n",
    "# Найдите сочетание жанров (genres) за 2018 году, которое имеет наибольший средний рейтинг (среднее по столбцу rating), \n",
    "# и при этом число выставленных ему оценок (количество значений в столбце rating) больше 10.\n",
    "# Запишите сочетание так же, как оно указано в таблице (через разделитель |, без пробелов).\n",
    "\n",
    "mask_year_2018 = df['year_release'] == 2018\n",
    "# mask_count_rating = df.groupby(['genres'])['rating'].count() > 10\n",
    "df_main = df[mask_year_2018].groupby('genres', as_index=True)['rating'].agg(['mean', 'count']).sort_values(by='count', ascending=False)\n",
    "mask_count = df_main['count'] >10\n",
    "df_main[mask_count].idxmax()['mean']"
   ]
  },
  {
   "cell_type": "code",
   "execution_count": 361,
   "metadata": {},
   "outputs": [
    {
     "name": "stderr",
     "output_type": "stream",
     "text": [
      "C:\\Users\\Denis.kozarenko\\AppData\\Local\\Temp\\ipykernel_20820\\3124531404.py:24: UserWarning: Boolean Series key will be reindexed to match DataFrame index.\n",
      "  df[df[df['year_rating'] == 2018].groupby('genres', as_index=True)['rating'].mean() == 5].groupby('genres', as_index=True)['rating'].mean()\n"
     ]
    },
    {
     "ename": "IndexingError",
     "evalue": "Unalignable boolean Series provided as indexer (index of the boolean Series and of the indexed object do not match).",
     "output_type": "error",
     "traceback": [
      "\u001b[1;31m---------------------------------------------------------------------------\u001b[0m",
      "\u001b[1;31mIndexingError\u001b[0m                             Traceback (most recent call last)",
      "\u001b[1;32mc:\\Users\\Denis.kozarenko\\VS_code\\VS_code\\Задания Skillfactory\\PY12_advanced_Pandas\\PY12_Pandas_practice.ipynb Cell 9'\u001b[0m in \u001b[0;36m<module>\u001b[1;34m\u001b[0m\n\u001b[0;32m     <a href='vscode-notebook-cell:/c%3A/Users/Denis.kozarenko/VS_code/VS_code/%D0%97%D0%B0%D0%B4%D0%B0%D0%BD%D0%B8%D1%8F%20Skillfactory/PY12_advanced_Pandas/PY12_Pandas_practice.ipynb#ch0000013?line=18'>19</a>\u001b[0m \u001b[39m#False\u001b[39;00m\n\u001b[0;32m     <a href='vscode-notebook-cell:/c%3A/Users/Denis.kozarenko/VS_code/VS_code/%D0%97%D0%B0%D0%B4%D0%B0%D0%BD%D0%B8%D1%8F%20Skillfactory/PY12_advanced_Pandas/PY12_Pandas_practice.ipynb#ch0000013?line=19'>20</a>\u001b[0m \n\u001b[0;32m     <a href='vscode-notebook-cell:/c%3A/Users/Denis.kozarenko/VS_code/VS_code/%D0%97%D0%B0%D0%B4%D0%B0%D0%BD%D0%B8%D1%8F%20Skillfactory/PY12_advanced_Pandas/PY12_Pandas_practice.ipynb#ch0000013?line=20'>21</a>\u001b[0m \u001b[39m# C Среди сочетаний жанров, получивших наивысшую среднюю оценку в 2018 году, есть сочетание Animation|Children|Mystery.\u001b[39;00m\n\u001b[0;32m     <a href='vscode-notebook-cell:/c%3A/Users/Denis.kozarenko/VS_code/VS_code/%D0%97%D0%B0%D0%B4%D0%B0%D0%BD%D0%B8%D1%8F%20Skillfactory/PY12_advanced_Pandas/PY12_Pandas_practice.ipynb#ch0000013?line=22'>23</a>\u001b[0m max_mean_2018 \u001b[39m=\u001b[39m df[df[\u001b[39m'\u001b[39m\u001b[39myear_rating\u001b[39m\u001b[39m'\u001b[39m] \u001b[39m==\u001b[39m \u001b[39m2018\u001b[39m]\u001b[39m.\u001b[39mgroupby(\u001b[39m'\u001b[39m\u001b[39mgenres\u001b[39m\u001b[39m'\u001b[39m, as_index\u001b[39m=\u001b[39m\u001b[39mTrue\u001b[39;00m)[\u001b[39m'\u001b[39m\u001b[39mrating\u001b[39m\u001b[39m'\u001b[39m]\u001b[39m.\u001b[39mmean()\u001b[39m.\u001b[39mmax()\n\u001b[1;32m---> <a href='vscode-notebook-cell:/c%3A/Users/Denis.kozarenko/VS_code/VS_code/%D0%97%D0%B0%D0%B4%D0%B0%D0%BD%D0%B8%D1%8F%20Skillfactory/PY12_advanced_Pandas/PY12_Pandas_practice.ipynb#ch0000013?line=23'>24</a>\u001b[0m df[df[df[\u001b[39m'\u001b[39;49m\u001b[39myear_rating\u001b[39;49m\u001b[39m'\u001b[39;49m] \u001b[39m==\u001b[39;49m \u001b[39m2018\u001b[39;49m]\u001b[39m.\u001b[39;49mgroupby(\u001b[39m'\u001b[39;49m\u001b[39mgenres\u001b[39;49m\u001b[39m'\u001b[39;49m, as_index\u001b[39m=\u001b[39;49m\u001b[39mTrue\u001b[39;49;00m)[\u001b[39m'\u001b[39;49m\u001b[39mrating\u001b[39;49m\u001b[39m'\u001b[39;49m]\u001b[39m.\u001b[39;49mmean() \u001b[39m==\u001b[39;49m \u001b[39m5\u001b[39;49m]\u001b[39m.\u001b[39mgroupby(\u001b[39m'\u001b[39m\u001b[39mgenres\u001b[39m\u001b[39m'\u001b[39m, as_index\u001b[39m=\u001b[39m\u001b[39mTrue\u001b[39;00m)[\u001b[39m'\u001b[39m\u001b[39mrating\u001b[39m\u001b[39m'\u001b[39m]\u001b[39m.\u001b[39mmean()\n",
      "File \u001b[1;32m~\\AppData\\Local\\Programs\\Python\\Python39\\lib\\site-packages\\pandas\\core\\frame.py:3496\u001b[0m, in \u001b[0;36mDataFrame.__getitem__\u001b[1;34m(self, key)\u001b[0m\n\u001b[0;32m   <a href='file:///c%3A/Users/Denis.kozarenko/AppData/Local/Programs/Python/Python39/lib/site-packages/pandas/core/frame.py?line=3493'>3494</a>\u001b[0m \u001b[39m# Do we have a (boolean) 1d indexer?\u001b[39;00m\n\u001b[0;32m   <a href='file:///c%3A/Users/Denis.kozarenko/AppData/Local/Programs/Python/Python39/lib/site-packages/pandas/core/frame.py?line=3494'>3495</a>\u001b[0m \u001b[39mif\u001b[39;00m com\u001b[39m.\u001b[39mis_bool_indexer(key):\n\u001b[1;32m-> <a href='file:///c%3A/Users/Denis.kozarenko/AppData/Local/Programs/Python/Python39/lib/site-packages/pandas/core/frame.py?line=3495'>3496</a>\u001b[0m     \u001b[39mreturn\u001b[39;00m \u001b[39mself\u001b[39;49m\u001b[39m.\u001b[39;49m_getitem_bool_array(key)\n\u001b[0;32m   <a href='file:///c%3A/Users/Denis.kozarenko/AppData/Local/Programs/Python/Python39/lib/site-packages/pandas/core/frame.py?line=3497'>3498</a>\u001b[0m \u001b[39m# We are left with two options: a single key, and a collection of keys,\u001b[39;00m\n\u001b[0;32m   <a href='file:///c%3A/Users/Denis.kozarenko/AppData/Local/Programs/Python/Python39/lib/site-packages/pandas/core/frame.py?line=3498'>3499</a>\u001b[0m \u001b[39m# We interpret tuples as collections only for non-MultiIndex\u001b[39;00m\n\u001b[0;32m   <a href='file:///c%3A/Users/Denis.kozarenko/AppData/Local/Programs/Python/Python39/lib/site-packages/pandas/core/frame.py?line=3499'>3500</a>\u001b[0m is_single_key \u001b[39m=\u001b[39m \u001b[39misinstance\u001b[39m(key, \u001b[39mtuple\u001b[39m) \u001b[39mor\u001b[39;00m \u001b[39mnot\u001b[39;00m is_list_like(key)\n",
      "File \u001b[1;32m~\\AppData\\Local\\Programs\\Python\\Python39\\lib\\site-packages\\pandas\\core\\frame.py:3549\u001b[0m, in \u001b[0;36mDataFrame._getitem_bool_array\u001b[1;34m(self, key)\u001b[0m\n\u001b[0;32m   <a href='file:///c%3A/Users/Denis.kozarenko/AppData/Local/Programs/Python/Python39/lib/site-packages/pandas/core/frame.py?line=3542'>3543</a>\u001b[0m     \u001b[39mraise\u001b[39;00m \u001b[39mValueError\u001b[39;00m(\n\u001b[0;32m   <a href='file:///c%3A/Users/Denis.kozarenko/AppData/Local/Programs/Python/Python39/lib/site-packages/pandas/core/frame.py?line=3543'>3544</a>\u001b[0m         \u001b[39mf\u001b[39m\u001b[39m\"\u001b[39m\u001b[39mItem wrong length \u001b[39m\u001b[39m{\u001b[39;00m\u001b[39mlen\u001b[39m(key)\u001b[39m}\u001b[39;00m\u001b[39m instead of \u001b[39m\u001b[39m{\u001b[39;00m\u001b[39mlen\u001b[39m(\u001b[39mself\u001b[39m\u001b[39m.\u001b[39mindex)\u001b[39m}\u001b[39;00m\u001b[39m.\u001b[39m\u001b[39m\"\u001b[39m\n\u001b[0;32m   <a href='file:///c%3A/Users/Denis.kozarenko/AppData/Local/Programs/Python/Python39/lib/site-packages/pandas/core/frame.py?line=3544'>3545</a>\u001b[0m     )\n\u001b[0;32m   <a href='file:///c%3A/Users/Denis.kozarenko/AppData/Local/Programs/Python/Python39/lib/site-packages/pandas/core/frame.py?line=3546'>3547</a>\u001b[0m \u001b[39m# check_bool_indexer will throw exception if Series key cannot\u001b[39;00m\n\u001b[0;32m   <a href='file:///c%3A/Users/Denis.kozarenko/AppData/Local/Programs/Python/Python39/lib/site-packages/pandas/core/frame.py?line=3547'>3548</a>\u001b[0m \u001b[39m# be reindexed to match DataFrame rows\u001b[39;00m\n\u001b[1;32m-> <a href='file:///c%3A/Users/Denis.kozarenko/AppData/Local/Programs/Python/Python39/lib/site-packages/pandas/core/frame.py?line=3548'>3549</a>\u001b[0m key \u001b[39m=\u001b[39m check_bool_indexer(\u001b[39mself\u001b[39;49m\u001b[39m.\u001b[39;49mindex, key)\n\u001b[0;32m   <a href='file:///c%3A/Users/Denis.kozarenko/AppData/Local/Programs/Python/Python39/lib/site-packages/pandas/core/frame.py?line=3549'>3550</a>\u001b[0m indexer \u001b[39m=\u001b[39m key\u001b[39m.\u001b[39mnonzero()[\u001b[39m0\u001b[39m]\n\u001b[0;32m   <a href='file:///c%3A/Users/Denis.kozarenko/AppData/Local/Programs/Python/Python39/lib/site-packages/pandas/core/frame.py?line=3550'>3551</a>\u001b[0m \u001b[39mreturn\u001b[39;00m \u001b[39mself\u001b[39m\u001b[39m.\u001b[39m_take_with_is_copy(indexer, axis\u001b[39m=\u001b[39m\u001b[39m0\u001b[39m)\n",
      "File \u001b[1;32m~\\AppData\\Local\\Programs\\Python\\Python39\\lib\\site-packages\\pandas\\core\\indexing.py:2376\u001b[0m, in \u001b[0;36mcheck_bool_indexer\u001b[1;34m(index, key)\u001b[0m\n\u001b[0;32m   <a href='file:///c%3A/Users/Denis.kozarenko/AppData/Local/Programs/Python/Python39/lib/site-packages/pandas/core/indexing.py?line=2373'>2374</a>\u001b[0m     mask \u001b[39m=\u001b[39m isna(result\u001b[39m.\u001b[39m_values)\n\u001b[0;32m   <a href='file:///c%3A/Users/Denis.kozarenko/AppData/Local/Programs/Python/Python39/lib/site-packages/pandas/core/indexing.py?line=2374'>2375</a>\u001b[0m     \u001b[39mif\u001b[39;00m mask\u001b[39m.\u001b[39many():\n\u001b[1;32m-> <a href='file:///c%3A/Users/Denis.kozarenko/AppData/Local/Programs/Python/Python39/lib/site-packages/pandas/core/indexing.py?line=2375'>2376</a>\u001b[0m         \u001b[39mraise\u001b[39;00m IndexingError(\n\u001b[0;32m   <a href='file:///c%3A/Users/Denis.kozarenko/AppData/Local/Programs/Python/Python39/lib/site-packages/pandas/core/indexing.py?line=2376'>2377</a>\u001b[0m             \u001b[39m\"\u001b[39m\u001b[39mUnalignable boolean Series provided as \u001b[39m\u001b[39m\"\u001b[39m\n\u001b[0;32m   <a href='file:///c%3A/Users/Denis.kozarenko/AppData/Local/Programs/Python/Python39/lib/site-packages/pandas/core/indexing.py?line=2377'>2378</a>\u001b[0m             \u001b[39m\"\u001b[39m\u001b[39mindexer (index of the boolean Series and of \u001b[39m\u001b[39m\"\u001b[39m\n\u001b[0;32m   <a href='file:///c%3A/Users/Denis.kozarenko/AppData/Local/Programs/Python/Python39/lib/site-packages/pandas/core/indexing.py?line=2378'>2379</a>\u001b[0m             \u001b[39m\"\u001b[39m\u001b[39mthe indexed object do not match).\u001b[39m\u001b[39m\"\u001b[39m\n\u001b[0;32m   <a href='file:///c%3A/Users/Denis.kozarenko/AppData/Local/Programs/Python/Python39/lib/site-packages/pandas/core/indexing.py?line=2379'>2380</a>\u001b[0m         )\n\u001b[0;32m   <a href='file:///c%3A/Users/Denis.kozarenko/AppData/Local/Programs/Python/Python39/lib/site-packages/pandas/core/indexing.py?line=2380'>2381</a>\u001b[0m     \u001b[39mreturn\u001b[39;00m result\u001b[39m.\u001b[39mastype(\u001b[39mbool\u001b[39m)\u001b[39m.\u001b[39m_values\n\u001b[0;32m   <a href='file:///c%3A/Users/Denis.kozarenko/AppData/Local/Programs/Python/Python39/lib/site-packages/pandas/core/indexing.py?line=2381'>2382</a>\u001b[0m \u001b[39mif\u001b[39;00m is_object_dtype(key):\n\u001b[0;32m   <a href='file:///c%3A/Users/Denis.kozarenko/AppData/Local/Programs/Python/Python39/lib/site-packages/pandas/core/indexing.py?line=2382'>2383</a>\u001b[0m     \u001b[39m# key might be object-dtype bool, check_array_indexer needs bool array\u001b[39;00m\n",
      "\u001b[1;31mIndexingError\u001b[0m: Unalignable boolean Series provided as indexer (index of the boolean Series and of the indexed object do not match)."
     ]
    }
   ],
   "source": [
    "# Задание 8.7\n",
    "# Добавьте в таблицу новый признак year_rating — год выставления оценки. \n",
    "df['year_rating'] = df['date'].dt.year.astype('category')\n",
    "# df.info()\n",
    "# Создайте сводную таблицу, которая иллюстрирует зависимость среднего рейтинга фильма от года выставления оценки и жанра.\n",
    "table = df.pivot_table(values='rating', index='genres', columns='year_rating', fill_value= 0, aggfunc='mean').round(2)\n",
    "\n",
    "# Выберите верные варианты ответа, исходя из построенной таблицы:\n",
    "\n",
    "# A За весь период (с 1996 по 2018 год) сочетание жанров Action|Adventure ни разу не получало среднюю оценку ниже 3.\n",
    "# вывод части сводной таблицы\n",
    "table.query('genres== [\"Action|Adventure\"]')\n",
    "#False\n",
    "# проверка минимального значения по жанру\n",
    "df[df['genres'] == \"Action|Adventure\"].groupby(['genres', 'year_rating'], as_index=True)['rating'].mean().min()\n",
    "\n",
    "# B Наилучшую оценку жанр Action|Adventure|Animation|Children|Comedy|IMAX получил в 2010 году.(2018)\n",
    "max(table.query('genres== [\"Action|Adventure|Animation|Children|Comedy|IMAX\"]')) == 2010\n",
    "#False\n",
    "\n",
    "# C Среди сочетаний жанров, получивших наивысшую среднюю оценку в 2018 году, есть сочетание Animation|Children|Mystery.\n",
    "\n",
    "max_mean_2018 = df[df['year_rating'] == 2018].groupby('genres', as_index=True)['rating'].mean().max()\n",
    "df[df[df['year_rating'] == 2018].groupby('genres', as_index=True)['rating'].mean() == 5].groupby('genres', as_index=True)['rating'].mean()\n",
    "# D Для жанра Comedy прослеживается тенденция падения рейтинга с каждым годом (с 1996 по 2018)."
   ]
  }
 ],
 "metadata": {
  "interpreter": {
   "hash": "4cf8740b77de6ac68c701f5d05813ddbce361e765d83d58497ce85d0cb93b38e"
  },
  "kernelspec": {
   "display_name": "Python 3.9.10 64-bit",
   "language": "python",
   "name": "python3"
  },
  "language_info": {
   "codemirror_mode": {
    "name": "ipython",
    "version": 3
   },
   "file_extension": ".py",
   "mimetype": "text/x-python",
   "name": "python",
   "nbconvert_exporter": "python",
   "pygments_lexer": "ipython3",
   "version": "3.9.10"
  },
  "orig_nbformat": 4
 },
 "nbformat": 4,
 "nbformat_minor": 2
}
