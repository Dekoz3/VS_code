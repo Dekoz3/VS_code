{
 "cells": [
  {
   "cell_type": "code",
   "execution_count": 302,
   "metadata": {},
   "outputs": [],
   "source": [
    "# Чтобы скачать и распаковать zip-архив в output папку в Питоне:\n",
    "import pandas as pd\n",
    "import numpy as np\n",
    "from IPython.display import display\n",
    "#!/usr/bin/env python\n",
    "import io\n",
    "import zipfile\n",
    "import requests  # $ pip install requests\n",
    "\n",
    "r = requests.get(\"https://lms.skillfactory.ru/assets/courseware/v1/8e23b4ad7fb8d49f0b9c67be84dc440c/asset-v1:SkillFactory+DSPR-2.0+14JULY2021+type@asset+block/ratings_movies.zip\")\n",
    "with r, zipfile.ZipFile(io.BytesIO(r.content)) as archive:\n",
    "    archive.extractall('Data')"
   ]
  },
  {
   "cell_type": "code",
   "execution_count": 303,
   "metadata": {},
   "outputs": [
    {
     "data": {
      "text/html": [
       "<div>\n",
       "<style scoped>\n",
       "    .dataframe tbody tr th:only-of-type {\n",
       "        vertical-align: middle;\n",
       "    }\n",
       "\n",
       "    .dataframe tbody tr th {\n",
       "        vertical-align: top;\n",
       "    }\n",
       "\n",
       "    .dataframe thead th {\n",
       "        text-align: right;\n",
       "    }\n",
       "</style>\n",
       "<table border=\"1\" class=\"dataframe\">\n",
       "  <thead>\n",
       "    <tr style=\"text-align: right;\">\n",
       "      <th></th>\n",
       "      <th>userId</th>\n",
       "      <th>movieId</th>\n",
       "      <th>rating</th>\n",
       "      <th>date</th>\n",
       "      <th>title</th>\n",
       "      <th>genres</th>\n",
       "    </tr>\n",
       "  </thead>\n",
       "  <tbody>\n",
       "    <tr>\n",
       "      <th>0</th>\n",
       "      <td>1</td>\n",
       "      <td>1</td>\n",
       "      <td>4.0</td>\n",
       "      <td>2000-07-30 18:45:03</td>\n",
       "      <td>Toy Story (1995)</td>\n",
       "      <td>Adventure|Animation|Children|Comedy|Fantasy</td>\n",
       "    </tr>\n",
       "    <tr>\n",
       "      <th>1</th>\n",
       "      <td>1</td>\n",
       "      <td>3</td>\n",
       "      <td>4.0</td>\n",
       "      <td>2000-07-30 18:20:47</td>\n",
       "      <td>Grumpier Old Men (1995)</td>\n",
       "      <td>Comedy|Romance</td>\n",
       "    </tr>\n",
       "    <tr>\n",
       "      <th>2</th>\n",
       "      <td>1</td>\n",
       "      <td>6</td>\n",
       "      <td>4.0</td>\n",
       "      <td>2000-07-30 18:37:04</td>\n",
       "      <td>Heat (1995)</td>\n",
       "      <td>Action|Crime|Thriller</td>\n",
       "    </tr>\n",
       "    <tr>\n",
       "      <th>3</th>\n",
       "      <td>1</td>\n",
       "      <td>47</td>\n",
       "      <td>5.0</td>\n",
       "      <td>2000-07-30 19:03:35</td>\n",
       "      <td>Seven (a.k.a. Se7en) (1995)</td>\n",
       "      <td>Mystery|Thriller</td>\n",
       "    </tr>\n",
       "    <tr>\n",
       "      <th>4</th>\n",
       "      <td>1</td>\n",
       "      <td>50</td>\n",
       "      <td>5.0</td>\n",
       "      <td>2000-07-30 18:48:51</td>\n",
       "      <td>Usual Suspects, The (1995)</td>\n",
       "      <td>Crime|Mystery|Thriller</td>\n",
       "    </tr>\n",
       "  </tbody>\n",
       "</table>\n",
       "</div>"
      ],
      "text/plain": [
       "   userId  movieId  rating                 date                        title  \\\n",
       "0       1        1     4.0  2000-07-30 18:45:03             Toy Story (1995)   \n",
       "1       1        3     4.0  2000-07-30 18:20:47      Grumpier Old Men (1995)   \n",
       "2       1        6     4.0  2000-07-30 18:37:04                  Heat (1995)   \n",
       "3       1       47     5.0  2000-07-30 19:03:35  Seven (a.k.a. Se7en) (1995)   \n",
       "4       1       50     5.0  2000-07-30 18:48:51   Usual Suspects, The (1995)   \n",
       "\n",
       "                                        genres  \n",
       "0  Adventure|Animation|Children|Comedy|Fantasy  \n",
       "1                               Comedy|Romance  \n",
       "2                        Action|Crime|Thriller  \n",
       "3                             Mystery|Thriller  \n",
       "4                       Crime|Mystery|Thriller  "
      ]
     },
     "metadata": {},
     "output_type": "display_data"
    },
    {
     "name": "stdout",
     "output_type": "stream",
     "text": [
      "<class 'pandas.core.frame.DataFrame'>\n",
      "RangeIndex: 100836 entries, 0 to 100835\n",
      "Data columns (total 6 columns):\n",
      " #   Column   Non-Null Count   Dtype         \n",
      "---  ------   --------------   -----         \n",
      " 0   userId   100836 non-null  int64         \n",
      " 1   movieId  100836 non-null  int64         \n",
      " 2   rating   100836 non-null  float64       \n",
      " 3   date     100836 non-null  datetime64[ns]\n",
      " 4   title    100836 non-null  object        \n",
      " 5   genres   100836 non-null  object        \n",
      "dtypes: datetime64[ns](1), float64(1), int64(2), object(2)\n",
      "memory usage: 4.6+ MB\n"
     ]
    }
   ],
   "source": [
    "df = pd.read_csv('Data/ratings_movies.csv', sep=',')\n",
    "df = df.drop('Unnamed: 0', axis=1)\n",
    "display(df.head())\n",
    "df['date'] = pd.to_datetime(df['date'])\n",
    "# df['userId'] = df['userId'].astype('category')\n",
    "# df['genres'] = df['genres'].astype('category')\n",
    "df.info()\n"
   ]
  },
  {
   "cell_type": "code",
   "execution_count": 304,
   "metadata": {},
   "outputs": [
    {
     "data": {
      "text/plain": [
       "18"
      ]
     },
     "metadata": {},
     "output_type": "display_data"
    },
    {
     "name": "stdout",
     "output_type": "stream",
     "text": [
      "<class 'pandas.core.frame.DataFrame'>\n",
      "RangeIndex: 100836 entries, 0 to 100835\n",
      "Data columns (total 7 columns):\n",
      " #   Column        Non-Null Count   Dtype         \n",
      "---  ------        --------------   -----         \n",
      " 0   userId        100836 non-null  int64         \n",
      " 1   movieId       100836 non-null  int64         \n",
      " 2   rating        100836 non-null  float64       \n",
      " 3   date          100836 non-null  datetime64[ns]\n",
      " 4   title         100836 non-null  object        \n",
      " 5   genres        100836 non-null  object        \n",
      " 6   year_release  100836 non-null  int64         \n",
      "dtypes: datetime64[ns](1), float64(1), int64(3), object(2)\n",
      "memory usage: 5.4+ MB\n"
     ]
    }
   ],
   "source": [
    "# Для решения задач нам понадобится выделить из признака title год выпуска фильма. Для этого напишем функцию get_year_release(arg).\n",
    "# библиотека для регулярных выражений\n",
    "\n",
    "import re \n",
    "def get_year_release(arg):\n",
    "    #находим все слова по шаблону \"(DDDD)\"\n",
    "    candidates = re.findall(r'\\(\\d{4}\\)', arg) \n",
    "    # проверяем число вхождений\n",
    "    if len(candidates) > 0:\n",
    "        #если число вхождений больше 0,\n",
    "\t#очищаем строку от знаков \"(\" и \")\"\n",
    "        year = candidates[0].replace('(', '')\n",
    "        year = year.replace(')', '')\n",
    "        return int(year)\n",
    "    else:\n",
    "        #если год не указан, возвращаем None\n",
    "        return 0\n",
    " \n",
    "# Задание 8.1\n",
    "# Создайте в таблице новый признак year_release, который соответствует году выпуска фильма.\n",
    "# У скольких фильмов не указан год их выпуска? \n",
    "    \n",
    "df['year_release'] = df['title'].apply(get_year_release)\n",
    "mask_0 = df['year_release'] == 0 \n",
    "display(df[mask_0]['movieId'].count())\n",
    "df.info()\n"
   ]
  },
  {
   "cell_type": "code",
   "execution_count": 305,
   "metadata": {},
   "outputs": [
    {
     "data": {
      "text/plain": [
       "'Bloodsport: The Dark Kumite'"
      ]
     },
     "metadata": {},
     "output_type": "display_data"
    }
   ],
   "source": [
    "# Задание 8.2\n",
    "# Какой фильм, выпущенный в 1999 году, получил наименьшую среднюю оценку зрителей?\n",
    "# В качестве ответа запишите название этого фильма без указания года его выпуска.\n",
    "\n",
    "mask_year_1999 = df['year_release'] == 1999\n",
    "df_1999 =df[mask_year_1999]\n",
    "type(df_1999.head())\n",
    "df_grouped = df_1999.groupby(by=['movieId', 'title'], as_index=False)['rating'].mean().sort_values(by='rating').head(1)['title'].values\n",
    "display(str(*df_grouped).replace(' (1999)', ''))"
   ]
  },
  {
   "cell_type": "code",
   "execution_count": 306,
   "metadata": {},
   "outputs": [
    {
     "data": {
      "text/plain": [
       "'Action|Sci-Fi'"
      ]
     },
     "metadata": {},
     "output_type": "display_data"
    }
   ],
   "source": [
    "# Задание 8.3\n",
    "# 0/1 point (graded)\n",
    "# Какое сочетание жанров фильмов (genres), выпущенных в 2010 году, получило наименьшую среднюю оценку (rating)?\n",
    "# Запишите сочетание так же, как оно указано в таблице (через разделитель |, без пробелов).\n",
    "\n",
    "mask_year_2010 = df['year_release'] == 2010\n",
    "df_2010 =df[mask_year_2010]\n",
    "type(df_2010.head())\n",
    "df_grouped = df_2010.groupby(by=['genres'], as_index=False)['rating'].mean().sort_values(by='rating').head(1)['genres'].values\n",
    "display(*df_grouped)"
   ]
  },
  {
   "cell_type": "code",
   "execution_count": 307,
   "metadata": {},
   "outputs": [
    {
     "data": {
      "text/plain": [
       "599"
      ]
     },
     "execution_count": 307,
     "metadata": {},
     "output_type": "execute_result"
    }
   ],
   "source": [
    "# Задание 8.4\n",
    "# Какой пользователь (userId) посмотрел наибольшее количество различных (уникальных) жанров (genres) фильмов? \n",
    "# В качестве ответа запишите идентификатор этого пользователя.\n",
    "\n",
    "df.groupby('userId')['genres'].nunique().idxmax()\n",
    "# display(df[df['userId'] == 599].info())"
   ]
  },
  {
   "cell_type": "code",
   "execution_count": 308,
   "metadata": {},
   "outputs": [
    {
     "data": {
      "text/plain": [
       "53"
      ]
     },
     "execution_count": 308,
     "metadata": {},
     "output_type": "execute_result"
    }
   ],
   "source": [
    "# Задание 8.5\n",
    "# Найдите пользователя, который выставил наименьшее количество оценок, но его средняя оценка фильмам наибольшая.\n",
    "# В качестве ответа укажите идентификатор этого пользователя.\n",
    "# Чтобы рассчитать несколько параметров для каждого пользователя (количество оценок и среднюю оценку), можно воспользоваться методом agg() на сгруппированных данных.\n",
    "\n",
    "df.groupby('userId')['rating'].agg(['count', 'mean']).sort_values(by= ['mean', 'count'], ascending=[False, True]).idxmax()['mean']"
   ]
  },
  {
   "cell_type": "code",
   "execution_count": 309,
   "metadata": {},
   "outputs": [
    {
     "data": {
      "text/plain": [
       "'Action|Adventure|Sci-Fi'"
      ]
     },
     "execution_count": 309,
     "metadata": {},
     "output_type": "execute_result"
    }
   ],
   "source": [
    "# Задание 8.6\n",
    "# Найдите сочетание жанров (genres) за 2018 году, которое имеет наибольший средний рейтинг (среднее по столбцу rating), \n",
    "# и при этом число выставленных ему оценок (количество значений в столбце rating) больше 10.\n",
    "# Запишите сочетание так же, как оно указано в таблице (через разделитель |, без пробелов).\n",
    "\n",
    "mask_year_2018 = df['year_release'] == 2018\n",
    "# mask_count_rating = df.groupby(['genres'])['rating'].count() > 10\n",
    "df_main = df[mask_year_2018].groupby('genres', as_index=True)['rating'].agg(['mean', 'count']).sort_values(by='count', ascending=False)\n",
    "mask_count = df_main['count'] >10\n",
    "df_main[mask_count].idxmax()['mean']"
   ]
  },
  {
   "cell_type": "code",
   "execution_count": 369,
   "metadata": {},
   "outputs": [
    {
     "data": {
      "text/html": [
       "<div>\n",
       "<style scoped>\n",
       "    .dataframe tbody tr th:only-of-type {\n",
       "        vertical-align: middle;\n",
       "    }\n",
       "\n",
       "    .dataframe tbody tr th {\n",
       "        vertical-align: top;\n",
       "    }\n",
       "\n",
       "    .dataframe thead th {\n",
       "        text-align: right;\n",
       "    }\n",
       "</style>\n",
       "<table border=\"1\" class=\"dataframe\">\n",
       "  <thead>\n",
       "    <tr style=\"text-align: right;\">\n",
       "      <th>year_rating</th>\n",
       "      <th>1996</th>\n",
       "      <th>1997</th>\n",
       "      <th>1998</th>\n",
       "      <th>1999</th>\n",
       "      <th>2000</th>\n",
       "      <th>2001</th>\n",
       "      <th>2002</th>\n",
       "      <th>2003</th>\n",
       "      <th>2004</th>\n",
       "      <th>2005</th>\n",
       "      <th>...</th>\n",
       "      <th>2009</th>\n",
       "      <th>2010</th>\n",
       "      <th>2011</th>\n",
       "      <th>2012</th>\n",
       "      <th>2013</th>\n",
       "      <th>2014</th>\n",
       "      <th>2015</th>\n",
       "      <th>2016</th>\n",
       "      <th>2017</th>\n",
       "      <th>2018</th>\n",
       "    </tr>\n",
       "    <tr>\n",
       "      <th>genres</th>\n",
       "      <th></th>\n",
       "      <th></th>\n",
       "      <th></th>\n",
       "      <th></th>\n",
       "      <th></th>\n",
       "      <th></th>\n",
       "      <th></th>\n",
       "      <th></th>\n",
       "      <th></th>\n",
       "      <th></th>\n",
       "      <th></th>\n",
       "      <th></th>\n",
       "      <th></th>\n",
       "      <th></th>\n",
       "      <th></th>\n",
       "      <th></th>\n",
       "      <th></th>\n",
       "      <th></th>\n",
       "      <th></th>\n",
       "      <th></th>\n",
       "      <th></th>\n",
       "    </tr>\n",
       "  </thead>\n",
       "  <tbody>\n",
       "    <tr>\n",
       "      <th>Comedy</th>\n",
       "      <td>3.23</td>\n",
       "      <td>3.41</td>\n",
       "      <td>3.0</td>\n",
       "      <td>3.61</td>\n",
       "      <td>3.14</td>\n",
       "      <td>3.32</td>\n",
       "      <td>3.2</td>\n",
       "      <td>3.12</td>\n",
       "      <td>3.36</td>\n",
       "      <td>2.96</td>\n",
       "      <td>...</td>\n",
       "      <td>3.27</td>\n",
       "      <td>3.18</td>\n",
       "      <td>3.23</td>\n",
       "      <td>3.48</td>\n",
       "      <td>3.49</td>\n",
       "      <td>3.27</td>\n",
       "      <td>3.11</td>\n",
       "      <td>3.37</td>\n",
       "      <td>2.85</td>\n",
       "      <td>3.12</td>\n",
       "    </tr>\n",
       "  </tbody>\n",
       "</table>\n",
       "<p>1 rows × 23 columns</p>\n",
       "</div>"
      ],
      "text/plain": [
       "year_rating  1996  1997  1998  1999  2000  2001  2002  2003  2004  2005  ...  \\\n",
       "genres                                                                   ...   \n",
       "Comedy       3.23  3.41   3.0  3.61  3.14  3.32   3.2  3.12  3.36  2.96  ...   \n",
       "\n",
       "year_rating  2009  2010  2011  2012  2013  2014  2015  2016  2017  2018  \n",
       "genres                                                                   \n",
       "Comedy       3.27  3.18  3.23  3.48  3.49  3.27  3.11  3.37  2.85  3.12  \n",
       "\n",
       "[1 rows x 23 columns]"
      ]
     },
     "execution_count": 369,
     "metadata": {},
     "output_type": "execute_result"
    }
   ],
   "source": [
    "# Задание 8.7\n",
    "# Добавьте в таблицу новый признак year_rating — год выставления оценки. \n",
    "df['year_rating'] = df['date'].dt.year.astype('category')\n",
    "# df.info()\n",
    "# Создайте сводную таблицу, которая иллюстрирует зависимость среднего рейтинга фильма от года выставления оценки и жанра.\n",
    "table = df.pivot_table(values='rating', index='genres', columns='year_rating', fill_value= 0, aggfunc='mean').round(2)\n",
    "\n",
    "# Выберите верные варианты ответа, исходя из построенной таблицы:\n",
    "\n",
    "# A За весь период (с 1996 по 2018 год) сочетание жанров Action|Adventure ни разу не получало среднюю оценку ниже 3.\n",
    "# вывод части сводной таблицы\n",
    "table.query('genres== [\"Action|Adventure\"]')\n",
    "#False\n",
    "# проверка минимального значения по жанру\n",
    "df[df['genres'] == \"Action|Adventure\"].groupby(['genres', 'year_rating'], as_index=True)['rating'].mean().min()\n",
    "\n",
    "# B Наилучшую оценку жанр Action|Adventure|Animation|Children|Comedy|IMAX получил в 2010 году.(2018)\n",
    "max(table.query('genres== [\"Action|Adventure|Animation|Children|Comedy|IMAX\"]')) == 2010\n",
    "#False\n",
    "\n",
    "# C Среди сочетаний жанров, получивших наивысшую среднюю оценку в 2018 году, есть сочетание Animation|Children|Mystery.\n",
    "\n",
    "df[df['year_rating'] == 2018].groupby('genres', as_index=True)['rating'].mean().sort_values(ascending= False).nlargest(20)\n",
    "\n",
    "# D Для жанра Comedy прослеживается тенденция падения рейтинга с каждым годом (с 1996 по 2018).\n",
    "table.query('genres== [\"Comedy\"]')\n"
   ]
  },
  {
   "cell_type": "code",
   "execution_count": 371,
   "metadata": {},
   "outputs": [],
   "source": [
    "# Чтобы скачать и распаковать zip-архив в output папку в Питоне:\n",
    "import pandas as pd\n",
    "import numpy as np\n",
    "from IPython.display import display\n",
    "#!/usr/bin/env python\n",
    "import io\n",
    "import zipfile\n",
    "import requests  # $ pip install requests\n",
    "\n",
    "r = requests.get(\"https://lms.skillfactory.ru/assets/courseware/v1/a4cb93123b3b6998d57348053023f4e0/asset-v1:SkillFactory+DSPR-2.0+14JULY2021+type@asset+block/orders_and_products.zip\")\n",
    "with r, zipfile.ZipFile(io.BytesIO(r.content)) as archive:\n",
    "    archive.extractall('Data')\n",
    "\n",
    "# https://lms.skillfactory.ru/assets/courseware/v1/a4cb93123b3b6998d57348053023f4e0/asset-v1:SkillFactory+DSPR-2.0+14JULY2021+type@asset+block/orders_and_products.zip"
   ]
  },
  {
   "cell_type": "code",
   "execution_count": 382,
   "metadata": {},
   "outputs": [
    {
     "data": {
      "text/html": [
       "<div>\n",
       "<style scoped>\n",
       "    .dataframe tbody tr th:only-of-type {\n",
       "        vertical-align: middle;\n",
       "    }\n",
       "\n",
       "    .dataframe tbody tr th {\n",
       "        vertical-align: top;\n",
       "    }\n",
       "\n",
       "    .dataframe thead th {\n",
       "        text-align: right;\n",
       "    }\n",
       "</style>\n",
       "<table border=\"1\" class=\"dataframe\">\n",
       "  <thead>\n",
       "    <tr style=\"text-align: right;\">\n",
       "      <th></th>\n",
       "      <th>Дата создания</th>\n",
       "      <th>Order ID</th>\n",
       "      <th>ID Покупателя</th>\n",
       "      <th>Статус</th>\n",
       "      <th>Оплачен</th>\n",
       "      <th>Отменен</th>\n",
       "      <th>Отгружен</th>\n",
       "      <th>ID товара</th>\n",
       "      <th>Количество</th>\n",
       "    </tr>\n",
       "  </thead>\n",
       "  <tbody>\n",
       "    <tr>\n",
       "      <th>0</th>\n",
       "      <td>09.11.2019 21:55:51</td>\n",
       "      <td>9</td>\n",
       "      <td>10</td>\n",
       "      <td>Принят, ожидается оплата</td>\n",
       "      <td>Нет</td>\n",
       "      <td>Нет</td>\n",
       "      <td>Нет</td>\n",
       "      <td>103</td>\n",
       "      <td>5</td>\n",
       "    </tr>\n",
       "    <tr>\n",
       "      <th>1</th>\n",
       "      <td>09.11.2019 15:05:57</td>\n",
       "      <td>8</td>\n",
       "      <td>9</td>\n",
       "      <td>Принят, ожидается оплата</td>\n",
       "      <td>Нет</td>\n",
       "      <td>Нет</td>\n",
       "      <td>Нет</td>\n",
       "      <td>86</td>\n",
       "      <td>100</td>\n",
       "    </tr>\n",
       "    <tr>\n",
       "      <th>2</th>\n",
       "      <td>09.11.2019 15:05:57</td>\n",
       "      <td>8</td>\n",
       "      <td>9</td>\n",
       "      <td>Принят, ожидается оплата</td>\n",
       "      <td>Нет</td>\n",
       "      <td>Нет</td>\n",
       "      <td>Нет</td>\n",
       "      <td>104</td>\n",
       "      <td>10</td>\n",
       "    </tr>\n",
       "    <tr>\n",
       "      <th>3</th>\n",
       "      <td>09.11.2019 12:50:07</td>\n",
       "      <td>7</td>\n",
       "      <td>8</td>\n",
       "      <td>Принят, ожидается оплата</td>\n",
       "      <td>Нет</td>\n",
       "      <td>Нет</td>\n",
       "      <td>Нет</td>\n",
       "      <td>104</td>\n",
       "      <td>7</td>\n",
       "    </tr>\n",
       "    <tr>\n",
       "      <th>4</th>\n",
       "      <td>09.11.2019 12:00:00</td>\n",
       "      <td>6</td>\n",
       "      <td>1</td>\n",
       "      <td>Принят, ожидается оплата</td>\n",
       "      <td>Нет</td>\n",
       "      <td>Нет</td>\n",
       "      <td>Нет</td>\n",
       "      <td>104</td>\n",
       "      <td>5</td>\n",
       "    </tr>\n",
       "  </tbody>\n",
       "</table>\n",
       "</div>"
      ],
      "text/plain": [
       "         Дата создания  Order ID  ID Покупателя                    Статус  \\\n",
       "0  09.11.2019 21:55:51         9             10  Принят, ожидается оплата   \n",
       "1  09.11.2019 15:05:57         8              9  Принят, ожидается оплата   \n",
       "2  09.11.2019 15:05:57         8              9  Принят, ожидается оплата   \n",
       "3  09.11.2019 12:50:07         7              8  Принят, ожидается оплата   \n",
       "4  09.11.2019 12:00:00         6              1  Принят, ожидается оплата   \n",
       "\n",
       "  Оплачен Отменен Отгружен  ID товара  Количество  \n",
       "0     Нет     Нет      Нет        103           5  \n",
       "1     Нет     Нет      Нет         86         100  \n",
       "2     Нет     Нет      Нет        104          10  \n",
       "3     Нет     Нет      Нет        104           7  \n",
       "4     Нет     Нет      Нет        104           5  "
      ]
     },
     "metadata": {},
     "output_type": "display_data"
    },
    {
     "name": "stdout",
     "output_type": "stream",
     "text": [
      "<class 'pandas.core.frame.DataFrame'>\n",
      "RangeIndex: 18 entries, 0 to 17\n",
      "Data columns (total 9 columns):\n",
      " #   Column         Non-Null Count  Dtype \n",
      "---  ------         --------------  ----- \n",
      " 0   Дата создания  18 non-null     object\n",
      " 1   Order ID       18 non-null     int64 \n",
      " 2   ID Покупателя  18 non-null     int64 \n",
      " 3   Статус         18 non-null     object\n",
      " 4   Оплачен        18 non-null     object\n",
      " 5   Отменен        18 non-null     object\n",
      " 6   Отгружен       18 non-null     object\n",
      " 7   ID товара      18 non-null     int64 \n",
      " 8   Количество     18 non-null     int64 \n",
      "dtypes: int64(4), object(5)\n",
      "memory usage: 1.4+ KB\n"
     ]
    },
    {
     "data": {
      "text/plain": [
       "None"
      ]
     },
     "metadata": {},
     "output_type": "display_data"
    },
    {
     "data": {
      "text/html": [
       "<div>\n",
       "<style scoped>\n",
       "    .dataframe tbody tr th:only-of-type {\n",
       "        vertical-align: middle;\n",
       "    }\n",
       "\n",
       "    .dataframe tbody tr th {\n",
       "        vertical-align: top;\n",
       "    }\n",
       "\n",
       "    .dataframe thead th {\n",
       "        text-align: right;\n",
       "    }\n",
       "</style>\n",
       "<table border=\"1\" class=\"dataframe\">\n",
       "  <thead>\n",
       "    <tr style=\"text-align: right;\">\n",
       "      <th></th>\n",
       "      <th>Product_ID</th>\n",
       "      <th>Name</th>\n",
       "      <th>Price</th>\n",
       "      <th>CURRENCY</th>\n",
       "    </tr>\n",
       "  </thead>\n",
       "  <tbody>\n",
       "    <tr>\n",
       "      <th>0</th>\n",
       "      <td>47</td>\n",
       "      <td>Шатны Полосатый рейс</td>\n",
       "      <td>2999</td>\n",
       "      <td>RUR</td>\n",
       "    </tr>\n",
       "    <tr>\n",
       "      <th>1</th>\n",
       "      <td>51</td>\n",
       "      <td>Платье Аленький цветочек</td>\n",
       "      <td>4999</td>\n",
       "      <td>RUR</td>\n",
       "    </tr>\n",
       "    <tr>\n",
       "      <th>2</th>\n",
       "      <td>53</td>\n",
       "      <td>Штаны Цветочная Поляна</td>\n",
       "      <td>4999</td>\n",
       "      <td>RUR</td>\n",
       "    </tr>\n",
       "    <tr>\n",
       "      <th>3</th>\n",
       "      <td>71</td>\n",
       "      <td>Платье Ночная Жизнь</td>\n",
       "      <td>7999</td>\n",
       "      <td>RUR</td>\n",
       "    </tr>\n",
       "    <tr>\n",
       "      <th>4</th>\n",
       "      <td>74</td>\n",
       "      <td>Платье Ночная Жизнь XXXL</td>\n",
       "      <td>8999</td>\n",
       "      <td>RUR</td>\n",
       "    </tr>\n",
       "  </tbody>\n",
       "</table>\n",
       "</div>"
      ],
      "text/plain": [
       "   Product_ID                      Name  Price CURRENCY\n",
       "0          47      Шатны Полосатый рейс   2999      RUR\n",
       "1          51  Платье Аленький цветочек   4999      RUR\n",
       "2          53    Штаны Цветочная Поляна   4999      RUR\n",
       "3          71       Платье Ночная Жизнь   7999      RUR\n",
       "4          74  Платье Ночная Жизнь XXXL   8999      RUR"
      ]
     },
     "metadata": {},
     "output_type": "display_data"
    },
    {
     "name": "stdout",
     "output_type": "stream",
     "text": [
      "<class 'pandas.core.frame.DataFrame'>\n",
      "RangeIndex: 14 entries, 0 to 13\n",
      "Data columns (total 4 columns):\n",
      " #   Column      Non-Null Count  Dtype \n",
      "---  ------      --------------  ----- \n",
      " 0   Product_ID  14 non-null     int64 \n",
      " 1   Name        14 non-null     object\n",
      " 2   Price       14 non-null     int64 \n",
      " 3   CURRENCY    14 non-null     object\n",
      "dtypes: int64(2), object(2)\n",
      "memory usage: 576.0+ bytes\n"
     ]
    },
    {
     "data": {
      "text/plain": [
       "None"
      ]
     },
     "metadata": {},
     "output_type": "display_data"
    }
   ],
   "source": [
    "orders = pd.read_csv('Data/orders.csv', sep=';')\n",
    "# df = df.drop('Unnamed: 0', axis=1)\n",
    "display(orders.head())\n",
    "display(orders.info())\n",
    "products = pd.read_csv('Data/products.csv', sep=';')\n",
    "# df = df.drop('Unnamed: 0', axis=1)\n",
    "display(products.head())\n",
    "display(products.info())"
   ]
  },
  {
   "cell_type": "code",
   "execution_count": 392,
   "metadata": {},
   "outputs": [
    {
     "data": {
      "text/html": [
       "<div>\n",
       "<style scoped>\n",
       "    .dataframe tbody tr th:only-of-type {\n",
       "        vertical-align: middle;\n",
       "    }\n",
       "\n",
       "    .dataframe tbody tr th {\n",
       "        vertical-align: top;\n",
       "    }\n",
       "\n",
       "    .dataframe thead th {\n",
       "        text-align: right;\n",
       "    }\n",
       "</style>\n",
       "<table border=\"1\" class=\"dataframe\">\n",
       "  <thead>\n",
       "    <tr style=\"text-align: right;\">\n",
       "      <th></th>\n",
       "      <th>Дата создания</th>\n",
       "      <th>Order ID</th>\n",
       "      <th>ID Покупателя</th>\n",
       "      <th>Статус</th>\n",
       "      <th>Оплачен</th>\n",
       "      <th>Отменен</th>\n",
       "      <th>Отгружен</th>\n",
       "      <th>ID товара</th>\n",
       "      <th>Количество</th>\n",
       "      <th>Product_ID</th>\n",
       "      <th>Name</th>\n",
       "      <th>Price</th>\n",
       "      <th>CURRENCY</th>\n",
       "    </tr>\n",
       "  </thead>\n",
       "  <tbody>\n",
       "    <tr>\n",
       "      <th>0</th>\n",
       "      <td>09.11.2019 21:55:51</td>\n",
       "      <td>9</td>\n",
       "      <td>10</td>\n",
       "      <td>Принят, ожидается оплата</td>\n",
       "      <td>Нет</td>\n",
       "      <td>Нет</td>\n",
       "      <td>Нет</td>\n",
       "      <td>103</td>\n",
       "      <td>5</td>\n",
       "      <td>103.0</td>\n",
       "      <td>Носки Подарочные, муж</td>\n",
       "      <td>199.0</td>\n",
       "      <td>RUR</td>\n",
       "    </tr>\n",
       "    <tr>\n",
       "      <th>1</th>\n",
       "      <td>09.11.2019 15:05:57</td>\n",
       "      <td>8</td>\n",
       "      <td>9</td>\n",
       "      <td>Принят, ожидается оплата</td>\n",
       "      <td>Нет</td>\n",
       "      <td>Нет</td>\n",
       "      <td>Нет</td>\n",
       "      <td>86</td>\n",
       "      <td>100</td>\n",
       "      <td>86.0</td>\n",
       "      <td>Носки Простые, муж</td>\n",
       "      <td>45.0</td>\n",
       "      <td>RUR</td>\n",
       "    </tr>\n",
       "    <tr>\n",
       "      <th>2</th>\n",
       "      <td>09.11.2019 15:05:57</td>\n",
       "      <td>8</td>\n",
       "      <td>9</td>\n",
       "      <td>Принят, ожидается оплата</td>\n",
       "      <td>Нет</td>\n",
       "      <td>Нет</td>\n",
       "      <td>Нет</td>\n",
       "      <td>104</td>\n",
       "      <td>10</td>\n",
       "      <td>104.0</td>\n",
       "      <td>Носки Подарочные, жен</td>\n",
       "      <td>249.0</td>\n",
       "      <td>RUR</td>\n",
       "    </tr>\n",
       "    <tr>\n",
       "      <th>3</th>\n",
       "      <td>09.11.2019 12:50:07</td>\n",
       "      <td>7</td>\n",
       "      <td>8</td>\n",
       "      <td>Принят, ожидается оплата</td>\n",
       "      <td>Нет</td>\n",
       "      <td>Нет</td>\n",
       "      <td>Нет</td>\n",
       "      <td>104</td>\n",
       "      <td>7</td>\n",
       "      <td>104.0</td>\n",
       "      <td>Носки Подарочные, жен</td>\n",
       "      <td>249.0</td>\n",
       "      <td>RUR</td>\n",
       "    </tr>\n",
       "    <tr>\n",
       "      <th>4</th>\n",
       "      <td>09.11.2019 12:00:00</td>\n",
       "      <td>6</td>\n",
       "      <td>1</td>\n",
       "      <td>Принят, ожидается оплата</td>\n",
       "      <td>Нет</td>\n",
       "      <td>Нет</td>\n",
       "      <td>Нет</td>\n",
       "      <td>104</td>\n",
       "      <td>5</td>\n",
       "      <td>104.0</td>\n",
       "      <td>Носки Подарочные, жен</td>\n",
       "      <td>249.0</td>\n",
       "      <td>RUR</td>\n",
       "    </tr>\n",
       "  </tbody>\n",
       "</table>\n",
       "</div>"
      ],
      "text/plain": [
       "         Дата создания  Order ID  ID Покупателя                    Статус  \\\n",
       "0  09.11.2019 21:55:51         9             10  Принят, ожидается оплата   \n",
       "1  09.11.2019 15:05:57         8              9  Принят, ожидается оплата   \n",
       "2  09.11.2019 15:05:57         8              9  Принят, ожидается оплата   \n",
       "3  09.11.2019 12:50:07         7              8  Принят, ожидается оплата   \n",
       "4  09.11.2019 12:00:00         6              1  Принят, ожидается оплата   \n",
       "\n",
       "  Оплачен Отменен Отгружен  ID товара  Количество  Product_ID  \\\n",
       "0     Нет     Нет      Нет        103           5       103.0   \n",
       "1     Нет     Нет      Нет         86         100        86.0   \n",
       "2     Нет     Нет      Нет        104          10       104.0   \n",
       "3     Нет     Нет      Нет        104           7       104.0   \n",
       "4     Нет     Нет      Нет        104           5       104.0   \n",
       "\n",
       "                    Name  Price CURRENCY  \n",
       "0  Носки Подарочные, муж  199.0      RUR  \n",
       "1     Носки Простые, муж   45.0      RUR  \n",
       "2  Носки Подарочные, жен  249.0      RUR  \n",
       "3  Носки Подарочные, жен  249.0      RUR  \n",
       "4  Носки Подарочные, жен  249.0      RUR  "
      ]
     },
     "metadata": {},
     "output_type": "display_data"
    },
    {
     "name": "stdout",
     "output_type": "stream",
     "text": [
      "<class 'pandas.core.frame.DataFrame'>\n",
      "Int64Index: 18 entries, 0 to 17\n",
      "Data columns (total 13 columns):\n",
      " #   Column         Non-Null Count  Dtype  \n",
      "---  ------         --------------  -----  \n",
      " 0   Дата создания  18 non-null     object \n",
      " 1   Order ID       18 non-null     int64  \n",
      " 2   ID Покупателя  18 non-null     int64  \n",
      " 3   Статус         18 non-null     object \n",
      " 4   Оплачен        18 non-null     object \n",
      " 5   Отменен        18 non-null     object \n",
      " 6   Отгружен       18 non-null     object \n",
      " 7   ID товара      18 non-null     int64  \n",
      " 8   Количество     18 non-null     int64  \n",
      " 9   Product_ID     17 non-null     float64\n",
      " 10  Name           17 non-null     object \n",
      " 11  Price          17 non-null     float64\n",
      " 12  CURRENCY       17 non-null     object \n",
      "dtypes: float64(2), int64(4), object(7)\n",
      "memory usage: 2.0+ KB\n"
     ]
    },
    {
     "data": {
      "text/plain": [
       "None"
      ]
     },
     "metadata": {},
     "output_type": "display_data"
    }
   ],
   "source": [
    "ord_prod = orders.merge(products, how='left', left_on='ID товара', right_on='Product_ID')\n",
    "display(ord_prod.head())\n",
    "display(ord_prod.info())\n"
   ]
  },
  {
   "cell_type": "code",
   "execution_count": 419,
   "metadata": {},
   "outputs": [
    {
     "data": {
      "text/plain": [
       "17    0\n",
       "Name: Order ID, dtype: int64"
      ]
     },
     "metadata": {},
     "output_type": "display_data"
    }
   ],
   "source": [
    "# Задание 8.8\n",
    "# Какой идентификатор (Order ID) имеет заказ, для которого не оказалось информации о товаре?\n",
    "ord_prod = ord_prod.fillna(0)\n",
    "# ord_prod.info()\n",
    "mask_Name =ord_prod['Name'] == 0\n",
    "display(ord_prod[mask_Name]['Order ID'])"
   ]
  },
  {
   "cell_type": "code",
   "execution_count": 425,
   "metadata": {},
   "outputs": [
    {
     "name": "stdout",
     "output_type": "stream",
     "text": [
      "Носки беговые Camino\n"
     ]
    }
   ],
   "source": [
    "# Задание 8.9\n",
    "# На какой товар была произведена отмена?\n",
    "# В качестве ответа запишите название этого товара (Name).\n",
    "\n",
    "z = ord_prod[ord_prod['Отменен'] == 'Да']['Name'].values\n",
    "print(*z)"
   ]
  },
  {
   "cell_type": "code",
   "execution_count": 428,
   "metadata": {},
   "outputs": [
    {
     "data": {
      "text/plain": [
       "7"
      ]
     },
     "execution_count": 428,
     "metadata": {},
     "output_type": "execute_result"
    }
   ],
   "source": [
    "# Задание 8.10\n",
    "# Какой покупатель принёс наибольшую суммарную прибыль интернет-магазину за указанный период?\n",
    "# В ответ запишите идентификатор этого покупателя (ID Покупателя).\n",
    "# Прибыль состоит только из оплаченных заказов и рассчитывается как количество купленного товара, умноженное на его цену.\n",
    "\n",
    "ord_prod['Profit'] = ord_prod['Price'] * ord_prod['Количество']\n",
    "mask_payed = ord_prod['Оплачен'] == 'Да'\n",
    "ord_prod[mask_payed].groupby('ID Покупателя', as_index=True)['Profit'].sum().idxmax()\n",
    "\n"
   ]
  }
 ],
 "metadata": {
  "interpreter": {
   "hash": "4cf8740b77de6ac68c701f5d05813ddbce361e765d83d58497ce85d0cb93b38e"
  },
  "kernelspec": {
   "display_name": "Python 3.9.10 64-bit",
   "language": "python",
   "name": "python3"
  },
  "language_info": {
   "codemirror_mode": {
    "name": "ipython",
    "version": 3
   },
   "file_extension": ".py",
   "mimetype": "text/x-python",
   "name": "python",
   "nbconvert_exporter": "python",
   "pygments_lexer": "ipython3",
   "version": "3.9.10"
  },
  "orig_nbformat": 4
 },
 "nbformat": 4,
 "nbformat_minor": 2
}
