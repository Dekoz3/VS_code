{
 "cells": [
  {
   "cell_type": "code",
   "execution_count": 11,
   "metadata": {},
   "outputs": [
    {
     "name": "stdout",
     "output_type": "stream",
     "text": [
      "кы — речарофч\n",
      "р — ёъмхёдйм\n"
     ]
    }
   ],
   "source": [
    "z = 'мэ — тжщвтрцщ'\n",
    "# кы — речарофч\n",
    "def tsesar_code_back(str_to_unlock, str_with_key):\n",
    "    alfavit = 'а, б, в, г, д, е, ё, ж, з, и, й, к, л, м, н, о, п, р, с, т, у, ф, х, ц, ч, ш, щ, ъ, ы, ь, э, ю, я, а, б, в, г, д, е, ё, ж, з, и, й, к, л, м, н, о, п, р, с, т, у, ф, х, ц, ч, ш, щ, ъ, ы, ь, э, ю, я'\n",
    "    alfavit_to_find = alfavit.replace(' ','').replace(',','')\n",
    "    alfavit = alfavit.replace(' ','').split(sep=',')\n",
    "    num_to_substract = alfavit_to_find.find(str_with_key, 0, 32)\n",
    "    x= ''\n",
    "    for letter in str_to_unlock:\n",
    "        if letter in alfavit:\n",
    "            number = alfavit_to_find.find(letter) - num_to_substract\n",
    "            x+= alfavit[number]\n",
    "        else:\n",
    "            x+= letter\n",
    "    print(x)\n",
    "    return x\n",
    "\n",
    "q =tsesar_code_back(z, 'в')\n",
    "w = tsesar_code_back(q[1:], q[0])"
   ]
  },
  {
   "cell_type": "code",
   "execution_count": 12,
   "metadata": {},
   "outputs": [
    {
     "name": "stdout",
     "output_type": "stream",
     "text": [
      "ёмлчдпмлдъмг\n"
     ]
    }
   ],
   "source": [
    "def tsesar_code_to(str_to_lock, str_with_key):\n",
    "    alfavit = 'а, б, в, г, д, е, ё, ж, з, и, й, к, л, м, н, о, п, р, с, т, у, ф, х, ц, ч, ш, щ, ъ, ы, ь, э, ю, я, а, б, в, г, д, е, ё, ж, з, и, й, к, л, м, н, о, п, р, с, т, у, ф, х, ц, ч, ш, щ, ъ, ы, ь, э, ю, я'\n",
    "    alfavit_to_find = alfavit.replace(' ','').replace(',','')\n",
    "    alfavit = alfavit.replace(' ','').split(sep=',')\n",
    "    num_to_substract = alfavit_to_find.find(str_with_key, 0, 32)\n",
    "    x= ''\n",
    "    for letter in str_to_lock:\n",
    "        if letter in alfavit:\n",
    "            number = alfavit_to_find.find(letter) + num_to_substract\n",
    "            x+= alfavit[number]\n",
    "        else:\n",
    "            x+= letter\n",
    "    print(x)\n",
    "    return x\n",
    "z = tsesar_code_to('визуализация', 'д')"
   ]
  }
 ],
 "metadata": {
  "interpreter": {
   "hash": "4cf8740b77de6ac68c701f5d05813ddbce361e765d83d58497ce85d0cb93b38e"
  },
  "kernelspec": {
   "display_name": "Python 3.9.10 64-bit",
   "language": "python",
   "name": "python3"
  },
  "language_info": {
   "codemirror_mode": {
    "name": "ipython",
    "version": 3
   },
   "file_extension": ".py",
   "mimetype": "text/x-python",
   "name": "python",
   "nbconvert_exporter": "python",
   "pygments_lexer": "ipython3",
   "version": "3.9.10"
  },
  "orig_nbformat": 4
 },
 "nbformat": 4,
 "nbformat_minor": 2
}
