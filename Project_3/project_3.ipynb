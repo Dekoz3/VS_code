{
 "cells": [
  {
   "cell_type": "code",
   "execution_count": 2,
   "metadata": {},
   "outputs": [
    {
     "name": "stderr",
     "output_type": "stream",
     "text": [
      "[nltk_data] Downloading package vader_lexicon to\n",
      "[nltk_data]     C:\\Users\\Denis.kozarenko\\AppData\\Roaming\\nltk_data...\n"
     ]
    },
    {
     "name": "stdout",
     "output_type": "stream",
     "text": [
      "review 1:\n",
      "The hotel was very good, I love it!\n",
      "Score: {'neg': 0.0, 'neu': 0.386, 'pos': 0.614, 'compound': 0.8386}\n",
      "\n",
      "review 2:\n",
      "It was just horrible, the worst ever.\n",
      "Score: {'neg': 0.603, 'neu': 0.397, 'pos': 0.0, 'compound': -0.8225}\n"
     ]
    }
   ],
   "source": [
    "import nltk\n",
    "from nltk.sentiment.vader import SentimentIntensityAnalyzer\n",
    "import time\n",
    "nltk.downloader.download('vader_lexicon')\n",
    "\n",
    "sent_analyzer = SentimentIntensityAnalyzer()\n",
    "\n",
    "rev1 = \"The hotel was very good, I love it!\"\n",
    "rev2 = \"It was just horrible, the worst ever.\"\n",
    "\n",
    "print(f\"review 1:\\n{rev1}\\nScore: {sent_analyzer.polarity_scores(rev1)}\")\n",
    "\n",
    "print(f\"\\nreview 2:\\n{rev2}\\nScore: {sent_analyzer.polarity_scores(rev2)}\")"
   ]
  }
 ],
 "metadata": {
  "interpreter": {
   "hash": "4cf8740b77de6ac68c701f5d05813ddbce361e765d83d58497ce85d0cb93b38e"
  },
  "kernelspec": {
   "display_name": "Python 3.9.10 64-bit",
   "language": "python",
   "name": "python3"
  },
  "language_info": {
   "codemirror_mode": {
    "name": "ipython",
    "version": 3
   },
   "file_extension": ".py",
   "mimetype": "text/x-python",
   "name": "python",
   "nbconvert_exporter": "python",
   "pygments_lexer": "ipython3",
   "version": "3.9.10"
  },
  "orig_nbformat": 4
 },
 "nbformat": 4,
 "nbformat_minor": 2
}
