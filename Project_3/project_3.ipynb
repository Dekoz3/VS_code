{
 "cells": [
  {
   "cell_type": "code",
   "execution_count": 3,
   "metadata": {},
   "outputs": [],
   "source": [
    "# https://lms.skillfactory.ru/courses/course-v1:SkillFactory+DSPR-2.0+14JULY2021/courseware/64fb8f8af1424a7788ba0e45453617fc/8b02f3a65d6345dba7296ff51667efa6/?child=first\n",
    "\n",
    "from IPython.display import display\n",
    "\n",
    "import pandas as pd\n",
    "import matplotlib.pyplot as plt\n",
    "import seaborn as sns\n",
    "\n",
    "pd.set_option('display.max_columns', 40) # выводить больше столбцов\n",
    "pd.set_option('display.max_rows', 40)   # выводить больше строк\n",
    "\n",
    "# plt.style.use('default')    # корректный вывод графиков в темной теме Matplotlib\n",
    "# fig.show(renderer='notebook') #включение анимации\n",
    "#!/usr/bin/env python\n",
    "\n",
    "import io\n",
    "import zipfile\n",
    "import requests  \n",
    "\n",
    "link = \"\" # put link here\n",
    "\n",
    "# unzip with link\n",
    "# r = requests.get(link) # link\n",
    "# with r, zipfile.ZipFile(io.BytesIO(r.content)) as archive:\n",
    "#   archive.extractall('data')\n",
    "\n",
    "# # unzip file on the disk\n",
    "# with zipfile.ZipFile('data/wine_cleared.zip', 'r') as archive:\n",
    "#     archive.extractall('data')\n",
    "\n",
    "# download file \n",
    "# f=open(r'data\\pizzas.csv',\"wb\") #открываем файл для записи, в режиме wb\n",
    "# ufr = requests.get(link) #делаем запрос\n",
    "# f.write(ufr.content) #записываем содержимое в файл; как видите - content запроса\n",
    "# f.close()"
   ]
  },
  {
   "cell_type": "code",
   "execution_count": 37,
   "metadata": {},
   "outputs": [
    {
     "name": "stdout",
     "output_type": "stream",
     "text": [
      "<class 'pandas.core.frame.DataFrame'>\n",
      "RangeIndex: 386803 entries, 0 to 386802\n",
      "Data columns (total 17 columns):\n",
      " #   Column                                      Non-Null Count   Dtype  \n",
      "---  ------                                      --------------   -----  \n",
      " 0   hotel_address                               386803 non-null  object \n",
      " 1   additional_number_of_scoring                386803 non-null  int64  \n",
      " 2   review_date                                 386803 non-null  object \n",
      " 3   average_score                               386803 non-null  float64\n",
      " 4   hotel_name                                  386803 non-null  object \n",
      " 5   reviewer_nationality                        386803 non-null  object \n",
      " 6   negative_review                             386803 non-null  object \n",
      " 7   review_total_negative_word_counts           386803 non-null  int64  \n",
      " 8   total_number_of_reviews                     386803 non-null  int64  \n",
      " 9   positive_review                             386803 non-null  object \n",
      " 10  review_total_positive_word_counts           386803 non-null  int64  \n",
      " 11  total_number_of_reviews_reviewer_has_given  386803 non-null  int64  \n",
      " 12  reviewer_score                              386803 non-null  float64\n",
      " 13  tags                                        386803 non-null  object \n",
      " 14  days_since_review                           386803 non-null  object \n",
      " 15  lat                                         384355 non-null  float64\n",
      " 16  lng                                         384355 non-null  float64\n",
      "dtypes: float64(4), int64(5), object(8)\n",
      "memory usage: 50.2+ MB\n"
     ]
    }
   ],
   "source": [
    "hotels = pd.read_csv('data/hotels.csv')\n",
    "# Задание 2.1\n",
    "# 1/1 point (graded)\n",
    "# В каких столбцах данные содержат пропущенные значения?\n",
    "# display(pd.DataFrame(hotels.info()).nsmallest(1, 'Non-Null Count', keep = 'all'))\n",
    "df = pd.DataFrame(hotels.info())\n"
   ]
  },
  {
   "cell_type": "code",
   "execution_count": 38,
   "metadata": {},
   "outputs": [
    {
     "data": {
      "text/plain": [
       "Index(['additional_number_of_scoring', 'average_score',\n",
       "       'review_total_negative_word_counts', 'total_number_of_reviews',\n",
       "       'review_total_positive_word_counts',\n",
       "       'total_number_of_reviews_reviewer_has_given', 'reviewer_score', 'lat',\n",
       "       'lng'],\n",
       "      dtype='object')"
      ]
     },
     "metadata": {},
     "output_type": "display_data"
    }
   ],
   "source": [
    "# 2/2 points (graded)\n",
    "# В каких столбцах данные хранятся в числовом формате?\n",
    "# display(hotels.dtypes.value_counts())\n",
    "display(hotels.select_dtypes(include=['float64', 'int64']).columns)"
   ]
  },
  {
   "cell_type": "code",
   "execution_count": 39,
   "metadata": {},
   "outputs": [
    {
     "data": {
      "text/plain": [
       "Index(['hotel_address', 'review_date', 'hotel_name', 'reviewer_nationality',\n",
       "       'negative_review', 'positive_review', 'tags', 'days_since_review'],\n",
       "      dtype='object')"
      ]
     },
     "metadata": {},
     "output_type": "display_data"
    }
   ],
   "source": [
    "# Задание 2.3\n",
    "# 2 points possible (graded)\n",
    "# В каких столбцах данные представляют собой строки?\n",
    "display(hotels.select_dtypes(include=['object']).columns)"
   ]
  },
  {
   "cell_type": "code",
   "execution_count": null,
   "metadata": {},
   "outputs": [],
   "source": []
  },
  {
   "cell_type": "code",
   "execution_count": 2,
   "metadata": {},
   "outputs": [
    {
     "name": "stderr",
     "output_type": "stream",
     "text": [
      "[nltk_data] Downloading package vader_lexicon to\n",
      "[nltk_data]     C:\\Users\\Denis.kozarenko\\AppData\\Roaming\\nltk_data...\n"
     ]
    },
    {
     "name": "stdout",
     "output_type": "stream",
     "text": [
      "review 1:\n",
      "The hotel was very good, I love it!\n",
      "Score: {'neg': 0.0, 'neu': 0.386, 'pos': 0.614, 'compound': 0.8386}\n",
      "\n",
      "review 2:\n",
      "It was just horrible, the worst ever.\n",
      "Score: {'neg': 0.603, 'neu': 0.397, 'pos': 0.0, 'compound': -0.8225}\n"
     ]
    }
   ],
   "source": [
    "# import nltk\n",
    "# from nltk.sentiment.vader import SentimentIntensityAnalyzer\n",
    "# import time\n",
    "# nltk.downloader.download('vader_lexicon')\n",
    "\n",
    "# sent_analyzer = SentimentIntensityAnalyzer()\n",
    "\n",
    "# rev1 = \"The hotel was very good, I love it!\"\n",
    "# rev2 = \"It was just horrible, the worst ever.\"\n",
    "\n",
    "# print(f\"review 1:\\n{rev1}\\nScore: {sent_analyzer.polarity_scores(rev1)}\")\n",
    "\n",
    "# print(f\"\\nreview 2:\\n{rev2}\\nScore: {sent_analyzer.polarity_scores(rev2)}\")"
   ]
  }
 ],
 "metadata": {
  "interpreter": {
   "hash": "74668ca775b65556bba853117f41fb465b199a16b19945f2f619beec785fb939"
  },
  "kernelspec": {
   "display_name": "Python 3.9.10 64-bit",
   "language": "python",
   "name": "python3"
  },
  "language_info": {
   "codemirror_mode": {
    "name": "ipython",
    "version": 3
   },
   "file_extension": ".py",
   "mimetype": "text/x-python",
   "name": "python",
   "nbconvert_exporter": "python",
   "pygments_lexer": "ipython3",
   "version": "3.9.10"
  },
  "orig_nbformat": 4
 },
 "nbformat": 4,
 "nbformat_minor": 2
}
